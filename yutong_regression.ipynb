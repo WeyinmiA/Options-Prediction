{
 "cells": [
  {
   "cell_type": "code",
   "execution_count": 1,
   "metadata": {},
   "outputs": [],
   "source": [
    "import pandas as pd\n",
    "import numpy as np\n",
    "\n",
    "import seaborn as sns\n",
    "import matplotlib.pyplot as plt\n",
    "\n",
    "from sklearn.model_selection import train_test_split\n",
    "from sklearn.preprocessing import MinMaxScaler\n",
    "\n",
    "# selection\n",
    "from sklearn import linear_model\n",
    "from sklearn.feature_selection import SelectFromModel\n",
    "\n",
    "# models \n",
    "from sklearn.model_selection import KFold\n",
    "from sklearn.model_selection import cross_val_score\n",
    "\n",
    "\n",
    "\n",
    "import time\n",
    "\n"
   ]
  },
  {
   "cell_type": "code",
   "execution_count": 2,
   "metadata": {},
   "outputs": [
    {
     "output_type": "stream",
     "name": "stdout",
     "text": [
      "<class 'pandas.core.frame.DataFrame'>\nRangeIndex: 1680 entries, 0 to 1679\nData columns (total 6 columns):\n #   Column  Non-Null Count  Dtype  \n---  ------  --------------  -----  \n 0   Value   1680 non-null   float64\n 1   S       1680 non-null   float64\n 2   K       1680 non-null   int64  \n 3   tau     1680 non-null   float64\n 4   r       1680 non-null   float64\n 5   BS      1680 non-null   object \ndtypes: float64(4), int64(1), object(1)\nmemory usage: 78.9+ KB\n"
     ]
    }
   ],
   "source": [
    "train_df = pd.read_csv(\"option_train.csv\")\n",
    "train_df.info()"
   ]
  },
  {
   "cell_type": "markdown",
   "metadata": {},
   "source": [
    "## Preprocessing"
   ]
  },
  {
   "cell_type": "code",
   "execution_count": 3,
   "metadata": {},
   "outputs": [
    {
     "output_type": "execute_result",
     "data": {
      "text/plain": [
       "       Value           S    K       tau        r     BS\n",
       "0  21.670404  431.623898  420  0.341270  0.03013  Under\n",
       "1   0.125000  427.015526  465  0.166667  0.03126   Over\n",
       "2  20.691244  427.762336  415  0.265873  0.03116  Under\n",
       "3   1.035002  451.711658  460  0.063492  0.02972   Over\n",
       "4  39.553020  446.718974  410  0.166667  0.02962  Under"
      ],
      "text/html": "<div>\n<style scoped>\n    .dataframe tbody tr th:only-of-type {\n        vertical-align: middle;\n    }\n\n    .dataframe tbody tr th {\n        vertical-align: top;\n    }\n\n    .dataframe thead th {\n        text-align: right;\n    }\n</style>\n<table border=\"1\" class=\"dataframe\">\n  <thead>\n    <tr style=\"text-align: right;\">\n      <th></th>\n      <th>Value</th>\n      <th>S</th>\n      <th>K</th>\n      <th>tau</th>\n      <th>r</th>\n      <th>BS</th>\n    </tr>\n  </thead>\n  <tbody>\n    <tr>\n      <th>0</th>\n      <td>21.670404</td>\n      <td>431.623898</td>\n      <td>420</td>\n      <td>0.341270</td>\n      <td>0.03013</td>\n      <td>Under</td>\n    </tr>\n    <tr>\n      <th>1</th>\n      <td>0.125000</td>\n      <td>427.015526</td>\n      <td>465</td>\n      <td>0.166667</td>\n      <td>0.03126</td>\n      <td>Over</td>\n    </tr>\n    <tr>\n      <th>2</th>\n      <td>20.691244</td>\n      <td>427.762336</td>\n      <td>415</td>\n      <td>0.265873</td>\n      <td>0.03116</td>\n      <td>Under</td>\n    </tr>\n    <tr>\n      <th>3</th>\n      <td>1.035002</td>\n      <td>451.711658</td>\n      <td>460</td>\n      <td>0.063492</td>\n      <td>0.02972</td>\n      <td>Over</td>\n    </tr>\n    <tr>\n      <th>4</th>\n      <td>39.553020</td>\n      <td>446.718974</td>\n      <td>410</td>\n      <td>0.166667</td>\n      <td>0.02962</td>\n      <td>Under</td>\n    </tr>\n  </tbody>\n</table>\n</div>"
     },
     "metadata": {},
     "execution_count": 3
    }
   ],
   "source": [
    "train_df.head()"
   ]
  },
  {
   "cell_type": "code",
   "execution_count": 4,
   "metadata": {},
   "outputs": [],
   "source": [
    "train_df = train_df.drop(columns = ['BS']) \n",
    "# assume we can't use Value so we drop it\n",
    "\n",
    "X = train_df.iloc[:, 1:]\n",
    "y = train_df.iloc[:, 0]"
   ]
  },
  {
   "cell_type": "code",
   "execution_count": 5,
   "metadata": {},
   "outputs": [
    {
     "output_type": "execute_result",
     "data": {
      "text/plain": [
       "               S    K       tau        r\n",
       "0     431.623898  420  0.341270  0.03013\n",
       "1     427.015526  465  0.166667  0.03126\n",
       "2     427.762336  415  0.265873  0.03116\n",
       "3     451.711658  460  0.063492  0.02972\n",
       "4     446.718974  410  0.166667  0.02962\n",
       "...          ...  ...       ...      ...\n",
       "1675  444.397163  475  0.273810  0.03034\n",
       "1676  438.453825  410  0.301587  0.02972\n",
       "1677  428.042219  390  0.170635  0.03188\n",
       "1678  439.081203  480  0.293651  0.02962\n",
       "1679  432.167692  465  0.218254  0.02993\n",
       "\n",
       "[1680 rows x 4 columns]"
      ],
      "text/html": "<div>\n<style scoped>\n    .dataframe tbody tr th:only-of-type {\n        vertical-align: middle;\n    }\n\n    .dataframe tbody tr th {\n        vertical-align: top;\n    }\n\n    .dataframe thead th {\n        text-align: right;\n    }\n</style>\n<table border=\"1\" class=\"dataframe\">\n  <thead>\n    <tr style=\"text-align: right;\">\n      <th></th>\n      <th>S</th>\n      <th>K</th>\n      <th>tau</th>\n      <th>r</th>\n    </tr>\n  </thead>\n  <tbody>\n    <tr>\n      <th>0</th>\n      <td>431.623898</td>\n      <td>420</td>\n      <td>0.341270</td>\n      <td>0.03013</td>\n    </tr>\n    <tr>\n      <th>1</th>\n      <td>427.015526</td>\n      <td>465</td>\n      <td>0.166667</td>\n      <td>0.03126</td>\n    </tr>\n    <tr>\n      <th>2</th>\n      <td>427.762336</td>\n      <td>415</td>\n      <td>0.265873</td>\n      <td>0.03116</td>\n    </tr>\n    <tr>\n      <th>3</th>\n      <td>451.711658</td>\n      <td>460</td>\n      <td>0.063492</td>\n      <td>0.02972</td>\n    </tr>\n    <tr>\n      <th>4</th>\n      <td>446.718974</td>\n      <td>410</td>\n      <td>0.166667</td>\n      <td>0.02962</td>\n    </tr>\n    <tr>\n      <th>...</th>\n      <td>...</td>\n      <td>...</td>\n      <td>...</td>\n      <td>...</td>\n    </tr>\n    <tr>\n      <th>1675</th>\n      <td>444.397163</td>\n      <td>475</td>\n      <td>0.273810</td>\n      <td>0.03034</td>\n    </tr>\n    <tr>\n      <th>1676</th>\n      <td>438.453825</td>\n      <td>410</td>\n      <td>0.301587</td>\n      <td>0.02972</td>\n    </tr>\n    <tr>\n      <th>1677</th>\n      <td>428.042219</td>\n      <td>390</td>\n      <td>0.170635</td>\n      <td>0.03188</td>\n    </tr>\n    <tr>\n      <th>1678</th>\n      <td>439.081203</td>\n      <td>480</td>\n      <td>0.293651</td>\n      <td>0.02962</td>\n    </tr>\n    <tr>\n      <th>1679</th>\n      <td>432.167692</td>\n      <td>465</td>\n      <td>0.218254</td>\n      <td>0.02993</td>\n    </tr>\n  </tbody>\n</table>\n<p>1680 rows × 4 columns</p>\n</div>"
     },
     "metadata": {},
     "execution_count": 5
    }
   ],
   "source": [
    "X"
   ]
  },
  {
   "cell_type": "markdown",
   "metadata": {},
   "source": [
    "## Creating variables & MinMaxScale"
   ]
  },
  {
   "cell_type": "code",
   "execution_count": 6,
   "metadata": {},
   "outputs": [
    {
     "output_type": "execute_result",
     "data": {
      "text/plain": [
       "               S    K       tau        r            S*K       S/K       S*tau  \\\n",
       "0     431.623898  420  0.341270  0.03013  181282.037286  1.027676  147.300219   \n",
       "1     427.015526  465  0.166667  0.03126  198562.219543  0.918313   71.169254   \n",
       "2     427.762336  415  0.265873  0.03116  177521.369606  1.030753  113.730463   \n",
       "3     451.711658  460  0.063492  0.02972  207787.362588  0.981982   28.680105   \n",
       "4     446.718974  410  0.166667  0.02962  183154.779504  1.089558   74.453163   \n",
       "...          ...  ...       ...      ...            ...       ...         ...   \n",
       "1675  444.397163  475  0.273810  0.03034  211088.652662  0.935573  121.680176   \n",
       "1676  438.453825  410  0.301587  0.02972  179766.068250  1.069400  132.232106   \n",
       "1677  428.042219  390  0.170635  0.03188  166936.465410  1.097544   73.038950   \n",
       "1678  439.081203  480  0.293651  0.02962  210758.977248  0.914753  128.936544   \n",
       "1679  432.167692  465  0.218254  0.02993  200957.976966  0.929393   94.322314   \n",
       "\n",
       "            S/tau        S*r           S/r        S*r*K   S*r*tau       tau*K  \\\n",
       "0     1264.758401  13.004828  14325.386601  5462.027783  4.438156  143.333333   \n",
       "1     2562.093150  13.348505  13660.125589  6207.054983  2.224751   77.500000   \n",
       "2     1608.897145  13.329074  13727.931207  5531.565877  3.543841  110.337302   \n",
       "3     7114.458665  13.424870  15198.911770  6175.440416  0.852373   29.206349   \n",
       "4     2680.313841  13.231816  15081.666928  5425.044569  2.205303   68.333333   \n",
       "...           ...        ...           ...          ...       ...         ...   \n",
       "1675  1623.015726  13.483010  14647.236767  6404.429722  3.691777  130.059524   \n",
       "1676  1453.820576  13.030848  14752.820491  5342.647548  3.929938  123.650794   \n",
       "1677  2508.526487  13.645986  13426.669354  5321.934517  2.328482   66.547619   \n",
       "1678  1495.249499  13.005585  14823.808325  6242.680906  3.819100  140.952381   \n",
       "1679  1980.113793  12.934779  14439.281403  6014.672251  2.823067  101.488095   \n",
       "\n",
       "         tau/K     tau*r      tau/r   tau*r*K  \n",
       "0     0.000813  0.010282  11.326580  4.318633  \n",
       "1     0.000358  0.005210   5.331627  2.422650  \n",
       "2     0.000641  0.008285   8.532510  3.438110  \n",
       "3     0.000138  0.001887   2.136341  0.868013  \n",
       "4     0.000407  0.004937   5.626829  2.024033  \n",
       "...        ...       ...        ...       ...  \n",
       "1675  0.000576  0.008307   9.024704  3.946006  \n",
       "1676  0.000736  0.008963  10.147621  3.674902  \n",
       "1677  0.000438  0.005440   5.352413  2.121538  \n",
       "1678  0.000612  0.008698   9.913936  4.175010  \n",
       "1679  0.000469  0.006532   7.292147  3.037539  \n",
       "\n",
       "[1680 rows x 17 columns]"
      ],
      "text/html": "<div>\n<style scoped>\n    .dataframe tbody tr th:only-of-type {\n        vertical-align: middle;\n    }\n\n    .dataframe tbody tr th {\n        vertical-align: top;\n    }\n\n    .dataframe thead th {\n        text-align: right;\n    }\n</style>\n<table border=\"1\" class=\"dataframe\">\n  <thead>\n    <tr style=\"text-align: right;\">\n      <th></th>\n      <th>S</th>\n      <th>K</th>\n      <th>tau</th>\n      <th>r</th>\n      <th>S*K</th>\n      <th>S/K</th>\n      <th>S*tau</th>\n      <th>S/tau</th>\n      <th>S*r</th>\n      <th>S/r</th>\n      <th>S*r*K</th>\n      <th>S*r*tau</th>\n      <th>tau*K</th>\n      <th>tau/K</th>\n      <th>tau*r</th>\n      <th>tau/r</th>\n      <th>tau*r*K</th>\n    </tr>\n  </thead>\n  <tbody>\n    <tr>\n      <th>0</th>\n      <td>431.623898</td>\n      <td>420</td>\n      <td>0.341270</td>\n      <td>0.03013</td>\n      <td>181282.037286</td>\n      <td>1.027676</td>\n      <td>147.300219</td>\n      <td>1264.758401</td>\n      <td>13.004828</td>\n      <td>14325.386601</td>\n      <td>5462.027783</td>\n      <td>4.438156</td>\n      <td>143.333333</td>\n      <td>0.000813</td>\n      <td>0.010282</td>\n      <td>11.326580</td>\n      <td>4.318633</td>\n    </tr>\n    <tr>\n      <th>1</th>\n      <td>427.015526</td>\n      <td>465</td>\n      <td>0.166667</td>\n      <td>0.03126</td>\n      <td>198562.219543</td>\n      <td>0.918313</td>\n      <td>71.169254</td>\n      <td>2562.093150</td>\n      <td>13.348505</td>\n      <td>13660.125589</td>\n      <td>6207.054983</td>\n      <td>2.224751</td>\n      <td>77.500000</td>\n      <td>0.000358</td>\n      <td>0.005210</td>\n      <td>5.331627</td>\n      <td>2.422650</td>\n    </tr>\n    <tr>\n      <th>2</th>\n      <td>427.762336</td>\n      <td>415</td>\n      <td>0.265873</td>\n      <td>0.03116</td>\n      <td>177521.369606</td>\n      <td>1.030753</td>\n      <td>113.730463</td>\n      <td>1608.897145</td>\n      <td>13.329074</td>\n      <td>13727.931207</td>\n      <td>5531.565877</td>\n      <td>3.543841</td>\n      <td>110.337302</td>\n      <td>0.000641</td>\n      <td>0.008285</td>\n      <td>8.532510</td>\n      <td>3.438110</td>\n    </tr>\n    <tr>\n      <th>3</th>\n      <td>451.711658</td>\n      <td>460</td>\n      <td>0.063492</td>\n      <td>0.02972</td>\n      <td>207787.362588</td>\n      <td>0.981982</td>\n      <td>28.680105</td>\n      <td>7114.458665</td>\n      <td>13.424870</td>\n      <td>15198.911770</td>\n      <td>6175.440416</td>\n      <td>0.852373</td>\n      <td>29.206349</td>\n      <td>0.000138</td>\n      <td>0.001887</td>\n      <td>2.136341</td>\n      <td>0.868013</td>\n    </tr>\n    <tr>\n      <th>4</th>\n      <td>446.718974</td>\n      <td>410</td>\n      <td>0.166667</td>\n      <td>0.02962</td>\n      <td>183154.779504</td>\n      <td>1.089558</td>\n      <td>74.453163</td>\n      <td>2680.313841</td>\n      <td>13.231816</td>\n      <td>15081.666928</td>\n      <td>5425.044569</td>\n      <td>2.205303</td>\n      <td>68.333333</td>\n      <td>0.000407</td>\n      <td>0.004937</td>\n      <td>5.626829</td>\n      <td>2.024033</td>\n    </tr>\n    <tr>\n      <th>...</th>\n      <td>...</td>\n      <td>...</td>\n      <td>...</td>\n      <td>...</td>\n      <td>...</td>\n      <td>...</td>\n      <td>...</td>\n      <td>...</td>\n      <td>...</td>\n      <td>...</td>\n      <td>...</td>\n      <td>...</td>\n      <td>...</td>\n      <td>...</td>\n      <td>...</td>\n      <td>...</td>\n      <td>...</td>\n    </tr>\n    <tr>\n      <th>1675</th>\n      <td>444.397163</td>\n      <td>475</td>\n      <td>0.273810</td>\n      <td>0.03034</td>\n      <td>211088.652662</td>\n      <td>0.935573</td>\n      <td>121.680176</td>\n      <td>1623.015726</td>\n      <td>13.483010</td>\n      <td>14647.236767</td>\n      <td>6404.429722</td>\n      <td>3.691777</td>\n      <td>130.059524</td>\n      <td>0.000576</td>\n      <td>0.008307</td>\n      <td>9.024704</td>\n      <td>3.946006</td>\n    </tr>\n    <tr>\n      <th>1676</th>\n      <td>438.453825</td>\n      <td>410</td>\n      <td>0.301587</td>\n      <td>0.02972</td>\n      <td>179766.068250</td>\n      <td>1.069400</td>\n      <td>132.232106</td>\n      <td>1453.820576</td>\n      <td>13.030848</td>\n      <td>14752.820491</td>\n      <td>5342.647548</td>\n      <td>3.929938</td>\n      <td>123.650794</td>\n      <td>0.000736</td>\n      <td>0.008963</td>\n      <td>10.147621</td>\n      <td>3.674902</td>\n    </tr>\n    <tr>\n      <th>1677</th>\n      <td>428.042219</td>\n      <td>390</td>\n      <td>0.170635</td>\n      <td>0.03188</td>\n      <td>166936.465410</td>\n      <td>1.097544</td>\n      <td>73.038950</td>\n      <td>2508.526487</td>\n      <td>13.645986</td>\n      <td>13426.669354</td>\n      <td>5321.934517</td>\n      <td>2.328482</td>\n      <td>66.547619</td>\n      <td>0.000438</td>\n      <td>0.005440</td>\n      <td>5.352413</td>\n      <td>2.121538</td>\n    </tr>\n    <tr>\n      <th>1678</th>\n      <td>439.081203</td>\n      <td>480</td>\n      <td>0.293651</td>\n      <td>0.02962</td>\n      <td>210758.977248</td>\n      <td>0.914753</td>\n      <td>128.936544</td>\n      <td>1495.249499</td>\n      <td>13.005585</td>\n      <td>14823.808325</td>\n      <td>6242.680906</td>\n      <td>3.819100</td>\n      <td>140.952381</td>\n      <td>0.000612</td>\n      <td>0.008698</td>\n      <td>9.913936</td>\n      <td>4.175010</td>\n    </tr>\n    <tr>\n      <th>1679</th>\n      <td>432.167692</td>\n      <td>465</td>\n      <td>0.218254</td>\n      <td>0.02993</td>\n      <td>200957.976966</td>\n      <td>0.929393</td>\n      <td>94.322314</td>\n      <td>1980.113793</td>\n      <td>12.934779</td>\n      <td>14439.281403</td>\n      <td>6014.672251</td>\n      <td>2.823067</td>\n      <td>101.488095</td>\n      <td>0.000469</td>\n      <td>0.006532</td>\n      <td>7.292147</td>\n      <td>3.037539</td>\n    </tr>\n  </tbody>\n</table>\n<p>1680 rows × 17 columns</p>\n</div>"
     },
     "metadata": {},
     "execution_count": 6
    }
   ],
   "source": [
    "# define function \n",
    "# multiplying all fields \n",
    "\n",
    "def create_variables(df):\n",
    "    cols = list(df.columns)\n",
    "    name = ''\n",
    "    name2 = ''\n",
    "    result = pd.Series(1, index=range(X.shape[0]))\n",
    "    for i in cols:\n",
    "        name = name + str(i) + \"*\"\n",
    "        name2 = name2 + str(i) + \"/\"\n",
    "        #result = result*X[i]\n",
    "    #df[name] = result\n",
    "\n",
    "    for i in cols:\n",
    "        cols.remove(i)\n",
    "        for ii in cols:\n",
    "            if i != ii:\n",
    "                name = str(i)+\"*\"+str(ii)\n",
    "                name2 = str(i)+\"/\"+str(ii)\n",
    "                df[name] = df[i]*df[ii]\n",
    "                df[name2] = df[i]/df[ii]\n",
    "        for iii in cols:\n",
    "            #print(f'i:{i}, ii:{ii}, iii:{iii}')\n",
    "            if i != iii and ii != iii and i != ii:\n",
    "                #print(f'i:{i}, ii:{ii}, iii:{iii}')\n",
    "                name = str(i)+\"*\"+str(ii)+\"*\"+str(iii)\n",
    "                df[name] = df[i]*df[ii]*df[iii]\n",
    "\n",
    "    return df\n",
    "\n",
    "create_variables(X)"
   ]
  },
  {
   "cell_type": "code",
   "execution_count": 7,
   "metadata": {},
   "outputs": [
    {
     "output_type": "execute_result",
     "data": {
      "text/plain": [
       "          S     K       tau         r       S*K       S/K     S*tau     S/tau  \\\n",
       "0  0.202299  0.36  0.867347  0.261603  0.336600  0.527326  0.829308  0.001031   \n",
       "1  0.050749  0.72  0.418367  0.738397  0.604273  0.102610  0.395640  0.012539   \n",
       "2  0.075309  0.32  0.673469  0.696203  0.278347  0.539275  0.638083  0.004083   \n",
       "3  0.862901  0.68  0.153061  0.088608  0.747172  0.349871  0.153608  0.052920   \n",
       "4  0.698712  0.28  0.418367  0.046414  0.365609  0.767650  0.414346  0.013587   \n",
       "\n",
       "        S*r       S/r     S*r*K   S*r*tau     tau*K     tau/K     tau*r  \\\n",
       "0  0.243026  0.498204  0.280827  0.820816  0.749947  0.836173  0.858454   \n",
       "1  0.516604  0.153673  0.686948  0.406738  0.401345  0.363717  0.430090   \n",
       "2  0.501137  0.188789  0.318733  0.653510  0.575226  0.657345  0.689737   \n",
       "3  0.577393  0.950592  0.669715  0.149997  0.145619  0.134424  0.149465   \n",
       "4  0.423716  0.889872  0.260667  0.403100  0.352805  0.413739  0.407007   \n",
       "\n",
       "      tau/r   tau*r*K       K-S  \n",
       "0  0.876363  0.742367  0.403330  \n",
       "1  0.407063  0.412605  0.854009  \n",
       "2  0.657636  0.589221  0.392988  \n",
       "3  0.156928  0.142213  0.584228  \n",
       "4  0.430172  0.343275  0.175348  "
      ],
      "text/html": "<div>\n<style scoped>\n    .dataframe tbody tr th:only-of-type {\n        vertical-align: middle;\n    }\n\n    .dataframe tbody tr th {\n        vertical-align: top;\n    }\n\n    .dataframe thead th {\n        text-align: right;\n    }\n</style>\n<table border=\"1\" class=\"dataframe\">\n  <thead>\n    <tr style=\"text-align: right;\">\n      <th></th>\n      <th>S</th>\n      <th>K</th>\n      <th>tau</th>\n      <th>r</th>\n      <th>S*K</th>\n      <th>S/K</th>\n      <th>S*tau</th>\n      <th>S/tau</th>\n      <th>S*r</th>\n      <th>S/r</th>\n      <th>S*r*K</th>\n      <th>S*r*tau</th>\n      <th>tau*K</th>\n      <th>tau/K</th>\n      <th>tau*r</th>\n      <th>tau/r</th>\n      <th>tau*r*K</th>\n      <th>K-S</th>\n    </tr>\n  </thead>\n  <tbody>\n    <tr>\n      <th>0</th>\n      <td>0.202299</td>\n      <td>0.36</td>\n      <td>0.867347</td>\n      <td>0.261603</td>\n      <td>0.336600</td>\n      <td>0.527326</td>\n      <td>0.829308</td>\n      <td>0.001031</td>\n      <td>0.243026</td>\n      <td>0.498204</td>\n      <td>0.280827</td>\n      <td>0.820816</td>\n      <td>0.749947</td>\n      <td>0.836173</td>\n      <td>0.858454</td>\n      <td>0.876363</td>\n      <td>0.742367</td>\n      <td>0.403330</td>\n    </tr>\n    <tr>\n      <th>1</th>\n      <td>0.050749</td>\n      <td>0.72</td>\n      <td>0.418367</td>\n      <td>0.738397</td>\n      <td>0.604273</td>\n      <td>0.102610</td>\n      <td>0.395640</td>\n      <td>0.012539</td>\n      <td>0.516604</td>\n      <td>0.153673</td>\n      <td>0.686948</td>\n      <td>0.406738</td>\n      <td>0.401345</td>\n      <td>0.363717</td>\n      <td>0.430090</td>\n      <td>0.407063</td>\n      <td>0.412605</td>\n      <td>0.854009</td>\n    </tr>\n    <tr>\n      <th>2</th>\n      <td>0.075309</td>\n      <td>0.32</td>\n      <td>0.673469</td>\n      <td>0.696203</td>\n      <td>0.278347</td>\n      <td>0.539275</td>\n      <td>0.638083</td>\n      <td>0.004083</td>\n      <td>0.501137</td>\n      <td>0.188789</td>\n      <td>0.318733</td>\n      <td>0.653510</td>\n      <td>0.575226</td>\n      <td>0.657345</td>\n      <td>0.689737</td>\n      <td>0.657636</td>\n      <td>0.589221</td>\n      <td>0.392988</td>\n    </tr>\n    <tr>\n      <th>3</th>\n      <td>0.862901</td>\n      <td>0.68</td>\n      <td>0.153061</td>\n      <td>0.088608</td>\n      <td>0.747172</td>\n      <td>0.349871</td>\n      <td>0.153608</td>\n      <td>0.052920</td>\n      <td>0.577393</td>\n      <td>0.950592</td>\n      <td>0.669715</td>\n      <td>0.149997</td>\n      <td>0.145619</td>\n      <td>0.134424</td>\n      <td>0.149465</td>\n      <td>0.156928</td>\n      <td>0.142213</td>\n      <td>0.584228</td>\n    </tr>\n    <tr>\n      <th>4</th>\n      <td>0.698712</td>\n      <td>0.28</td>\n      <td>0.418367</td>\n      <td>0.046414</td>\n      <td>0.365609</td>\n      <td>0.767650</td>\n      <td>0.414346</td>\n      <td>0.013587</td>\n      <td>0.423716</td>\n      <td>0.889872</td>\n      <td>0.260667</td>\n      <td>0.403100</td>\n      <td>0.352805</td>\n      <td>0.413739</td>\n      <td>0.407007</td>\n      <td>0.430172</td>\n      <td>0.343275</td>\n      <td>0.175348</td>\n    </tr>\n  </tbody>\n</table>\n</div>"
     },
     "metadata": {},
     "execution_count": 7
    }
   ],
   "source": [
    "X['K-S'] = X.K - X.S\n",
    "\n",
    "cols = X.columns\n",
    "X = MinMaxScaler().fit_transform(X)\n",
    "X = pd.DataFrame(X, columns = cols )\n",
    "X.head()"
   ]
  },
  {
   "cell_type": "code",
   "execution_count": 8,
   "metadata": {},
   "outputs": [],
   "source": [
    "X_copy = X\n",
    "X_origin = X.iloc[:,0:4]"
   ]
  },
  {
   "cell_type": "code",
   "execution_count": 9,
   "metadata": {},
   "outputs": [
    {
     "output_type": "execute_result",
     "data": {
      "text/plain": [
       "(1680, 18)"
      ]
     },
     "metadata": {},
     "execution_count": 9
    }
   ],
   "source": [
    "X.shape"
   ]
  },
  {
   "cell_type": "markdown",
   "metadata": {},
   "source": [
    "## Feature Selection\n",
    "- Kbest"
   ]
  },
  {
   "cell_type": "code",
   "execution_count": 10,
   "metadata": {},
   "outputs": [],
   "source": [
    "# build importance by coefficient \n",
    "\n",
    "# select by importance "
   ]
  },
  {
   "cell_type": "code",
   "execution_count": 11,
   "metadata": {},
   "outputs": [],
   "source": [
    "from sklearn.linear_model import LassoCV\n",
    "\n",
    "lasso = LassoCV().fit(X,y)\n",
    "importance = np.abs(lasso.coef_)\n",
    "feature_names = np.array(X.columns)\n",
    "\n",
    "# choose 5 \n",
    "threshold = np.sort(importance)[-6]+0.01\n",
    "\n",
    "sfm = SelectFromModel(lasso, threshold=threshold).fit(X, y)\n"
   ]
  },
  {
   "cell_type": "code",
   "execution_count": 12,
   "metadata": {},
   "outputs": [
    {
     "output_type": "execute_result",
     "data": {
      "text/plain": [
       "           S*K       S/K       S*r     S*r*K       K-S\n",
       "0     0.336600  0.527326  0.243026  0.280827  0.403330\n",
       "1     0.604273  0.102610  0.516604  0.686948  0.854009\n",
       "2     0.278347  0.539275  0.501137  0.318733  0.392988\n",
       "3     0.747172  0.349871  0.577393  0.669715  0.584228\n",
       "4     0.365609  0.767650  0.423716  0.260667  0.175348\n",
       "...        ...       ...       ...       ...       ...\n",
       "1675  0.798310  0.169640  0.623674  0.794539  0.786949\n",
       "1676  0.313117  0.689362  0.263739  0.215752  0.250435\n",
       "1677  0.114385  0.798663  0.753408  0.204461  0.163327\n",
       "1678  0.793203  0.088783  0.243629  0.706368  0.880667\n",
       "1679  0.641384  0.145639  0.187265  0.582079  0.807203\n",
       "\n",
       "[1680 rows x 5 columns]"
      ],
      "text/html": "<div>\n<style scoped>\n    .dataframe tbody tr th:only-of-type {\n        vertical-align: middle;\n    }\n\n    .dataframe tbody tr th {\n        vertical-align: top;\n    }\n\n    .dataframe thead th {\n        text-align: right;\n    }\n</style>\n<table border=\"1\" class=\"dataframe\">\n  <thead>\n    <tr style=\"text-align: right;\">\n      <th></th>\n      <th>S*K</th>\n      <th>S/K</th>\n      <th>S*r</th>\n      <th>S*r*K</th>\n      <th>K-S</th>\n    </tr>\n  </thead>\n  <tbody>\n    <tr>\n      <th>0</th>\n      <td>0.336600</td>\n      <td>0.527326</td>\n      <td>0.243026</td>\n      <td>0.280827</td>\n      <td>0.403330</td>\n    </tr>\n    <tr>\n      <th>1</th>\n      <td>0.604273</td>\n      <td>0.102610</td>\n      <td>0.516604</td>\n      <td>0.686948</td>\n      <td>0.854009</td>\n    </tr>\n    <tr>\n      <th>2</th>\n      <td>0.278347</td>\n      <td>0.539275</td>\n      <td>0.501137</td>\n      <td>0.318733</td>\n      <td>0.392988</td>\n    </tr>\n    <tr>\n      <th>3</th>\n      <td>0.747172</td>\n      <td>0.349871</td>\n      <td>0.577393</td>\n      <td>0.669715</td>\n      <td>0.584228</td>\n    </tr>\n    <tr>\n      <th>4</th>\n      <td>0.365609</td>\n      <td>0.767650</td>\n      <td>0.423716</td>\n      <td>0.260667</td>\n      <td>0.175348</td>\n    </tr>\n    <tr>\n      <th>...</th>\n      <td>...</td>\n      <td>...</td>\n      <td>...</td>\n      <td>...</td>\n      <td>...</td>\n    </tr>\n    <tr>\n      <th>1675</th>\n      <td>0.798310</td>\n      <td>0.169640</td>\n      <td>0.623674</td>\n      <td>0.794539</td>\n      <td>0.786949</td>\n    </tr>\n    <tr>\n      <th>1676</th>\n      <td>0.313117</td>\n      <td>0.689362</td>\n      <td>0.263739</td>\n      <td>0.215752</td>\n      <td>0.250435</td>\n    </tr>\n    <tr>\n      <th>1677</th>\n      <td>0.114385</td>\n      <td>0.798663</td>\n      <td>0.753408</td>\n      <td>0.204461</td>\n      <td>0.163327</td>\n    </tr>\n    <tr>\n      <th>1678</th>\n      <td>0.793203</td>\n      <td>0.088783</td>\n      <td>0.243629</td>\n      <td>0.706368</td>\n      <td>0.880667</td>\n    </tr>\n    <tr>\n      <th>1679</th>\n      <td>0.641384</td>\n      <td>0.145639</td>\n      <td>0.187265</td>\n      <td>0.582079</td>\n      <td>0.807203</td>\n    </tr>\n  </tbody>\n</table>\n<p>1680 rows × 5 columns</p>\n</div>"
     },
     "metadata": {},
     "execution_count": 12
    }
   ],
   "source": [
    "X = X.loc[:,list(feature_names[sfm.get_support()])]\n",
    "X"
   ]
  },
  {
   "cell_type": "markdown",
   "metadata": {},
   "source": [
    "## Model"
   ]
  },
  {
   "cell_type": "code",
   "execution_count": 13,
   "metadata": {},
   "outputs": [],
   "source": [
    "kf = KFold(n_splits = 10, shuffle = True)\n",
    "\n",
    "x_dict = {\n",
    "    'X': X,\n",
    "    'X_copy': X_copy,\n",
    "    'X_origin': X_origin\n",
    "}"
   ]
  },
  {
   "cell_type": "markdown",
   "metadata": {},
   "source": [
    "### baseline: linear regression"
   ]
  },
  {
   "cell_type": "code",
   "execution_count": 14,
   "metadata": {},
   "outputs": [
    {
     "output_type": "execute_result",
     "data": {
      "text/plain": [
       "0.9575448466715081"
      ]
     },
     "metadata": {},
     "execution_count": 14
    }
   ],
   "source": [
    "from sklearn.linear_model import LinearRegression\n",
    "\n",
    "model = LinearRegression()\n",
    "\n",
    "cross_val_score(model, X, y, scoring='r2', cv=kf).mean()"
   ]
  },
  {
   "cell_type": "markdown",
   "metadata": {},
   "source": [
    "### knn\n"
   ]
  },
  {
   "cell_type": "code",
   "execution_count": 15,
   "metadata": {},
   "outputs": [
    {
     "output_type": "stream",
     "name": "stdout",
     "text": [
      "Row 0 calculation finished.\n",
      "Row 1 calculation finished.\n",
      "Row 2 calculation finished.\n",
      "Row 3 calculation finished.\n",
      "Row 4 calculation finished.\n",
      "Row 5 calculation finished.\n",
      "Row 6 calculation finished.\n",
      "Row 7 calculation finished.\n",
      "Row 8 calculation finished.\n",
      "Row 9 calculation finished.\n",
      "Row 10 calculation finished.\n",
      "Row 11 calculation finished.\n",
      "Row 12 calculation finished.\n",
      "Row 13 calculation finished.\n",
      "Row 14 calculation finished.\n",
      "Row 15 calculation finished.\n",
      "Row 16 calculation finished.\n",
      "Row 17 calculation finished.\n",
      "CPU times: user 1.5 s, sys: 27.8 ms, total: 1.53 s\n",
      "Wall time: 1.07 s\n"
     ]
    },
    {
     "output_type": "execute_result",
     "data": {
      "text/plain": [
       "   n_neighbors   weights     X_set      r2\n",
       "16           5  distance    X_copy  0.9863\n",
       "10           4  distance    X_copy  0.9863\n",
       "4            3  distance    X_copy  0.9848\n",
       "7            4   uniform    X_copy  0.9831\n",
       "13           5   uniform    X_copy   0.983\n",
       "1            3   uniform    X_copy  0.9825\n",
       "11           4  distance  X_origin   0.978\n",
       "17           5  distance  X_origin   0.977\n",
       "5            3  distance  X_origin  0.9749\n",
       "14           5   uniform  X_origin  0.9731\n",
       "2            3   uniform  X_origin  0.9722\n",
       "8            4   uniform  X_origin   0.972\n",
       "12           5   uniform         X  0.9708\n",
       "6            4   uniform         X  0.9703\n",
       "15           5  distance         X   0.969\n",
       "9            4  distance         X  0.9688\n",
       "0            3   uniform         X  0.9676\n",
       "3            3  distance         X  0.9673"
      ],
      "text/html": "<div>\n<style scoped>\n    .dataframe tbody tr th:only-of-type {\n        vertical-align: middle;\n    }\n\n    .dataframe tbody tr th {\n        vertical-align: top;\n    }\n\n    .dataframe thead th {\n        text-align: right;\n    }\n</style>\n<table border=\"1\" class=\"dataframe\">\n  <thead>\n    <tr style=\"text-align: right;\">\n      <th></th>\n      <th>n_neighbors</th>\n      <th>weights</th>\n      <th>X_set</th>\n      <th>r2</th>\n    </tr>\n  </thead>\n  <tbody>\n    <tr>\n      <th>16</th>\n      <td>5</td>\n      <td>distance</td>\n      <td>X_copy</td>\n      <td>0.9863</td>\n    </tr>\n    <tr>\n      <th>10</th>\n      <td>4</td>\n      <td>distance</td>\n      <td>X_copy</td>\n      <td>0.9863</td>\n    </tr>\n    <tr>\n      <th>4</th>\n      <td>3</td>\n      <td>distance</td>\n      <td>X_copy</td>\n      <td>0.9848</td>\n    </tr>\n    <tr>\n      <th>7</th>\n      <td>4</td>\n      <td>uniform</td>\n      <td>X_copy</td>\n      <td>0.9831</td>\n    </tr>\n    <tr>\n      <th>13</th>\n      <td>5</td>\n      <td>uniform</td>\n      <td>X_copy</td>\n      <td>0.983</td>\n    </tr>\n    <tr>\n      <th>1</th>\n      <td>3</td>\n      <td>uniform</td>\n      <td>X_copy</td>\n      <td>0.9825</td>\n    </tr>\n    <tr>\n      <th>11</th>\n      <td>4</td>\n      <td>distance</td>\n      <td>X_origin</td>\n      <td>0.978</td>\n    </tr>\n    <tr>\n      <th>17</th>\n      <td>5</td>\n      <td>distance</td>\n      <td>X_origin</td>\n      <td>0.977</td>\n    </tr>\n    <tr>\n      <th>5</th>\n      <td>3</td>\n      <td>distance</td>\n      <td>X_origin</td>\n      <td>0.9749</td>\n    </tr>\n    <tr>\n      <th>14</th>\n      <td>5</td>\n      <td>uniform</td>\n      <td>X_origin</td>\n      <td>0.9731</td>\n    </tr>\n    <tr>\n      <th>2</th>\n      <td>3</td>\n      <td>uniform</td>\n      <td>X_origin</td>\n      <td>0.9722</td>\n    </tr>\n    <tr>\n      <th>8</th>\n      <td>4</td>\n      <td>uniform</td>\n      <td>X_origin</td>\n      <td>0.972</td>\n    </tr>\n    <tr>\n      <th>12</th>\n      <td>5</td>\n      <td>uniform</td>\n      <td>X</td>\n      <td>0.9708</td>\n    </tr>\n    <tr>\n      <th>6</th>\n      <td>4</td>\n      <td>uniform</td>\n      <td>X</td>\n      <td>0.9703</td>\n    </tr>\n    <tr>\n      <th>15</th>\n      <td>5</td>\n      <td>distance</td>\n      <td>X</td>\n      <td>0.969</td>\n    </tr>\n    <tr>\n      <th>9</th>\n      <td>4</td>\n      <td>distance</td>\n      <td>X</td>\n      <td>0.9688</td>\n    </tr>\n    <tr>\n      <th>0</th>\n      <td>3</td>\n      <td>uniform</td>\n      <td>X</td>\n      <td>0.9676</td>\n    </tr>\n    <tr>\n      <th>3</th>\n      <td>3</td>\n      <td>distance</td>\n      <td>X</td>\n      <td>0.9673</td>\n    </tr>\n  </tbody>\n</table>\n</div>"
     },
     "metadata": {},
     "execution_count": 15
    }
   ],
   "source": [
    "%%time\n",
    "from sklearn.neighbors import KNeighborsRegressor\n",
    "table = pd.DataFrame(columns=['n_neighbors', 'weights','X_set', 'r2'])\n",
    "\n",
    "row_index = 0\n",
    "for i in [3, 4, 5]:\n",
    "    for ii in ['uniform', 'distance']:\n",
    "        for x in ['X', 'X_copy', 'X_origin']:\n",
    "            table.loc[row_index, 'n_neighbors'] = i\n",
    "            table.loc[row_index, 'weights'] = ii\n",
    "            table.loc[row_index, 'X_set'] = x\n",
    "\n",
    "            model = KNeighborsRegressor(\n",
    "                n_neighbors = i,\n",
    "                weights = ii\n",
    "            )\n",
    "\n",
    "            r2 = round(cross_val_score(model, x_dict[x], y, scoring='r2', cv=kf).mean(), 4)\n",
    "            table.loc[row_index, 'r2'] = r2\n",
    "            print(f'Row {row_index} calculation finished.')\n",
    "            row_index += 1\n",
    "\n",
    "table.sort_values(\"r2\", ascending=False)"
   ]
  },
  {
   "cell_type": "markdown",
   "metadata": {},
   "source": [
    "### DT"
   ]
  },
  {
   "cell_type": "code",
   "execution_count": 16,
   "metadata": {},
   "outputs": [],
   "source": [
    "from sklearn.tree import DecisionTreeRegressor\n",
    "# max_depth [3, 5]\n",
    "# which hyperparameters?"
   ]
  },
  {
   "cell_type": "markdown",
   "metadata": {},
   "source": [
    "### NN"
   ]
  },
  {
   "cell_type": "code",
   "execution_count": 17,
   "metadata": {},
   "outputs": [
    {
     "output_type": "stream",
     "name": "stdout",
     "text": [
      "Row 0 calculation finished.\n",
      "Row 1 calculation finished.\n",
      "Row 2 calculation finished.\n",
      "Row 3 calculation finished.\n",
      "Row 4 calculation finished.\n",
      "Row 5 calculation finished.\n",
      "Row 6 calculation finished.\n",
      "Row 7 calculation finished.\n",
      "Row 8 calculation finished.\n",
      "Row 9 calculation finished.\n",
      "Row 10 calculation finished.\n",
      "Row 11 calculation finished.\n",
      "Row 12 calculation finished.\n",
      "Row 13 calculation finished.\n",
      "Row 14 calculation finished.\n",
      "Row 15 calculation finished.\n",
      "Row 16 calculation finished.\n",
      "Row 17 calculation finished.\n",
      "Row 18 calculation finished.\n",
      "Row 19 calculation finished.\n",
      "Row 20 calculation finished.\n",
      "Row 21 calculation finished.\n",
      "Row 22 calculation finished.\n",
      "Row 23 calculation finished.\n",
      "Row 24 calculation finished.\n",
      "Row 25 calculation finished.\n",
      "Row 26 calculation finished.\n",
      "Row 27 calculation finished.\n",
      "Row 28 calculation finished.\n",
      "Row 29 calculation finished.\n",
      "Row 30 calculation finished.\n",
      "Row 31 calculation finished.\n",
      "Row 32 calculation finished.\n",
      "Row 33 calculation finished.\n",
      "Row 34 calculation finished.\n",
      "Row 35 calculation finished.\n",
      "CPU times: user 10min 19s, sys: 59.1 s, total: 11min 18s\n",
      "Wall time: 5min 23s\n"
     ]
    },
    {
     "output_type": "execute_result",
     "data": {
      "text/plain": [
       "   hidden_layer_sizes solver max_iter     X_set Error      r2\n",
       "16           (100, 5)    sgd      200    X_copy   NaN  0.9992\n",
       "13           (100, 5)    sgd      150    X_copy   NaN  0.9992\n",
       "17           (100, 5)    sgd      200  X_origin   NaN  0.9989\n",
       "19           (100, 5)   adam      150    X_copy   NaN  0.9979\n",
       "34           (200, 3)   adam      200    X_copy   NaN  0.9969\n",
       "22           (100, 5)   adam      200    X_copy   NaN  0.9957\n",
       "23           (100, 5)   adam      200  X_origin   NaN  0.9931\n",
       "8            (100, 3)   adam      150  X_origin   NaN  0.9799\n",
       "3            (100, 3)    sgd      200         X   NaN  0.9675\n",
       "18           (100, 5)   adam      150         X   NaN  0.9587\n",
       "14           (100, 5)    sgd      150  X_origin   NaN  0.8988\n",
       "26           (200, 3)    sgd      150  X_origin   NaN  0.8987\n",
       "28           (200, 3)    sgd      200    X_copy   NaN  0.8960\n",
       "29           (200, 3)    sgd      200  X_origin   NaN  0.8956\n",
       "4            (100, 3)    sgd      200    X_copy   NaN  0.8953\n",
       "15           (100, 5)    sgd      200         X   NaN  0.8739\n",
       "12           (100, 5)    sgd      150         X   NaN  0.8682\n",
       "10           (100, 3)   adam      200    X_copy   NaN  0.8108\n",
       "1            (100, 3)    sgd      150    X_copy   NaN  0.7979\n",
       "5            (100, 3)    sgd      200  X_origin   NaN  0.7963\n",
       "0            (100, 3)    sgd      150         X   NaN  0.7768\n",
       "27           (200, 3)    sgd      200         X   NaN  0.7711\n",
       "30           (200, 3)   adam      150         X   NaN  0.7652\n",
       "2            (100, 3)    sgd      150  X_origin   NaN  0.6974\n",
       "25           (200, 3)    sgd      150    X_copy   NaN  0.6961\n",
       "32           (200, 3)   adam      150  X_origin   NaN  0.6053\n",
       "7            (100, 3)   adam      150    X_copy   NaN  0.6002\n",
       "20           (100, 5)   adam      150  X_origin   NaN  0.5984\n",
       "21           (100, 5)   adam      200         X   NaN  0.5932\n",
       "33           (200, 3)   adam      200         X   NaN  0.5889\n",
       "6            (100, 3)   adam      150         X   NaN  0.5587\n",
       "24           (200, 3)    sgd      150         X   NaN  0.4693\n",
       "35           (200, 3)   adam      200  X_origin   NaN  0.4415\n",
       "11           (100, 3)   adam      200  X_origin   NaN  0.4176\n",
       "31           (200, 3)   adam      150    X_copy   NaN  0.4061\n",
       "9            (100, 3)   adam      200         X   NaN  0.3842"
      ],
      "text/html": "<div>\n<style scoped>\n    .dataframe tbody tr th:only-of-type {\n        vertical-align: middle;\n    }\n\n    .dataframe tbody tr th {\n        vertical-align: top;\n    }\n\n    .dataframe thead th {\n        text-align: right;\n    }\n</style>\n<table border=\"1\" class=\"dataframe\">\n  <thead>\n    <tr style=\"text-align: right;\">\n      <th></th>\n      <th>hidden_layer_sizes</th>\n      <th>solver</th>\n      <th>max_iter</th>\n      <th>X_set</th>\n      <th>Error</th>\n      <th>r2</th>\n    </tr>\n  </thead>\n  <tbody>\n    <tr>\n      <th>16</th>\n      <td>(100, 5)</td>\n      <td>sgd</td>\n      <td>200</td>\n      <td>X_copy</td>\n      <td>NaN</td>\n      <td>0.9992</td>\n    </tr>\n    <tr>\n      <th>13</th>\n      <td>(100, 5)</td>\n      <td>sgd</td>\n      <td>150</td>\n      <td>X_copy</td>\n      <td>NaN</td>\n      <td>0.9992</td>\n    </tr>\n    <tr>\n      <th>17</th>\n      <td>(100, 5)</td>\n      <td>sgd</td>\n      <td>200</td>\n      <td>X_origin</td>\n      <td>NaN</td>\n      <td>0.9989</td>\n    </tr>\n    <tr>\n      <th>19</th>\n      <td>(100, 5)</td>\n      <td>adam</td>\n      <td>150</td>\n      <td>X_copy</td>\n      <td>NaN</td>\n      <td>0.9979</td>\n    </tr>\n    <tr>\n      <th>34</th>\n      <td>(200, 3)</td>\n      <td>adam</td>\n      <td>200</td>\n      <td>X_copy</td>\n      <td>NaN</td>\n      <td>0.9969</td>\n    </tr>\n    <tr>\n      <th>22</th>\n      <td>(100, 5)</td>\n      <td>adam</td>\n      <td>200</td>\n      <td>X_copy</td>\n      <td>NaN</td>\n      <td>0.9957</td>\n    </tr>\n    <tr>\n      <th>23</th>\n      <td>(100, 5)</td>\n      <td>adam</td>\n      <td>200</td>\n      <td>X_origin</td>\n      <td>NaN</td>\n      <td>0.9931</td>\n    </tr>\n    <tr>\n      <th>8</th>\n      <td>(100, 3)</td>\n      <td>adam</td>\n      <td>150</td>\n      <td>X_origin</td>\n      <td>NaN</td>\n      <td>0.9799</td>\n    </tr>\n    <tr>\n      <th>3</th>\n      <td>(100, 3)</td>\n      <td>sgd</td>\n      <td>200</td>\n      <td>X</td>\n      <td>NaN</td>\n      <td>0.9675</td>\n    </tr>\n    <tr>\n      <th>18</th>\n      <td>(100, 5)</td>\n      <td>adam</td>\n      <td>150</td>\n      <td>X</td>\n      <td>NaN</td>\n      <td>0.9587</td>\n    </tr>\n    <tr>\n      <th>14</th>\n      <td>(100, 5)</td>\n      <td>sgd</td>\n      <td>150</td>\n      <td>X_origin</td>\n      <td>NaN</td>\n      <td>0.8988</td>\n    </tr>\n    <tr>\n      <th>26</th>\n      <td>(200, 3)</td>\n      <td>sgd</td>\n      <td>150</td>\n      <td>X_origin</td>\n      <td>NaN</td>\n      <td>0.8987</td>\n    </tr>\n    <tr>\n      <th>28</th>\n      <td>(200, 3)</td>\n      <td>sgd</td>\n      <td>200</td>\n      <td>X_copy</td>\n      <td>NaN</td>\n      <td>0.8960</td>\n    </tr>\n    <tr>\n      <th>29</th>\n      <td>(200, 3)</td>\n      <td>sgd</td>\n      <td>200</td>\n      <td>X_origin</td>\n      <td>NaN</td>\n      <td>0.8956</td>\n    </tr>\n    <tr>\n      <th>4</th>\n      <td>(100, 3)</td>\n      <td>sgd</td>\n      <td>200</td>\n      <td>X_copy</td>\n      <td>NaN</td>\n      <td>0.8953</td>\n    </tr>\n    <tr>\n      <th>15</th>\n      <td>(100, 5)</td>\n      <td>sgd</td>\n      <td>200</td>\n      <td>X</td>\n      <td>NaN</td>\n      <td>0.8739</td>\n    </tr>\n    <tr>\n      <th>12</th>\n      <td>(100, 5)</td>\n      <td>sgd</td>\n      <td>150</td>\n      <td>X</td>\n      <td>NaN</td>\n      <td>0.8682</td>\n    </tr>\n    <tr>\n      <th>10</th>\n      <td>(100, 3)</td>\n      <td>adam</td>\n      <td>200</td>\n      <td>X_copy</td>\n      <td>NaN</td>\n      <td>0.8108</td>\n    </tr>\n    <tr>\n      <th>1</th>\n      <td>(100, 3)</td>\n      <td>sgd</td>\n      <td>150</td>\n      <td>X_copy</td>\n      <td>NaN</td>\n      <td>0.7979</td>\n    </tr>\n    <tr>\n      <th>5</th>\n      <td>(100, 3)</td>\n      <td>sgd</td>\n      <td>200</td>\n      <td>X_origin</td>\n      <td>NaN</td>\n      <td>0.7963</td>\n    </tr>\n    <tr>\n      <th>0</th>\n      <td>(100, 3)</td>\n      <td>sgd</td>\n      <td>150</td>\n      <td>X</td>\n      <td>NaN</td>\n      <td>0.7768</td>\n    </tr>\n    <tr>\n      <th>27</th>\n      <td>(200, 3)</td>\n      <td>sgd</td>\n      <td>200</td>\n      <td>X</td>\n      <td>NaN</td>\n      <td>0.7711</td>\n    </tr>\n    <tr>\n      <th>30</th>\n      <td>(200, 3)</td>\n      <td>adam</td>\n      <td>150</td>\n      <td>X</td>\n      <td>NaN</td>\n      <td>0.7652</td>\n    </tr>\n    <tr>\n      <th>2</th>\n      <td>(100, 3)</td>\n      <td>sgd</td>\n      <td>150</td>\n      <td>X_origin</td>\n      <td>NaN</td>\n      <td>0.6974</td>\n    </tr>\n    <tr>\n      <th>25</th>\n      <td>(200, 3)</td>\n      <td>sgd</td>\n      <td>150</td>\n      <td>X_copy</td>\n      <td>NaN</td>\n      <td>0.6961</td>\n    </tr>\n    <tr>\n      <th>32</th>\n      <td>(200, 3)</td>\n      <td>adam</td>\n      <td>150</td>\n      <td>X_origin</td>\n      <td>NaN</td>\n      <td>0.6053</td>\n    </tr>\n    <tr>\n      <th>7</th>\n      <td>(100, 3)</td>\n      <td>adam</td>\n      <td>150</td>\n      <td>X_copy</td>\n      <td>NaN</td>\n      <td>0.6002</td>\n    </tr>\n    <tr>\n      <th>20</th>\n      <td>(100, 5)</td>\n      <td>adam</td>\n      <td>150</td>\n      <td>X_origin</td>\n      <td>NaN</td>\n      <td>0.5984</td>\n    </tr>\n    <tr>\n      <th>21</th>\n      <td>(100, 5)</td>\n      <td>adam</td>\n      <td>200</td>\n      <td>X</td>\n      <td>NaN</td>\n      <td>0.5932</td>\n    </tr>\n    <tr>\n      <th>33</th>\n      <td>(200, 3)</td>\n      <td>adam</td>\n      <td>200</td>\n      <td>X</td>\n      <td>NaN</td>\n      <td>0.5889</td>\n    </tr>\n    <tr>\n      <th>6</th>\n      <td>(100, 3)</td>\n      <td>adam</td>\n      <td>150</td>\n      <td>X</td>\n      <td>NaN</td>\n      <td>0.5587</td>\n    </tr>\n    <tr>\n      <th>24</th>\n      <td>(200, 3)</td>\n      <td>sgd</td>\n      <td>150</td>\n      <td>X</td>\n      <td>NaN</td>\n      <td>0.4693</td>\n    </tr>\n    <tr>\n      <th>35</th>\n      <td>(200, 3)</td>\n      <td>adam</td>\n      <td>200</td>\n      <td>X_origin</td>\n      <td>NaN</td>\n      <td>0.4415</td>\n    </tr>\n    <tr>\n      <th>11</th>\n      <td>(100, 3)</td>\n      <td>adam</td>\n      <td>200</td>\n      <td>X_origin</td>\n      <td>NaN</td>\n      <td>0.4176</td>\n    </tr>\n    <tr>\n      <th>31</th>\n      <td>(200, 3)</td>\n      <td>adam</td>\n      <td>150</td>\n      <td>X_copy</td>\n      <td>NaN</td>\n      <td>0.4061</td>\n    </tr>\n    <tr>\n      <th>9</th>\n      <td>(100, 3)</td>\n      <td>adam</td>\n      <td>200</td>\n      <td>X</td>\n      <td>NaN</td>\n      <td>0.3842</td>\n    </tr>\n  </tbody>\n</table>\n</div>"
     },
     "metadata": {},
     "execution_count": 17
    }
   ],
   "source": [
    "%%time\n",
    "from sklearn.neural_network import MLPRegressor\n",
    "\n",
    "table = pd.DataFrame(columns=['hidden_layer_sizes', 'solver', 'max_iter','X_set', 'Error'])\n",
    "\n",
    "row_index = 0\n",
    "for i in [(100,3),(100,5),(200,3)]:\n",
    "    for ii in ['sgd', 'adam']:\n",
    "        for iii in [150, 200]:\n",
    "            for x in ['X', 'X_copy', 'X_origin']:\n",
    "                table.loc[row_index, 'hidden_layer_sizes'] = str(i)\n",
    "                table.loc[row_index, 'solver'] = ii\n",
    "                table.loc[row_index, 'max_iter'] = iii\n",
    "                table.loc[row_index, 'X_set'] = x\n",
    "\n",
    "                model = MLPRegressor(hidden_layer_sizes = i, solver = ii, max_iter=iii)\n",
    "\n",
    "                r2 = round(cross_val_score(model, x_dict[x], y, scoring='r2', cv=kf).mean(), 4)\n",
    "                table.loc[row_index, 'r2'] = r2\n",
    "                print(f'Row {row_index} calculation finished.')\n",
    "                row_index += 1\n",
    "\n",
    "table.sort_values(\"r2\", ascending=False)"
   ]
  },
  {
   "cell_type": "code",
   "execution_count": null,
   "metadata": {},
   "outputs": [],
   "source": []
  },
  {
   "cell_type": "code",
   "execution_count": null,
   "metadata": {},
   "outputs": [],
   "source": []
  },
  {
   "cell_type": "code",
   "execution_count": null,
   "metadata": {},
   "outputs": [],
   "source": []
  },
  {
   "cell_type": "code",
   "execution_count": null,
   "metadata": {},
   "outputs": [],
   "source": []
  },
  {
   "cell_type": "code",
   "execution_count": null,
   "metadata": {},
   "outputs": [],
   "source": []
  },
  {
   "cell_type": "code",
   "execution_count": null,
   "metadata": {},
   "outputs": [],
   "source": []
  }
 ],
 "metadata": {
  "kernelspec": {
   "display_name": "Python 3",
   "language": "python",
   "name": "python3"
  },
  "language_info": {
   "codemirror_mode": {
    "name": "ipython",
    "version": 3
   },
   "file_extension": ".py",
   "mimetype": "text/x-python",
   "name": "python",
   "nbconvert_exporter": "python",
   "pygments_lexer": "ipython3",
   "version": "3.8.3-final"
  }
 },
 "nbformat": 4,
 "nbformat_minor": 4
}