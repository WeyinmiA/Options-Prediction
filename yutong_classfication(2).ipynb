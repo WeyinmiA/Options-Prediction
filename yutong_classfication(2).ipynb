{
 "metadata": {
  "language_info": {
   "codemirror_mode": {
    "name": "ipython",
    "version": 3
   },
   "file_extension": ".py",
   "mimetype": "text/x-python",
   "name": "python",
   "nbconvert_exporter": "python",
   "pygments_lexer": "ipython3",
   "version": "3.7.9-final"
  },
  "orig_nbformat": 2,
  "kernelspec": {
   "name": "python37964bit512e9edfd23c42bcbce8c04e586f7063",
   "display_name": "Python 3.7.9 64-bit"
  }
 },
 "nbformat": 4,
 "nbformat_minor": 2,
 "cells": [
  {
   "cell_type": "code",
   "execution_count": 1,
   "metadata": {},
   "outputs": [],
   "source": [
    "import pandas as pd\n",
    "import numpy as np\n",
    "\n",
    "import seaborn as sns\n",
    "import matplotlib.pyplot as plt\n",
    "\n",
    "from sklearn.model_selection import train_test_split\n",
    "from sklearn.preprocessing import MinMaxScaler\n",
    "\n",
    "from sklearn.model_selection import KFold\n",
    "\n",
    "from sklearn.linear_model import LogisticRegression\n",
    "from sklearn.feature_selection import RFECV\n",
    "from sklearn.feature_selection import RFE\n",
    "from sklearn.discriminant_analysis import LinearDiscriminantAnalysis\n",
    "from sklearn.neighbors import KNeighborsClassifier\n",
    "from sklearn.tree import DecisionTreeClassifier\n",
    "from sklearn.model_selection import cross_val_score\n",
    "from sklearn.ensemble import RandomForestClassifier\n",
    "from sklearn.ensemble import GradientBoostingClassifier\n",
    "from sklearn.neural_network import MLPClassifier\n",
    "\n",
    "import time\n"
   ]
  },
  {
   "cell_type": "code",
   "execution_count": 2,
   "metadata": {},
   "outputs": [
    {
     "output_type": "stream",
     "name": "stdout",
     "text": [
      "<class 'pandas.core.frame.DataFrame'>\nRangeIndex: 1680 entries, 0 to 1679\nData columns (total 6 columns):\n #   Column  Non-Null Count  Dtype  \n---  ------  --------------  -----  \n 0   Value   1680 non-null   float64\n 1   S       1680 non-null   float64\n 2   K       1680 non-null   int64  \n 3   tau     1680 non-null   float64\n 4   r       1680 non-null   float64\n 5   BS      1680 non-null   object \ndtypes: float64(4), int64(1), object(1)\nmemory usage: 78.9+ KB\n"
     ]
    }
   ],
   "source": [
    "train_df = pd.read_csv(\"option_train.csv\")\n",
    "train_df.info()"
   ]
  },
  {
   "cell_type": "markdown",
   "metadata": {},
   "source": [
    "## Preprocessing"
   ]
  },
  {
   "cell_type": "code",
   "execution_count": 3,
   "metadata": {},
   "outputs": [
    {
     "output_type": "execute_result",
     "data": {
      "text/plain": [
       "       Value           S    K       tau        r     BS\n",
       "0  21.670404  431.623898  420  0.341270  0.03013  Under\n",
       "1   0.125000  427.015526  465  0.166667  0.03126   Over\n",
       "2  20.691244  427.762336  415  0.265873  0.03116  Under\n",
       "3   1.035002  451.711658  460  0.063492  0.02972   Over\n",
       "4  39.553020  446.718974  410  0.166667  0.02962  Under"
      ],
      "text/html": "<div>\n<style scoped>\n    .dataframe tbody tr th:only-of-type {\n        vertical-align: middle;\n    }\n\n    .dataframe tbody tr th {\n        vertical-align: top;\n    }\n\n    .dataframe thead th {\n        text-align: right;\n    }\n</style>\n<table border=\"1\" class=\"dataframe\">\n  <thead>\n    <tr style=\"text-align: right;\">\n      <th></th>\n      <th>Value</th>\n      <th>S</th>\n      <th>K</th>\n      <th>tau</th>\n      <th>r</th>\n      <th>BS</th>\n    </tr>\n  </thead>\n  <tbody>\n    <tr>\n      <th>0</th>\n      <td>21.670404</td>\n      <td>431.623898</td>\n      <td>420</td>\n      <td>0.341270</td>\n      <td>0.03013</td>\n      <td>Under</td>\n    </tr>\n    <tr>\n      <th>1</th>\n      <td>0.125000</td>\n      <td>427.015526</td>\n      <td>465</td>\n      <td>0.166667</td>\n      <td>0.03126</td>\n      <td>Over</td>\n    </tr>\n    <tr>\n      <th>2</th>\n      <td>20.691244</td>\n      <td>427.762336</td>\n      <td>415</td>\n      <td>0.265873</td>\n      <td>0.03116</td>\n      <td>Under</td>\n    </tr>\n    <tr>\n      <th>3</th>\n      <td>1.035002</td>\n      <td>451.711658</td>\n      <td>460</td>\n      <td>0.063492</td>\n      <td>0.02972</td>\n      <td>Over</td>\n    </tr>\n    <tr>\n      <th>4</th>\n      <td>39.553020</td>\n      <td>446.718974</td>\n      <td>410</td>\n      <td>0.166667</td>\n      <td>0.02962</td>\n      <td>Under</td>\n    </tr>\n  </tbody>\n</table>\n</div>"
     },
     "metadata": {},
     "execution_count": 3
    }
   ],
   "source": [
    "train_df.head()"
   ]
  },
  {
   "cell_type": "code",
   "execution_count": 4,
   "metadata": {},
   "outputs": [],
   "source": [
    "train_df.BS = train_df.BS.replace({'Under':0, 'Over':1})\n",
    "train_df = train_df.drop(columns = ['Value']) \n",
    "# assume we can't use Value so we drop it\n",
    "\n",
    "X = train_df.iloc[:, :-1]\n",
    "y = train_df.iloc[:, -1]"
   ]
  },
  {
   "cell_type": "code",
   "execution_count": 5,
   "metadata": {},
   "outputs": [],
   "source": [
    "# classfication error: all wrong points /total number "
   ]
  },
  {
   "cell_type": "markdown",
   "metadata": {},
   "source": [
    "## Creating variables & MinMaxScale"
   ]
  },
  {
   "cell_type": "markdown",
   "metadata": {},
   "source": [
    "#### Anushka's procress"
   ]
  },
  {
   "cell_type": "code",
   "execution_count": null,
   "metadata": {},
   "outputs": [],
   "source": []
  },
  {
   "cell_type": "code",
   "execution_count": 6,
   "metadata": {},
   "outputs": [
    {
     "output_type": "execute_result",
     "data": {
      "text/plain": [
       "               S    K       tau        r            S*K       S/K       S*tau  \\\n",
       "0     431.623898  420  0.341270  0.03013  181282.037286  1.027676  147.300219   \n",
       "1     427.015526  465  0.166667  0.03126  198562.219543  0.918313   71.169254   \n",
       "2     427.762336  415  0.265873  0.03116  177521.369606  1.030753  113.730463   \n",
       "3     451.711658  460  0.063492  0.02972  207787.362588  0.981982   28.680105   \n",
       "4     446.718974  410  0.166667  0.02962  183154.779504  1.089558   74.453163   \n",
       "...          ...  ...       ...      ...            ...       ...         ...   \n",
       "1675  444.397163  475  0.273810  0.03034  211088.652662  0.935573  121.680176   \n",
       "1676  438.453825  410  0.301587  0.02972  179766.068250  1.069400  132.232106   \n",
       "1677  428.042219  390  0.170635  0.03188  166936.465410  1.097544   73.038950   \n",
       "1678  439.081203  480  0.293651  0.02962  210758.977248  0.914753  128.936544   \n",
       "1679  432.167692  465  0.218254  0.02993  200957.976966  0.929393   94.322314   \n",
       "\n",
       "            S/tau        S*r           S/r        S*r*K   S*r*tau       tau*K  \\\n",
       "0     1264.758401  13.004828  14325.386601  5462.027783  4.438156  143.333333   \n",
       "1     2562.093150  13.348505  13660.125589  6207.054983  2.224751   77.500000   \n",
       "2     1608.897145  13.329074  13727.931207  5531.565877  3.543841  110.337302   \n",
       "3     7114.458665  13.424870  15198.911770  6175.440416  0.852373   29.206349   \n",
       "4     2680.313841  13.231816  15081.666928  5425.044569  2.205303   68.333333   \n",
       "...           ...        ...           ...          ...       ...         ...   \n",
       "1675  1623.015726  13.483010  14647.236767  6404.429722  3.691777  130.059524   \n",
       "1676  1453.820576  13.030848  14752.820491  5342.647548  3.929938  123.650794   \n",
       "1677  2508.526487  13.645986  13426.669354  5321.934517  2.328482   66.547619   \n",
       "1678  1495.249499  13.005585  14823.808325  6242.680906  3.819100  140.952381   \n",
       "1679  1980.113793  12.934779  14439.281403  6014.672251  2.823067  101.488095   \n",
       "\n",
       "         tau/K     tau*r      tau/r   tau*r*K  \n",
       "0     0.000813  0.010282  11.326580  4.318633  \n",
       "1     0.000358  0.005210   5.331627  2.422650  \n",
       "2     0.000641  0.008285   8.532510  3.438110  \n",
       "3     0.000138  0.001887   2.136341  0.868013  \n",
       "4     0.000407  0.004937   5.626829  2.024033  \n",
       "...        ...       ...        ...       ...  \n",
       "1675  0.000576  0.008307   9.024704  3.946006  \n",
       "1676  0.000736  0.008963  10.147621  3.674902  \n",
       "1677  0.000438  0.005440   5.352413  2.121538  \n",
       "1678  0.000612  0.008698   9.913936  4.175010  \n",
       "1679  0.000469  0.006532   7.292147  3.037539  \n",
       "\n",
       "[1680 rows x 17 columns]"
      ],
      "text/html": "<div>\n<style scoped>\n    .dataframe tbody tr th:only-of-type {\n        vertical-align: middle;\n    }\n\n    .dataframe tbody tr th {\n        vertical-align: top;\n    }\n\n    .dataframe thead th {\n        text-align: right;\n    }\n</style>\n<table border=\"1\" class=\"dataframe\">\n  <thead>\n    <tr style=\"text-align: right;\">\n      <th></th>\n      <th>S</th>\n      <th>K</th>\n      <th>tau</th>\n      <th>r</th>\n      <th>S*K</th>\n      <th>S/K</th>\n      <th>S*tau</th>\n      <th>S/tau</th>\n      <th>S*r</th>\n      <th>S/r</th>\n      <th>S*r*K</th>\n      <th>S*r*tau</th>\n      <th>tau*K</th>\n      <th>tau/K</th>\n      <th>tau*r</th>\n      <th>tau/r</th>\n      <th>tau*r*K</th>\n    </tr>\n  </thead>\n  <tbody>\n    <tr>\n      <th>0</th>\n      <td>431.623898</td>\n      <td>420</td>\n      <td>0.341270</td>\n      <td>0.03013</td>\n      <td>181282.037286</td>\n      <td>1.027676</td>\n      <td>147.300219</td>\n      <td>1264.758401</td>\n      <td>13.004828</td>\n      <td>14325.386601</td>\n      <td>5462.027783</td>\n      <td>4.438156</td>\n      <td>143.333333</td>\n      <td>0.000813</td>\n      <td>0.010282</td>\n      <td>11.326580</td>\n      <td>4.318633</td>\n    </tr>\n    <tr>\n      <th>1</th>\n      <td>427.015526</td>\n      <td>465</td>\n      <td>0.166667</td>\n      <td>0.03126</td>\n      <td>198562.219543</td>\n      <td>0.918313</td>\n      <td>71.169254</td>\n      <td>2562.093150</td>\n      <td>13.348505</td>\n      <td>13660.125589</td>\n      <td>6207.054983</td>\n      <td>2.224751</td>\n      <td>77.500000</td>\n      <td>0.000358</td>\n      <td>0.005210</td>\n      <td>5.331627</td>\n      <td>2.422650</td>\n    </tr>\n    <tr>\n      <th>2</th>\n      <td>427.762336</td>\n      <td>415</td>\n      <td>0.265873</td>\n      <td>0.03116</td>\n      <td>177521.369606</td>\n      <td>1.030753</td>\n      <td>113.730463</td>\n      <td>1608.897145</td>\n      <td>13.329074</td>\n      <td>13727.931207</td>\n      <td>5531.565877</td>\n      <td>3.543841</td>\n      <td>110.337302</td>\n      <td>0.000641</td>\n      <td>0.008285</td>\n      <td>8.532510</td>\n      <td>3.438110</td>\n    </tr>\n    <tr>\n      <th>3</th>\n      <td>451.711658</td>\n      <td>460</td>\n      <td>0.063492</td>\n      <td>0.02972</td>\n      <td>207787.362588</td>\n      <td>0.981982</td>\n      <td>28.680105</td>\n      <td>7114.458665</td>\n      <td>13.424870</td>\n      <td>15198.911770</td>\n      <td>6175.440416</td>\n      <td>0.852373</td>\n      <td>29.206349</td>\n      <td>0.000138</td>\n      <td>0.001887</td>\n      <td>2.136341</td>\n      <td>0.868013</td>\n    </tr>\n    <tr>\n      <th>4</th>\n      <td>446.718974</td>\n      <td>410</td>\n      <td>0.166667</td>\n      <td>0.02962</td>\n      <td>183154.779504</td>\n      <td>1.089558</td>\n      <td>74.453163</td>\n      <td>2680.313841</td>\n      <td>13.231816</td>\n      <td>15081.666928</td>\n      <td>5425.044569</td>\n      <td>2.205303</td>\n      <td>68.333333</td>\n      <td>0.000407</td>\n      <td>0.004937</td>\n      <td>5.626829</td>\n      <td>2.024033</td>\n    </tr>\n    <tr>\n      <th>...</th>\n      <td>...</td>\n      <td>...</td>\n      <td>...</td>\n      <td>...</td>\n      <td>...</td>\n      <td>...</td>\n      <td>...</td>\n      <td>...</td>\n      <td>...</td>\n      <td>...</td>\n      <td>...</td>\n      <td>...</td>\n      <td>...</td>\n      <td>...</td>\n      <td>...</td>\n      <td>...</td>\n      <td>...</td>\n    </tr>\n    <tr>\n      <th>1675</th>\n      <td>444.397163</td>\n      <td>475</td>\n      <td>0.273810</td>\n      <td>0.03034</td>\n      <td>211088.652662</td>\n      <td>0.935573</td>\n      <td>121.680176</td>\n      <td>1623.015726</td>\n      <td>13.483010</td>\n      <td>14647.236767</td>\n      <td>6404.429722</td>\n      <td>3.691777</td>\n      <td>130.059524</td>\n      <td>0.000576</td>\n      <td>0.008307</td>\n      <td>9.024704</td>\n      <td>3.946006</td>\n    </tr>\n    <tr>\n      <th>1676</th>\n      <td>438.453825</td>\n      <td>410</td>\n      <td>0.301587</td>\n      <td>0.02972</td>\n      <td>179766.068250</td>\n      <td>1.069400</td>\n      <td>132.232106</td>\n      <td>1453.820576</td>\n      <td>13.030848</td>\n      <td>14752.820491</td>\n      <td>5342.647548</td>\n      <td>3.929938</td>\n      <td>123.650794</td>\n      <td>0.000736</td>\n      <td>0.008963</td>\n      <td>10.147621</td>\n      <td>3.674902</td>\n    </tr>\n    <tr>\n      <th>1677</th>\n      <td>428.042219</td>\n      <td>390</td>\n      <td>0.170635</td>\n      <td>0.03188</td>\n      <td>166936.465410</td>\n      <td>1.097544</td>\n      <td>73.038950</td>\n      <td>2508.526487</td>\n      <td>13.645986</td>\n      <td>13426.669354</td>\n      <td>5321.934517</td>\n      <td>2.328482</td>\n      <td>66.547619</td>\n      <td>0.000438</td>\n      <td>0.005440</td>\n      <td>5.352413</td>\n      <td>2.121538</td>\n    </tr>\n    <tr>\n      <th>1678</th>\n      <td>439.081203</td>\n      <td>480</td>\n      <td>0.293651</td>\n      <td>0.02962</td>\n      <td>210758.977248</td>\n      <td>0.914753</td>\n      <td>128.936544</td>\n      <td>1495.249499</td>\n      <td>13.005585</td>\n      <td>14823.808325</td>\n      <td>6242.680906</td>\n      <td>3.819100</td>\n      <td>140.952381</td>\n      <td>0.000612</td>\n      <td>0.008698</td>\n      <td>9.913936</td>\n      <td>4.175010</td>\n    </tr>\n    <tr>\n      <th>1679</th>\n      <td>432.167692</td>\n      <td>465</td>\n      <td>0.218254</td>\n      <td>0.02993</td>\n      <td>200957.976966</td>\n      <td>0.929393</td>\n      <td>94.322314</td>\n      <td>1980.113793</td>\n      <td>12.934779</td>\n      <td>14439.281403</td>\n      <td>6014.672251</td>\n      <td>2.823067</td>\n      <td>101.488095</td>\n      <td>0.000469</td>\n      <td>0.006532</td>\n      <td>7.292147</td>\n      <td>3.037539</td>\n    </tr>\n  </tbody>\n</table>\n<p>1680 rows × 17 columns</p>\n</div>"
     },
     "metadata": {},
     "execution_count": 6
    }
   ],
   "source": [
    "# define function \n",
    "# multiplying all fields \n",
    "\n",
    "def create_variables(df):\n",
    "    cols = list(df.columns)\n",
    "    name = ''\n",
    "    name2 = ''\n",
    "    result = pd.Series(1, index=range(X.shape[0]))\n",
    "    for i in cols:\n",
    "        name = name + str(i) + \"*\"\n",
    "        name2 = name2 + str(i) + \"/\"\n",
    "        #result = result*X[i]\n",
    "    #df[name] = result\n",
    "\n",
    "\n",
    "    for i in cols:\n",
    "        cols.remove(i)\n",
    "        for ii in cols:\n",
    "            if i != ii:\n",
    "                name = str(i)+\"*\"+str(ii)\n",
    "                name2 = str(i)+\"/\"+str(ii)\n",
    "                df[name] = df[i]*df[ii]\n",
    "                df[name2] = df[i]/df[ii]\n",
    "        for iii in cols:\n",
    "            #print(f'i:{i}, ii:{ii}, iii:{iii}')\n",
    "            if i != iii and ii != iii and i != ii:\n",
    "                #print(f'i:{i}, ii:{ii}, iii:{iii}')\n",
    "                name = str(i)+\"*\"+str(ii)+\"*\"+str(iii)\n",
    "                df[name] = df[i]*df[ii]*df[iii]\n",
    "\n",
    "    return df\n",
    "\n",
    "create_variables(X)"
   ]
  },
  {
   "cell_type": "code",
   "execution_count": 7,
   "metadata": {},
   "outputs": [
    {
     "output_type": "execute_result",
     "data": {
      "text/plain": [
       "          S     K       tau         r       S*K       S/K     S*tau     S/tau  \\\n",
       "0  0.202299  0.36  0.867347  0.261603  0.336600  0.527326  0.829308  0.001031   \n",
       "1  0.050749  0.72  0.418367  0.738397  0.604273  0.102610  0.395640  0.012539   \n",
       "2  0.075309  0.32  0.673469  0.696203  0.278347  0.539275  0.638083  0.004083   \n",
       "3  0.862901  0.68  0.153061  0.088608  0.747172  0.349871  0.153608  0.052920   \n",
       "4  0.698712  0.28  0.418367  0.046414  0.365609  0.767650  0.414346  0.013587   \n",
       "\n",
       "        S*r       S/r     S*r*K   S*r*tau     tau*K     tau/K     tau*r  \\\n",
       "0  0.243026  0.498204  0.280827  0.820816  0.749947  0.836173  0.858454   \n",
       "1  0.516604  0.153673  0.686948  0.406738  0.401345  0.363717  0.430090   \n",
       "2  0.501137  0.188789  0.318733  0.653510  0.575226  0.657345  0.689737   \n",
       "3  0.577393  0.950592  0.669715  0.149997  0.145619  0.134424  0.149465   \n",
       "4  0.423716  0.889872  0.260667  0.403100  0.352805  0.413739  0.407007   \n",
       "\n",
       "      tau/r   tau*r*K       K-S  \n",
       "0  0.876363  0.742367  0.403330  \n",
       "1  0.407063  0.412605  0.854009  \n",
       "2  0.657636  0.589221  0.392988  \n",
       "3  0.156928  0.142213  0.584228  \n",
       "4  0.430172  0.343275  0.175348  "
      ],
      "text/html": "<div>\n<style scoped>\n    .dataframe tbody tr th:only-of-type {\n        vertical-align: middle;\n    }\n\n    .dataframe tbody tr th {\n        vertical-align: top;\n    }\n\n    .dataframe thead th {\n        text-align: right;\n    }\n</style>\n<table border=\"1\" class=\"dataframe\">\n  <thead>\n    <tr style=\"text-align: right;\">\n      <th></th>\n      <th>S</th>\n      <th>K</th>\n      <th>tau</th>\n      <th>r</th>\n      <th>S*K</th>\n      <th>S/K</th>\n      <th>S*tau</th>\n      <th>S/tau</th>\n      <th>S*r</th>\n      <th>S/r</th>\n      <th>S*r*K</th>\n      <th>S*r*tau</th>\n      <th>tau*K</th>\n      <th>tau/K</th>\n      <th>tau*r</th>\n      <th>tau/r</th>\n      <th>tau*r*K</th>\n      <th>K-S</th>\n    </tr>\n  </thead>\n  <tbody>\n    <tr>\n      <th>0</th>\n      <td>0.202299</td>\n      <td>0.36</td>\n      <td>0.867347</td>\n      <td>0.261603</td>\n      <td>0.336600</td>\n      <td>0.527326</td>\n      <td>0.829308</td>\n      <td>0.001031</td>\n      <td>0.243026</td>\n      <td>0.498204</td>\n      <td>0.280827</td>\n      <td>0.820816</td>\n      <td>0.749947</td>\n      <td>0.836173</td>\n      <td>0.858454</td>\n      <td>0.876363</td>\n      <td>0.742367</td>\n      <td>0.403330</td>\n    </tr>\n    <tr>\n      <th>1</th>\n      <td>0.050749</td>\n      <td>0.72</td>\n      <td>0.418367</td>\n      <td>0.738397</td>\n      <td>0.604273</td>\n      <td>0.102610</td>\n      <td>0.395640</td>\n      <td>0.012539</td>\n      <td>0.516604</td>\n      <td>0.153673</td>\n      <td>0.686948</td>\n      <td>0.406738</td>\n      <td>0.401345</td>\n      <td>0.363717</td>\n      <td>0.430090</td>\n      <td>0.407063</td>\n      <td>0.412605</td>\n      <td>0.854009</td>\n    </tr>\n    <tr>\n      <th>2</th>\n      <td>0.075309</td>\n      <td>0.32</td>\n      <td>0.673469</td>\n      <td>0.696203</td>\n      <td>0.278347</td>\n      <td>0.539275</td>\n      <td>0.638083</td>\n      <td>0.004083</td>\n      <td>0.501137</td>\n      <td>0.188789</td>\n      <td>0.318733</td>\n      <td>0.653510</td>\n      <td>0.575226</td>\n      <td>0.657345</td>\n      <td>0.689737</td>\n      <td>0.657636</td>\n      <td>0.589221</td>\n      <td>0.392988</td>\n    </tr>\n    <tr>\n      <th>3</th>\n      <td>0.862901</td>\n      <td>0.68</td>\n      <td>0.153061</td>\n      <td>0.088608</td>\n      <td>0.747172</td>\n      <td>0.349871</td>\n      <td>0.153608</td>\n      <td>0.052920</td>\n      <td>0.577393</td>\n      <td>0.950592</td>\n      <td>0.669715</td>\n      <td>0.149997</td>\n      <td>0.145619</td>\n      <td>0.134424</td>\n      <td>0.149465</td>\n      <td>0.156928</td>\n      <td>0.142213</td>\n      <td>0.584228</td>\n    </tr>\n    <tr>\n      <th>4</th>\n      <td>0.698712</td>\n      <td>0.28</td>\n      <td>0.418367</td>\n      <td>0.046414</td>\n      <td>0.365609</td>\n      <td>0.767650</td>\n      <td>0.414346</td>\n      <td>0.013587</td>\n      <td>0.423716</td>\n      <td>0.889872</td>\n      <td>0.260667</td>\n      <td>0.403100</td>\n      <td>0.352805</td>\n      <td>0.413739</td>\n      <td>0.407007</td>\n      <td>0.430172</td>\n      <td>0.343275</td>\n      <td>0.175348</td>\n    </tr>\n  </tbody>\n</table>\n</div>"
     },
     "metadata": {},
     "execution_count": 7
    }
   ],
   "source": [
    "X['K-S'] = X.K - X.S\n",
    "\n",
    "cols = X.columns\n",
    "X = MinMaxScaler().fit_transform(X)\n",
    "X = pd.DataFrame(X, columns = cols )\n",
    "X.head()"
   ]
  },
  {
   "cell_type": "code",
   "execution_count": 8,
   "metadata": {},
   "outputs": [],
   "source": [
    "X_copy = X\n",
    "X_origin = X.iloc[:,0:4]"
   ]
  },
  {
   "cell_type": "code",
   "execution_count": 9,
   "metadata": {},
   "outputs": [
    {
     "output_type": "execute_result",
     "data": {
      "text/plain": [
       "(1680, 18)"
      ]
     },
     "metadata": {},
     "execution_count": 9
    }
   ],
   "source": [
    "X.shape"
   ]
  },
  {
   "cell_type": "markdown",
   "metadata": {},
   "source": [
    "## Feature Selection\n",
    "- backward wrapper with logistics model "
   ]
  },
  {
   "cell_type": "code",
   "execution_count": 10,
   "metadata": {},
   "outputs": [],
   "source": [
    "\n",
    "def backward_wrapper(x, y, method, estimator):\n",
    "    from sklearn.linear_model import LogisticRegression\n",
    "    from sklearn.tree import DecisionTreeClassifier\n",
    "    from sklearn.feature_selection import RFECV\n",
    "    \n",
    "    if estimator == 'logreg':\n",
    "        model = LogisticRegression(penalty='l2', class_weight='balanced')\n",
    "        #model = LogisticRegression()\n",
    "    elif estimator == 'dt':\n",
    "        model = DecisionTreeClassifier()\n",
    "\n",
    "    if method == 'rfecv':\n",
    "    \n",
    "        rfecv = RFECV(estimator=model, step=1, cv=2, verbose=2, n_jobs=1, scoring=\"accuracy\")\n",
    "        rfecv.fit(x, y)\n",
    "        \n",
    "        print(rfecv.ranking_)\n",
    "\n",
    "        tops = pd.DataFrame()\n",
    "        tops['var'] = x.columns;tops['rank'] = rfecv.ranking_\n",
    "        tops = tops[tops['rank'] == 1]\n",
    "        # #if estimator == 'dt':\n",
    "        # tops = tops.sort_values('rank').reset_index(inplace = False)\n",
    "        # tops = tops.iloc[:n,:]\n",
    "\n",
    "        \n",
    "        plt.figure()\n",
    "        plt.xlabel(\"Number of Feature Selected\")\n",
    "        plt.ylabel(\"Cross Validation Score\")\n",
    "        plt.plot(range(1, len(rfecv.grid_scores_)+1), rfecv.grid_scores_)\n",
    "        plt.show()\n",
    "    \n",
    "    elif method == 'rfe':\n",
    "        rfe = RFE(model)\n",
    "        rfe.fit(x,y)\n",
    "        tops = pd.DataFrame()\n",
    "        tops['var'] = x.columns;tops['rank'] = rfe.ranking_\n",
    "        tops = tops[tops['rank'] == 1]\n",
    "\n",
    "    return tops "
   ]
  },
  {
   "cell_type": "code",
   "execution_count": 11,
   "metadata": {},
   "outputs": [],
   "source": [
    "# using REF\n",
    "\n",
    "# model = LogisticRegression(max_iter=1700, penalty='none')\n",
    "# rfe = RFE(model, n_features_to_select=20)\n",
    "# rfe.fit(X,y)\n",
    "\n",
    "# var_selected = pd.DataFrame(sorted(zip(map(lambda x: round(x), rfe.ranking_), X.columns)),\n",
    "#                            columns = ['ranking','var'])\n",
    "# print(var_selected)"
   ]
  },
  {
   "cell_type": "code",
   "execution_count": 12,
   "metadata": {},
   "outputs": [
    {
     "output_type": "stream",
     "name": "stdout",
     "text": [
      "Fitting estimator with 18 features.\n",
      "Fitting estimator with 17 features.\n",
      "Fitting estimator with 16 features.\n",
      "Fitting estimator with 15 features.\n",
      "Fitting estimator with 14 features.\n",
      "Fitting estimator with 13 features.\n",
      "Fitting estimator with 12 features.\n",
      "Fitting estimator with 11 features.\n",
      "Fitting estimator with 10 features.\n",
      "Fitting estimator with 9 features.\n",
      "Fitting estimator with 8 features.\n",
      "Fitting estimator with 7 features.\n",
      "Fitting estimator with 6 features.\n",
      "Fitting estimator with 5 features.\n",
      "Fitting estimator with 4 features.\n",
      "Fitting estimator with 3 features.\n",
      "Fitting estimator with 2 features.\n",
      "Fitting estimator with 18 features.\n",
      "Fitting estimator with 17 features.\n",
      "Fitting estimator with 16 features.\n",
      "Fitting estimator with 15 features.\n",
      "Fitting estimator with 14 features.\n",
      "Fitting estimator with 13 features.\n",
      "Fitting estimator with 12 features.\n",
      "Fitting estimator with 11 features.\n",
      "Fitting estimator with 10 features.\n",
      "Fitting estimator with 9 features.\n",
      "Fitting estimator with 8 features.\n",
      "Fitting estimator with 7 features.\n",
      "Fitting estimator with 6 features.\n",
      "Fitting estimator with 5 features.\n",
      "Fitting estimator with 4 features.\n",
      "Fitting estimator with 3 features.\n",
      "Fitting estimator with 2 features.\n",
      "Fitting estimator with 18 features.\n",
      "Fitting estimator with 17 features.\n",
      "Fitting estimator with 16 features.\n",
      "Fitting estimator with 15 features.\n",
      "Fitting estimator with 14 features.\n",
      "Fitting estimator with 13 features.\n",
      "Fitting estimator with 12 features.\n",
      "Fitting estimator with 11 features.\n",
      "Fitting estimator with 10 features.\n",
      "Fitting estimator with 9 features.\n",
      "Fitting estimator with 8 features.\n",
      "Fitting estimator with 7 features.\n",
      "Fitting estimator with 6 features.\n",
      "[ 5 10  6  9  1  1  7 11  1  2  3 14  4  1  8 12 13  1]\n"
     ]
    },
    {
     "output_type": "display_data",
     "data": {
      "text/plain": "<Figure size 432x288 with 1 Axes>",
      "image/svg+xml": "<?xml version=\"1.0\" encoding=\"utf-8\" standalone=\"no\"?>\n<!DOCTYPE svg PUBLIC \"-//W3C//DTD SVG 1.1//EN\"\n  \"http://www.w3.org/Graphics/SVG/1.1/DTD/svg11.dtd\">\n<!-- Created with matplotlib (https://matplotlib.org/) -->\n<svg height=\"262.19625pt\" version=\"1.1\" viewBox=\"0 0 398.50625 262.19625\" width=\"398.50625pt\" xmlns=\"http://www.w3.org/2000/svg\" xmlns:xlink=\"http://www.w3.org/1999/xlink\">\n <metadata>\n  <rdf:RDF xmlns:cc=\"http://creativecommons.org/ns#\" xmlns:dc=\"http://purl.org/dc/elements/1.1/\" xmlns:rdf=\"http://www.w3.org/1999/02/22-rdf-syntax-ns#\">\n   <cc:Work>\n    <dc:type rdf:resource=\"http://purl.org/dc/dcmitype/StillImage\"/>\n    <dc:date>2021-04-08T11:18:27.051190</dc:date>\n    <dc:format>image/svg+xml</dc:format>\n    <dc:creator>\n     <cc:Agent>\n      <dc:title>Matplotlib v3.3.1, https://matplotlib.org/</dc:title>\n     </cc:Agent>\n    </dc:creator>\n   </cc:Work>\n  </rdf:RDF>\n </metadata>\n <defs>\n  <style type=\"text/css\">*{stroke-linecap:butt;stroke-linejoin:round;}</style>\n </defs>\n <g id=\"figure_1\">\n  <g id=\"patch_1\">\n   <path d=\"M 0 262.19625 \nL 398.50625 262.19625 \nL 398.50625 0 \nL 0 0 \nz\n\" style=\"fill:none;\"/>\n  </g>\n  <g id=\"axes_1\">\n   <g id=\"patch_2\">\n    <path d=\"M 56.50625 224.64 \nL 391.30625 224.64 \nL 391.30625 7.2 \nL 56.50625 7.2 \nz\n\" style=\"fill:#ffffff;\"/>\n   </g>\n   <g id=\"matplotlib.axis_1\">\n    <g id=\"xtick_1\">\n     <g id=\"line2d_1\">\n      <defs>\n       <path d=\"M 0 0 \nL 0 3.5 \n\" id=\"mcabf7e808d\" style=\"stroke:#000000;stroke-width:0.8;\"/>\n      </defs>\n      <g>\n       <use style=\"stroke:#000000;stroke-width:0.8;\" x=\"98.580047\" xlink:href=\"#mcabf7e808d\" y=\"224.64\"/>\n      </g>\n     </g>\n     <g id=\"text_1\">\n      <!-- 2.5 -->\n      <g transform=\"translate(90.628484 239.238438)scale(0.1 -0.1)\">\n       <defs>\n        <path d=\"M 19.1875 8.296875 \nL 53.609375 8.296875 \nL 53.609375 0 \nL 7.328125 0 \nL 7.328125 8.296875 \nQ 12.9375 14.109375 22.625 23.890625 \nQ 32.328125 33.6875 34.8125 36.53125 \nQ 39.546875 41.84375 41.421875 45.53125 \nQ 43.3125 49.21875 43.3125 52.78125 \nQ 43.3125 58.59375 39.234375 62.25 \nQ 35.15625 65.921875 28.609375 65.921875 \nQ 23.96875 65.921875 18.8125 64.3125 \nQ 13.671875 62.703125 7.8125 59.421875 \nL 7.8125 69.390625 \nQ 13.765625 71.78125 18.9375 73 \nQ 24.125 74.21875 28.421875 74.21875 \nQ 39.75 74.21875 46.484375 68.546875 \nQ 53.21875 62.890625 53.21875 53.421875 \nQ 53.21875 48.921875 51.53125 44.890625 \nQ 49.859375 40.875 45.40625 35.40625 \nQ 44.1875 33.984375 37.640625 27.21875 \nQ 31.109375 20.453125 19.1875 8.296875 \nz\n\" id=\"DejaVuSans-50\"/>\n        <path d=\"M 10.6875 12.40625 \nL 21 12.40625 \nL 21 0 \nL 10.6875 0 \nz\n\" id=\"DejaVuSans-46\"/>\n        <path d=\"M 10.796875 72.90625 \nL 49.515625 72.90625 \nL 49.515625 64.59375 \nL 19.828125 64.59375 \nL 19.828125 46.734375 \nQ 21.96875 47.46875 24.109375 47.828125 \nQ 26.265625 48.1875 28.421875 48.1875 \nQ 40.625 48.1875 47.75 41.5 \nQ 54.890625 34.8125 54.890625 23.390625 \nQ 54.890625 11.625 47.5625 5.09375 \nQ 40.234375 -1.421875 26.90625 -1.421875 \nQ 22.3125 -1.421875 17.546875 -0.640625 \nQ 12.796875 0.140625 7.71875 1.703125 \nL 7.71875 11.625 \nQ 12.109375 9.234375 16.796875 8.0625 \nQ 21.484375 6.890625 26.703125 6.890625 \nQ 35.15625 6.890625 40.078125 11.328125 \nQ 45.015625 15.765625 45.015625 23.390625 \nQ 45.015625 31 40.078125 35.4375 \nQ 35.15625 39.890625 26.703125 39.890625 \nQ 22.75 39.890625 18.8125 39.015625 \nQ 14.890625 38.140625 10.796875 36.28125 \nz\n\" id=\"DejaVuSans-53\"/>\n       </defs>\n       <use xlink:href=\"#DejaVuSans-50\"/>\n       <use x=\"63.623047\" xlink:href=\"#DejaVuSans-46\"/>\n       <use x=\"95.410156\" xlink:href=\"#DejaVuSans-53\"/>\n      </g>\n     </g>\n    </g>\n    <g id=\"xtick_2\">\n     <g id=\"line2d_2\">\n      <g>\n       <use style=\"stroke:#000000;stroke-width:0.8;\" x=\"143.339405\" xlink:href=\"#mcabf7e808d\" y=\"224.64\"/>\n      </g>\n     </g>\n     <g id=\"text_2\">\n      <!-- 5.0 -->\n      <g transform=\"translate(135.387843 239.238438)scale(0.1 -0.1)\">\n       <defs>\n        <path d=\"M 31.78125 66.40625 \nQ 24.171875 66.40625 20.328125 58.90625 \nQ 16.5 51.421875 16.5 36.375 \nQ 16.5 21.390625 20.328125 13.890625 \nQ 24.171875 6.390625 31.78125 6.390625 \nQ 39.453125 6.390625 43.28125 13.890625 \nQ 47.125 21.390625 47.125 36.375 \nQ 47.125 51.421875 43.28125 58.90625 \nQ 39.453125 66.40625 31.78125 66.40625 \nz\nM 31.78125 74.21875 \nQ 44.046875 74.21875 50.515625 64.515625 \nQ 56.984375 54.828125 56.984375 36.375 \nQ 56.984375 17.96875 50.515625 8.265625 \nQ 44.046875 -1.421875 31.78125 -1.421875 \nQ 19.53125 -1.421875 13.0625 8.265625 \nQ 6.59375 17.96875 6.59375 36.375 \nQ 6.59375 54.828125 13.0625 64.515625 \nQ 19.53125 74.21875 31.78125 74.21875 \nz\n\" id=\"DejaVuSans-48\"/>\n       </defs>\n       <use xlink:href=\"#DejaVuSans-53\"/>\n       <use x=\"63.623047\" xlink:href=\"#DejaVuSans-46\"/>\n       <use x=\"95.410156\" xlink:href=\"#DejaVuSans-48\"/>\n      </g>\n     </g>\n    </g>\n    <g id=\"xtick_3\">\n     <g id=\"line2d_3\">\n      <g>\n       <use style=\"stroke:#000000;stroke-width:0.8;\" x=\"188.098763\" xlink:href=\"#mcabf7e808d\" y=\"224.64\"/>\n      </g>\n     </g>\n     <g id=\"text_3\">\n      <!-- 7.5 -->\n      <g transform=\"translate(180.147201 239.238438)scale(0.1 -0.1)\">\n       <defs>\n        <path d=\"M 8.203125 72.90625 \nL 55.078125 72.90625 \nL 55.078125 68.703125 \nL 28.609375 0 \nL 18.3125 0 \nL 43.21875 64.59375 \nL 8.203125 64.59375 \nz\n\" id=\"DejaVuSans-55\"/>\n       </defs>\n       <use xlink:href=\"#DejaVuSans-55\"/>\n       <use x=\"63.623047\" xlink:href=\"#DejaVuSans-46\"/>\n       <use x=\"95.410156\" xlink:href=\"#DejaVuSans-53\"/>\n      </g>\n     </g>\n    </g>\n    <g id=\"xtick_4\">\n     <g id=\"line2d_4\">\n      <g>\n       <use style=\"stroke:#000000;stroke-width:0.8;\" x=\"232.858122\" xlink:href=\"#mcabf7e808d\" y=\"224.64\"/>\n      </g>\n     </g>\n     <g id=\"text_4\">\n      <!-- 10.0 -->\n      <g transform=\"translate(221.725309 239.238438)scale(0.1 -0.1)\">\n       <defs>\n        <path d=\"M 12.40625 8.296875 \nL 28.515625 8.296875 \nL 28.515625 63.921875 \nL 10.984375 60.40625 \nL 10.984375 69.390625 \nL 28.421875 72.90625 \nL 38.28125 72.90625 \nL 38.28125 8.296875 \nL 54.390625 8.296875 \nL 54.390625 0 \nL 12.40625 0 \nz\n\" id=\"DejaVuSans-49\"/>\n       </defs>\n       <use xlink:href=\"#DejaVuSans-49\"/>\n       <use x=\"63.623047\" xlink:href=\"#DejaVuSans-48\"/>\n       <use x=\"127.246094\" xlink:href=\"#DejaVuSans-46\"/>\n       <use x=\"159.033203\" xlink:href=\"#DejaVuSans-48\"/>\n      </g>\n     </g>\n    </g>\n    <g id=\"xtick_5\">\n     <g id=\"line2d_5\">\n      <g>\n       <use style=\"stroke:#000000;stroke-width:0.8;\" x=\"277.61748\" xlink:href=\"#mcabf7e808d\" y=\"224.64\"/>\n      </g>\n     </g>\n     <g id=\"text_5\">\n      <!-- 12.5 -->\n      <g transform=\"translate(266.484667 239.238438)scale(0.1 -0.1)\">\n       <use xlink:href=\"#DejaVuSans-49\"/>\n       <use x=\"63.623047\" xlink:href=\"#DejaVuSans-50\"/>\n       <use x=\"127.246094\" xlink:href=\"#DejaVuSans-46\"/>\n       <use x=\"159.033203\" xlink:href=\"#DejaVuSans-53\"/>\n      </g>\n     </g>\n    </g>\n    <g id=\"xtick_6\">\n     <g id=\"line2d_6\">\n      <g>\n       <use style=\"stroke:#000000;stroke-width:0.8;\" x=\"322.376838\" xlink:href=\"#mcabf7e808d\" y=\"224.64\"/>\n      </g>\n     </g>\n     <g id=\"text_6\">\n      <!-- 15.0 -->\n      <g transform=\"translate(311.244026 239.238438)scale(0.1 -0.1)\">\n       <use xlink:href=\"#DejaVuSans-49\"/>\n       <use x=\"63.623047\" xlink:href=\"#DejaVuSans-53\"/>\n       <use x=\"127.246094\" xlink:href=\"#DejaVuSans-46\"/>\n       <use x=\"159.033203\" xlink:href=\"#DejaVuSans-48\"/>\n      </g>\n     </g>\n    </g>\n    <g id=\"xtick_7\">\n     <g id=\"line2d_7\">\n      <g>\n       <use style=\"stroke:#000000;stroke-width:0.8;\" x=\"367.136197\" xlink:href=\"#mcabf7e808d\" y=\"224.64\"/>\n      </g>\n     </g>\n     <g id=\"text_7\">\n      <!-- 17.5 -->\n      <g transform=\"translate(356.003384 239.238438)scale(0.1 -0.1)\">\n       <use xlink:href=\"#DejaVuSans-49\"/>\n       <use x=\"63.623047\" xlink:href=\"#DejaVuSans-55\"/>\n       <use x=\"127.246094\" xlink:href=\"#DejaVuSans-46\"/>\n       <use x=\"159.033203\" xlink:href=\"#DejaVuSans-53\"/>\n      </g>\n     </g>\n    </g>\n    <g id=\"text_8\">\n     <!-- Number of Feature Selected -->\n     <g transform=\"translate(153.667188 252.916563)scale(0.1 -0.1)\">\n      <defs>\n       <path d=\"M 9.8125 72.90625 \nL 23.09375 72.90625 \nL 55.421875 11.921875 \nL 55.421875 72.90625 \nL 64.984375 72.90625 \nL 64.984375 0 \nL 51.703125 0 \nL 19.390625 60.984375 \nL 19.390625 0 \nL 9.8125 0 \nz\n\" id=\"DejaVuSans-78\"/>\n       <path d=\"M 8.5 21.578125 \nL 8.5 54.6875 \nL 17.484375 54.6875 \nL 17.484375 21.921875 \nQ 17.484375 14.15625 20.5 10.265625 \nQ 23.53125 6.390625 29.59375 6.390625 \nQ 36.859375 6.390625 41.078125 11.03125 \nQ 45.3125 15.671875 45.3125 23.6875 \nL 45.3125 54.6875 \nL 54.296875 54.6875 \nL 54.296875 0 \nL 45.3125 0 \nL 45.3125 8.40625 \nQ 42.046875 3.421875 37.71875 1 \nQ 33.40625 -1.421875 27.6875 -1.421875 \nQ 18.265625 -1.421875 13.375 4.4375 \nQ 8.5 10.296875 8.5 21.578125 \nz\nM 31.109375 56 \nz\n\" id=\"DejaVuSans-117\"/>\n       <path d=\"M 52 44.1875 \nQ 55.375 50.25 60.0625 53.125 \nQ 64.75 56 71.09375 56 \nQ 79.640625 56 84.28125 50.015625 \nQ 88.921875 44.046875 88.921875 33.015625 \nL 88.921875 0 \nL 79.890625 0 \nL 79.890625 32.71875 \nQ 79.890625 40.578125 77.09375 44.375 \nQ 74.3125 48.1875 68.609375 48.1875 \nQ 61.625 48.1875 57.5625 43.546875 \nQ 53.515625 38.921875 53.515625 30.90625 \nL 53.515625 0 \nL 44.484375 0 \nL 44.484375 32.71875 \nQ 44.484375 40.625 41.703125 44.40625 \nQ 38.921875 48.1875 33.109375 48.1875 \nQ 26.21875 48.1875 22.15625 43.53125 \nQ 18.109375 38.875 18.109375 30.90625 \nL 18.109375 0 \nL 9.078125 0 \nL 9.078125 54.6875 \nL 18.109375 54.6875 \nL 18.109375 46.1875 \nQ 21.1875 51.21875 25.484375 53.609375 \nQ 29.78125 56 35.6875 56 \nQ 41.65625 56 45.828125 52.96875 \nQ 50 49.953125 52 44.1875 \nz\n\" id=\"DejaVuSans-109\"/>\n       <path d=\"M 48.6875 27.296875 \nQ 48.6875 37.203125 44.609375 42.84375 \nQ 40.53125 48.484375 33.40625 48.484375 \nQ 26.265625 48.484375 22.1875 42.84375 \nQ 18.109375 37.203125 18.109375 27.296875 \nQ 18.109375 17.390625 22.1875 11.75 \nQ 26.265625 6.109375 33.40625 6.109375 \nQ 40.53125 6.109375 44.609375 11.75 \nQ 48.6875 17.390625 48.6875 27.296875 \nz\nM 18.109375 46.390625 \nQ 20.953125 51.265625 25.265625 53.625 \nQ 29.59375 56 35.59375 56 \nQ 45.5625 56 51.78125 48.09375 \nQ 58.015625 40.1875 58.015625 27.296875 \nQ 58.015625 14.40625 51.78125 6.484375 \nQ 45.5625 -1.421875 35.59375 -1.421875 \nQ 29.59375 -1.421875 25.265625 0.953125 \nQ 20.953125 3.328125 18.109375 8.203125 \nL 18.109375 0 \nL 9.078125 0 \nL 9.078125 75.984375 \nL 18.109375 75.984375 \nz\n\" id=\"DejaVuSans-98\"/>\n       <path d=\"M 56.203125 29.59375 \nL 56.203125 25.203125 \nL 14.890625 25.203125 \nQ 15.484375 15.921875 20.484375 11.0625 \nQ 25.484375 6.203125 34.421875 6.203125 \nQ 39.59375 6.203125 44.453125 7.46875 \nQ 49.3125 8.734375 54.109375 11.28125 \nL 54.109375 2.78125 \nQ 49.265625 0.734375 44.1875 -0.34375 \nQ 39.109375 -1.421875 33.890625 -1.421875 \nQ 20.796875 -1.421875 13.15625 6.1875 \nQ 5.515625 13.8125 5.515625 26.8125 \nQ 5.515625 40.234375 12.765625 48.109375 \nQ 20.015625 56 32.328125 56 \nQ 43.359375 56 49.78125 48.890625 \nQ 56.203125 41.796875 56.203125 29.59375 \nz\nM 47.21875 32.234375 \nQ 47.125 39.59375 43.09375 43.984375 \nQ 39.0625 48.390625 32.421875 48.390625 \nQ 24.90625 48.390625 20.390625 44.140625 \nQ 15.875 39.890625 15.1875 32.171875 \nz\n\" id=\"DejaVuSans-101\"/>\n       <path d=\"M 41.109375 46.296875 \nQ 39.59375 47.171875 37.8125 47.578125 \nQ 36.03125 48 33.890625 48 \nQ 26.265625 48 22.1875 43.046875 \nQ 18.109375 38.09375 18.109375 28.8125 \nL 18.109375 0 \nL 9.078125 0 \nL 9.078125 54.6875 \nL 18.109375 54.6875 \nL 18.109375 46.1875 \nQ 20.953125 51.171875 25.484375 53.578125 \nQ 30.03125 56 36.53125 56 \nQ 37.453125 56 38.578125 55.875 \nQ 39.703125 55.765625 41.0625 55.515625 \nz\n\" id=\"DejaVuSans-114\"/>\n       <path id=\"DejaVuSans-32\"/>\n       <path d=\"M 30.609375 48.390625 \nQ 23.390625 48.390625 19.1875 42.75 \nQ 14.984375 37.109375 14.984375 27.296875 \nQ 14.984375 17.484375 19.15625 11.84375 \nQ 23.34375 6.203125 30.609375 6.203125 \nQ 37.796875 6.203125 41.984375 11.859375 \nQ 46.1875 17.53125 46.1875 27.296875 \nQ 46.1875 37.015625 41.984375 42.703125 \nQ 37.796875 48.390625 30.609375 48.390625 \nz\nM 30.609375 56 \nQ 42.328125 56 49.015625 48.375 \nQ 55.71875 40.765625 55.71875 27.296875 \nQ 55.71875 13.875 49.015625 6.21875 \nQ 42.328125 -1.421875 30.609375 -1.421875 \nQ 18.84375 -1.421875 12.171875 6.21875 \nQ 5.515625 13.875 5.515625 27.296875 \nQ 5.515625 40.765625 12.171875 48.375 \nQ 18.84375 56 30.609375 56 \nz\n\" id=\"DejaVuSans-111\"/>\n       <path d=\"M 37.109375 75.984375 \nL 37.109375 68.5 \nL 28.515625 68.5 \nQ 23.6875 68.5 21.796875 66.546875 \nQ 19.921875 64.59375 19.921875 59.515625 \nL 19.921875 54.6875 \nL 34.71875 54.6875 \nL 34.71875 47.703125 \nL 19.921875 47.703125 \nL 19.921875 0 \nL 10.890625 0 \nL 10.890625 47.703125 \nL 2.296875 47.703125 \nL 2.296875 54.6875 \nL 10.890625 54.6875 \nL 10.890625 58.5 \nQ 10.890625 67.625 15.140625 71.796875 \nQ 19.390625 75.984375 28.609375 75.984375 \nz\n\" id=\"DejaVuSans-102\"/>\n       <path d=\"M 9.8125 72.90625 \nL 51.703125 72.90625 \nL 51.703125 64.59375 \nL 19.671875 64.59375 \nL 19.671875 43.109375 \nL 48.578125 43.109375 \nL 48.578125 34.8125 \nL 19.671875 34.8125 \nL 19.671875 0 \nL 9.8125 0 \nz\n\" id=\"DejaVuSans-70\"/>\n       <path d=\"M 34.28125 27.484375 \nQ 23.390625 27.484375 19.1875 25 \nQ 14.984375 22.515625 14.984375 16.5 \nQ 14.984375 11.71875 18.140625 8.90625 \nQ 21.296875 6.109375 26.703125 6.109375 \nQ 34.1875 6.109375 38.703125 11.40625 \nQ 43.21875 16.703125 43.21875 25.484375 \nL 43.21875 27.484375 \nz\nM 52.203125 31.203125 \nL 52.203125 0 \nL 43.21875 0 \nL 43.21875 8.296875 \nQ 40.140625 3.328125 35.546875 0.953125 \nQ 30.953125 -1.421875 24.3125 -1.421875 \nQ 15.921875 -1.421875 10.953125 3.296875 \nQ 6 8.015625 6 15.921875 \nQ 6 25.140625 12.171875 29.828125 \nQ 18.359375 34.515625 30.609375 34.515625 \nL 43.21875 34.515625 \nL 43.21875 35.40625 \nQ 43.21875 41.609375 39.140625 45 \nQ 35.0625 48.390625 27.6875 48.390625 \nQ 23 48.390625 18.546875 47.265625 \nQ 14.109375 46.140625 10.015625 43.890625 \nL 10.015625 52.203125 \nQ 14.9375 54.109375 19.578125 55.046875 \nQ 24.21875 56 28.609375 56 \nQ 40.484375 56 46.34375 49.84375 \nQ 52.203125 43.703125 52.203125 31.203125 \nz\n\" id=\"DejaVuSans-97\"/>\n       <path d=\"M 18.3125 70.21875 \nL 18.3125 54.6875 \nL 36.8125 54.6875 \nL 36.8125 47.703125 \nL 18.3125 47.703125 \nL 18.3125 18.015625 \nQ 18.3125 11.328125 20.140625 9.421875 \nQ 21.96875 7.515625 27.59375 7.515625 \nL 36.8125 7.515625 \nL 36.8125 0 \nL 27.59375 0 \nQ 17.1875 0 13.234375 3.875 \nQ 9.28125 7.765625 9.28125 18.015625 \nL 9.28125 47.703125 \nL 2.6875 47.703125 \nL 2.6875 54.6875 \nL 9.28125 54.6875 \nL 9.28125 70.21875 \nz\n\" id=\"DejaVuSans-116\"/>\n       <path d=\"M 53.515625 70.515625 \nL 53.515625 60.890625 \nQ 47.90625 63.578125 42.921875 64.890625 \nQ 37.9375 66.21875 33.296875 66.21875 \nQ 25.25 66.21875 20.875 63.09375 \nQ 16.5 59.96875 16.5 54.203125 \nQ 16.5 49.359375 19.40625 46.890625 \nQ 22.3125 44.4375 30.421875 42.921875 \nL 36.375 41.703125 \nQ 47.40625 39.59375 52.65625 34.296875 \nQ 57.90625 29 57.90625 20.125 \nQ 57.90625 9.515625 50.796875 4.046875 \nQ 43.703125 -1.421875 29.984375 -1.421875 \nQ 24.8125 -1.421875 18.96875 -0.25 \nQ 13.140625 0.921875 6.890625 3.21875 \nL 6.890625 13.375 \nQ 12.890625 10.015625 18.65625 8.296875 \nQ 24.421875 6.59375 29.984375 6.59375 \nQ 38.421875 6.59375 43.015625 9.90625 \nQ 47.609375 13.234375 47.609375 19.390625 \nQ 47.609375 24.75 44.3125 27.78125 \nQ 41.015625 30.8125 33.5 32.328125 \nL 27.484375 33.5 \nQ 16.453125 35.6875 11.515625 40.375 \nQ 6.59375 45.0625 6.59375 53.421875 \nQ 6.59375 63.09375 13.40625 68.65625 \nQ 20.21875 74.21875 32.171875 74.21875 \nQ 37.3125 74.21875 42.625 73.28125 \nQ 47.953125 72.359375 53.515625 70.515625 \nz\n\" id=\"DejaVuSans-83\"/>\n       <path d=\"M 9.421875 75.984375 \nL 18.40625 75.984375 \nL 18.40625 0 \nL 9.421875 0 \nz\n\" id=\"DejaVuSans-108\"/>\n       <path d=\"M 48.78125 52.59375 \nL 48.78125 44.1875 \nQ 44.96875 46.296875 41.140625 47.34375 \nQ 37.3125 48.390625 33.40625 48.390625 \nQ 24.65625 48.390625 19.8125 42.84375 \nQ 14.984375 37.3125 14.984375 27.296875 \nQ 14.984375 17.28125 19.8125 11.734375 \nQ 24.65625 6.203125 33.40625 6.203125 \nQ 37.3125 6.203125 41.140625 7.25 \nQ 44.96875 8.296875 48.78125 10.40625 \nL 48.78125 2.09375 \nQ 45.015625 0.34375 40.984375 -0.53125 \nQ 36.96875 -1.421875 32.421875 -1.421875 \nQ 20.0625 -1.421875 12.78125 6.34375 \nQ 5.515625 14.109375 5.515625 27.296875 \nQ 5.515625 40.671875 12.859375 48.328125 \nQ 20.21875 56 33.015625 56 \nQ 37.15625 56 41.109375 55.140625 \nQ 45.0625 54.296875 48.78125 52.59375 \nz\n\" id=\"DejaVuSans-99\"/>\n       <path d=\"M 45.40625 46.390625 \nL 45.40625 75.984375 \nL 54.390625 75.984375 \nL 54.390625 0 \nL 45.40625 0 \nL 45.40625 8.203125 \nQ 42.578125 3.328125 38.25 0.953125 \nQ 33.9375 -1.421875 27.875 -1.421875 \nQ 17.96875 -1.421875 11.734375 6.484375 \nQ 5.515625 14.40625 5.515625 27.296875 \nQ 5.515625 40.1875 11.734375 48.09375 \nQ 17.96875 56 27.875 56 \nQ 33.9375 56 38.25 53.625 \nQ 42.578125 51.265625 45.40625 46.390625 \nz\nM 14.796875 27.296875 \nQ 14.796875 17.390625 18.875 11.75 \nQ 22.953125 6.109375 30.078125 6.109375 \nQ 37.203125 6.109375 41.296875 11.75 \nQ 45.40625 17.390625 45.40625 27.296875 \nQ 45.40625 37.203125 41.296875 42.84375 \nQ 37.203125 48.484375 30.078125 48.484375 \nQ 22.953125 48.484375 18.875 42.84375 \nQ 14.796875 37.203125 14.796875 27.296875 \nz\n\" id=\"DejaVuSans-100\"/>\n      </defs>\n      <use xlink:href=\"#DejaVuSans-78\"/>\n      <use x=\"74.804688\" xlink:href=\"#DejaVuSans-117\"/>\n      <use x=\"138.183594\" xlink:href=\"#DejaVuSans-109\"/>\n      <use x=\"235.595703\" xlink:href=\"#DejaVuSans-98\"/>\n      <use x=\"299.072266\" xlink:href=\"#DejaVuSans-101\"/>\n      <use x=\"360.595703\" xlink:href=\"#DejaVuSans-114\"/>\n      <use x=\"401.708984\" xlink:href=\"#DejaVuSans-32\"/>\n      <use x=\"433.496094\" xlink:href=\"#DejaVuSans-111\"/>\n      <use x=\"494.677734\" xlink:href=\"#DejaVuSans-102\"/>\n      <use x=\"529.882812\" xlink:href=\"#DejaVuSans-32\"/>\n      <use x=\"561.669922\" xlink:href=\"#DejaVuSans-70\"/>\n      <use x=\"613.689453\" xlink:href=\"#DejaVuSans-101\"/>\n      <use x=\"675.212891\" xlink:href=\"#DejaVuSans-97\"/>\n      <use x=\"736.492188\" xlink:href=\"#DejaVuSans-116\"/>\n      <use x=\"775.701172\" xlink:href=\"#DejaVuSans-117\"/>\n      <use x=\"839.080078\" xlink:href=\"#DejaVuSans-114\"/>\n      <use x=\"877.943359\" xlink:href=\"#DejaVuSans-101\"/>\n      <use x=\"939.466797\" xlink:href=\"#DejaVuSans-32\"/>\n      <use x=\"971.253906\" xlink:href=\"#DejaVuSans-83\"/>\n      <use x=\"1034.730469\" xlink:href=\"#DejaVuSans-101\"/>\n      <use x=\"1096.253906\" xlink:href=\"#DejaVuSans-108\"/>\n      <use x=\"1124.037109\" xlink:href=\"#DejaVuSans-101\"/>\n      <use x=\"1185.560547\" xlink:href=\"#DejaVuSans-99\"/>\n      <use x=\"1240.541016\" xlink:href=\"#DejaVuSans-116\"/>\n      <use x=\"1279.75\" xlink:href=\"#DejaVuSans-101\"/>\n      <use x=\"1341.273438\" xlink:href=\"#DejaVuSans-100\"/>\n     </g>\n    </g>\n   </g>\n   <g id=\"matplotlib.axis_2\">\n    <g id=\"ytick_1\">\n     <g id=\"line2d_8\">\n      <defs>\n       <path d=\"M 0 0 \nL -3.5 0 \n\" id=\"mebd3954d7c\" style=\"stroke:#000000;stroke-width:0.8;\"/>\n      </defs>\n      <g>\n       <use style=\"stroke:#000000;stroke-width:0.8;\" x=\"56.50625\" xlink:href=\"#mebd3954d7c\" y=\"220.723842\"/>\n      </g>\n     </g>\n     <g id=\"text_9\">\n      <!-- 0.880 -->\n      <g transform=\"translate(20.878125 224.523061)scale(0.1 -0.1)\">\n       <defs>\n        <path d=\"M 31.78125 34.625 \nQ 24.75 34.625 20.71875 30.859375 \nQ 16.703125 27.09375 16.703125 20.515625 \nQ 16.703125 13.921875 20.71875 10.15625 \nQ 24.75 6.390625 31.78125 6.390625 \nQ 38.8125 6.390625 42.859375 10.171875 \nQ 46.921875 13.96875 46.921875 20.515625 \nQ 46.921875 27.09375 42.890625 30.859375 \nQ 38.875 34.625 31.78125 34.625 \nz\nM 21.921875 38.8125 \nQ 15.578125 40.375 12.03125 44.71875 \nQ 8.5 49.078125 8.5 55.328125 \nQ 8.5 64.0625 14.71875 69.140625 \nQ 20.953125 74.21875 31.78125 74.21875 \nQ 42.671875 74.21875 48.875 69.140625 \nQ 55.078125 64.0625 55.078125 55.328125 \nQ 55.078125 49.078125 51.53125 44.71875 \nQ 48 40.375 41.703125 38.8125 \nQ 48.828125 37.15625 52.796875 32.3125 \nQ 56.78125 27.484375 56.78125 20.515625 \nQ 56.78125 9.90625 50.3125 4.234375 \nQ 43.84375 -1.421875 31.78125 -1.421875 \nQ 19.734375 -1.421875 13.25 4.234375 \nQ 6.78125 9.90625 6.78125 20.515625 \nQ 6.78125 27.484375 10.78125 32.3125 \nQ 14.796875 37.15625 21.921875 38.8125 \nz\nM 18.3125 54.390625 \nQ 18.3125 48.734375 21.84375 45.5625 \nQ 25.390625 42.390625 31.78125 42.390625 \nQ 38.140625 42.390625 41.71875 45.5625 \nQ 45.3125 48.734375 45.3125 54.390625 \nQ 45.3125 60.0625 41.71875 63.234375 \nQ 38.140625 66.40625 31.78125 66.40625 \nQ 25.390625 66.40625 21.84375 63.234375 \nQ 18.3125 60.0625 18.3125 54.390625 \nz\n\" id=\"DejaVuSans-56\"/>\n       </defs>\n       <use xlink:href=\"#DejaVuSans-48\"/>\n       <use x=\"63.623047\" xlink:href=\"#DejaVuSans-46\"/>\n       <use x=\"95.410156\" xlink:href=\"#DejaVuSans-56\"/>\n       <use x=\"159.033203\" xlink:href=\"#DejaVuSans-56\"/>\n       <use x=\"222.65625\" xlink:href=\"#DejaVuSans-48\"/>\n      </g>\n     </g>\n    </g>\n    <g id=\"ytick_2\">\n     <g id=\"line2d_9\">\n      <g>\n       <use style=\"stroke:#000000;stroke-width:0.8;\" x=\"56.50625\" xlink:href=\"#mebd3954d7c\" y=\"189.39458\"/>\n      </g>\n     </g>\n     <g id=\"text_10\">\n      <!-- 0.885 -->\n      <g transform=\"translate(20.878125 193.193799)scale(0.1 -0.1)\">\n       <use xlink:href=\"#DejaVuSans-48\"/>\n       <use x=\"63.623047\" xlink:href=\"#DejaVuSans-46\"/>\n       <use x=\"95.410156\" xlink:href=\"#DejaVuSans-56\"/>\n       <use x=\"159.033203\" xlink:href=\"#DejaVuSans-56\"/>\n       <use x=\"222.65625\" xlink:href=\"#DejaVuSans-53\"/>\n      </g>\n     </g>\n    </g>\n    <g id=\"ytick_3\">\n     <g id=\"line2d_10\">\n      <g>\n       <use style=\"stroke:#000000;stroke-width:0.8;\" x=\"56.50625\" xlink:href=\"#mebd3954d7c\" y=\"158.065317\"/>\n      </g>\n     </g>\n     <g id=\"text_11\">\n      <!-- 0.890 -->\n      <g transform=\"translate(20.878125 161.864536)scale(0.1 -0.1)\">\n       <defs>\n        <path d=\"M 10.984375 1.515625 \nL 10.984375 10.5 \nQ 14.703125 8.734375 18.5 7.8125 \nQ 22.3125 6.890625 25.984375 6.890625 \nQ 35.75 6.890625 40.890625 13.453125 \nQ 46.046875 20.015625 46.78125 33.40625 \nQ 43.953125 29.203125 39.59375 26.953125 \nQ 35.25 24.703125 29.984375 24.703125 \nQ 19.046875 24.703125 12.671875 31.3125 \nQ 6.296875 37.9375 6.296875 49.421875 \nQ 6.296875 60.640625 12.9375 67.421875 \nQ 19.578125 74.21875 30.609375 74.21875 \nQ 43.265625 74.21875 49.921875 64.515625 \nQ 56.59375 54.828125 56.59375 36.375 \nQ 56.59375 19.140625 48.40625 8.859375 \nQ 40.234375 -1.421875 26.421875 -1.421875 \nQ 22.703125 -1.421875 18.890625 -0.6875 \nQ 15.09375 0.046875 10.984375 1.515625 \nz\nM 30.609375 32.421875 \nQ 37.25 32.421875 41.125 36.953125 \nQ 45.015625 41.5 45.015625 49.421875 \nQ 45.015625 57.28125 41.125 61.84375 \nQ 37.25 66.40625 30.609375 66.40625 \nQ 23.96875 66.40625 20.09375 61.84375 \nQ 16.21875 57.28125 16.21875 49.421875 \nQ 16.21875 41.5 20.09375 36.953125 \nQ 23.96875 32.421875 30.609375 32.421875 \nz\n\" id=\"DejaVuSans-57\"/>\n       </defs>\n       <use xlink:href=\"#DejaVuSans-48\"/>\n       <use x=\"63.623047\" xlink:href=\"#DejaVuSans-46\"/>\n       <use x=\"95.410156\" xlink:href=\"#DejaVuSans-56\"/>\n       <use x=\"159.033203\" xlink:href=\"#DejaVuSans-57\"/>\n       <use x=\"222.65625\" xlink:href=\"#DejaVuSans-48\"/>\n      </g>\n     </g>\n    </g>\n    <g id=\"ytick_4\">\n     <g id=\"line2d_11\">\n      <g>\n       <use style=\"stroke:#000000;stroke-width:0.8;\" x=\"56.50625\" xlink:href=\"#mebd3954d7c\" y=\"126.736055\"/>\n      </g>\n     </g>\n     <g id=\"text_12\">\n      <!-- 0.895 -->\n      <g transform=\"translate(20.878125 130.535274)scale(0.1 -0.1)\">\n       <use xlink:href=\"#DejaVuSans-48\"/>\n       <use x=\"63.623047\" xlink:href=\"#DejaVuSans-46\"/>\n       <use x=\"95.410156\" xlink:href=\"#DejaVuSans-56\"/>\n       <use x=\"159.033203\" xlink:href=\"#DejaVuSans-57\"/>\n       <use x=\"222.65625\" xlink:href=\"#DejaVuSans-53\"/>\n      </g>\n     </g>\n    </g>\n    <g id=\"ytick_5\">\n     <g id=\"line2d_12\">\n      <g>\n       <use style=\"stroke:#000000;stroke-width:0.8;\" x=\"56.50625\" xlink:href=\"#mebd3954d7c\" y=\"95.406792\"/>\n      </g>\n     </g>\n     <g id=\"text_13\">\n      <!-- 0.900 -->\n      <g transform=\"translate(20.878125 99.206011)scale(0.1 -0.1)\">\n       <use xlink:href=\"#DejaVuSans-48\"/>\n       <use x=\"63.623047\" xlink:href=\"#DejaVuSans-46\"/>\n       <use x=\"95.410156\" xlink:href=\"#DejaVuSans-57\"/>\n       <use x=\"159.033203\" xlink:href=\"#DejaVuSans-48\"/>\n       <use x=\"222.65625\" xlink:href=\"#DejaVuSans-48\"/>\n      </g>\n     </g>\n    </g>\n    <g id=\"ytick_6\">\n     <g id=\"line2d_13\">\n      <g>\n       <use style=\"stroke:#000000;stroke-width:0.8;\" x=\"56.50625\" xlink:href=\"#mebd3954d7c\" y=\"64.07753\"/>\n      </g>\n     </g>\n     <g id=\"text_14\">\n      <!-- 0.905 -->\n      <g transform=\"translate(20.878125 67.876749)scale(0.1 -0.1)\">\n       <use xlink:href=\"#DejaVuSans-48\"/>\n       <use x=\"63.623047\" xlink:href=\"#DejaVuSans-46\"/>\n       <use x=\"95.410156\" xlink:href=\"#DejaVuSans-57\"/>\n       <use x=\"159.033203\" xlink:href=\"#DejaVuSans-48\"/>\n       <use x=\"222.65625\" xlink:href=\"#DejaVuSans-53\"/>\n      </g>\n     </g>\n    </g>\n    <g id=\"ytick_7\">\n     <g id=\"line2d_14\">\n      <g>\n       <use style=\"stroke:#000000;stroke-width:0.8;\" x=\"56.50625\" xlink:href=\"#mebd3954d7c\" y=\"32.748268\"/>\n      </g>\n     </g>\n     <g id=\"text_15\">\n      <!-- 0.910 -->\n      <g transform=\"translate(20.878125 36.547486)scale(0.1 -0.1)\">\n       <use xlink:href=\"#DejaVuSans-48\"/>\n       <use x=\"63.623047\" xlink:href=\"#DejaVuSans-46\"/>\n       <use x=\"95.410156\" xlink:href=\"#DejaVuSans-57\"/>\n       <use x=\"159.033203\" xlink:href=\"#DejaVuSans-49\"/>\n       <use x=\"222.65625\" xlink:href=\"#DejaVuSans-48\"/>\n      </g>\n     </g>\n    </g>\n    <g id=\"text_16\">\n     <!-- Cross Validation Score -->\n     <g transform=\"translate(14.798438 171.494219)rotate(-90)scale(0.1 -0.1)\">\n      <defs>\n       <path d=\"M 64.40625 67.28125 \nL 64.40625 56.890625 \nQ 59.421875 61.53125 53.78125 63.8125 \nQ 48.140625 66.109375 41.796875 66.109375 \nQ 29.296875 66.109375 22.65625 58.46875 \nQ 16.015625 50.828125 16.015625 36.375 \nQ 16.015625 21.96875 22.65625 14.328125 \nQ 29.296875 6.6875 41.796875 6.6875 \nQ 48.140625 6.6875 53.78125 8.984375 \nQ 59.421875 11.28125 64.40625 15.921875 \nL 64.40625 5.609375 \nQ 59.234375 2.09375 53.4375 0.328125 \nQ 47.65625 -1.421875 41.21875 -1.421875 \nQ 24.65625 -1.421875 15.125 8.703125 \nQ 5.609375 18.84375 5.609375 36.375 \nQ 5.609375 53.953125 15.125 64.078125 \nQ 24.65625 74.21875 41.21875 74.21875 \nQ 47.75 74.21875 53.53125 72.484375 \nQ 59.328125 70.75 64.40625 67.28125 \nz\n\" id=\"DejaVuSans-67\"/>\n       <path d=\"M 44.28125 53.078125 \nL 44.28125 44.578125 \nQ 40.484375 46.53125 36.375 47.5 \nQ 32.28125 48.484375 27.875 48.484375 \nQ 21.1875 48.484375 17.84375 46.4375 \nQ 14.5 44.390625 14.5 40.28125 \nQ 14.5 37.15625 16.890625 35.375 \nQ 19.28125 33.59375 26.515625 31.984375 \nL 29.59375 31.296875 \nQ 39.15625 29.25 43.1875 25.515625 \nQ 47.21875 21.78125 47.21875 15.09375 \nQ 47.21875 7.46875 41.1875 3.015625 \nQ 35.15625 -1.421875 24.609375 -1.421875 \nQ 20.21875 -1.421875 15.453125 -0.5625 \nQ 10.6875 0.296875 5.421875 2 \nL 5.421875 11.28125 \nQ 10.40625 8.6875 15.234375 7.390625 \nQ 20.0625 6.109375 24.8125 6.109375 \nQ 31.15625 6.109375 34.5625 8.28125 \nQ 37.984375 10.453125 37.984375 14.40625 \nQ 37.984375 18.0625 35.515625 20.015625 \nQ 33.0625 21.96875 24.703125 23.78125 \nL 21.578125 24.515625 \nQ 13.234375 26.265625 9.515625 29.90625 \nQ 5.8125 33.546875 5.8125 39.890625 \nQ 5.8125 47.609375 11.28125 51.796875 \nQ 16.75 56 26.8125 56 \nQ 31.78125 56 36.171875 55.265625 \nQ 40.578125 54.546875 44.28125 53.078125 \nz\n\" id=\"DejaVuSans-115\"/>\n       <path d=\"M 28.609375 0 \nL 0.78125 72.90625 \nL 11.078125 72.90625 \nL 34.1875 11.53125 \nL 57.328125 72.90625 \nL 67.578125 72.90625 \nL 39.796875 0 \nz\n\" id=\"DejaVuSans-86\"/>\n       <path d=\"M 9.421875 54.6875 \nL 18.40625 54.6875 \nL 18.40625 0 \nL 9.421875 0 \nz\nM 9.421875 75.984375 \nL 18.40625 75.984375 \nL 18.40625 64.59375 \nL 9.421875 64.59375 \nz\n\" id=\"DejaVuSans-105\"/>\n       <path d=\"M 54.890625 33.015625 \nL 54.890625 0 \nL 45.90625 0 \nL 45.90625 32.71875 \nQ 45.90625 40.484375 42.875 44.328125 \nQ 39.84375 48.1875 33.796875 48.1875 \nQ 26.515625 48.1875 22.3125 43.546875 \nQ 18.109375 38.921875 18.109375 30.90625 \nL 18.109375 0 \nL 9.078125 0 \nL 9.078125 54.6875 \nL 18.109375 54.6875 \nL 18.109375 46.1875 \nQ 21.34375 51.125 25.703125 53.5625 \nQ 30.078125 56 35.796875 56 \nQ 45.21875 56 50.046875 50.171875 \nQ 54.890625 44.34375 54.890625 33.015625 \nz\n\" id=\"DejaVuSans-110\"/>\n      </defs>\n      <use xlink:href=\"#DejaVuSans-67\"/>\n      <use x=\"69.824219\" xlink:href=\"#DejaVuSans-114\"/>\n      <use x=\"108.6875\" xlink:href=\"#DejaVuSans-111\"/>\n      <use x=\"169.869141\" xlink:href=\"#DejaVuSans-115\"/>\n      <use x=\"221.96875\" xlink:href=\"#DejaVuSans-115\"/>\n      <use x=\"274.068359\" xlink:href=\"#DejaVuSans-32\"/>\n      <use x=\"305.855469\" xlink:href=\"#DejaVuSans-86\"/>\n      <use x=\"366.513672\" xlink:href=\"#DejaVuSans-97\"/>\n      <use x=\"427.792969\" xlink:href=\"#DejaVuSans-108\"/>\n      <use x=\"455.576172\" xlink:href=\"#DejaVuSans-105\"/>\n      <use x=\"483.359375\" xlink:href=\"#DejaVuSans-100\"/>\n      <use x=\"546.835938\" xlink:href=\"#DejaVuSans-97\"/>\n      <use x=\"608.115234\" xlink:href=\"#DejaVuSans-116\"/>\n      <use x=\"647.324219\" xlink:href=\"#DejaVuSans-105\"/>\n      <use x=\"675.107422\" xlink:href=\"#DejaVuSans-111\"/>\n      <use x=\"736.289062\" xlink:href=\"#DejaVuSans-110\"/>\n      <use x=\"799.667969\" xlink:href=\"#DejaVuSans-32\"/>\n      <use x=\"831.455078\" xlink:href=\"#DejaVuSans-83\"/>\n      <use x=\"894.931641\" xlink:href=\"#DejaVuSans-99\"/>\n      <use x=\"949.912109\" xlink:href=\"#DejaVuSans-111\"/>\n      <use x=\"1011.09375\" xlink:href=\"#DejaVuSans-114\"/>\n      <use x=\"1049.957031\" xlink:href=\"#DejaVuSans-101\"/>\n     </g>\n    </g>\n   </g>\n   <g id=\"line2d_15\">\n    <path clip-path=\"url(#p142590638d)\" d=\"M 71.724432 214.756364 \nL 89.628175 177.459623 \nL 107.531918 80.488096 \nL 125.435662 43.191355 \nL 143.339405 17.083636 \nL 161.243148 69.299074 \nL 179.146892 121.514511 \nL 197.050635 73.028748 \nL 214.954378 73.028748 \nL 232.858122 76.758422 \nL 250.761865 32.002333 \nL 268.665608 84.21777 \nL 286.569352 80.488096 \nL 304.473095 102.866141 \nL 322.376838 69.299074 \nL 340.280582 69.299074 \nL 358.184325 73.028748 \nL 376.088068 69.299074 \n\" style=\"fill:none;stroke:#1f77b4;stroke-linecap:square;stroke-width:1.5;\"/>\n   </g>\n   <g id=\"patch_3\">\n    <path d=\"M 56.50625 224.64 \nL 56.50625 7.2 \n\" style=\"fill:none;stroke:#000000;stroke-linecap:square;stroke-linejoin:miter;stroke-width:0.8;\"/>\n   </g>\n   <g id=\"patch_4\">\n    <path d=\"M 391.30625 224.64 \nL 391.30625 7.2 \n\" style=\"fill:none;stroke:#000000;stroke-linecap:square;stroke-linejoin:miter;stroke-width:0.8;\"/>\n   </g>\n   <g id=\"patch_5\">\n    <path d=\"M 56.50625 224.64 \nL 391.30625 224.64 \n\" style=\"fill:none;stroke:#000000;stroke-linecap:square;stroke-linejoin:miter;stroke-width:0.8;\"/>\n   </g>\n   <g id=\"patch_6\">\n    <path d=\"M 56.50625 7.2 \nL 391.30625 7.2 \n\" style=\"fill:none;stroke:#000000;stroke-linecap:square;stroke-linejoin:miter;stroke-width:0.8;\"/>\n   </g>\n  </g>\n </g>\n <defs>\n  <clipPath id=\"p142590638d\">\n   <rect height=\"217.44\" width=\"334.8\" x=\"56.50625\" y=\"7.2\"/>\n  </clipPath>\n </defs>\n</svg>\n",
      "image/png": "[encoded data removed]"
     },
     "metadata": {
      "needs_background": "light"
     }
    }
   ],
   "source": [
    "select = backward_wrapper(\n",
    "    x = X,\n",
    "    y = y,\n",
    "    method='rfecv',\n",
    "    estimator = 'dt'\n",
    ")"
   ]
  },
  {
   "cell_type": "code",
   "execution_count": 13,
   "metadata": {},
   "outputs": [],
   "source": [
    "#select = var_selected"
   ]
  },
  {
   "cell_type": "code",
   "execution_count": 14,
   "metadata": {},
   "outputs": [
    {
     "output_type": "execute_result",
     "data": {
      "text/plain": [
       "        S*K       S/K       S*r     tau/K       K-S\n",
       "0  0.336600  0.527326  0.243026  0.836173  0.403330\n",
       "1  0.604273  0.102610  0.516604  0.363717  0.854009\n",
       "2  0.278347  0.539275  0.501137  0.657345  0.392988\n",
       "3  0.747172  0.349871  0.577393  0.134424  0.584228\n",
       "4  0.365609  0.767650  0.423716  0.413739  0.175348"
      ],
      "text/html": "<div>\n<style scoped>\n    .dataframe tbody tr th:only-of-type {\n        vertical-align: middle;\n    }\n\n    .dataframe tbody tr th {\n        vertical-align: top;\n    }\n\n    .dataframe thead th {\n        text-align: right;\n    }\n</style>\n<table border=\"1\" class=\"dataframe\">\n  <thead>\n    <tr style=\"text-align: right;\">\n      <th></th>\n      <th>S*K</th>\n      <th>S/K</th>\n      <th>S*r</th>\n      <th>tau/K</th>\n      <th>K-S</th>\n    </tr>\n  </thead>\n  <tbody>\n    <tr>\n      <th>0</th>\n      <td>0.336600</td>\n      <td>0.527326</td>\n      <td>0.243026</td>\n      <td>0.836173</td>\n      <td>0.403330</td>\n    </tr>\n    <tr>\n      <th>1</th>\n      <td>0.604273</td>\n      <td>0.102610</td>\n      <td>0.516604</td>\n      <td>0.363717</td>\n      <td>0.854009</td>\n    </tr>\n    <tr>\n      <th>2</th>\n      <td>0.278347</td>\n      <td>0.539275</td>\n      <td>0.501137</td>\n      <td>0.657345</td>\n      <td>0.392988</td>\n    </tr>\n    <tr>\n      <th>3</th>\n      <td>0.747172</td>\n      <td>0.349871</td>\n      <td>0.577393</td>\n      <td>0.134424</td>\n      <td>0.584228</td>\n    </tr>\n    <tr>\n      <th>4</th>\n      <td>0.365609</td>\n      <td>0.767650</td>\n      <td>0.423716</td>\n      <td>0.413739</td>\n      <td>0.175348</td>\n    </tr>\n  </tbody>\n</table>\n</div>"
     },
     "metadata": {},
     "execution_count": 14
    }
   ],
   "source": [
    "# Select top ranking variales as X\n",
    "X = X.loc[:, list(select['var'])]\n",
    "X.head()"
   ]
  },
  {
   "cell_type": "markdown",
   "metadata": {},
   "source": [
    "## Model Training\n",
    "- Log Reg\n",
    "- DT\n",
    "- XGboost\n",
    "- RF\n",
    "\n",
    "Goodness will be measured by classification error rate *e*:\n",
    "\n",
    "$$ e = \\dfrac{FP+FN}{TP+TN+FP+FP} $$"
   ]
  },
  {
   "cell_type": "code",
   "execution_count": 15,
   "metadata": {},
   "outputs": [],
   "source": [
    "from sklearn.model_selection import KFold\n",
    "kf = KFold(n_splits = 10, shuffle = True)"
   ]
  },
  {
   "cell_type": "markdown",
   "metadata": {},
   "source": [
    "## log reg"
   ]
  },
  {
   "cell_type": "code",
   "execution_count": 16,
   "metadata": {},
   "outputs": [
    {
     "output_type": "stream",
     "name": "stdout",
     "text": [
      "Row 0 calculation finished.\n",
      "Row 1 calculation finished.\n",
      "Row 2 calculation finished.\n",
      "Row 3 calculation finished.\n",
      "Row 4 calculation finished.\n",
      "Row 5 calculation finished.\n",
      "Row 6 calculation finished.\n",
      "Row 7 calculation finished.\n",
      "Row 8 calculation finished.\n",
      "Row 9 calculation finished.\n",
      "Row 10 calculation finished.\n",
      "Row 11 calculation finished.\n",
      "CPU times: user 2.12 s, sys: 19.9 ms, total: 2.14 s\n",
      "Wall time: 2.15 s\n"
     ]
    },
    {
     "output_type": "execute_result",
     "data": {
      "text/plain": [
       "   penalty     solver     X_set   Error\n",
       "7       l2  liblinear    X_copy  0.0839\n",
       "8       l2  liblinear  X_origin  0.0839\n",
       "4       l1       saga    X_copy  0.0845\n",
       "10      l2       saga    X_copy  0.0845\n",
       "1       l1  liblinear    X_copy  0.0863\n",
       "2       l1  liblinear  X_origin  0.0875\n",
       "3       l1       saga         X  0.0875\n",
       "5       l1       saga  X_origin  0.0881\n",
       "6       l2  liblinear         X  0.0881\n",
       "0       l1  liblinear         X  0.0887\n",
       "9       l2       saga         X  0.0887\n",
       "11      l2       saga  X_origin  0.0905"
      ],
      "text/html": "<div>\n<style scoped>\n    .dataframe tbody tr th:only-of-type {\n        vertical-align: middle;\n    }\n\n    .dataframe tbody tr th {\n        vertical-align: top;\n    }\n\n    .dataframe thead th {\n        text-align: right;\n    }\n</style>\n<table border=\"1\" class=\"dataframe\">\n  <thead>\n    <tr style=\"text-align: right;\">\n      <th></th>\n      <th>penalty</th>\n      <th>solver</th>\n      <th>X_set</th>\n      <th>Error</th>\n    </tr>\n  </thead>\n  <tbody>\n    <tr>\n      <th>7</th>\n      <td>l2</td>\n      <td>liblinear</td>\n      <td>X_copy</td>\n      <td>0.0839</td>\n    </tr>\n    <tr>\n      <th>8</th>\n      <td>l2</td>\n      <td>liblinear</td>\n      <td>X_origin</td>\n      <td>0.0839</td>\n    </tr>\n    <tr>\n      <th>4</th>\n      <td>l1</td>\n      <td>saga</td>\n      <td>X_copy</td>\n      <td>0.0845</td>\n    </tr>\n    <tr>\n      <th>10</th>\n      <td>l2</td>\n      <td>saga</td>\n      <td>X_copy</td>\n      <td>0.0845</td>\n    </tr>\n    <tr>\n      <th>1</th>\n      <td>l1</td>\n      <td>liblinear</td>\n      <td>X_copy</td>\n      <td>0.0863</td>\n    </tr>\n    <tr>\n      <th>2</th>\n      <td>l1</td>\n      <td>liblinear</td>\n      <td>X_origin</td>\n      <td>0.0875</td>\n    </tr>\n    <tr>\n      <th>3</th>\n      <td>l1</td>\n      <td>saga</td>\n      <td>X</td>\n      <td>0.0875</td>\n    </tr>\n    <tr>\n      <th>5</th>\n      <td>l1</td>\n      <td>saga</td>\n      <td>X_origin</td>\n      <td>0.0881</td>\n    </tr>\n    <tr>\n      <th>6</th>\n      <td>l2</td>\n      <td>liblinear</td>\n      <td>X</td>\n      <td>0.0881</td>\n    </tr>\n    <tr>\n      <th>0</th>\n      <td>l1</td>\n      <td>liblinear</td>\n      <td>X</td>\n      <td>0.0887</td>\n    </tr>\n    <tr>\n      <th>9</th>\n      <td>l2</td>\n      <td>saga</td>\n      <td>X</td>\n      <td>0.0887</td>\n    </tr>\n    <tr>\n      <th>11</th>\n      <td>l2</td>\n      <td>saga</td>\n      <td>X_origin</td>\n      <td>0.0905</td>\n    </tr>\n  </tbody>\n</table>\n</div>"
     },
     "metadata": {},
     "execution_count": 16
    }
   ],
   "source": [
    "%%time\n",
    "kf = KFold(n_splits = 10, shuffle = True)\n",
    "\n",
    "table = pd.DataFrame(columns=['penalty', 'solver','X_set', 'Error'])\n",
    "\n",
    "x_dict = {\n",
    "    'X': X,\n",
    "    'X_copy': X_copy,\n",
    "    'X_origin': X_origin\n",
    "}\n",
    "\n",
    "# log reg\n",
    "\n",
    "row_index = 0\n",
    "for i in ['l1', 'l2']:\n",
    "    for ii in ['liblinear','saga']:\n",
    "        for x in ['X', 'X_copy', 'X_origin']:\n",
    "            table.loc[row_index, 'penalty'] = i\n",
    "            table.loc[row_index, 'solver'] = ii\n",
    "            table.loc[row_index, 'X_set'] = x\n",
    "\n",
    "            model = LogisticRegression( penalty=i,solver=ii)\n",
    "\n",
    "            e = round(1-cross_val_score(model, x_dict[x], y, scoring='accuracy', cv=kf).mean(), 4)\n",
    "            table.loc[row_index, 'Error'] = e\n",
    "            print(f'Row {row_index} calculation finished.')\n",
    "            row_index += 1\n",
    "\n",
    "table.sort_values(\"Error\", ascending=True)"
   ]
  },
  {
   "cell_type": "code",
   "execution_count": 17,
   "metadata": {},
   "outputs": [],
   "source": [
    "# DT"
   ]
  },
  {
   "cell_type": "code",
   "execution_count": null,
   "metadata": {},
   "outputs": [],
   "source": []
  },
  {
   "cell_type": "markdown",
   "metadata": {},
   "source": [
    "## XGboost"
   ]
  },
  {
   "cell_type": "code",
   "execution_count": 18,
   "metadata": {},
   "outputs": [
    {
     "output_type": "stream",
     "name": "stdout",
     "text": [
      "Row 0 calculation finished.\n",
      "Row 1 calculation finished.\n",
      "Row 2 calculation finished.\n",
      "Row 3 calculation finished.\n",
      "Row 4 calculation finished.\n",
      "Row 5 calculation finished.\n",
      "Row 6 calculation finished.\n",
      "Row 7 calculation finished.\n",
      "Row 8 calculation finished.\n",
      "Row 9 calculation finished.\n",
      "Row 10 calculation finished.\n",
      "Row 11 calculation finished.\n",
      "Row 12 calculation finished.\n",
      "Row 13 calculation finished.\n",
      "Row 14 calculation finished.\n",
      "Row 15 calculation finished.\n",
      "Row 16 calculation finished.\n",
      "Row 17 calculation finished.\n",
      "Row 18 calculation finished.\n",
      "Row 19 calculation finished.\n",
      "Row 20 calculation finished.\n",
      "Row 21 calculation finished.\n",
      "Row 22 calculation finished.\n",
      "Row 23 calculation finished.\n",
      "Row 24 calculation finished.\n",
      "Row 25 calculation finished.\n",
      "Row 26 calculation finished.\n",
      "Row 27 calculation finished.\n",
      "Row 28 calculation finished.\n",
      "Row 29 calculation finished.\n",
      "Row 30 calculation finished.\n",
      "Row 31 calculation finished.\n",
      "Row 32 calculation finished.\n",
      "Row 33 calculation finished.\n",
      "Row 34 calculation finished.\n",
      "Row 35 calculation finished.\n",
      "CPU times: user 10min 48s, sys: 3.24 s, total: 10min 52s\n",
      "Wall time: 10min 58s\n"
     ]
    },
    {
     "output_type": "execute_result",
     "data": {
      "text/plain": [
       "   n_estimators learning_rate max_depth     X_set   Error\n",
       "33          600           0.1         5         X  0.0637\n",
       "8           400           0.1         3  X_origin  0.0637\n",
       "32          600           0.1         3  X_origin  0.0643\n",
       "10          400           0.1         5    X_copy  0.0649\n",
       "22          500           0.1         5    X_copy  0.0655\n",
       "5           400          0.01         5  X_origin  0.0661\n",
       "34          600           0.1         5    X_copy  0.0667\n",
       "19          500           0.1         3    X_copy  0.0667\n",
       "9           400           0.1         5         X  0.0667\n",
       "18          500           0.1         3         X  0.0673\n",
       "21          500           0.1         5         X  0.0673\n",
       "11          400           0.1         5  X_origin  0.0679\n",
       "29          600          0.01         5  X_origin  0.0679\n",
       "31          600           0.1         3    X_copy  0.0679\n",
       "7           400           0.1         3    X_copy  0.0679\n",
       "23          500           0.1         5  X_origin  0.0685\n",
       "6           400           0.1         3         X  0.0685\n",
       "17          500          0.01         5  X_origin  0.0685\n",
       "30          600           0.1         3         X  0.0696\n",
       "28          600          0.01         5    X_copy  0.0702\n",
       "24          600          0.01         3         X  0.0702\n",
       "35          600           0.1         5  X_origin  0.0702\n",
       "16          500          0.01         5    X_copy  0.0702\n",
       "25          600          0.01         3    X_copy  0.0714\n",
       "26          600          0.01         3  X_origin  0.0714\n",
       "14          500          0.01         3  X_origin  0.0726\n",
       "20          500           0.1         3  X_origin  0.0726\n",
       "4           400          0.01         5    X_copy  0.0744\n",
       "12          500          0.01         3         X  0.0756\n",
       "0           400          0.01         3         X  0.0756\n",
       "3           400          0.01         5         X  0.0762\n",
       "13          500          0.01         3    X_copy  0.0774\n",
       "1           400          0.01         3    X_copy   0.078\n",
       "15          500          0.01         5         X  0.0786\n",
       "2           400          0.01         3  X_origin  0.0786\n",
       "27          600          0.01         5         X   0.081"
      ],
      "text/html": "<div>\n<style scoped>\n    .dataframe tbody tr th:only-of-type {\n        vertical-align: middle;\n    }\n\n    .dataframe tbody tr th {\n        vertical-align: top;\n    }\n\n    .dataframe thead th {\n        text-align: right;\n    }\n</style>\n<table border=\"1\" class=\"dataframe\">\n  <thead>\n    <tr style=\"text-align: right;\">\n      <th></th>\n      <th>n_estimators</th>\n      <th>learning_rate</th>\n      <th>max_depth</th>\n      <th>X_set</th>\n      <th>Error</th>\n    </tr>\n  </thead>\n  <tbody>\n    <tr>\n      <th>33</th>\n      <td>600</td>\n      <td>0.1</td>\n      <td>5</td>\n      <td>X</td>\n      <td>0.0637</td>\n    </tr>\n    <tr>\n      <th>8</th>\n      <td>400</td>\n      <td>0.1</td>\n      <td>3</td>\n      <td>X_origin</td>\n      <td>0.0637</td>\n    </tr>\n    <tr>\n      <th>32</th>\n      <td>600</td>\n      <td>0.1</td>\n      <td>3</td>\n      <td>X_origin</td>\n      <td>0.0643</td>\n    </tr>\n    <tr>\n      <th>10</th>\n      <td>400</td>\n      <td>0.1</td>\n      <td>5</td>\n      <td>X_copy</td>\n      <td>0.0649</td>\n    </tr>\n    <tr>\n      <th>22</th>\n      <td>500</td>\n      <td>0.1</td>\n      <td>5</td>\n      <td>X_copy</td>\n      <td>0.0655</td>\n    </tr>\n    <tr>\n      <th>5</th>\n      <td>400</td>\n      <td>0.01</td>\n      <td>5</td>\n      <td>X_origin</td>\n      <td>0.0661</td>\n    </tr>\n    <tr>\n      <th>34</th>\n      <td>600</td>\n      <td>0.1</td>\n      <td>5</td>\n      <td>X_copy</td>\n      <td>0.0667</td>\n    </tr>\n    <tr>\n      <th>19</th>\n      <td>500</td>\n      <td>0.1</td>\n      <td>3</td>\n      <td>X_copy</td>\n      <td>0.0667</td>\n    </tr>\n    <tr>\n      <th>9</th>\n      <td>400</td>\n      <td>0.1</td>\n      <td>5</td>\n      <td>X</td>\n      <td>0.0667</td>\n    </tr>\n    <tr>\n      <th>18</th>\n      <td>500</td>\n      <td>0.1</td>\n      <td>3</td>\n      <td>X</td>\n      <td>0.0673</td>\n    </tr>\n    <tr>\n      <th>21</th>\n      <td>500</td>\n      <td>0.1</td>\n      <td>5</td>\n      <td>X</td>\n      <td>0.0673</td>\n    </tr>\n    <tr>\n      <th>11</th>\n      <td>400</td>\n      <td>0.1</td>\n      <td>5</td>\n      <td>X_origin</td>\n      <td>0.0679</td>\n    </tr>\n    <tr>\n      <th>29</th>\n      <td>600</td>\n      <td>0.01</td>\n      <td>5</td>\n      <td>X_origin</td>\n      <td>0.0679</td>\n    </tr>\n    <tr>\n      <th>31</th>\n      <td>600</td>\n      <td>0.1</td>\n      <td>3</td>\n      <td>X_copy</td>\n      <td>0.0679</td>\n    </tr>\n    <tr>\n      <th>7</th>\n      <td>400</td>\n      <td>0.1</td>\n      <td>3</td>\n      <td>X_copy</td>\n      <td>0.0679</td>\n    </tr>\n    <tr>\n      <th>23</th>\n      <td>500</td>\n      <td>0.1</td>\n      <td>5</td>\n      <td>X_origin</td>\n      <td>0.0685</td>\n    </tr>\n    <tr>\n      <th>6</th>\n      <td>400</td>\n      <td>0.1</td>\n      <td>3</td>\n      <td>X</td>\n      <td>0.0685</td>\n    </tr>\n    <tr>\n      <th>17</th>\n      <td>500</td>\n      <td>0.01</td>\n      <td>5</td>\n      <td>X_origin</td>\n      <td>0.0685</td>\n    </tr>\n    <tr>\n      <th>30</th>\n      <td>600</td>\n      <td>0.1</td>\n      <td>3</td>\n      <td>X</td>\n      <td>0.0696</td>\n    </tr>\n    <tr>\n      <th>28</th>\n      <td>600</td>\n      <td>0.01</td>\n      <td>5</td>\n      <td>X_copy</td>\n      <td>0.0702</td>\n    </tr>\n    <tr>\n      <th>24</th>\n      <td>600</td>\n      <td>0.01</td>\n      <td>3</td>\n      <td>X</td>\n      <td>0.0702</td>\n    </tr>\n    <tr>\n      <th>35</th>\n      <td>600</td>\n      <td>0.1</td>\n      <td>5</td>\n      <td>X_origin</td>\n      <td>0.0702</td>\n    </tr>\n    <tr>\n      <th>16</th>\n      <td>500</td>\n      <td>0.01</td>\n      <td>5</td>\n      <td>X_copy</td>\n      <td>0.0702</td>\n    </tr>\n    <tr>\n      <th>25</th>\n      <td>600</td>\n      <td>0.01</td>\n      <td>3</td>\n      <td>X_copy</td>\n      <td>0.0714</td>\n    </tr>\n    <tr>\n      <th>26</th>\n      <td>600</td>\n      <td>0.01</td>\n      <td>3</td>\n      <td>X_origin</td>\n      <td>0.0714</td>\n    </tr>\n    <tr>\n      <th>14</th>\n      <td>500</td>\n      <td>0.01</td>\n      <td>3</td>\n      <td>X_origin</td>\n      <td>0.0726</td>\n    </tr>\n    <tr>\n      <th>20</th>\n      <td>500</td>\n      <td>0.1</td>\n      <td>3</td>\n      <td>X_origin</td>\n      <td>0.0726</td>\n    </tr>\n    <tr>\n      <th>4</th>\n      <td>400</td>\n      <td>0.01</td>\n      <td>5</td>\n      <td>X_copy</td>\n      <td>0.0744</td>\n    </tr>\n    <tr>\n      <th>12</th>\n      <td>500</td>\n      <td>0.01</td>\n      <td>3</td>\n      <td>X</td>\n      <td>0.0756</td>\n    </tr>\n    <tr>\n      <th>0</th>\n      <td>400</td>\n      <td>0.01</td>\n      <td>3</td>\n      <td>X</td>\n      <td>0.0756</td>\n    </tr>\n    <tr>\n      <th>3</th>\n      <td>400</td>\n      <td>0.01</td>\n      <td>5</td>\n      <td>X</td>\n      <td>0.0762</td>\n    </tr>\n    <tr>\n      <th>13</th>\n      <td>500</td>\n      <td>0.01</td>\n      <td>3</td>\n      <td>X_copy</td>\n      <td>0.0774</td>\n    </tr>\n    <tr>\n      <th>1</th>\n      <td>400</td>\n      <td>0.01</td>\n      <td>3</td>\n      <td>X_copy</td>\n      <td>0.078</td>\n    </tr>\n    <tr>\n      <th>15</th>\n      <td>500</td>\n      <td>0.01</td>\n      <td>5</td>\n      <td>X</td>\n      <td>0.0786</td>\n    </tr>\n    <tr>\n      <th>2</th>\n      <td>400</td>\n      <td>0.01</td>\n      <td>3</td>\n      <td>X_origin</td>\n      <td>0.0786</td>\n    </tr>\n    <tr>\n      <th>27</th>\n      <td>600</td>\n      <td>0.01</td>\n      <td>5</td>\n      <td>X</td>\n      <td>0.081</td>\n    </tr>\n  </tbody>\n</table>\n</div>"
     },
     "metadata": {},
     "execution_count": 18
    }
   ],
   "source": [
    "%%time\n",
    "kf = KFold(n_splits = 10, shuffle = True)\n",
    "\n",
    "table = pd.DataFrame(columns=['n_estimators', 'learning_rate', 'max_depth','X_set', 'Error'])\n",
    "\n",
    "x_dict = {\n",
    "    'X': X,\n",
    "    'X_copy': X_copy,\n",
    "    'X_origin': X_origin\n",
    "}\n",
    "\n",
    "# XGB\n",
    "\n",
    "row_index = 0\n",
    "for i in range(400, 700, 100):\n",
    "    for ii in [0.01,0.1]:\n",
    "        for iii in [3, 5]:\n",
    "            for x in ['X', 'X_copy', 'X_origin']:\n",
    "                table.loc[row_index, 'n_estimators'] = i\n",
    "                table.loc[row_index, 'learning_rate'] = ii\n",
    "                table.loc[row_index, 'max_depth'] = iii\n",
    "                table.loc[row_index, 'X_set'] = x\n",
    "\n",
    "                model = GradientBoostingClassifier(\n",
    "                                        n_estimators=i, \n",
    "                                        learning_rate=ii,\n",
    "                                        max_depth=iii)\n",
    "\n",
    "                e = round(1-cross_val_score(model, x_dict[x], y, scoring='accuracy', cv=kf).mean(), 4)\n",
    "                table.loc[row_index, 'Error'] = e\n",
    "                print(f'Row {row_index} calculation finished.')\n",
    "                row_index += 1\n",
    "\n",
    "table.sort_values(\"Error\", ascending=True)"
   ]
  },
  {
   "cell_type": "markdown",
   "metadata": {},
   "source": [
    "## rf"
   ]
  },
  {
   "cell_type": "code",
   "execution_count": 19,
   "metadata": {},
   "outputs": [
    {
     "output_type": "stream",
     "name": "stdout",
     "text": [
      "Row 0 calculation finished.\n",
      "Row 1 calculation finished.\n",
      "Row 2 calculation finished.\n",
      "Row 3 calculation finished.\n",
      "Row 4 calculation finished.\n",
      "Row 5 calculation finished.\n",
      "Row 6 calculation finished.\n",
      "Row 7 calculation finished.\n",
      "Row 8 calculation finished.\n",
      "Row 9 calculation finished.\n",
      "Row 10 calculation finished.\n",
      "Row 11 calculation finished.\n",
      "Row 12 calculation finished.\n",
      "Row 13 calculation finished.\n",
      "Row 14 calculation finished.\n",
      "Row 15 calculation finished.\n",
      "Row 16 calculation finished.\n",
      "Row 17 calculation finished.\n",
      "Row 18 calculation finished.\n",
      "Row 19 calculation finished.\n",
      "Row 20 calculation finished.\n",
      "Row 21 calculation finished.\n",
      "Row 22 calculation finished.\n",
      "Row 23 calculation finished.\n",
      "Row 24 calculation finished.\n",
      "Row 25 calculation finished.\n",
      "Row 26 calculation finished.\n",
      "Row 27 calculation finished.\n",
      "Row 28 calculation finished.\n",
      "Row 29 calculation finished.\n",
      "Row 30 calculation finished.\n",
      "Row 31 calculation finished.\n",
      "Row 32 calculation finished.\n",
      "Row 33 calculation finished.\n",
      "Row 34 calculation finished.\n",
      "Row 35 calculation finished.\n",
      "Row 36 calculation finished.\n",
      "Row 37 calculation finished.\n",
      "Row 38 calculation finished.\n",
      "Row 39 calculation finished.\n",
      "Row 40 calculation finished.\n",
      "Row 41 calculation finished.\n",
      "Row 42 calculation finished.\n",
      "Row 43 calculation finished.\n",
      "Row 44 calculation finished.\n",
      "Row 45 calculation finished.\n",
      "Row 46 calculation finished.\n",
      "Row 47 calculation finished.\n",
      "Row 48 calculation finished.\n",
      "Row 49 calculation finished.\n",
      "Row 50 calculation finished.\n",
      "Row 51 calculation finished.\n",
      "Row 52 calculation finished.\n",
      "Row 53 calculation finished.\n",
      "Row 54 calculation finished.\n",
      "Row 55 calculation finished.\n",
      "Row 56 calculation finished.\n",
      "Row 57 calculation finished.\n",
      "Row 58 calculation finished.\n",
      "Row 59 calculation finished.\n",
      "CPU times: user 3min 17s, sys: 1.55 s, total: 3min 19s\n",
      "Wall time: 3min 20s\n"
     ]
    },
    {
     "output_type": "execute_result",
     "data": {
      "text/plain": [
       "   n_estimators max_depth     X_set   Error\n",
       "13          100        10    X_copy  0.0607\n",
       "19          100        20    X_copy  0.0613\n",
       "23          100        30  X_origin  0.0643\n",
       "2            50        10  X_origin  0.0643\n",
       "58          250        30    X_copy  0.0643\n",
       "52          250        15    X_copy  0.0643\n",
       "38          200        10  X_origin  0.0643\n",
       "11           50        30  X_origin  0.0649\n",
       "56          250        20  X_origin  0.0649\n",
       "37          200        10    X_copy  0.0655\n",
       "7            50        20    X_copy  0.0655\n",
       "22          100        30    X_copy  0.0661\n",
       "41          200        15  X_origin  0.0661\n",
       "46          200        30    X_copy  0.0667\n",
       "43          200        20    X_copy  0.0667\n",
       "28          150        15    X_copy  0.0667\n",
       "6            50        20         X  0.0673\n",
       "49          250        10    X_copy  0.0673\n",
       "16          100        15    X_copy  0.0673\n",
       "21          100        30         X  0.0673\n",
       "29          150        15  X_origin  0.0673\n",
       "44          200        20  X_origin  0.0679\n",
       "53          250        15  X_origin  0.0679\n",
       "25          150        10    X_copy  0.0679\n",
       "59          250        30  X_origin  0.0679\n",
       "8            50        20  X_origin  0.0685\n",
       "26          150        10  X_origin  0.0685\n",
       "31          150        20    X_copy  0.0685\n",
       "4            50        15    X_copy   0.069\n",
       "47          200        30  X_origin   0.069\n",
       "55          250        20    X_copy   0.069\n",
       "20          100        20  X_origin   0.069\n",
       "17          100        15  X_origin   0.069\n",
       "1            50        10    X_copy   0.069\n",
       "32          150        20  X_origin  0.0696\n",
       "34          150        30    X_copy  0.0696\n",
       "10           50        30    X_copy  0.0696\n",
       "14          100        10  X_origin  0.0702\n",
       "40          200        15    X_copy  0.0702\n",
       "57          250        30         X  0.0702\n",
       "30          150        20         X  0.0702\n",
       "15          100        15         X  0.0708\n",
       "35          150        30  X_origin  0.0708\n",
       "5            50        15  X_origin  0.0714\n",
       "54          250        20         X   0.072\n",
       "3            50        15         X   0.072\n",
       "0            50        10         X   0.072\n",
       "9            50        30         X  0.0726\n",
       "48          250        10         X  0.0732\n",
       "50          250        10  X_origin  0.0732\n",
       "12          100        10         X  0.0732\n",
       "39          200        15         X  0.0732\n",
       "51          250        15         X  0.0738\n",
       "27          150        15         X  0.0744\n",
       "45          200        30         X   0.075\n",
       "18          100        20         X  0.0756\n",
       "33          150        30         X  0.0762\n",
       "24          150        10         X  0.0768\n",
       "36          200        10         X  0.0768\n",
       "42          200        20         X  0.0804"
      ],
      "text/html": "<div>\n<style scoped>\n    .dataframe tbody tr th:only-of-type {\n        vertical-align: middle;\n    }\n\n    .dataframe tbody tr th {\n        vertical-align: top;\n    }\n\n    .dataframe thead th {\n        text-align: right;\n    }\n</style>\n<table border=\"1\" class=\"dataframe\">\n  <thead>\n    <tr style=\"text-align: right;\">\n      <th></th>\n      <th>n_estimators</th>\n      <th>max_depth</th>\n      <th>X_set</th>\n      <th>Error</th>\n    </tr>\n  </thead>\n  <tbody>\n    <tr>\n      <th>13</th>\n      <td>100</td>\n      <td>10</td>\n      <td>X_copy</td>\n      <td>0.0607</td>\n    </tr>\n    <tr>\n      <th>19</th>\n      <td>100</td>\n      <td>20</td>\n      <td>X_copy</td>\n      <td>0.0613</td>\n    </tr>\n    <tr>\n      <th>23</th>\n      <td>100</td>\n      <td>30</td>\n      <td>X_origin</td>\n      <td>0.0643</td>\n    </tr>\n    <tr>\n      <th>2</th>\n      <td>50</td>\n      <td>10</td>\n      <td>X_origin</td>\n      <td>0.0643</td>\n    </tr>\n    <tr>\n      <th>58</th>\n      <td>250</td>\n      <td>30</td>\n      <td>X_copy</td>\n      <td>0.0643</td>\n    </tr>\n    <tr>\n      <th>52</th>\n      <td>250</td>\n      <td>15</td>\n      <td>X_copy</td>\n      <td>0.0643</td>\n    </tr>\n    <tr>\n      <th>38</th>\n      <td>200</td>\n      <td>10</td>\n      <td>X_origin</td>\n      <td>0.0643</td>\n    </tr>\n    <tr>\n      <th>11</th>\n      <td>50</td>\n      <td>30</td>\n      <td>X_origin</td>\n      <td>0.0649</td>\n    </tr>\n    <tr>\n      <th>56</th>\n      <td>250</td>\n      <td>20</td>\n      <td>X_origin</td>\n      <td>0.0649</td>\n    </tr>\n    <tr>\n      <th>37</th>\n      <td>200</td>\n      <td>10</td>\n      <td>X_copy</td>\n      <td>0.0655</td>\n    </tr>\n    <tr>\n      <th>7</th>\n      <td>50</td>\n      <td>20</td>\n      <td>X_copy</td>\n      <td>0.0655</td>\n    </tr>\n    <tr>\n      <th>22</th>\n      <td>100</td>\n      <td>30</td>\n      <td>X_copy</td>\n      <td>0.0661</td>\n    </tr>\n    <tr>\n      <th>41</th>\n      <td>200</td>\n      <td>15</td>\n      <td>X_origin</td>\n      <td>0.0661</td>\n    </tr>\n    <tr>\n      <th>46</th>\n      <td>200</td>\n      <td>30</td>\n      <td>X_copy</td>\n      <td>0.0667</td>\n    </tr>\n    <tr>\n      <th>43</th>\n      <td>200</td>\n      <td>20</td>\n      <td>X_copy</td>\n      <td>0.0667</td>\n    </tr>\n    <tr>\n      <th>28</th>\n      <td>150</td>\n      <td>15</td>\n      <td>X_copy</td>\n      <td>0.0667</td>\n    </tr>\n    <tr>\n      <th>6</th>\n      <td>50</td>\n      <td>20</td>\n      <td>X</td>\n      <td>0.0673</td>\n    </tr>\n    <tr>\n      <th>49</th>\n      <td>250</td>\n      <td>10</td>\n      <td>X_copy</td>\n      <td>0.0673</td>\n    </tr>\n    <tr>\n      <th>16</th>\n      <td>100</td>\n      <td>15</td>\n      <td>X_copy</td>\n      <td>0.0673</td>\n    </tr>\n    <tr>\n      <th>21</th>\n      <td>100</td>\n      <td>30</td>\n      <td>X</td>\n      <td>0.0673</td>\n    </tr>\n    <tr>\n      <th>29</th>\n      <td>150</td>\n      <td>15</td>\n      <td>X_origin</td>\n      <td>0.0673</td>\n    </tr>\n    <tr>\n      <th>44</th>\n      <td>200</td>\n      <td>20</td>\n      <td>X_origin</td>\n      <td>0.0679</td>\n    </tr>\n    <tr>\n      <th>53</th>\n      <td>250</td>\n      <td>15</td>\n      <td>X_origin</td>\n      <td>0.0679</td>\n    </tr>\n    <tr>\n      <th>25</th>\n      <td>150</td>\n      <td>10</td>\n      <td>X_copy</td>\n      <td>0.0679</td>\n    </tr>\n    <tr>\n      <th>59</th>\n      <td>250</td>\n      <td>30</td>\n      <td>X_origin</td>\n      <td>0.0679</td>\n    </tr>\n    <tr>\n      <th>8</th>\n      <td>50</td>\n      <td>20</td>\n      <td>X_origin</td>\n      <td>0.0685</td>\n    </tr>\n    <tr>\n      <th>26</th>\n      <td>150</td>\n      <td>10</td>\n      <td>X_origin</td>\n      <td>0.0685</td>\n    </tr>\n    <tr>\n      <th>31</th>\n      <td>150</td>\n      <td>20</td>\n      <td>X_copy</td>\n      <td>0.0685</td>\n    </tr>\n    <tr>\n      <th>4</th>\n      <td>50</td>\n      <td>15</td>\n      <td>X_copy</td>\n      <td>0.069</td>\n    </tr>\n    <tr>\n      <th>47</th>\n      <td>200</td>\n      <td>30</td>\n      <td>X_origin</td>\n      <td>0.069</td>\n    </tr>\n    <tr>\n      <th>55</th>\n      <td>250</td>\n      <td>20</td>\n      <td>X_copy</td>\n      <td>0.069</td>\n    </tr>\n    <tr>\n      <th>20</th>\n      <td>100</td>\n      <td>20</td>\n      <td>X_origin</td>\n      <td>0.069</td>\n    </tr>\n    <tr>\n      <th>17</th>\n      <td>100</td>\n      <td>15</td>\n      <td>X_origin</td>\n      <td>0.069</td>\n    </tr>\n    <tr>\n      <th>1</th>\n      <td>50</td>\n      <td>10</td>\n      <td>X_copy</td>\n      <td>0.069</td>\n    </tr>\n    <tr>\n      <th>32</th>\n      <td>150</td>\n      <td>20</td>\n      <td>X_origin</td>\n      <td>0.0696</td>\n    </tr>\n    <tr>\n      <th>34</th>\n      <td>150</td>\n      <td>30</td>\n      <td>X_copy</td>\n      <td>0.0696</td>\n    </tr>\n    <tr>\n      <th>10</th>\n      <td>50</td>\n      <td>30</td>\n      <td>X_copy</td>\n      <td>0.0696</td>\n    </tr>\n    <tr>\n      <th>14</th>\n      <td>100</td>\n      <td>10</td>\n      <td>X_origin</td>\n      <td>0.0702</td>\n    </tr>\n    <tr>\n      <th>40</th>\n      <td>200</td>\n      <td>15</td>\n      <td>X_copy</td>\n      <td>0.0702</td>\n    </tr>\n    <tr>\n      <th>57</th>\n      <td>250</td>\n      <td>30</td>\n      <td>X</td>\n      <td>0.0702</td>\n    </tr>\n    <tr>\n      <th>30</th>\n      <td>150</td>\n      <td>20</td>\n      <td>X</td>\n      <td>0.0702</td>\n    </tr>\n    <tr>\n      <th>15</th>\n      <td>100</td>\n      <td>15</td>\n      <td>X</td>\n      <td>0.0708</td>\n    </tr>\n    <tr>\n      <th>35</th>\n      <td>150</td>\n      <td>30</td>\n      <td>X_origin</td>\n      <td>0.0708</td>\n    </tr>\n    <tr>\n      <th>5</th>\n      <td>50</td>\n      <td>15</td>\n      <td>X_origin</td>\n      <td>0.0714</td>\n    </tr>\n    <tr>\n      <th>54</th>\n      <td>250</td>\n      <td>20</td>\n      <td>X</td>\n      <td>0.072</td>\n    </tr>\n    <tr>\n      <th>3</th>\n      <td>50</td>\n      <td>15</td>\n      <td>X</td>\n      <td>0.072</td>\n    </tr>\n    <tr>\n      <th>0</th>\n      <td>50</td>\n      <td>10</td>\n      <td>X</td>\n      <td>0.072</td>\n    </tr>\n    <tr>\n      <th>9</th>\n      <td>50</td>\n      <td>30</td>\n      <td>X</td>\n      <td>0.0726</td>\n    </tr>\n    <tr>\n      <th>48</th>\n      <td>250</td>\n      <td>10</td>\n      <td>X</td>\n      <td>0.0732</td>\n    </tr>\n    <tr>\n      <th>50</th>\n      <td>250</td>\n      <td>10</td>\n      <td>X_origin</td>\n      <td>0.0732</td>\n    </tr>\n    <tr>\n      <th>12</th>\n      <td>100</td>\n      <td>10</td>\n      <td>X</td>\n      <td>0.0732</td>\n    </tr>\n    <tr>\n      <th>39</th>\n      <td>200</td>\n      <td>15</td>\n      <td>X</td>\n      <td>0.0732</td>\n    </tr>\n    <tr>\n      <th>51</th>\n      <td>250</td>\n      <td>15</td>\n      <td>X</td>\n      <td>0.0738</td>\n    </tr>\n    <tr>\n      <th>27</th>\n      <td>150</td>\n      <td>15</td>\n      <td>X</td>\n      <td>0.0744</td>\n    </tr>\n    <tr>\n      <th>45</th>\n      <td>200</td>\n      <td>30</td>\n      <td>X</td>\n      <td>0.075</td>\n    </tr>\n    <tr>\n      <th>18</th>\n      <td>100</td>\n      <td>20</td>\n      <td>X</td>\n      <td>0.0756</td>\n    </tr>\n    <tr>\n      <th>33</th>\n      <td>150</td>\n      <td>30</td>\n      <td>X</td>\n      <td>0.0762</td>\n    </tr>\n    <tr>\n      <th>24</th>\n      <td>150</td>\n      <td>10</td>\n      <td>X</td>\n      <td>0.0768</td>\n    </tr>\n    <tr>\n      <th>36</th>\n      <td>200</td>\n      <td>10</td>\n      <td>X</td>\n      <td>0.0768</td>\n    </tr>\n    <tr>\n      <th>42</th>\n      <td>200</td>\n      <td>20</td>\n      <td>X</td>\n      <td>0.0804</td>\n    </tr>\n  </tbody>\n</table>\n</div>"
     },
     "metadata": {},
     "execution_count": 19
    }
   ],
   "source": [
    "%%time\n",
    "kf = KFold(n_splits = 10, shuffle = True)\n",
    "\n",
    "rf_table = pd.DataFrame(columns=['n_estimators', 'max_depth', 'X_set', 'Error'])\n",
    "\n",
    "x_dict = {\n",
    "    'X': X,\n",
    "    'X_copy': X_copy,\n",
    "    'X_origin': X_origin\n",
    "}\n",
    "\n",
    "row_index = 0\n",
    "for i in range(50, 300, 50):\n",
    "    for ii in [10, 15, 20, 30]:\n",
    "        for x in ['X', 'X_copy', 'X_origin']:\n",
    "            rf_table.loc[row_index, 'n_estimators'] = i\n",
    "            rf_table.loc[row_index, 'max_depth'] = ii\n",
    "            rf_table.loc[row_index, 'X_set'] = x\n",
    "\n",
    "            rf = RandomForestClassifier(\n",
    "                                        n_estimators=i,\n",
    "                                        max_depth=ii\n",
    "                                        )\n",
    "            e = round(1-cross_val_score(rf, x_dict[x], y, scoring='accuracy', cv=kf).mean(), 4)\n",
    "            rf_table.loc[row_index, 'Error'] = e\n",
    "            print(f'Row {row_index} calculation finished.')\n",
    "            row_index += 1\n",
    "            \n",
    "\n",
    "rf_table.sort_values(\"Error\", ascending=True)\n",
    "            \n"
   ]
  },
  {
   "cell_type": "code",
   "execution_count": null,
   "metadata": {},
   "outputs": [],
   "source": []
  },
  {
   "cell_type": "code",
   "execution_count": 20,
   "metadata": {},
   "outputs": [
    {
     "output_type": "stream",
     "name": "stdout",
     "text": [
      "Row 0 calculation finished.\n",
      "Row 1 calculation finished.\n",
      "Row 2 calculation finished.\n",
      "Row 3 calculation finished.\n",
      "Row 4 calculation finished.\n",
      "Row 5 calculation finished.\n",
      "Row 6 calculation finished.\n",
      "Row 7 calculation finished.\n",
      "Row 8 calculation finished.\n",
      "Row 9 calculation finished.\n",
      "Row 10 calculation finished.\n",
      "Row 11 calculation finished.\n",
      "Row 12 calculation finished.\n",
      "Row 13 calculation finished.\n",
      "Row 14 calculation finished.\n",
      "Row 15 calculation finished.\n",
      "Row 16 calculation finished.\n",
      "Row 17 calculation finished.\n",
      "Row 18 calculation finished.\n",
      "Row 19 calculation finished.\n",
      "Row 20 calculation finished.\n",
      "Row 21 calculation finished.\n",
      "Row 22 calculation finished.\n",
      "Row 23 calculation finished.\n",
      "Row 24 calculation finished.\n",
      "Row 25 calculation finished.\n",
      "Row 26 calculation finished.\n",
      "Row 27 calculation finished.\n",
      "Row 28 calculation finished.\n",
      "Row 29 calculation finished.\n",
      "Row 30 calculation finished.\n",
      "Row 31 calculation finished.\n",
      "Row 32 calculation finished.\n",
      "Row 33 calculation finished.\n",
      "Row 34 calculation finished.\n",
      "Row 35 calculation finished.\n",
      "CPU times: user 23min 14s, sys: 10.5 s, total: 23min 24s\n",
      "Wall time: 5min 54s\n"
     ]
    },
    {
     "output_type": "execute_result",
     "data": {
      "text/plain": [
       "   hidden_layer_sizes solver max_iter     X_set   Error\n",
       "35           (200, 3)   adam      200  X_origin  0.0679\n",
       "32           (200, 3)   adam      150  X_origin   0.069\n",
       "34           (200, 3)   adam      200    X_copy  0.0714\n",
       "30           (200, 3)   adam      150         X  0.0738\n",
       "31           (200, 3)   adam      150    X_copy  0.0744\n",
       "22           (100, 5)   adam      200    X_copy  0.0744\n",
       "33           (200, 3)   adam      200         X   0.075\n",
       "21           (100, 5)   adam      200         X   0.075\n",
       "18           (100, 5)   adam      150         X  0.0756\n",
       "23           (100, 5)   adam      200  X_origin  0.0762\n",
       "9            (100, 3)   adam      200         X  0.0768\n",
       "10           (100, 3)   adam      200    X_copy  0.0774\n",
       "19           (100, 5)   adam      150    X_copy   0.078\n",
       "7            (100, 3)   adam      150    X_copy  0.0786\n",
       "20           (100, 5)   adam      150  X_origin  0.0792\n",
       "27           (200, 3)    sgd      200         X  0.0845\n",
       "24           (200, 3)    sgd      150         X  0.0863\n",
       "15           (100, 5)    sgd      200         X  0.0869\n",
       "16           (100, 5)    sgd      200    X_copy  0.0893\n",
       "12           (100, 5)    sgd      150         X  0.0899\n",
       "29           (200, 3)    sgd      200  X_origin  0.0899\n",
       "28           (200, 3)    sgd      200    X_copy  0.0923\n",
       "26           (200, 3)    sgd      150  X_origin  0.0994\n",
       "13           (100, 5)    sgd      150    X_copy  0.1012\n",
       "17           (100, 5)    sgd      200  X_origin   0.106\n",
       "3            (100, 3)    sgd      200         X  0.1208\n",
       "25           (200, 3)    sgd      150    X_copy  0.1244\n",
       "14           (100, 5)    sgd      150  X_origin  0.1321\n",
       "0            (100, 3)    sgd      150         X  0.3702\n",
       "11           (100, 3)   adam      200  X_origin  0.4369\n",
       "8            (100, 3)   adam      150  X_origin  0.4369\n",
       "5            (100, 3)    sgd      200  X_origin  0.4369\n",
       "4            (100, 3)    sgd      200    X_copy  0.4369\n",
       "2            (100, 3)    sgd      150  X_origin  0.4369\n",
       "1            (100, 3)    sgd      150    X_copy  0.4369\n",
       "6            (100, 3)   adam      150         X  0.5631"
      ],
      "text/html": "<div>\n<style scoped>\n    .dataframe tbody tr th:only-of-type {\n        vertical-align: middle;\n    }\n\n    .dataframe tbody tr th {\n        vertical-align: top;\n    }\n\n    .dataframe thead th {\n        text-align: right;\n    }\n</style>\n<table border=\"1\" class=\"dataframe\">\n  <thead>\n    <tr style=\"text-align: right;\">\n      <th></th>\n      <th>hidden_layer_sizes</th>\n      <th>solver</th>\n      <th>max_iter</th>\n      <th>X_set</th>\n      <th>Error</th>\n    </tr>\n  </thead>\n  <tbody>\n    <tr>\n      <th>35</th>\n      <td>(200, 3)</td>\n      <td>adam</td>\n      <td>200</td>\n      <td>X_origin</td>\n      <td>0.0679</td>\n    </tr>\n    <tr>\n      <th>32</th>\n      <td>(200, 3)</td>\n      <td>adam</td>\n      <td>150</td>\n      <td>X_origin</td>\n      <td>0.069</td>\n    </tr>\n    <tr>\n      <th>34</th>\n      <td>(200, 3)</td>\n      <td>adam</td>\n      <td>200</td>\n      <td>X_copy</td>\n      <td>0.0714</td>\n    </tr>\n    <tr>\n      <th>30</th>\n      <td>(200, 3)</td>\n      <td>adam</td>\n      <td>150</td>\n      <td>X</td>\n      <td>0.0738</td>\n    </tr>\n    <tr>\n      <th>31</th>\n      <td>(200, 3)</td>\n      <td>adam</td>\n      <td>150</td>\n      <td>X_copy</td>\n      <td>0.0744</td>\n    </tr>\n    <tr>\n      <th>22</th>\n      <td>(100, 5)</td>\n      <td>adam</td>\n      <td>200</td>\n      <td>X_copy</td>\n      <td>0.0744</td>\n    </tr>\n    <tr>\n      <th>33</th>\n      <td>(200, 3)</td>\n      <td>adam</td>\n      <td>200</td>\n      <td>X</td>\n      <td>0.075</td>\n    </tr>\n    <tr>\n      <th>21</th>\n      <td>(100, 5)</td>\n      <td>adam</td>\n      <td>200</td>\n      <td>X</td>\n      <td>0.075</td>\n    </tr>\n    <tr>\n      <th>18</th>\n      <td>(100, 5)</td>\n      <td>adam</td>\n      <td>150</td>\n      <td>X</td>\n      <td>0.0756</td>\n    </tr>\n    <tr>\n      <th>23</th>\n      <td>(100, 5)</td>\n      <td>adam</td>\n      <td>200</td>\n      <td>X_origin</td>\n      <td>0.0762</td>\n    </tr>\n    <tr>\n      <th>9</th>\n      <td>(100, 3)</td>\n      <td>adam</td>\n      <td>200</td>\n      <td>X</td>\n      <td>0.0768</td>\n    </tr>\n    <tr>\n      <th>10</th>\n      <td>(100, 3)</td>\n      <td>adam</td>\n      <td>200</td>\n      <td>X_copy</td>\n      <td>0.0774</td>\n    </tr>\n    <tr>\n      <th>19</th>\n      <td>(100, 5)</td>\n      <td>adam</td>\n      <td>150</td>\n      <td>X_copy</td>\n      <td>0.078</td>\n    </tr>\n    <tr>\n      <th>7</th>\n      <td>(100, 3)</td>\n      <td>adam</td>\n      <td>150</td>\n      <td>X_copy</td>\n      <td>0.0786</td>\n    </tr>\n    <tr>\n      <th>20</th>\n      <td>(100, 5)</td>\n      <td>adam</td>\n      <td>150</td>\n      <td>X_origin</td>\n      <td>0.0792</td>\n    </tr>\n    <tr>\n      <th>27</th>\n      <td>(200, 3)</td>\n      <td>sgd</td>\n      <td>200</td>\n      <td>X</td>\n      <td>0.0845</td>\n    </tr>\n    <tr>\n      <th>24</th>\n      <td>(200, 3)</td>\n      <td>sgd</td>\n      <td>150</td>\n      <td>X</td>\n      <td>0.0863</td>\n    </tr>\n    <tr>\n      <th>15</th>\n      <td>(100, 5)</td>\n      <td>sgd</td>\n      <td>200</td>\n      <td>X</td>\n      <td>0.0869</td>\n    </tr>\n    <tr>\n      <th>16</th>\n      <td>(100, 5)</td>\n      <td>sgd</td>\n      <td>200</td>\n      <td>X_copy</td>\n      <td>0.0893</td>\n    </tr>\n    <tr>\n      <th>12</th>\n      <td>(100, 5)</td>\n      <td>sgd</td>\n      <td>150</td>\n      <td>X</td>\n      <td>0.0899</td>\n    </tr>\n    <tr>\n      <th>29</th>\n      <td>(200, 3)</td>\n      <td>sgd</td>\n      <td>200</td>\n      <td>X_origin</td>\n      <td>0.0899</td>\n    </tr>\n    <tr>\n      <th>28</th>\n      <td>(200, 3)</td>\n      <td>sgd</td>\n      <td>200</td>\n      <td>X_copy</td>\n      <td>0.0923</td>\n    </tr>\n    <tr>\n      <th>26</th>\n      <td>(200, 3)</td>\n      <td>sgd</td>\n      <td>150</td>\n      <td>X_origin</td>\n      <td>0.0994</td>\n    </tr>\n    <tr>\n      <th>13</th>\n      <td>(100, 5)</td>\n      <td>sgd</td>\n      <td>150</td>\n      <td>X_copy</td>\n      <td>0.1012</td>\n    </tr>\n    <tr>\n      <th>17</th>\n      <td>(100, 5)</td>\n      <td>sgd</td>\n      <td>200</td>\n      <td>X_origin</td>\n      <td>0.106</td>\n    </tr>\n    <tr>\n      <th>3</th>\n      <td>(100, 3)</td>\n      <td>sgd</td>\n      <td>200</td>\n      <td>X</td>\n      <td>0.1208</td>\n    </tr>\n    <tr>\n      <th>25</th>\n      <td>(200, 3)</td>\n      <td>sgd</td>\n      <td>150</td>\n      <td>X_copy</td>\n      <td>0.1244</td>\n    </tr>\n    <tr>\n      <th>14</th>\n      <td>(100, 5)</td>\n      <td>sgd</td>\n      <td>150</td>\n      <td>X_origin</td>\n      <td>0.1321</td>\n    </tr>\n    <tr>\n      <th>0</th>\n      <td>(100, 3)</td>\n      <td>sgd</td>\n      <td>150</td>\n      <td>X</td>\n      <td>0.3702</td>\n    </tr>\n    <tr>\n      <th>11</th>\n      <td>(100, 3)</td>\n      <td>adam</td>\n      <td>200</td>\n      <td>X_origin</td>\n      <td>0.4369</td>\n    </tr>\n    <tr>\n      <th>8</th>\n      <td>(100, 3)</td>\n      <td>adam</td>\n      <td>150</td>\n      <td>X_origin</td>\n      <td>0.4369</td>\n    </tr>\n    <tr>\n      <th>5</th>\n      <td>(100, 3)</td>\n      <td>sgd</td>\n      <td>200</td>\n      <td>X_origin</td>\n      <td>0.4369</td>\n    </tr>\n    <tr>\n      <th>4</th>\n      <td>(100, 3)</td>\n      <td>sgd</td>\n      <td>200</td>\n      <td>X_copy</td>\n      <td>0.4369</td>\n    </tr>\n    <tr>\n      <th>2</th>\n      <td>(100, 3)</td>\n      <td>sgd</td>\n      <td>150</td>\n      <td>X_origin</td>\n      <td>0.4369</td>\n    </tr>\n    <tr>\n      <th>1</th>\n      <td>(100, 3)</td>\n      <td>sgd</td>\n      <td>150</td>\n      <td>X_copy</td>\n      <td>0.4369</td>\n    </tr>\n    <tr>\n      <th>6</th>\n      <td>(100, 3)</td>\n      <td>adam</td>\n      <td>150</td>\n      <td>X</td>\n      <td>0.5631</td>\n    </tr>\n  </tbody>\n</table>\n</div>"
     },
     "metadata": {},
     "execution_count": 20
    }
   ],
   "source": [
    "%%time\n",
    "kf = KFold(n_splits = 10, shuffle = True)\n",
    "\n",
    "table = pd.DataFrame(columns=['hidden_layer_sizes', 'solver', 'max_iter','X_set', 'Error'])\n",
    "\n",
    "x_dict = {\n",
    "    'X': X,\n",
    "    'X_copy': X_copy,\n",
    "    'X_origin': X_origin\n",
    "}\n",
    "\n",
    "# NN\n",
    "\n",
    "row_index = 0\n",
    "for i in [(100,3),(100,5),(200,3)]:\n",
    "    for ii in ['sgd', 'adam']:\n",
    "        for iii in [150, 200]:\n",
    "            for x in ['X', 'X_copy', 'X_origin']:\n",
    "                table.loc[row_index, 'hidden_layer_sizes'] = str(i)\n",
    "                table.loc[row_index, 'solver'] = ii\n",
    "                table.loc[row_index, 'max_iter'] = iii\n",
    "                table.loc[row_index, 'X_set'] = x\n",
    "\n",
    "                model = MLPClassifier(hidden_layer_sizes = i, solver = ii, random_state=1, max_iter=iii)\n",
    "\n",
    "                e = round(1-cross_val_score(model, x_dict[x], y, scoring='accuracy', cv=kf).mean(), 4)\n",
    "                table.loc[row_index, 'Error'] = e\n",
    "                print(f'Row {row_index} calculation finished.')\n",
    "                row_index += 1\n",
    "\n",
    "table.sort_values(\"Error\", ascending=True)"
   ]
  },
  {
   "cell_type": "code",
   "execution_count": null,
   "metadata": {},
   "outputs": [],
   "source": []
  },
  {
   "cell_type": "code",
   "execution_count": 21,
   "metadata": {},
   "outputs": [],
   "source": [
    "# # define function\n",
    "\n",
    "# def model_e(X, y, model):\n",
    "#     '''\n",
    "#     model: one of 'logreg', 'lda', 'knn' \n",
    "#     '''\n",
    "#     if model == 'logreg':\n",
    "#         from sklearn.linear_model import LogisticRegression\n",
    "#         model = LogisticRegression()\n",
    "#     elif model == 'knn':\n",
    "#         print(\"Please choose your n for KNN model:\")\n",
    "#         n = int(input()) # n of your choice\n",
    "#         print(f\"Choose {n}.\")\n",
    "#         from sklearn.neighbors import KNeighborsClassifier\n",
    "#         model = KNeighborsClassifier(n_neighbors=n)\n",
    "\n",
    "#     avg_score = 1-cross_val_score(model, X, y, cv=3).mean()\n",
    "    \n",
    "    \n",
    "\n",
    "#     # e_list = []\n",
    "#     # for i in range(10):\n",
    "#     #     X_train, X_test, y_train, y_test = train_test_split(X,y,test_size=0.2,random_state = i)\n",
    "#     #     model.fit(X_train, y_train)\n",
    "#     #     e = 1-model.score(X_test, y_test)\n",
    "#     #     e_list.append(e)\n",
    "\n",
    "#     # e = sum(e_list)/len(e_list)\n",
    "#     print(f'Average classification error rate for {model} is {round(avg_score,4)}.')\n",
    "        \n",
    "\n",
    "# model_e(X_train, y_train, 'logreg')\n",
    "\n",
    "\n"
   ]
  },
  {
   "cell_type": "code",
   "execution_count": null,
   "metadata": {},
   "outputs": [],
   "source": []
  },
  {
   "cell_type": "code",
   "execution_count": null,
   "metadata": {},
   "outputs": [],
   "source": []
  },
  {
   "cell_type": "code",
   "execution_count": null,
   "metadata": {},
   "outputs": [],
   "source": []
  },
  {
   "cell_type": "code",
   "execution_count": null,
   "metadata": {},
   "outputs": [],
   "source": []
  }
 ]
}