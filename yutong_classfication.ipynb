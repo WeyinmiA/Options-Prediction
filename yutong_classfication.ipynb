{
 "metadata": {
  "language_info": {
   "codemirror_mode": {
    "name": "ipython",
    "version": 3
   },
   "file_extension": ".py",
   "mimetype": "text/x-python",
   "name": "python",
   "nbconvert_exporter": "python",
   "pygments_lexer": "ipython3",
   "version": "3.7.9-final"
  },
  "orig_nbformat": 2,
  "kernelspec": {
   "name": "python37964bit512e9edfd23c42bcbce8c04e586f7063",
   "display_name": "Python 3.7.9 64-bit"
  }
 },
 "nbformat": 4,
 "nbformat_minor": 2,
 "cells": [
  {
   "cell_type": "code",
   "execution_count": 236,
   "metadata": {},
   "outputs": [],
   "source": [
    "import pandas as pd\n",
    "import numpy as np\n",
    "\n",
    "import seaborn as sns\n",
    "import matplotlib.pyplot as plt\n",
    "\n",
    "from sklearn.model_selection import train_test_split\n",
    "from sklearn.preprocessing import MinMaxScaler\n",
    "from sklearn.linear_model import LogisticRegression\n",
    "from sklearn.feature_selection import RFECV\n",
    "from sklearn.model_selection import cross_val_score\n",
    "from sklearn.discriminant_analysis import LinearDiscriminantAnalysis\n",
    "from sklearn.neighbors import NearestNeighbors\n"
   ]
  },
  {
   "cell_type": "code",
   "execution_count": 237,
   "metadata": {},
   "outputs": [
    {
     "output_type": "stream",
     "name": "stdout",
     "text": [
      "<class 'pandas.core.frame.DataFrame'>\nRangeIndex: 1680 entries, 0 to 1679\nData columns (total 6 columns):\n #   Column  Non-Null Count  Dtype  \n---  ------  --------------  -----  \n 0   Value   1680 non-null   float64\n 1   S       1680 non-null   float64\n 2   K       1680 non-null   int64  \n 3   tau     1680 non-null   float64\n 4   r       1680 non-null   float64\n 5   BS      1680 non-null   object \ndtypes: float64(4), int64(1), object(1)\nmemory usage: 78.9+ KB\n"
     ]
    }
   ],
   "source": [
    "train_df = pd.read_csv(\"option_train.csv\")\n",
    "train_df.info()"
   ]
  },
  {
   "cell_type": "markdown",
   "metadata": {},
   "source": [
    "## Preprocessing"
   ]
  },
  {
   "cell_type": "code",
   "execution_count": 238,
   "metadata": {},
   "outputs": [
    {
     "output_type": "execute_result",
     "data": {
      "text/plain": [
       "       Value           S    K       tau        r     BS\n",
       "0  21.670404  431.623898  420  0.341270  0.03013  Under\n",
       "1   0.125000  427.015526  465  0.166667  0.03126   Over\n",
       "2  20.691244  427.762336  415  0.265873  0.03116  Under\n",
       "3   1.035002  451.711658  460  0.063492  0.02972   Over\n",
       "4  39.553020  446.718974  410  0.166667  0.02962  Under"
      ],
      "text/html": "<div>\n<style scoped>\n    .dataframe tbody tr th:only-of-type {\n        vertical-align: middle;\n    }\n\n    .dataframe tbody tr th {\n        vertical-align: top;\n    }\n\n    .dataframe thead th {\n        text-align: right;\n    }\n</style>\n<table border=\"1\" class=\"dataframe\">\n  <thead>\n    <tr style=\"text-align: right;\">\n      <th></th>\n      <th>Value</th>\n      <th>S</th>\n      <th>K</th>\n      <th>tau</th>\n      <th>r</th>\n      <th>BS</th>\n    </tr>\n  </thead>\n  <tbody>\n    <tr>\n      <th>0</th>\n      <td>21.670404</td>\n      <td>431.623898</td>\n      <td>420</td>\n      <td>0.341270</td>\n      <td>0.03013</td>\n      <td>Under</td>\n    </tr>\n    <tr>\n      <th>1</th>\n      <td>0.125000</td>\n      <td>427.015526</td>\n      <td>465</td>\n      <td>0.166667</td>\n      <td>0.03126</td>\n      <td>Over</td>\n    </tr>\n    <tr>\n      <th>2</th>\n      <td>20.691244</td>\n      <td>427.762336</td>\n      <td>415</td>\n      <td>0.265873</td>\n      <td>0.03116</td>\n      <td>Under</td>\n    </tr>\n    <tr>\n      <th>3</th>\n      <td>1.035002</td>\n      <td>451.711658</td>\n      <td>460</td>\n      <td>0.063492</td>\n      <td>0.02972</td>\n      <td>Over</td>\n    </tr>\n    <tr>\n      <th>4</th>\n      <td>39.553020</td>\n      <td>446.718974</td>\n      <td>410</td>\n      <td>0.166667</td>\n      <td>0.02962</td>\n      <td>Under</td>\n    </tr>\n  </tbody>\n</table>\n</div>"
     },
     "metadata": {},
     "execution_count": 238
    }
   ],
   "source": [
    "train_df.head()"
   ]
  },
  {
   "cell_type": "code",
   "execution_count": 239,
   "metadata": {},
   "outputs": [],
   "source": [
    "train_df.BS = train_df.BS.replace({'Under':0, 'Over':1})\n",
    "train_df = train_df.drop(columns = ['Value']) \n",
    "# assume we can't use Value so we drop it\n",
    "\n",
    "X = train_df.iloc[:, :-1]\n",
    "y = train_df.iloc[:, -1]"
   ]
  },
  {
   "cell_type": "code",
   "execution_count": null,
   "metadata": {},
   "outputs": [],
   "source": []
  },
  {
   "cell_type": "markdown",
   "metadata": {},
   "source": [
    "## Creating variables & MinMaxScale"
   ]
  },
  {
   "cell_type": "code",
   "execution_count": 240,
   "metadata": {},
   "outputs": [],
   "source": [
    "# from itertools import combinations\n",
    "# cols = list(X.columns)\n",
    "\n",
    "# for c in combinations(cols, 2):\n",
    "#     print(list(c))\n"
   ]
  },
  {
   "cell_type": "code",
   "execution_count": 241,
   "metadata": {},
   "outputs": [
    {
     "output_type": "execute_result",
     "data": {
      "text/plain": [
       "               S    K       tau        r            S*K       S*tau  \\\n",
       "0     431.623898  420  0.341270  0.03013  181282.037286  147.300219   \n",
       "1     427.015526  465  0.166667  0.03126  198562.219543   71.169254   \n",
       "2     427.762336  415  0.265873  0.03116  177521.369606  113.730463   \n",
       "3     451.711658  460  0.063492  0.02972  207787.362588   28.680105   \n",
       "4     446.718974  410  0.166667  0.02962  183154.779504   74.453163   \n",
       "...          ...  ...       ...      ...            ...         ...   \n",
       "1675  444.397163  475  0.273810  0.03034  211088.652662  121.680176   \n",
       "1676  438.453825  410  0.301587  0.02972  179766.068250  132.232106   \n",
       "1677  428.042219  390  0.170635  0.03188  166936.465410   73.038950   \n",
       "1678  439.081203  480  0.293651  0.02962  210758.977248  128.936544   \n",
       "1679  432.167692  465  0.218254  0.02993  200957.976966   94.322314   \n",
       "\n",
       "            S*r        S*r*K   S*r*tau       tau*K     tau*r   tau*r*K  \n",
       "0     13.004828  5462.027783  4.438156  143.333333  0.010282  4.318633  \n",
       "1     13.348505  6207.054983  2.224751   77.500000  0.005210  2.422650  \n",
       "2     13.329074  5531.565877  3.543841  110.337302  0.008285  3.438110  \n",
       "3     13.424870  6175.440416  0.852373   29.206349  0.001887  0.868013  \n",
       "4     13.231816  5425.044569  2.205303   68.333333  0.004937  2.024033  \n",
       "...         ...          ...       ...         ...       ...       ...  \n",
       "1675  13.483010  6404.429722  3.691777  130.059524  0.008307  3.946006  \n",
       "1676  13.030848  5342.647548  3.929938  123.650794  0.008963  3.674902  \n",
       "1677  13.645986  5321.934517  2.328482   66.547619  0.005440  2.121538  \n",
       "1678  13.005585  6242.680906  3.819100  140.952381  0.008698  4.175010  \n",
       "1679  12.934779  6014.672251  2.823067  101.488095  0.006532  3.037539  \n",
       "\n",
       "[1680 rows x 12 columns]"
      ],
      "text/html": "<div>\n<style scoped>\n    .dataframe tbody tr th:only-of-type {\n        vertical-align: middle;\n    }\n\n    .dataframe tbody tr th {\n        vertical-align: top;\n    }\n\n    .dataframe thead th {\n        text-align: right;\n    }\n</style>\n<table border=\"1\" class=\"dataframe\">\n  <thead>\n    <tr style=\"text-align: right;\">\n      <th></th>\n      <th>S</th>\n      <th>K</th>\n      <th>tau</th>\n      <th>r</th>\n      <th>S*K</th>\n      <th>S*tau</th>\n      <th>S*r</th>\n      <th>S*r*K</th>\n      <th>S*r*tau</th>\n      <th>tau*K</th>\n      <th>tau*r</th>\n      <th>tau*r*K</th>\n    </tr>\n  </thead>\n  <tbody>\n    <tr>\n      <th>0</th>\n      <td>431.623898</td>\n      <td>420</td>\n      <td>0.341270</td>\n      <td>0.03013</td>\n      <td>181282.037286</td>\n      <td>147.300219</td>\n      <td>13.004828</td>\n      <td>5462.027783</td>\n      <td>4.438156</td>\n      <td>143.333333</td>\n      <td>0.010282</td>\n      <td>4.318633</td>\n    </tr>\n    <tr>\n      <th>1</th>\n      <td>427.015526</td>\n      <td>465</td>\n      <td>0.166667</td>\n      <td>0.03126</td>\n      <td>198562.219543</td>\n      <td>71.169254</td>\n      <td>13.348505</td>\n      <td>6207.054983</td>\n      <td>2.224751</td>\n      <td>77.500000</td>\n      <td>0.005210</td>\n      <td>2.422650</td>\n    </tr>\n    <tr>\n      <th>2</th>\n      <td>427.762336</td>\n      <td>415</td>\n      <td>0.265873</td>\n      <td>0.03116</td>\n      <td>177521.369606</td>\n      <td>113.730463</td>\n      <td>13.329074</td>\n      <td>5531.565877</td>\n      <td>3.543841</td>\n      <td>110.337302</td>\n      <td>0.008285</td>\n      <td>3.438110</td>\n    </tr>\n    <tr>\n      <th>3</th>\n      <td>451.711658</td>\n      <td>460</td>\n      <td>0.063492</td>\n      <td>0.02972</td>\n      <td>207787.362588</td>\n      <td>28.680105</td>\n      <td>13.424870</td>\n      <td>6175.440416</td>\n      <td>0.852373</td>\n      <td>29.206349</td>\n      <td>0.001887</td>\n      <td>0.868013</td>\n    </tr>\n    <tr>\n      <th>4</th>\n      <td>446.718974</td>\n      <td>410</td>\n      <td>0.166667</td>\n      <td>0.02962</td>\n      <td>183154.779504</td>\n      <td>74.453163</td>\n      <td>13.231816</td>\n      <td>5425.044569</td>\n      <td>2.205303</td>\n      <td>68.333333</td>\n      <td>0.004937</td>\n      <td>2.024033</td>\n    </tr>\n    <tr>\n      <th>...</th>\n      <td>...</td>\n      <td>...</td>\n      <td>...</td>\n      <td>...</td>\n      <td>...</td>\n      <td>...</td>\n      <td>...</td>\n      <td>...</td>\n      <td>...</td>\n      <td>...</td>\n      <td>...</td>\n      <td>...</td>\n    </tr>\n    <tr>\n      <th>1675</th>\n      <td>444.397163</td>\n      <td>475</td>\n      <td>0.273810</td>\n      <td>0.03034</td>\n      <td>211088.652662</td>\n      <td>121.680176</td>\n      <td>13.483010</td>\n      <td>6404.429722</td>\n      <td>3.691777</td>\n      <td>130.059524</td>\n      <td>0.008307</td>\n      <td>3.946006</td>\n    </tr>\n    <tr>\n      <th>1676</th>\n      <td>438.453825</td>\n      <td>410</td>\n      <td>0.301587</td>\n      <td>0.02972</td>\n      <td>179766.068250</td>\n      <td>132.232106</td>\n      <td>13.030848</td>\n      <td>5342.647548</td>\n      <td>3.929938</td>\n      <td>123.650794</td>\n      <td>0.008963</td>\n      <td>3.674902</td>\n    </tr>\n    <tr>\n      <th>1677</th>\n      <td>428.042219</td>\n      <td>390</td>\n      <td>0.170635</td>\n      <td>0.03188</td>\n      <td>166936.465410</td>\n      <td>73.038950</td>\n      <td>13.645986</td>\n      <td>5321.934517</td>\n      <td>2.328482</td>\n      <td>66.547619</td>\n      <td>0.005440</td>\n      <td>2.121538</td>\n    </tr>\n    <tr>\n      <th>1678</th>\n      <td>439.081203</td>\n      <td>480</td>\n      <td>0.293651</td>\n      <td>0.02962</td>\n      <td>210758.977248</td>\n      <td>128.936544</td>\n      <td>13.005585</td>\n      <td>6242.680906</td>\n      <td>3.819100</td>\n      <td>140.952381</td>\n      <td>0.008698</td>\n      <td>4.175010</td>\n    </tr>\n    <tr>\n      <th>1679</th>\n      <td>432.167692</td>\n      <td>465</td>\n      <td>0.218254</td>\n      <td>0.02993</td>\n      <td>200957.976966</td>\n      <td>94.322314</td>\n      <td>12.934779</td>\n      <td>6014.672251</td>\n      <td>2.823067</td>\n      <td>101.488095</td>\n      <td>0.006532</td>\n      <td>3.037539</td>\n    </tr>\n  </tbody>\n</table>\n<p>1680 rows × 12 columns</p>\n</div>"
     },
     "metadata": {},
     "execution_count": 241
    }
   ],
   "source": [
    "# define function \n",
    "# multiplying all fields \n",
    "\n",
    "def create_variables(df):\n",
    "    cols = list(df.columns)\n",
    "    for i in cols:\n",
    "        cols.remove(i)\n",
    "        for ii in cols:\n",
    "            if i != ii:\n",
    "                name = str(i)+\"*\"+str(ii)\n",
    "                # name2 = str(i)+\"/\"+str(ii)\n",
    "                df[name] = df[i]*df[ii]\n",
    "                # df[name2] = df[i]/df[ii]\n",
    "        for iii in cols:\n",
    "            #print(f'i:{i}, ii:{ii}, iii:{iii}')\n",
    "            if i != iii and ii != iii and i != ii:\n",
    "                #print(f'i:{i}, ii:{ii}, iii:{iii}')\n",
    "                name = str(i)+\"*\"+str(ii)+\"*\"+str(iii)\n",
    "                df[name] = df[i]*df[ii]*df[iii]\n",
    "\n",
    "    return df\n",
    "\n",
    "create_variables(X)"
   ]
  },
  {
   "cell_type": "code",
   "execution_count": 242,
   "metadata": {},
   "outputs": [
    {
     "output_type": "execute_result",
     "data": {
      "text/plain": [
       "          S     K       tau         r       S*K     S*tau       S*r     S*r*K  \\\n",
       "0  0.202299  0.36  0.867347  0.261603  0.336600  0.829308  0.243026  0.280827   \n",
       "1  0.050749  0.72  0.418367  0.738397  0.604273  0.395640  0.516604  0.686948   \n",
       "2  0.075309  0.32  0.673469  0.696203  0.278347  0.638083  0.501137  0.318733   \n",
       "3  0.862901  0.68  0.153061  0.088608  0.747172  0.153608  0.577393  0.669715   \n",
       "4  0.698712  0.28  0.418367  0.046414  0.365609  0.414346  0.423716  0.260667   \n",
       "\n",
       "    S*r*tau     tau*K     tau*r   tau*r*K  \n",
       "0  0.820816  0.749947  0.858454  0.742367  \n",
       "1  0.406738  0.401345  0.430090  0.412605  \n",
       "2  0.653510  0.575226  0.689737  0.589221  \n",
       "3  0.149997  0.145619  0.149465  0.142213  \n",
       "4  0.403100  0.352805  0.407007  0.343275  "
      ],
      "text/html": "<div>\n<style scoped>\n    .dataframe tbody tr th:only-of-type {\n        vertical-align: middle;\n    }\n\n    .dataframe tbody tr th {\n        vertical-align: top;\n    }\n\n    .dataframe thead th {\n        text-align: right;\n    }\n</style>\n<table border=\"1\" class=\"dataframe\">\n  <thead>\n    <tr style=\"text-align: right;\">\n      <th></th>\n      <th>S</th>\n      <th>K</th>\n      <th>tau</th>\n      <th>r</th>\n      <th>S*K</th>\n      <th>S*tau</th>\n      <th>S*r</th>\n      <th>S*r*K</th>\n      <th>S*r*tau</th>\n      <th>tau*K</th>\n      <th>tau*r</th>\n      <th>tau*r*K</th>\n    </tr>\n  </thead>\n  <tbody>\n    <tr>\n      <th>0</th>\n      <td>0.202299</td>\n      <td>0.36</td>\n      <td>0.867347</td>\n      <td>0.261603</td>\n      <td>0.336600</td>\n      <td>0.829308</td>\n      <td>0.243026</td>\n      <td>0.280827</td>\n      <td>0.820816</td>\n      <td>0.749947</td>\n      <td>0.858454</td>\n      <td>0.742367</td>\n    </tr>\n    <tr>\n      <th>1</th>\n      <td>0.050749</td>\n      <td>0.72</td>\n      <td>0.418367</td>\n      <td>0.738397</td>\n      <td>0.604273</td>\n      <td>0.395640</td>\n      <td>0.516604</td>\n      <td>0.686948</td>\n      <td>0.406738</td>\n      <td>0.401345</td>\n      <td>0.430090</td>\n      <td>0.412605</td>\n    </tr>\n    <tr>\n      <th>2</th>\n      <td>0.075309</td>\n      <td>0.32</td>\n      <td>0.673469</td>\n      <td>0.696203</td>\n      <td>0.278347</td>\n      <td>0.638083</td>\n      <td>0.501137</td>\n      <td>0.318733</td>\n      <td>0.653510</td>\n      <td>0.575226</td>\n      <td>0.689737</td>\n      <td>0.589221</td>\n    </tr>\n    <tr>\n      <th>3</th>\n      <td>0.862901</td>\n      <td>0.68</td>\n      <td>0.153061</td>\n      <td>0.088608</td>\n      <td>0.747172</td>\n      <td>0.153608</td>\n      <td>0.577393</td>\n      <td>0.669715</td>\n      <td>0.149997</td>\n      <td>0.145619</td>\n      <td>0.149465</td>\n      <td>0.142213</td>\n    </tr>\n    <tr>\n      <th>4</th>\n      <td>0.698712</td>\n      <td>0.28</td>\n      <td>0.418367</td>\n      <td>0.046414</td>\n      <td>0.365609</td>\n      <td>0.414346</td>\n      <td>0.423716</td>\n      <td>0.260667</td>\n      <td>0.403100</td>\n      <td>0.352805</td>\n      <td>0.407007</td>\n      <td>0.343275</td>\n    </tr>\n  </tbody>\n</table>\n</div>"
     },
     "metadata": {},
     "execution_count": 242
    }
   ],
   "source": [
    "cols = X.columns\n",
    "X = MinMaxScaler().fit_transform(X)\n",
    "X = pd.DataFrame(X, columns = cols )\n",
    "X.head()"
   ]
  },
  {
   "cell_type": "code",
   "execution_count": 243,
   "metadata": {},
   "outputs": [
    {
     "output_type": "execute_result",
     "data": {
      "text/plain": [
       "(1680, 12)"
      ]
     },
     "metadata": {},
     "execution_count": 243
    }
   ],
   "source": [
    "X.shape"
   ]
  },
  {
   "cell_type": "markdown",
   "metadata": {},
   "source": [
    "## Feature Selection\n",
    "- backward wrapper with logistics model "
   ]
  },
  {
   "cell_type": "code",
   "execution_count": 244,
   "metadata": {},
   "outputs": [],
   "source": [
    "\n",
    "def backward_wrapper(x, y, estimator):\n",
    "    from sklearn.linear_model import LogisticRegression\n",
    "    #from sklearn.tree import DecisionTreeClassifier\n",
    "    from sklearn.feature_selection import RFECV\n",
    "    \n",
    "    if estimator == 'logreg':\n",
    "        model = LogisticRegression(penalty='l2', class_weight='balanced')\n",
    "    elif estimator == 'dt':\n",
    "        model = DecisionTreeClassifier()\n",
    "    \n",
    "    rfecv = RFECV(estimator=model, step=1, cv=2, verbose=2, n_jobs=1, scoring=\"roc_auc\")\n",
    "    rfecv.fit(x, y)\n",
    "    \n",
    "    print(rfecv.ranking_)\n",
    "\n",
    "\n",
    "    tops = pd.DataFrame()\n",
    "    tops['var'] = x.columns;tops['rank'] = rfecv.ranking_\n",
    "    tops = tops[tops['rank'] == 1]\n",
    "    # #if estimator == 'dt':\n",
    "    # tops = tops.sort_values('rank').reset_index(inplace = False)\n",
    "    # tops = tops.iloc[:n,:]\n",
    "    \n",
    "    \n",
    "    plt.figure()\n",
    "    plt.xlabel(\"Number of Feature Selected\")\n",
    "    plt.ylabel(\"Cross Validation Score\")\n",
    "    plt.plot(range(1, len(rfecv.grid_scores_)+1), rfecv.grid_scores_)\n",
    "    plt.show()\n",
    "    \n",
    "    return tops "
   ]
  },
  {
   "cell_type": "code",
   "execution_count": 245,
   "metadata": {},
   "outputs": [
    {
     "output_type": "stream",
     "name": "stdout",
     "text": [
      "Fitting estimator with 12 features.\n",
      "Fitting estimator with 11 features.\n",
      "Fitting estimator with 10 features.\n",
      "Fitting estimator with 9 features.\n",
      "Fitting estimator with 8 features.\n",
      "Fitting estimator with 7 features.\n",
      "Fitting estimator with 6 features.\n",
      "Fitting estimator with 5 features.\n",
      "Fitting estimator with 4 features.\n",
      "Fitting estimator with 3 features.\n",
      "Fitting estimator with 2 features.\n",
      "Fitting estimator with 12 features.\n",
      "Fitting estimator with 11 features.\n",
      "Fitting estimator with 10 features.\n",
      "Fitting estimator with 9 features.\n",
      "Fitting estimator with 8 features.\n",
      "Fitting estimator with 7 features.\n",
      "Fitting estimator with 6 features.\n",
      "Fitting estimator with 5 features.\n",
      "Fitting estimator with 4 features.\n",
      "Fitting estimator with 3 features.\n",
      "Fitting estimator with 2 features.\n",
      "Fitting estimator with 12 features.\n",
      "Fitting estimator with 11 features.\n",
      "Fitting estimator with 10 features.\n",
      "Fitting estimator with 9 features.\n",
      "Fitting estimator with 8 features.\n",
      "Fitting estimator with 7 features.\n",
      "[1 1 5 7 1 1 1 1 2 4 6 3]\n"
     ]
    },
    {
     "output_type": "display_data",
     "data": {
      "text/plain": "<Figure size 432x288 with 1 Axes>",
      "image/svg+xml": "<?xml version=\"1.0\" encoding=\"utf-8\" standalone=\"no\"?>\n<!DOCTYPE svg PUBLIC \"-//W3C//DTD SVG 1.1//EN\"\n  \"http://www.w3.org/Graphics/SVG/1.1/DTD/svg11.dtd\">\n<!-- Created with matplotlib (https://matplotlib.org/) -->\n<svg height=\"263.733142pt\" version=\"1.1\" viewBox=\"0 0 398.50625 263.733142\" width=\"398.50625pt\" xmlns=\"http://www.w3.org/2000/svg\" xmlns:xlink=\"http://www.w3.org/1999/xlink\">\n <metadata>\n  <rdf:RDF xmlns:cc=\"http://creativecommons.org/ns#\" xmlns:dc=\"http://purl.org/dc/elements/1.1/\" xmlns:rdf=\"http://www.w3.org/1999/02/22-rdf-syntax-ns#\">\n   <cc:Work>\n    <dc:type rdf:resource=\"http://purl.org/dc/dcmitype/StillImage\"/>\n    <dc:date>2021-03-29T01:29:00.918330</dc:date>\n    <dc:format>image/svg+xml</dc:format>\n    <dc:creator>\n     <cc:Agent>\n      <dc:title>Matplotlib v3.3.1, https://matplotlib.org/</dc:title>\n     </cc:Agent>\n    </dc:creator>\n   </cc:Work>\n  </rdf:RDF>\n </metadata>\n <defs>\n  <style type=\"text/css\">*{stroke-linecap:butt;stroke-linejoin:round;}</style>\n </defs>\n <g id=\"figure_1\">\n  <g id=\"patch_1\">\n   <path d=\"M 0 263.733142 \nL 398.50625 263.733142 \nL 398.50625 0 \nL 0 0 \nz\n\" style=\"fill:none;\"/>\n  </g>\n  <g id=\"axes_1\">\n   <g id=\"patch_2\">\n    <path d=\"M 56.50625 226.176892 \nL 391.30625 226.176892 \nL 391.30625 8.736892 \nL 56.50625 8.736892 \nz\n\" style=\"fill:#ffffff;\"/>\n   </g>\n   <g id=\"matplotlib.axis_1\">\n    <g id=\"xtick_1\">\n     <g id=\"line2d_1\">\n      <defs>\n       <path d=\"M 0 0 \nL 0 3.5 \n\" id=\"m6d7c4067e6\" style=\"stroke:#000000;stroke-width:0.8;\"/>\n      </defs>\n      <g>\n       <use style=\"stroke:#000000;stroke-width:0.8;\" x=\"99.393853\" xlink:href=\"#m6d7c4067e6\" y=\"226.176892\"/>\n      </g>\n     </g>\n     <g id=\"text_1\">\n      <!-- 2 -->\n      <g transform=\"translate(96.212603 240.775329)scale(0.1 -0.1)\">\n       <defs>\n        <path d=\"M 19.1875 8.296875 \nL 53.609375 8.296875 \nL 53.609375 0 \nL 7.328125 0 \nL 7.328125 8.296875 \nQ 12.9375 14.109375 22.625 23.890625 \nQ 32.328125 33.6875 34.8125 36.53125 \nQ 39.546875 41.84375 41.421875 45.53125 \nQ 43.3125 49.21875 43.3125 52.78125 \nQ 43.3125 58.59375 39.234375 62.25 \nQ 35.15625 65.921875 28.609375 65.921875 \nQ 23.96875 65.921875 18.8125 64.3125 \nQ 13.671875 62.703125 7.8125 59.421875 \nL 7.8125 69.390625 \nQ 13.765625 71.78125 18.9375 73 \nQ 24.125 74.21875 28.421875 74.21875 \nQ 39.75 74.21875 46.484375 68.546875 \nQ 53.21875 62.890625 53.21875 53.421875 \nQ 53.21875 48.921875 51.53125 44.890625 \nQ 49.859375 40.875 45.40625 35.40625 \nQ 44.1875 33.984375 37.640625 27.21875 \nQ 31.109375 20.453125 19.1875 8.296875 \nz\n\" id=\"DejaVuSans-50\"/>\n       </defs>\n       <use xlink:href=\"#DejaVuSans-50\"/>\n      </g>\n     </g>\n    </g>\n    <g id=\"xtick_2\">\n     <g id=\"line2d_2\">\n      <g>\n       <use style=\"stroke:#000000;stroke-width:0.8;\" x=\"154.732696\" xlink:href=\"#m6d7c4067e6\" y=\"226.176892\"/>\n      </g>\n     </g>\n     <g id=\"text_2\">\n      <!-- 4 -->\n      <g transform=\"translate(151.551446 240.775329)scale(0.1 -0.1)\">\n       <defs>\n        <path d=\"M 37.796875 64.3125 \nL 12.890625 25.390625 \nL 37.796875 25.390625 \nz\nM 35.203125 72.90625 \nL 47.609375 72.90625 \nL 47.609375 25.390625 \nL 58.015625 25.390625 \nL 58.015625 17.1875 \nL 47.609375 17.1875 \nL 47.609375 0 \nL 37.796875 0 \nL 37.796875 17.1875 \nL 4.890625 17.1875 \nL 4.890625 26.703125 \nz\n\" id=\"DejaVuSans-52\"/>\n       </defs>\n       <use xlink:href=\"#DejaVuSans-52\"/>\n      </g>\n     </g>\n    </g>\n    <g id=\"xtick_3\">\n     <g id=\"line2d_3\">\n      <g>\n       <use style=\"stroke:#000000;stroke-width:0.8;\" x=\"210.071539\" xlink:href=\"#m6d7c4067e6\" y=\"226.176892\"/>\n      </g>\n     </g>\n     <g id=\"text_3\">\n      <!-- 6 -->\n      <g transform=\"translate(206.890289 240.775329)scale(0.1 -0.1)\">\n       <defs>\n        <path d=\"M 33.015625 40.375 \nQ 26.375 40.375 22.484375 35.828125 \nQ 18.609375 31.296875 18.609375 23.390625 \nQ 18.609375 15.53125 22.484375 10.953125 \nQ 26.375 6.390625 33.015625 6.390625 \nQ 39.65625 6.390625 43.53125 10.953125 \nQ 47.40625 15.53125 47.40625 23.390625 \nQ 47.40625 31.296875 43.53125 35.828125 \nQ 39.65625 40.375 33.015625 40.375 \nz\nM 52.59375 71.296875 \nL 52.59375 62.3125 \nQ 48.875 64.0625 45.09375 64.984375 \nQ 41.3125 65.921875 37.59375 65.921875 \nQ 27.828125 65.921875 22.671875 59.328125 \nQ 17.53125 52.734375 16.796875 39.40625 \nQ 19.671875 43.65625 24.015625 45.921875 \nQ 28.375 48.1875 33.59375 48.1875 \nQ 44.578125 48.1875 50.953125 41.515625 \nQ 57.328125 34.859375 57.328125 23.390625 \nQ 57.328125 12.15625 50.6875 5.359375 \nQ 44.046875 -1.421875 33.015625 -1.421875 \nQ 20.359375 -1.421875 13.671875 8.265625 \nQ 6.984375 17.96875 6.984375 36.375 \nQ 6.984375 53.65625 15.1875 63.9375 \nQ 23.390625 74.21875 37.203125 74.21875 \nQ 40.921875 74.21875 44.703125 73.484375 \nQ 48.484375 72.75 52.59375 71.296875 \nz\n\" id=\"DejaVuSans-54\"/>\n       </defs>\n       <use xlink:href=\"#DejaVuSans-54\"/>\n      </g>\n     </g>\n    </g>\n    <g id=\"xtick_4\">\n     <g id=\"line2d_4\">\n      <g>\n       <use style=\"stroke:#000000;stroke-width:0.8;\" x=\"265.410382\" xlink:href=\"#m6d7c4067e6\" y=\"226.176892\"/>\n      </g>\n     </g>\n     <g id=\"text_4\">\n      <!-- 8 -->\n      <g transform=\"translate(262.229132 240.775329)scale(0.1 -0.1)\">\n       <defs>\n        <path d=\"M 31.78125 34.625 \nQ 24.75 34.625 20.71875 30.859375 \nQ 16.703125 27.09375 16.703125 20.515625 \nQ 16.703125 13.921875 20.71875 10.15625 \nQ 24.75 6.390625 31.78125 6.390625 \nQ 38.8125 6.390625 42.859375 10.171875 \nQ 46.921875 13.96875 46.921875 20.515625 \nQ 46.921875 27.09375 42.890625 30.859375 \nQ 38.875 34.625 31.78125 34.625 \nz\nM 21.921875 38.8125 \nQ 15.578125 40.375 12.03125 44.71875 \nQ 8.5 49.078125 8.5 55.328125 \nQ 8.5 64.0625 14.71875 69.140625 \nQ 20.953125 74.21875 31.78125 74.21875 \nQ 42.671875 74.21875 48.875 69.140625 \nQ 55.078125 64.0625 55.078125 55.328125 \nQ 55.078125 49.078125 51.53125 44.71875 \nQ 48 40.375 41.703125 38.8125 \nQ 48.828125 37.15625 52.796875 32.3125 \nQ 56.78125 27.484375 56.78125 20.515625 \nQ 56.78125 9.90625 50.3125 4.234375 \nQ 43.84375 -1.421875 31.78125 -1.421875 \nQ 19.734375 -1.421875 13.25 4.234375 \nQ 6.78125 9.90625 6.78125 20.515625 \nQ 6.78125 27.484375 10.78125 32.3125 \nQ 14.796875 37.15625 21.921875 38.8125 \nz\nM 18.3125 54.390625 \nQ 18.3125 48.734375 21.84375 45.5625 \nQ 25.390625 42.390625 31.78125 42.390625 \nQ 38.140625 42.390625 41.71875 45.5625 \nQ 45.3125 48.734375 45.3125 54.390625 \nQ 45.3125 60.0625 41.71875 63.234375 \nQ 38.140625 66.40625 31.78125 66.40625 \nQ 25.390625 66.40625 21.84375 63.234375 \nQ 18.3125 60.0625 18.3125 54.390625 \nz\n\" id=\"DejaVuSans-56\"/>\n       </defs>\n       <use xlink:href=\"#DejaVuSans-56\"/>\n      </g>\n     </g>\n    </g>\n    <g id=\"xtick_5\">\n     <g id=\"line2d_5\">\n      <g>\n       <use style=\"stroke:#000000;stroke-width:0.8;\" x=\"320.749225\" xlink:href=\"#m6d7c4067e6\" y=\"226.176892\"/>\n      </g>\n     </g>\n     <g id=\"text_5\">\n      <!-- 10 -->\n      <g transform=\"translate(314.386725 240.775329)scale(0.1 -0.1)\">\n       <defs>\n        <path d=\"M 12.40625 8.296875 \nL 28.515625 8.296875 \nL 28.515625 63.921875 \nL 10.984375 60.40625 \nL 10.984375 69.390625 \nL 28.421875 72.90625 \nL 38.28125 72.90625 \nL 38.28125 8.296875 \nL 54.390625 8.296875 \nL 54.390625 0 \nL 12.40625 0 \nz\n\" id=\"DejaVuSans-49\"/>\n        <path d=\"M 31.78125 66.40625 \nQ 24.171875 66.40625 20.328125 58.90625 \nQ 16.5 51.421875 16.5 36.375 \nQ 16.5 21.390625 20.328125 13.890625 \nQ 24.171875 6.390625 31.78125 6.390625 \nQ 39.453125 6.390625 43.28125 13.890625 \nQ 47.125 21.390625 47.125 36.375 \nQ 47.125 51.421875 43.28125 58.90625 \nQ 39.453125 66.40625 31.78125 66.40625 \nz\nM 31.78125 74.21875 \nQ 44.046875 74.21875 50.515625 64.515625 \nQ 56.984375 54.828125 56.984375 36.375 \nQ 56.984375 17.96875 50.515625 8.265625 \nQ 44.046875 -1.421875 31.78125 -1.421875 \nQ 19.53125 -1.421875 13.0625 8.265625 \nQ 6.59375 17.96875 6.59375 36.375 \nQ 6.59375 54.828125 13.0625 64.515625 \nQ 19.53125 74.21875 31.78125 74.21875 \nz\n\" id=\"DejaVuSans-48\"/>\n       </defs>\n       <use xlink:href=\"#DejaVuSans-49\"/>\n       <use x=\"63.623047\" xlink:href=\"#DejaVuSans-48\"/>\n      </g>\n     </g>\n    </g>\n    <g id=\"xtick_6\">\n     <g id=\"line2d_6\">\n      <g>\n       <use style=\"stroke:#000000;stroke-width:0.8;\" x=\"376.088068\" xlink:href=\"#m6d7c4067e6\" y=\"226.176892\"/>\n      </g>\n     </g>\n     <g id=\"text_6\">\n      <!-- 12 -->\n      <g transform=\"translate(369.725568 240.775329)scale(0.1 -0.1)\">\n       <use xlink:href=\"#DejaVuSans-49\"/>\n       <use x=\"63.623047\" xlink:href=\"#DejaVuSans-50\"/>\n      </g>\n     </g>\n    </g>\n    <g id=\"text_7\">\n     <!-- Number of Feature Selected -->\n     <g transform=\"translate(153.667188 254.453454)scale(0.1 -0.1)\">\n      <defs>\n       <path d=\"M 9.8125 72.90625 \nL 23.09375 72.90625 \nL 55.421875 11.921875 \nL 55.421875 72.90625 \nL 64.984375 72.90625 \nL 64.984375 0 \nL 51.703125 0 \nL 19.390625 60.984375 \nL 19.390625 0 \nL 9.8125 0 \nz\n\" id=\"DejaVuSans-78\"/>\n       <path d=\"M 8.5 21.578125 \nL 8.5 54.6875 \nL 17.484375 54.6875 \nL 17.484375 21.921875 \nQ 17.484375 14.15625 20.5 10.265625 \nQ 23.53125 6.390625 29.59375 6.390625 \nQ 36.859375 6.390625 41.078125 11.03125 \nQ 45.3125 15.671875 45.3125 23.6875 \nL 45.3125 54.6875 \nL 54.296875 54.6875 \nL 54.296875 0 \nL 45.3125 0 \nL 45.3125 8.40625 \nQ 42.046875 3.421875 37.71875 1 \nQ 33.40625 -1.421875 27.6875 -1.421875 \nQ 18.265625 -1.421875 13.375 4.4375 \nQ 8.5 10.296875 8.5 21.578125 \nz\nM 31.109375 56 \nz\n\" id=\"DejaVuSans-117\"/>\n       <path d=\"M 52 44.1875 \nQ 55.375 50.25 60.0625 53.125 \nQ 64.75 56 71.09375 56 \nQ 79.640625 56 84.28125 50.015625 \nQ 88.921875 44.046875 88.921875 33.015625 \nL 88.921875 0 \nL 79.890625 0 \nL 79.890625 32.71875 \nQ 79.890625 40.578125 77.09375 44.375 \nQ 74.3125 48.1875 68.609375 48.1875 \nQ 61.625 48.1875 57.5625 43.546875 \nQ 53.515625 38.921875 53.515625 30.90625 \nL 53.515625 0 \nL 44.484375 0 \nL 44.484375 32.71875 \nQ 44.484375 40.625 41.703125 44.40625 \nQ 38.921875 48.1875 33.109375 48.1875 \nQ 26.21875 48.1875 22.15625 43.53125 \nQ 18.109375 38.875 18.109375 30.90625 \nL 18.109375 0 \nL 9.078125 0 \nL 9.078125 54.6875 \nL 18.109375 54.6875 \nL 18.109375 46.1875 \nQ 21.1875 51.21875 25.484375 53.609375 \nQ 29.78125 56 35.6875 56 \nQ 41.65625 56 45.828125 52.96875 \nQ 50 49.953125 52 44.1875 \nz\n\" id=\"DejaVuSans-109\"/>\n       <path d=\"M 48.6875 27.296875 \nQ 48.6875 37.203125 44.609375 42.84375 \nQ 40.53125 48.484375 33.40625 48.484375 \nQ 26.265625 48.484375 22.1875 42.84375 \nQ 18.109375 37.203125 18.109375 27.296875 \nQ 18.109375 17.390625 22.1875 11.75 \nQ 26.265625 6.109375 33.40625 6.109375 \nQ 40.53125 6.109375 44.609375 11.75 \nQ 48.6875 17.390625 48.6875 27.296875 \nz\nM 18.109375 46.390625 \nQ 20.953125 51.265625 25.265625 53.625 \nQ 29.59375 56 35.59375 56 \nQ 45.5625 56 51.78125 48.09375 \nQ 58.015625 40.1875 58.015625 27.296875 \nQ 58.015625 14.40625 51.78125 6.484375 \nQ 45.5625 -1.421875 35.59375 -1.421875 \nQ 29.59375 -1.421875 25.265625 0.953125 \nQ 20.953125 3.328125 18.109375 8.203125 \nL 18.109375 0 \nL 9.078125 0 \nL 9.078125 75.984375 \nL 18.109375 75.984375 \nz\n\" id=\"DejaVuSans-98\"/>\n       <path d=\"M 56.203125 29.59375 \nL 56.203125 25.203125 \nL 14.890625 25.203125 \nQ 15.484375 15.921875 20.484375 11.0625 \nQ 25.484375 6.203125 34.421875 6.203125 \nQ 39.59375 6.203125 44.453125 7.46875 \nQ 49.3125 8.734375 54.109375 11.28125 \nL 54.109375 2.78125 \nQ 49.265625 0.734375 44.1875 -0.34375 \nQ 39.109375 -1.421875 33.890625 -1.421875 \nQ 20.796875 -1.421875 13.15625 6.1875 \nQ 5.515625 13.8125 5.515625 26.8125 \nQ 5.515625 40.234375 12.765625 48.109375 \nQ 20.015625 56 32.328125 56 \nQ 43.359375 56 49.78125 48.890625 \nQ 56.203125 41.796875 56.203125 29.59375 \nz\nM 47.21875 32.234375 \nQ 47.125 39.59375 43.09375 43.984375 \nQ 39.0625 48.390625 32.421875 48.390625 \nQ 24.90625 48.390625 20.390625 44.140625 \nQ 15.875 39.890625 15.1875 32.171875 \nz\n\" id=\"DejaVuSans-101\"/>\n       <path d=\"M 41.109375 46.296875 \nQ 39.59375 47.171875 37.8125 47.578125 \nQ 36.03125 48 33.890625 48 \nQ 26.265625 48 22.1875 43.046875 \nQ 18.109375 38.09375 18.109375 28.8125 \nL 18.109375 0 \nL 9.078125 0 \nL 9.078125 54.6875 \nL 18.109375 54.6875 \nL 18.109375 46.1875 \nQ 20.953125 51.171875 25.484375 53.578125 \nQ 30.03125 56 36.53125 56 \nQ 37.453125 56 38.578125 55.875 \nQ 39.703125 55.765625 41.0625 55.515625 \nz\n\" id=\"DejaVuSans-114\"/>\n       <path id=\"DejaVuSans-32\"/>\n       <path d=\"M 30.609375 48.390625 \nQ 23.390625 48.390625 19.1875 42.75 \nQ 14.984375 37.109375 14.984375 27.296875 \nQ 14.984375 17.484375 19.15625 11.84375 \nQ 23.34375 6.203125 30.609375 6.203125 \nQ 37.796875 6.203125 41.984375 11.859375 \nQ 46.1875 17.53125 46.1875 27.296875 \nQ 46.1875 37.015625 41.984375 42.703125 \nQ 37.796875 48.390625 30.609375 48.390625 \nz\nM 30.609375 56 \nQ 42.328125 56 49.015625 48.375 \nQ 55.71875 40.765625 55.71875 27.296875 \nQ 55.71875 13.875 49.015625 6.21875 \nQ 42.328125 -1.421875 30.609375 -1.421875 \nQ 18.84375 -1.421875 12.171875 6.21875 \nQ 5.515625 13.875 5.515625 27.296875 \nQ 5.515625 40.765625 12.171875 48.375 \nQ 18.84375 56 30.609375 56 \nz\n\" id=\"DejaVuSans-111\"/>\n       <path d=\"M 37.109375 75.984375 \nL 37.109375 68.5 \nL 28.515625 68.5 \nQ 23.6875 68.5 21.796875 66.546875 \nQ 19.921875 64.59375 19.921875 59.515625 \nL 19.921875 54.6875 \nL 34.71875 54.6875 \nL 34.71875 47.703125 \nL 19.921875 47.703125 \nL 19.921875 0 \nL 10.890625 0 \nL 10.890625 47.703125 \nL 2.296875 47.703125 \nL 2.296875 54.6875 \nL 10.890625 54.6875 \nL 10.890625 58.5 \nQ 10.890625 67.625 15.140625 71.796875 \nQ 19.390625 75.984375 28.609375 75.984375 \nz\n\" id=\"DejaVuSans-102\"/>\n       <path d=\"M 9.8125 72.90625 \nL 51.703125 72.90625 \nL 51.703125 64.59375 \nL 19.671875 64.59375 \nL 19.671875 43.109375 \nL 48.578125 43.109375 \nL 48.578125 34.8125 \nL 19.671875 34.8125 \nL 19.671875 0 \nL 9.8125 0 \nz\n\" id=\"DejaVuSans-70\"/>\n       <path d=\"M 34.28125 27.484375 \nQ 23.390625 27.484375 19.1875 25 \nQ 14.984375 22.515625 14.984375 16.5 \nQ 14.984375 11.71875 18.140625 8.90625 \nQ 21.296875 6.109375 26.703125 6.109375 \nQ 34.1875 6.109375 38.703125 11.40625 \nQ 43.21875 16.703125 43.21875 25.484375 \nL 43.21875 27.484375 \nz\nM 52.203125 31.203125 \nL 52.203125 0 \nL 43.21875 0 \nL 43.21875 8.296875 \nQ 40.140625 3.328125 35.546875 0.953125 \nQ 30.953125 -1.421875 24.3125 -1.421875 \nQ 15.921875 -1.421875 10.953125 3.296875 \nQ 6 8.015625 6 15.921875 \nQ 6 25.140625 12.171875 29.828125 \nQ 18.359375 34.515625 30.609375 34.515625 \nL 43.21875 34.515625 \nL 43.21875 35.40625 \nQ 43.21875 41.609375 39.140625 45 \nQ 35.0625 48.390625 27.6875 48.390625 \nQ 23 48.390625 18.546875 47.265625 \nQ 14.109375 46.140625 10.015625 43.890625 \nL 10.015625 52.203125 \nQ 14.9375 54.109375 19.578125 55.046875 \nQ 24.21875 56 28.609375 56 \nQ 40.484375 56 46.34375 49.84375 \nQ 52.203125 43.703125 52.203125 31.203125 \nz\n\" id=\"DejaVuSans-97\"/>\n       <path d=\"M 18.3125 70.21875 \nL 18.3125 54.6875 \nL 36.8125 54.6875 \nL 36.8125 47.703125 \nL 18.3125 47.703125 \nL 18.3125 18.015625 \nQ 18.3125 11.328125 20.140625 9.421875 \nQ 21.96875 7.515625 27.59375 7.515625 \nL 36.8125 7.515625 \nL 36.8125 0 \nL 27.59375 0 \nQ 17.1875 0 13.234375 3.875 \nQ 9.28125 7.765625 9.28125 18.015625 \nL 9.28125 47.703125 \nL 2.6875 47.703125 \nL 2.6875 54.6875 \nL 9.28125 54.6875 \nL 9.28125 70.21875 \nz\n\" id=\"DejaVuSans-116\"/>\n       <path d=\"M 53.515625 70.515625 \nL 53.515625 60.890625 \nQ 47.90625 63.578125 42.921875 64.890625 \nQ 37.9375 66.21875 33.296875 66.21875 \nQ 25.25 66.21875 20.875 63.09375 \nQ 16.5 59.96875 16.5 54.203125 \nQ 16.5 49.359375 19.40625 46.890625 \nQ 22.3125 44.4375 30.421875 42.921875 \nL 36.375 41.703125 \nQ 47.40625 39.59375 52.65625 34.296875 \nQ 57.90625 29 57.90625 20.125 \nQ 57.90625 9.515625 50.796875 4.046875 \nQ 43.703125 -1.421875 29.984375 -1.421875 \nQ 24.8125 -1.421875 18.96875 -0.25 \nQ 13.140625 0.921875 6.890625 3.21875 \nL 6.890625 13.375 \nQ 12.890625 10.015625 18.65625 8.296875 \nQ 24.421875 6.59375 29.984375 6.59375 \nQ 38.421875 6.59375 43.015625 9.90625 \nQ 47.609375 13.234375 47.609375 19.390625 \nQ 47.609375 24.75 44.3125 27.78125 \nQ 41.015625 30.8125 33.5 32.328125 \nL 27.484375 33.5 \nQ 16.453125 35.6875 11.515625 40.375 \nQ 6.59375 45.0625 6.59375 53.421875 \nQ 6.59375 63.09375 13.40625 68.65625 \nQ 20.21875 74.21875 32.171875 74.21875 \nQ 37.3125 74.21875 42.625 73.28125 \nQ 47.953125 72.359375 53.515625 70.515625 \nz\n\" id=\"DejaVuSans-83\"/>\n       <path d=\"M 9.421875 75.984375 \nL 18.40625 75.984375 \nL 18.40625 0 \nL 9.421875 0 \nz\n\" id=\"DejaVuSans-108\"/>\n       <path d=\"M 48.78125 52.59375 \nL 48.78125 44.1875 \nQ 44.96875 46.296875 41.140625 47.34375 \nQ 37.3125 48.390625 33.40625 48.390625 \nQ 24.65625 48.390625 19.8125 42.84375 \nQ 14.984375 37.3125 14.984375 27.296875 \nQ 14.984375 17.28125 19.8125 11.734375 \nQ 24.65625 6.203125 33.40625 6.203125 \nQ 37.3125 6.203125 41.140625 7.25 \nQ 44.96875 8.296875 48.78125 10.40625 \nL 48.78125 2.09375 \nQ 45.015625 0.34375 40.984375 -0.53125 \nQ 36.96875 -1.421875 32.421875 -1.421875 \nQ 20.0625 -1.421875 12.78125 6.34375 \nQ 5.515625 14.109375 5.515625 27.296875 \nQ 5.515625 40.671875 12.859375 48.328125 \nQ 20.21875 56 33.015625 56 \nQ 37.15625 56 41.109375 55.140625 \nQ 45.0625 54.296875 48.78125 52.59375 \nz\n\" id=\"DejaVuSans-99\"/>\n       <path d=\"M 45.40625 46.390625 \nL 45.40625 75.984375 \nL 54.390625 75.984375 \nL 54.390625 0 \nL 45.40625 0 \nL 45.40625 8.203125 \nQ 42.578125 3.328125 38.25 0.953125 \nQ 33.9375 -1.421875 27.875 -1.421875 \nQ 17.96875 -1.421875 11.734375 6.484375 \nQ 5.515625 14.40625 5.515625 27.296875 \nQ 5.515625 40.1875 11.734375 48.09375 \nQ 17.96875 56 27.875 56 \nQ 33.9375 56 38.25 53.625 \nQ 42.578125 51.265625 45.40625 46.390625 \nz\nM 14.796875 27.296875 \nQ 14.796875 17.390625 18.875 11.75 \nQ 22.953125 6.109375 30.078125 6.109375 \nQ 37.203125 6.109375 41.296875 11.75 \nQ 45.40625 17.390625 45.40625 27.296875 \nQ 45.40625 37.203125 41.296875 42.84375 \nQ 37.203125 48.484375 30.078125 48.484375 \nQ 22.953125 48.484375 18.875 42.84375 \nQ 14.796875 37.203125 14.796875 27.296875 \nz\n\" id=\"DejaVuSans-100\"/>\n      </defs>\n      <use xlink:href=\"#DejaVuSans-78\"/>\n      <use x=\"74.804688\" xlink:href=\"#DejaVuSans-117\"/>\n      <use x=\"138.183594\" xlink:href=\"#DejaVuSans-109\"/>\n      <use x=\"235.595703\" xlink:href=\"#DejaVuSans-98\"/>\n      <use x=\"299.072266\" xlink:href=\"#DejaVuSans-101\"/>\n      <use x=\"360.595703\" xlink:href=\"#DejaVuSans-114\"/>\n      <use x=\"401.708984\" xlink:href=\"#DejaVuSans-32\"/>\n      <use x=\"433.496094\" xlink:href=\"#DejaVuSans-111\"/>\n      <use x=\"494.677734\" xlink:href=\"#DejaVuSans-102\"/>\n      <use x=\"529.882812\" xlink:href=\"#DejaVuSans-32\"/>\n      <use x=\"561.669922\" xlink:href=\"#DejaVuSans-70\"/>\n      <use x=\"613.689453\" xlink:href=\"#DejaVuSans-101\"/>\n      <use x=\"675.212891\" xlink:href=\"#DejaVuSans-97\"/>\n      <use x=\"736.492188\" xlink:href=\"#DejaVuSans-116\"/>\n      <use x=\"775.701172\" xlink:href=\"#DejaVuSans-117\"/>\n      <use x=\"839.080078\" xlink:href=\"#DejaVuSans-114\"/>\n      <use x=\"877.943359\" xlink:href=\"#DejaVuSans-101\"/>\n      <use x=\"939.466797\" xlink:href=\"#DejaVuSans-32\"/>\n      <use x=\"971.253906\" xlink:href=\"#DejaVuSans-83\"/>\n      <use x=\"1034.730469\" xlink:href=\"#DejaVuSans-101\"/>\n      <use x=\"1096.253906\" xlink:href=\"#DejaVuSans-108\"/>\n      <use x=\"1124.037109\" xlink:href=\"#DejaVuSans-101\"/>\n      <use x=\"1185.560547\" xlink:href=\"#DejaVuSans-99\"/>\n      <use x=\"1240.541016\" xlink:href=\"#DejaVuSans-116\"/>\n      <use x=\"1279.75\" xlink:href=\"#DejaVuSans-101\"/>\n      <use x=\"1341.273438\" xlink:href=\"#DejaVuSans-100\"/>\n     </g>\n    </g>\n   </g>\n   <g id=\"matplotlib.axis_2\">\n    <g id=\"ytick_1\">\n     <g id=\"line2d_7\">\n      <defs>\n       <path d=\"M 0 0 \nL -3.5 0 \n\" id=\"mf89bd2f517\" style=\"stroke:#000000;stroke-width:0.8;\"/>\n      </defs>\n      <g>\n       <use style=\"stroke:#000000;stroke-width:0.8;\" x=\"56.50625\" xlink:href=\"#mf89bd2f517\" y=\"214.782577\"/>\n      </g>\n     </g>\n     <g id=\"text_8\">\n      <!-- 0.940 -->\n      <g transform=\"translate(20.878125 218.581796)scale(0.1 -0.1)\">\n       <defs>\n        <path d=\"M 10.6875 12.40625 \nL 21 12.40625 \nL 21 0 \nL 10.6875 0 \nz\n\" id=\"DejaVuSans-46\"/>\n        <path d=\"M 10.984375 1.515625 \nL 10.984375 10.5 \nQ 14.703125 8.734375 18.5 7.8125 \nQ 22.3125 6.890625 25.984375 6.890625 \nQ 35.75 6.890625 40.890625 13.453125 \nQ 46.046875 20.015625 46.78125 33.40625 \nQ 43.953125 29.203125 39.59375 26.953125 \nQ 35.25 24.703125 29.984375 24.703125 \nQ 19.046875 24.703125 12.671875 31.3125 \nQ 6.296875 37.9375 6.296875 49.421875 \nQ 6.296875 60.640625 12.9375 67.421875 \nQ 19.578125 74.21875 30.609375 74.21875 \nQ 43.265625 74.21875 49.921875 64.515625 \nQ 56.59375 54.828125 56.59375 36.375 \nQ 56.59375 19.140625 48.40625 8.859375 \nQ 40.234375 -1.421875 26.421875 -1.421875 \nQ 22.703125 -1.421875 18.890625 -0.6875 \nQ 15.09375 0.046875 10.984375 1.515625 \nz\nM 30.609375 32.421875 \nQ 37.25 32.421875 41.125 36.953125 \nQ 45.015625 41.5 45.015625 49.421875 \nQ 45.015625 57.28125 41.125 61.84375 \nQ 37.25 66.40625 30.609375 66.40625 \nQ 23.96875 66.40625 20.09375 61.84375 \nQ 16.21875 57.28125 16.21875 49.421875 \nQ 16.21875 41.5 20.09375 36.953125 \nQ 23.96875 32.421875 30.609375 32.421875 \nz\n\" id=\"DejaVuSans-57\"/>\n       </defs>\n       <use xlink:href=\"#DejaVuSans-48\"/>\n       <use x=\"63.623047\" xlink:href=\"#DejaVuSans-46\"/>\n       <use x=\"95.410156\" xlink:href=\"#DejaVuSans-57\"/>\n       <use x=\"159.033203\" xlink:href=\"#DejaVuSans-52\"/>\n       <use x=\"222.65625\" xlink:href=\"#DejaVuSans-48\"/>\n      </g>\n     </g>\n    </g>\n    <g id=\"ytick_2\">\n     <g id=\"line2d_8\">\n      <g>\n       <use style=\"stroke:#000000;stroke-width:0.8;\" x=\"56.50625\" xlink:href=\"#mf89bd2f517\" y=\"185.670669\"/>\n      </g>\n     </g>\n     <g id=\"text_9\">\n      <!-- 0.945 -->\n      <g transform=\"translate(20.878125 189.469888)scale(0.1 -0.1)\">\n       <defs>\n        <path d=\"M 10.796875 72.90625 \nL 49.515625 72.90625 \nL 49.515625 64.59375 \nL 19.828125 64.59375 \nL 19.828125 46.734375 \nQ 21.96875 47.46875 24.109375 47.828125 \nQ 26.265625 48.1875 28.421875 48.1875 \nQ 40.625 48.1875 47.75 41.5 \nQ 54.890625 34.8125 54.890625 23.390625 \nQ 54.890625 11.625 47.5625 5.09375 \nQ 40.234375 -1.421875 26.90625 -1.421875 \nQ 22.3125 -1.421875 17.546875 -0.640625 \nQ 12.796875 0.140625 7.71875 1.703125 \nL 7.71875 11.625 \nQ 12.109375 9.234375 16.796875 8.0625 \nQ 21.484375 6.890625 26.703125 6.890625 \nQ 35.15625 6.890625 40.078125 11.328125 \nQ 45.015625 15.765625 45.015625 23.390625 \nQ 45.015625 31 40.078125 35.4375 \nQ 35.15625 39.890625 26.703125 39.890625 \nQ 22.75 39.890625 18.8125 39.015625 \nQ 14.890625 38.140625 10.796875 36.28125 \nz\n\" id=\"DejaVuSans-53\"/>\n       </defs>\n       <use xlink:href=\"#DejaVuSans-48\"/>\n       <use x=\"63.623047\" xlink:href=\"#DejaVuSans-46\"/>\n       <use x=\"95.410156\" xlink:href=\"#DejaVuSans-57\"/>\n       <use x=\"159.033203\" xlink:href=\"#DejaVuSans-52\"/>\n       <use x=\"222.65625\" xlink:href=\"#DejaVuSans-53\"/>\n      </g>\n     </g>\n    </g>\n    <g id=\"ytick_3\">\n     <g id=\"line2d_9\">\n      <g>\n       <use style=\"stroke:#000000;stroke-width:0.8;\" x=\"56.50625\" xlink:href=\"#mf89bd2f517\" y=\"156.558761\"/>\n      </g>\n     </g>\n     <g id=\"text_10\">\n      <!-- 0.950 -->\n      <g transform=\"translate(20.878125 160.357979)scale(0.1 -0.1)\">\n       <use xlink:href=\"#DejaVuSans-48\"/>\n       <use x=\"63.623047\" xlink:href=\"#DejaVuSans-46\"/>\n       <use x=\"95.410156\" xlink:href=\"#DejaVuSans-57\"/>\n       <use x=\"159.033203\" xlink:href=\"#DejaVuSans-53\"/>\n       <use x=\"222.65625\" xlink:href=\"#DejaVuSans-48\"/>\n      </g>\n     </g>\n    </g>\n    <g id=\"ytick_4\">\n     <g id=\"line2d_10\">\n      <g>\n       <use style=\"stroke:#000000;stroke-width:0.8;\" x=\"56.50625\" xlink:href=\"#mf89bd2f517\" y=\"127.446852\"/>\n      </g>\n     </g>\n     <g id=\"text_11\">\n      <!-- 0.955 -->\n      <g transform=\"translate(20.878125 131.246071)scale(0.1 -0.1)\">\n       <use xlink:href=\"#DejaVuSans-48\"/>\n       <use x=\"63.623047\" xlink:href=\"#DejaVuSans-46\"/>\n       <use x=\"95.410156\" xlink:href=\"#DejaVuSans-57\"/>\n       <use x=\"159.033203\" xlink:href=\"#DejaVuSans-53\"/>\n       <use x=\"222.65625\" xlink:href=\"#DejaVuSans-53\"/>\n      </g>\n     </g>\n    </g>\n    <g id=\"ytick_5\">\n     <g id=\"line2d_11\">\n      <g>\n       <use style=\"stroke:#000000;stroke-width:0.8;\" x=\"56.50625\" xlink:href=\"#mf89bd2f517\" y=\"98.334944\"/>\n      </g>\n     </g>\n     <g id=\"text_12\">\n      <!-- 0.960 -->\n      <g transform=\"translate(20.878125 102.134163)scale(0.1 -0.1)\">\n       <use xlink:href=\"#DejaVuSans-48\"/>\n       <use x=\"63.623047\" xlink:href=\"#DejaVuSans-46\"/>\n       <use x=\"95.410156\" xlink:href=\"#DejaVuSans-57\"/>\n       <use x=\"159.033203\" xlink:href=\"#DejaVuSans-54\"/>\n       <use x=\"222.65625\" xlink:href=\"#DejaVuSans-48\"/>\n      </g>\n     </g>\n    </g>\n    <g id=\"ytick_6\">\n     <g id=\"line2d_12\">\n      <g>\n       <use style=\"stroke:#000000;stroke-width:0.8;\" x=\"56.50625\" xlink:href=\"#mf89bd2f517\" y=\"69.223035\"/>\n      </g>\n     </g>\n     <g id=\"text_13\">\n      <!-- 0.965 -->\n      <g transform=\"translate(20.878125 73.022254)scale(0.1 -0.1)\">\n       <use xlink:href=\"#DejaVuSans-48\"/>\n       <use x=\"63.623047\" xlink:href=\"#DejaVuSans-46\"/>\n       <use x=\"95.410156\" xlink:href=\"#DejaVuSans-57\"/>\n       <use x=\"159.033203\" xlink:href=\"#DejaVuSans-54\"/>\n       <use x=\"222.65625\" xlink:href=\"#DejaVuSans-53\"/>\n      </g>\n     </g>\n    </g>\n    <g id=\"ytick_7\">\n     <g id=\"line2d_13\">\n      <g>\n       <use style=\"stroke:#000000;stroke-width:0.8;\" x=\"56.50625\" xlink:href=\"#mf89bd2f517\" y=\"40.111127\"/>\n      </g>\n     </g>\n     <g id=\"text_14\">\n      <!-- 0.970 -->\n      <g transform=\"translate(20.878125 43.910346)scale(0.1 -0.1)\">\n       <defs>\n        <path d=\"M 8.203125 72.90625 \nL 55.078125 72.90625 \nL 55.078125 68.703125 \nL 28.609375 0 \nL 18.3125 0 \nL 43.21875 64.59375 \nL 8.203125 64.59375 \nz\n\" id=\"DejaVuSans-55\"/>\n       </defs>\n       <use xlink:href=\"#DejaVuSans-48\"/>\n       <use x=\"63.623047\" xlink:href=\"#DejaVuSans-46\"/>\n       <use x=\"95.410156\" xlink:href=\"#DejaVuSans-57\"/>\n       <use x=\"159.033203\" xlink:href=\"#DejaVuSans-55\"/>\n       <use x=\"222.65625\" xlink:href=\"#DejaVuSans-48\"/>\n      </g>\n     </g>\n    </g>\n    <g id=\"ytick_8\">\n     <g id=\"line2d_14\">\n      <g>\n       <use style=\"stroke:#000000;stroke-width:0.8;\" x=\"56.50625\" xlink:href=\"#mf89bd2f517\" y=\"10.999219\"/>\n      </g>\n     </g>\n     <g id=\"text_15\">\n      <!-- 0.975 -->\n      <g transform=\"translate(20.878125 14.798438)scale(0.1 -0.1)\">\n       <use xlink:href=\"#DejaVuSans-48\"/>\n       <use x=\"63.623047\" xlink:href=\"#DejaVuSans-46\"/>\n       <use x=\"95.410156\" xlink:href=\"#DejaVuSans-57\"/>\n       <use x=\"159.033203\" xlink:href=\"#DejaVuSans-55\"/>\n       <use x=\"222.65625\" xlink:href=\"#DejaVuSans-53\"/>\n      </g>\n     </g>\n    </g>\n    <g id=\"text_16\">\n     <!-- Cross Validation Score -->\n     <g transform=\"translate(14.798438 173.03111)rotate(-90)scale(0.1 -0.1)\">\n      <defs>\n       <path d=\"M 64.40625 67.28125 \nL 64.40625 56.890625 \nQ 59.421875 61.53125 53.78125 63.8125 \nQ 48.140625 66.109375 41.796875 66.109375 \nQ 29.296875 66.109375 22.65625 58.46875 \nQ 16.015625 50.828125 16.015625 36.375 \nQ 16.015625 21.96875 22.65625 14.328125 \nQ 29.296875 6.6875 41.796875 6.6875 \nQ 48.140625 6.6875 53.78125 8.984375 \nQ 59.421875 11.28125 64.40625 15.921875 \nL 64.40625 5.609375 \nQ 59.234375 2.09375 53.4375 0.328125 \nQ 47.65625 -1.421875 41.21875 -1.421875 \nQ 24.65625 -1.421875 15.125 8.703125 \nQ 5.609375 18.84375 5.609375 36.375 \nQ 5.609375 53.953125 15.125 64.078125 \nQ 24.65625 74.21875 41.21875 74.21875 \nQ 47.75 74.21875 53.53125 72.484375 \nQ 59.328125 70.75 64.40625 67.28125 \nz\n\" id=\"DejaVuSans-67\"/>\n       <path d=\"M 44.28125 53.078125 \nL 44.28125 44.578125 \nQ 40.484375 46.53125 36.375 47.5 \nQ 32.28125 48.484375 27.875 48.484375 \nQ 21.1875 48.484375 17.84375 46.4375 \nQ 14.5 44.390625 14.5 40.28125 \nQ 14.5 37.15625 16.890625 35.375 \nQ 19.28125 33.59375 26.515625 31.984375 \nL 29.59375 31.296875 \nQ 39.15625 29.25 43.1875 25.515625 \nQ 47.21875 21.78125 47.21875 15.09375 \nQ 47.21875 7.46875 41.1875 3.015625 \nQ 35.15625 -1.421875 24.609375 -1.421875 \nQ 20.21875 -1.421875 15.453125 -0.5625 \nQ 10.6875 0.296875 5.421875 2 \nL 5.421875 11.28125 \nQ 10.40625 8.6875 15.234375 7.390625 \nQ 20.0625 6.109375 24.8125 6.109375 \nQ 31.15625 6.109375 34.5625 8.28125 \nQ 37.984375 10.453125 37.984375 14.40625 \nQ 37.984375 18.0625 35.515625 20.015625 \nQ 33.0625 21.96875 24.703125 23.78125 \nL 21.578125 24.515625 \nQ 13.234375 26.265625 9.515625 29.90625 \nQ 5.8125 33.546875 5.8125 39.890625 \nQ 5.8125 47.609375 11.28125 51.796875 \nQ 16.75 56 26.8125 56 \nQ 31.78125 56 36.171875 55.265625 \nQ 40.578125 54.546875 44.28125 53.078125 \nz\n\" id=\"DejaVuSans-115\"/>\n       <path d=\"M 28.609375 0 \nL 0.78125 72.90625 \nL 11.078125 72.90625 \nL 34.1875 11.53125 \nL 57.328125 72.90625 \nL 67.578125 72.90625 \nL 39.796875 0 \nz\n\" id=\"DejaVuSans-86\"/>\n       <path d=\"M 9.421875 54.6875 \nL 18.40625 54.6875 \nL 18.40625 0 \nL 9.421875 0 \nz\nM 9.421875 75.984375 \nL 18.40625 75.984375 \nL 18.40625 64.59375 \nL 9.421875 64.59375 \nz\n\" id=\"DejaVuSans-105\"/>\n       <path d=\"M 54.890625 33.015625 \nL 54.890625 0 \nL 45.90625 0 \nL 45.90625 32.71875 \nQ 45.90625 40.484375 42.875 44.328125 \nQ 39.84375 48.1875 33.796875 48.1875 \nQ 26.515625 48.1875 22.3125 43.546875 \nQ 18.109375 38.921875 18.109375 30.90625 \nL 18.109375 0 \nL 9.078125 0 \nL 9.078125 54.6875 \nL 18.109375 54.6875 \nL 18.109375 46.1875 \nQ 21.34375 51.125 25.703125 53.5625 \nQ 30.078125 56 35.796875 56 \nQ 45.21875 56 50.046875 50.171875 \nQ 54.890625 44.34375 54.890625 33.015625 \nz\n\" id=\"DejaVuSans-110\"/>\n      </defs>\n      <use xlink:href=\"#DejaVuSans-67\"/>\n      <use x=\"69.824219\" xlink:href=\"#DejaVuSans-114\"/>\n      <use x=\"108.6875\" xlink:href=\"#DejaVuSans-111\"/>\n      <use x=\"169.869141\" xlink:href=\"#DejaVuSans-115\"/>\n      <use x=\"221.96875\" xlink:href=\"#DejaVuSans-115\"/>\n      <use x=\"274.068359\" xlink:href=\"#DejaVuSans-32\"/>\n      <use x=\"305.855469\" xlink:href=\"#DejaVuSans-86\"/>\n      <use x=\"366.513672\" xlink:href=\"#DejaVuSans-97\"/>\n      <use x=\"427.792969\" xlink:href=\"#DejaVuSans-108\"/>\n      <use x=\"455.576172\" xlink:href=\"#DejaVuSans-105\"/>\n      <use x=\"483.359375\" xlink:href=\"#DejaVuSans-100\"/>\n      <use x=\"546.835938\" xlink:href=\"#DejaVuSans-97\"/>\n      <use x=\"608.115234\" xlink:href=\"#DejaVuSans-116\"/>\n      <use x=\"647.324219\" xlink:href=\"#DejaVuSans-105\"/>\n      <use x=\"675.107422\" xlink:href=\"#DejaVuSans-111\"/>\n      <use x=\"736.289062\" xlink:href=\"#DejaVuSans-110\"/>\n      <use x=\"799.667969\" xlink:href=\"#DejaVuSans-32\"/>\n      <use x=\"831.455078\" xlink:href=\"#DejaVuSans-83\"/>\n      <use x=\"894.931641\" xlink:href=\"#DejaVuSans-99\"/>\n      <use x=\"949.912109\" xlink:href=\"#DejaVuSans-111\"/>\n      <use x=\"1011.09375\" xlink:href=\"#DejaVuSans-114\"/>\n      <use x=\"1049.957031\" xlink:href=\"#DejaVuSans-101\"/>\n     </g>\n    </g>\n   </g>\n   <g id=\"line2d_15\">\n    <path clip-path=\"url(#pbf12e6c015)\" d=\"M 71.724432 165.1603 \nL 99.393853 216.293255 \nL 127.063275 35.122603 \nL 154.732696 57.695564 \nL 182.402118 22.159083 \nL 210.071539 18.620528 \nL 237.740961 19.609982 \nL 265.410382 19.056558 \nL 293.079804 19.442278 \nL 320.749225 19.190722 \nL 348.418647 19.811226 \nL 376.088068 19.844767 \n\" style=\"fill:none;stroke:#1f77b4;stroke-linecap:square;stroke-width:1.5;\"/>\n   </g>\n   <g id=\"patch_3\">\n    <path d=\"M 56.50625 226.176892 \nL 56.50625 8.736892 \n\" style=\"fill:none;stroke:#000000;stroke-linecap:square;stroke-linejoin:miter;stroke-width:0.8;\"/>\n   </g>\n   <g id=\"patch_4\">\n    <path d=\"M 391.30625 226.176892 \nL 391.30625 8.736892 \n\" style=\"fill:none;stroke:#000000;stroke-linecap:square;stroke-linejoin:miter;stroke-width:0.8;\"/>\n   </g>\n   <g id=\"patch_5\">\n    <path d=\"M 56.50625 226.176892 \nL 391.30625 226.176892 \n\" style=\"fill:none;stroke:#000000;stroke-linecap:square;stroke-linejoin:miter;stroke-width:0.8;\"/>\n   </g>\n   <g id=\"patch_6\">\n    <path d=\"M 56.50625 8.736892 \nL 391.30625 8.736892 \n\" style=\"fill:none;stroke:#000000;stroke-linecap:square;stroke-linejoin:miter;stroke-width:0.8;\"/>\n   </g>\n  </g>\n </g>\n <defs>\n  <clipPath id=\"pbf12e6c015\">\n   <rect height=\"217.44\" width=\"334.8\" x=\"56.50625\" y=\"8.736892\"/>\n  </clipPath>\n </defs>\n</svg>\n",
      "image/png": "[encoded data removed]"
     },
     "metadata": {
      "needs_background": "light"
     }
    }
   ],
   "source": [
    "select = backward_wrapper(\n",
    "    x = X,\n",
    "    y = y,\n",
    "    estimator = 'logreg'\n",
    ")"
   ]
  },
  {
   "cell_type": "code",
   "execution_count": 246,
   "metadata": {},
   "outputs": [
    {
     "output_type": "execute_result",
     "data": {
      "text/plain": [
       "     var  rank\n",
       "0      S     1\n",
       "1      K     1\n",
       "4    S*K     1\n",
       "5  S*tau     1\n",
       "6    S*r     1\n",
       "7  S*r*K     1"
      ],
      "text/html": "<div>\n<style scoped>\n    .dataframe tbody tr th:only-of-type {\n        vertical-align: middle;\n    }\n\n    .dataframe tbody tr th {\n        vertical-align: top;\n    }\n\n    .dataframe thead th {\n        text-align: right;\n    }\n</style>\n<table border=\"1\" class=\"dataframe\">\n  <thead>\n    <tr style=\"text-align: right;\">\n      <th></th>\n      <th>var</th>\n      <th>rank</th>\n    </tr>\n  </thead>\n  <tbody>\n    <tr>\n      <th>0</th>\n      <td>S</td>\n      <td>1</td>\n    </tr>\n    <tr>\n      <th>1</th>\n      <td>K</td>\n      <td>1</td>\n    </tr>\n    <tr>\n      <th>4</th>\n      <td>S*K</td>\n      <td>1</td>\n    </tr>\n    <tr>\n      <th>5</th>\n      <td>S*tau</td>\n      <td>1</td>\n    </tr>\n    <tr>\n      <th>6</th>\n      <td>S*r</td>\n      <td>1</td>\n    </tr>\n    <tr>\n      <th>7</th>\n      <td>S*r*K</td>\n      <td>1</td>\n    </tr>\n  </tbody>\n</table>\n</div>"
     },
     "metadata": {},
     "execution_count": 246
    }
   ],
   "source": [
    "select"
   ]
  },
  {
   "cell_type": "code",
   "execution_count": 247,
   "metadata": {},
   "outputs": [
    {
     "output_type": "execute_result",
     "data": {
      "text/plain": [
       "          S     K       S*K     S*tau       S*r     S*r*K\n",
       "0  0.202299  0.36  0.336600  0.829308  0.243026  0.280827\n",
       "1  0.050749  0.72  0.604273  0.395640  0.516604  0.686948\n",
       "2  0.075309  0.32  0.278347  0.638083  0.501137  0.318733\n",
       "3  0.862901  0.68  0.747172  0.153608  0.577393  0.669715\n",
       "4  0.698712  0.28  0.365609  0.414346  0.423716  0.260667"
      ],
      "text/html": "<div>\n<style scoped>\n    .dataframe tbody tr th:only-of-type {\n        vertical-align: middle;\n    }\n\n    .dataframe tbody tr th {\n        vertical-align: top;\n    }\n\n    .dataframe thead th {\n        text-align: right;\n    }\n</style>\n<table border=\"1\" class=\"dataframe\">\n  <thead>\n    <tr style=\"text-align: right;\">\n      <th></th>\n      <th>S</th>\n      <th>K</th>\n      <th>S*K</th>\n      <th>S*tau</th>\n      <th>S*r</th>\n      <th>S*r*K</th>\n    </tr>\n  </thead>\n  <tbody>\n    <tr>\n      <th>0</th>\n      <td>0.202299</td>\n      <td>0.36</td>\n      <td>0.336600</td>\n      <td>0.829308</td>\n      <td>0.243026</td>\n      <td>0.280827</td>\n    </tr>\n    <tr>\n      <th>1</th>\n      <td>0.050749</td>\n      <td>0.72</td>\n      <td>0.604273</td>\n      <td>0.395640</td>\n      <td>0.516604</td>\n      <td>0.686948</td>\n    </tr>\n    <tr>\n      <th>2</th>\n      <td>0.075309</td>\n      <td>0.32</td>\n      <td>0.278347</td>\n      <td>0.638083</td>\n      <td>0.501137</td>\n      <td>0.318733</td>\n    </tr>\n    <tr>\n      <th>3</th>\n      <td>0.862901</td>\n      <td>0.68</td>\n      <td>0.747172</td>\n      <td>0.153608</td>\n      <td>0.577393</td>\n      <td>0.669715</td>\n    </tr>\n    <tr>\n      <th>4</th>\n      <td>0.698712</td>\n      <td>0.28</td>\n      <td>0.365609</td>\n      <td>0.414346</td>\n      <td>0.423716</td>\n      <td>0.260667</td>\n    </tr>\n  </tbody>\n</table>\n</div>"
     },
     "metadata": {},
     "execution_count": 247
    }
   ],
   "source": [
    "# Select top ranking variales as X\n",
    "X = X.loc[:, list(select['var'])]\n",
    "X.head()"
   ]
  },
  {
   "cell_type": "markdown",
   "metadata": {},
   "source": [
    "## Model Training\n",
    "- Log Reg\n",
    "- LDA\n",
    "- KNN\n",
    "- DT\n",
    "\n",
    "Goodness will be measured by classification error rate *e*:\n",
    "\n",
    "$$ e = \\dfrac{FP+FN}{TP+TN+FP+FP} $$"
   ]
  },
  {
   "cell_type": "markdown",
   "metadata": {},
   "source": [
    "### Log Reg"
   ]
  },
  {
   "cell_type": "code",
   "execution_count": 248,
   "metadata": {},
   "outputs": [
    {
     "output_type": "execute_result",
     "data": {
      "text/plain": [
       "0.06845238095238093"
      ]
     },
     "metadata": {},
     "execution_count": 248
    }
   ],
   "source": [
    "X_train, X_test, y_train, y_test = train_test_split(X,y,test_size=0.20,random_state = 1)\n",
    "\n",
    "logreg = LogisticRegression().fit(X_train, y_train)\n",
    "e = 1-logreg.score(X_test, y_test)\n",
    "e"
   ]
  },
  {
   "cell_type": "code",
   "execution_count": 249,
   "metadata": {},
   "outputs": [
    {
     "output_type": "execute_result",
     "data": {
      "text/plain": [
       "0.0824404761904762"
      ]
     },
     "metadata": {},
     "execution_count": 249
    }
   ],
   "source": [
    "# Now doing this multiple times \n",
    "\n",
    "e_list = []\n",
    "for i in range(10):\n",
    "    X_train, X_test, y_train, y_test = train_test_split(X,y,test_size=0.2,random_state = i)\n",
    "    logreg = LogisticRegression().fit(X_train, y_train)\n",
    "    e = 1-logreg.score(X_test, y_test)\n",
    "    e_list.append(e)\n",
    "\n",
    "e = sum(e_list)/len(e_list)\n",
    "e  \n",
    "\n"
   ]
  },
  {
   "cell_type": "code",
   "execution_count": 250,
   "metadata": {},
   "outputs": [
    {
     "output_type": "stream",
     "name": "stdout",
     "text": [
      "Average classification error rate for LogisticRegression() is 0.0824.\n"
     ]
    }
   ],
   "source": [
    "# define function\n",
    "\n",
    "def model_e(X, y, model):\n",
    "    '''\n",
    "    model: one of 'logreg', 'lda', 'knn' \n",
    "    '''\n",
    "    if model == 'logreg':\n",
    "        from sklearn.linear_model import LogisticRegression\n",
    "        model = LogisticRegression()\n",
    "    elif model == 'lda':\n",
    "        from sklearn.discriminant_analysis import LinearDiscriminantAnalysis\n",
    "        model = LinearDiscriminantAnalysis()\n",
    "    elif model == 'knn':\n",
    "        print(\"Please choose your n for KNN model:\")\n",
    "        n = int(input()) # n of your choice\n",
    "        print(f\"Choose {n}.\")\n",
    "        from sklearn.neighbors import KNeighborsClassifier\n",
    "        model = KNeighborsClassifier(n_neighbors=n)\n",
    "\n",
    "    e_list = []\n",
    "    for i in range(10):\n",
    "        X_train, X_test, y_train, y_test = train_test_split(X,y,test_size=0.2,random_state = i)\n",
    "        model.fit(X_train, y_train)\n",
    "        e = 1-model.score(X_test, y_test)\n",
    "        e_list.append(e)\n",
    "\n",
    "    e = sum(e_list)/len(e_list)\n",
    "    print(f'Average classification error rate for {model} is {round(e,4)}.')\n",
    "        \n",
    "\n",
    "model_e(X, y, 'logreg')\n",
    "\n",
    "\n"
   ]
  },
  {
   "cell_type": "code",
   "execution_count": 251,
   "metadata": {},
   "outputs": [
    {
     "output_type": "execute_result",
     "data": {
      "text/plain": [
       "0.08706467661691542"
      ]
     },
     "metadata": {},
     "execution_count": 251
    }
   ],
   "source": [
    "\n",
    "## ??? not sure if we need to do CV\n",
    "# and i'm not sure if this is the right way to do CV \n",
    "\n",
    "scores = cross_val_score(logreg, X_train, y_train, cv=10)\n",
    "1 - scores.mean()"
   ]
  },
  {
   "cell_type": "markdown",
   "metadata": {},
   "source": [
    "### LDA"
   ]
  },
  {
   "cell_type": "code",
   "execution_count": 252,
   "metadata": {},
   "outputs": [
    {
     "output_type": "stream",
     "name": "stdout",
     "text": [
      "Average classification error rate for LinearDiscriminantAnalysis() is 0.0804.\n"
     ]
    }
   ],
   "source": [
    "model_e(X, y, 'lda')"
   ]
  },
  {
   "cell_type": "markdown",
   "metadata": {},
   "source": [
    "### KNN"
   ]
  },
  {
   "cell_type": "code",
   "execution_count": 253,
   "metadata": {},
   "outputs": [
    {
     "output_type": "stream",
     "name": "stdout",
     "text": [
      "Please choose your n for KNN model:\n",
      "Choose 5.\n",
      "Average classification error rate for KNeighborsClassifier() is 0.0705.\n"
     ]
    }
   ],
   "source": [
    "model_e(X, y, 'knn')"
   ]
  },
  {
   "cell_type": "code",
   "execution_count": 254,
   "metadata": {},
   "outputs": [
    {
     "output_type": "stream",
     "name": "stdout",
     "text": [
      "Please choose your n for KNN model:\n",
      "Choose 4.\n",
      "Average classification error rate for KNeighborsClassifier(n_neighbors=4) is 0.0717.\n"
     ]
    }
   ],
   "source": [
    "model_e(X, y, 'knn')"
   ]
  },
  {
   "cell_type": "code",
   "execution_count": 255,
   "metadata": {},
   "outputs": [
    {
     "output_type": "stream",
     "name": "stdout",
     "text": [
      "Please choose your n for KNN model:\n",
      "Choose 3.\n",
      "Average classification error rate for KNeighborsClassifier(n_neighbors=3) is 0.0723.\n"
     ]
    }
   ],
   "source": [
    "model_e(X, y, 'knn')"
   ]
  },
  {
   "cell_type": "code",
   "execution_count": 256,
   "metadata": {},
   "outputs": [
    {
     "output_type": "stream",
     "name": "stdout",
     "text": [
      "Please choose your n for KNN model:\n",
      "Choose 2.\n",
      "Average classification error rate for KNeighborsClassifier(n_neighbors=2) is 0.0804.\n"
     ]
    }
   ],
   "source": [
    "model_e(X, y, 'knn')"
   ]
  },
  {
   "cell_type": "code",
   "execution_count": 258,
   "metadata": {},
   "outputs": [
    {
     "output_type": "stream",
     "name": "stdout",
     "text": [
      "Please choose your n for KNN model:\n",
      "Choose 6.\n",
      "Average classification error rate for KNeighborsClassifier(n_neighbors=6) is 0.072.\n"
     ]
    }
   ],
   "source": [
    "model_e(X, y, 'knn')"
   ]
  },
  {
   "cell_type": "markdown",
   "metadata": {},
   "source": [
    "KNN performs best when n = 3."
   ]
  },
  {
   "cell_type": "code",
   "execution_count": null,
   "metadata": {},
   "outputs": [],
   "source": []
  },
  {
   "cell_type": "code",
   "execution_count": null,
   "metadata": {},
   "outputs": [],
   "source": []
  },
  {
   "cell_type": "code",
   "execution_count": null,
   "metadata": {},
   "outputs": [],
   "source": []
  },
  {
   "cell_type": "code",
   "execution_count": null,
   "metadata": {},
   "outputs": [],
   "source": []
  }
 ]
}