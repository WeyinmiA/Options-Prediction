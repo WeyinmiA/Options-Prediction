{
 "cells": [
  {
   "cell_type": "code",
   "execution_count": 231,
   "metadata": {
    "ExecuteTime": {
     "end_time": "2021-04-30T16:04:10.530724Z",
     "start_time": "2021-04-30T16:04:10.527644Z"
    }
   },
   "outputs": [],
   "source": [
    "import pandas as pd\n",
    "import numpy as np"
   ]
  },
  {
   "cell_type": "code",
   "execution_count": 232,
   "metadata": {
    "ExecuteTime": {
     "end_time": "2021-04-30T16:04:10.760158Z",
     "start_time": "2021-04-30T16:04:10.745600Z"
    }
   },
   "outputs": [],
   "source": [
    "train = pd.read_csv('option_train.csv')\n",
    "test = pd.read_csv('option_test_wolabel.csv')"
   ]
  },
  {
   "cell_type": "code",
   "execution_count": 234,
   "metadata": {
    "ExecuteTime": {
     "end_time": "2021-04-30T16:04:11.104801Z",
     "start_time": "2021-04-30T16:04:11.100747Z"
    }
   },
   "outputs": [],
   "source": [
    "train = train.replace({'BS': {'Under':0, 'Over':1}})"
   ]
  },
  {
   "cell_type": "code",
   "execution_count": 238,
   "metadata": {
    "ExecuteTime": {
     "end_time": "2021-04-30T16:04:11.809193Z",
     "start_time": "2021-04-30T16:04:11.804456Z"
    }
   },
   "outputs": [],
   "source": [
    "new = train.copy()\n",
    "new.drop(['BS','Value'], axis=1, inplace=True)"
   ]
  },
  {
   "cell_type": "code",
   "execution_count": 239,
   "metadata": {
    "ExecuteTime": {
     "end_time": "2021-04-30T16:04:11.967309Z",
     "start_time": "2021-04-30T16:04:11.963083Z"
    }
   },
   "outputs": [],
   "source": [
    "full_model = pd.concat([new, test])"
   ]
  },
  {
   "cell_type": "code",
   "execution_count": 240,
   "metadata": {
    "ExecuteTime": {
     "end_time": "2021-04-30T16:04:12.134539Z",
     "start_time": "2021-04-30T16:04:12.131935Z"
    }
   },
   "outputs": [],
   "source": [
    "v = train.copy()"
   ]
  },
  {
   "cell_type": "markdown",
   "metadata": {},
   "source": [
    "# Creating Variables"
   ]
  },
  {
   "cell_type": "code",
   "execution_count": 241,
   "metadata": {
    "ExecuteTime": {
     "end_time": "2021-04-30T16:04:12.718656Z",
     "start_time": "2021-04-30T16:04:12.715321Z"
    }
   },
   "outputs": [],
   "source": [
    "col = list(new.columns)\n",
    "col_r = col[::-1]"
   ]
  },
  {
   "cell_type": "code",
   "execution_count": 242,
   "metadata": {
    "ExecuteTime": {
     "end_time": "2021-04-30T16:04:12.939614Z",
     "start_time": "2021-04-30T16:04:12.936568Z"
    }
   },
   "outputs": [
    {
     "data": {
      "text/plain": [
       "['S', 'K', 'tau', 'r']"
      ]
     },
     "execution_count": 242,
     "metadata": {},
     "output_type": "execute_result"
    }
   ],
   "source": [
    "col"
   ]
  },
  {
   "cell_type": "code",
   "execution_count": 243,
   "metadata": {
    "ExecuteTime": {
     "end_time": "2021-04-30T16:04:13.234712Z",
     "start_time": "2021-04-30T16:04:13.212319Z"
    }
   },
   "outputs": [],
   "source": [
    "for i in new.columns:\n",
    "    for j in col_r:\n",
    "        if i==j:\n",
    "            col_r.remove(i)\n",
    "        else:\n",
    "            new[i+'_times_'+j] = new[i]*new[j]\n",
    "            new[i+'_by_'+j] = new[i]/new[j]\n",
    "            test[i+'_times_'+j] = test[i]*test[j]\n",
    "            test[i+'_by_'+j] = test[i]/test[j]"
   ]
  },
  {
   "cell_type": "code",
   "execution_count": 244,
   "metadata": {
    "ExecuteTime": {
     "end_time": "2021-04-30T16:04:13.741019Z",
     "start_time": "2021-04-30T16:04:13.726256Z"
    }
   },
   "outputs": [],
   "source": [
    "new['Ke^-rt'] = new['K']*np.e**(-new['r']*new['tau'])\n",
    "new['Ke^-Kt'] = new['K']*np.e**(-new['K']*new['tau'])\n",
    "test['Ke^-rt'] = test['K']*np.e**(-test['r']*test['tau'])\n",
    "test['Ke^-Kt'] = test['K']*np.e**(-test['K']*test['tau'])\n",
    "new['S_minus_K'] = new['S'] - new['K']\n",
    "test['S_minus_K'] = test['S'] - test['K']"
   ]
  },
  {
   "cell_type": "code",
   "execution_count": 245,
   "metadata": {
    "ExecuteTime": {
     "end_time": "2021-04-30T16:04:14.407935Z",
     "start_time": "2021-04-30T16:04:14.399094Z"
    }
   },
   "outputs": [],
   "source": [
    "new = new.replace([np.inf, -np.inf], np.nan)\n",
    "test = test.replace([np.inf, -np.inf], np.nan)"
   ]
  },
  {
   "cell_type": "code",
   "execution_count": 246,
   "metadata": {
    "ExecuteTime": {
     "end_time": "2021-04-30T16:04:15.615538Z",
     "start_time": "2021-04-30T16:04:15.594912Z"
    },
    "scrolled": true
   },
   "outputs": [
    {
     "data": {
      "text/html": [
       "<div>\n",
       "<style scoped>\n",
       "    .dataframe tbody tr th:only-of-type {\n",
       "        vertical-align: middle;\n",
       "    }\n",
       "\n",
       "    .dataframe tbody tr th {\n",
       "        vertical-align: top;\n",
       "    }\n",
       "\n",
       "    .dataframe thead th {\n",
       "        text-align: right;\n",
       "    }\n",
       "</style>\n",
       "<table border=\"1\" class=\"dataframe\">\n",
       "  <thead>\n",
       "    <tr style=\"text-align: right;\">\n",
       "      <th></th>\n",
       "      <th>S</th>\n",
       "      <th>K</th>\n",
       "      <th>tau</th>\n",
       "      <th>r</th>\n",
       "      <th>S_times_r</th>\n",
       "      <th>S_by_r</th>\n",
       "      <th>S_times_tau</th>\n",
       "      <th>S_by_tau</th>\n",
       "      <th>S_times_K</th>\n",
       "      <th>S_by_K</th>\n",
       "      <th>K_times_r</th>\n",
       "      <th>K_by_r</th>\n",
       "      <th>K_times_tau</th>\n",
       "      <th>K_by_tau</th>\n",
       "      <th>tau_times_r</th>\n",
       "      <th>tau_by_r</th>\n",
       "      <th>Ke^-rt</th>\n",
       "      <th>Ke^-Kt</th>\n",
       "      <th>S_minus_K</th>\n",
       "    </tr>\n",
       "  </thead>\n",
       "  <tbody>\n",
       "    <tr>\n",
       "      <th>0</th>\n",
       "      <td>431.623898</td>\n",
       "      <td>420</td>\n",
       "      <td>0.341270</td>\n",
       "      <td>0.03013</td>\n",
       "      <td>13.004828</td>\n",
       "      <td>14325.386601</td>\n",
       "      <td>147.300219</td>\n",
       "      <td>1264.758401</td>\n",
       "      <td>181282.037286</td>\n",
       "      <td>1.027676</td>\n",
       "      <td>12.6546</td>\n",
       "      <td>13939.595088</td>\n",
       "      <td>143.333333</td>\n",
       "      <td>1230.697675</td>\n",
       "      <td>0.010282</td>\n",
       "      <td>11.326580</td>\n",
       "      <td>415.703494</td>\n",
       "      <td>2.367956e-60</td>\n",
       "      <td>11.623898</td>\n",
       "    </tr>\n",
       "    <tr>\n",
       "      <th>1</th>\n",
       "      <td>427.015526</td>\n",
       "      <td>465</td>\n",
       "      <td>0.166667</td>\n",
       "      <td>0.03126</td>\n",
       "      <td>13.348505</td>\n",
       "      <td>13660.125589</td>\n",
       "      <td>71.169254</td>\n",
       "      <td>2562.093150</td>\n",
       "      <td>198562.219543</td>\n",
       "      <td>0.918313</td>\n",
       "      <td>14.5359</td>\n",
       "      <td>14875.239923</td>\n",
       "      <td>77.500000</td>\n",
       "      <td>2789.999994</td>\n",
       "      <td>0.005210</td>\n",
       "      <td>5.331627</td>\n",
       "      <td>462.583650</td>\n",
       "      <td>1.022423e-31</td>\n",
       "      <td>-37.984474</td>\n",
       "    </tr>\n",
       "    <tr>\n",
       "      <th>2</th>\n",
       "      <td>427.762336</td>\n",
       "      <td>415</td>\n",
       "      <td>0.265873</td>\n",
       "      <td>0.03116</td>\n",
       "      <td>13.329074</td>\n",
       "      <td>13727.931207</td>\n",
       "      <td>113.730463</td>\n",
       "      <td>1608.897145</td>\n",
       "      <td>177521.369606</td>\n",
       "      <td>1.030753</td>\n",
       "      <td>12.9314</td>\n",
       "      <td>13318.356868</td>\n",
       "      <td>110.337302</td>\n",
       "      <td>1560.895522</td>\n",
       "      <td>0.008285</td>\n",
       "      <td>8.532510</td>\n",
       "      <td>411.576092</td>\n",
       "      <td>5.002267e-46</td>\n",
       "      <td>12.762336</td>\n",
       "    </tr>\n",
       "    <tr>\n",
       "      <th>3</th>\n",
       "      <td>451.711658</td>\n",
       "      <td>460</td>\n",
       "      <td>0.063492</td>\n",
       "      <td>0.02972</td>\n",
       "      <td>13.424870</td>\n",
       "      <td>15198.911770</td>\n",
       "      <td>28.680105</td>\n",
       "      <td>7114.458665</td>\n",
       "      <td>207787.362588</td>\n",
       "      <td>0.981982</td>\n",
       "      <td>13.6712</td>\n",
       "      <td>15477.792732</td>\n",
       "      <td>29.206349</td>\n",
       "      <td>7245.000056</td>\n",
       "      <td>0.001887</td>\n",
       "      <td>2.136341</td>\n",
       "      <td>459.132806</td>\n",
       "      <td>9.519226e-11</td>\n",
       "      <td>-8.288342</td>\n",
       "    </tr>\n",
       "    <tr>\n",
       "      <th>4</th>\n",
       "      <td>446.718974</td>\n",
       "      <td>410</td>\n",
       "      <td>0.166667</td>\n",
       "      <td>0.02962</td>\n",
       "      <td>13.231816</td>\n",
       "      <td>15081.666928</td>\n",
       "      <td>74.453163</td>\n",
       "      <td>2680.313841</td>\n",
       "      <td>183154.779504</td>\n",
       "      <td>1.089558</td>\n",
       "      <td>12.1442</td>\n",
       "      <td>13841.998650</td>\n",
       "      <td>68.333333</td>\n",
       "      <td>2459.999995</td>\n",
       "      <td>0.004937</td>\n",
       "      <td>5.626829</td>\n",
       "      <td>407.980954</td>\n",
       "      <td>8.629670e-28</td>\n",
       "      <td>36.718974</td>\n",
       "    </tr>\n",
       "  </tbody>\n",
       "</table>\n",
       "</div>"
      ],
      "text/plain": [
       "            S    K       tau        r  S_times_r        S_by_r  S_times_tau  \\\n",
       "0  431.623898  420  0.341270  0.03013  13.004828  14325.386601   147.300219   \n",
       "1  427.015526  465  0.166667  0.03126  13.348505  13660.125589    71.169254   \n",
       "2  427.762336  415  0.265873  0.03116  13.329074  13727.931207   113.730463   \n",
       "3  451.711658  460  0.063492  0.02972  13.424870  15198.911770    28.680105   \n",
       "4  446.718974  410  0.166667  0.02962  13.231816  15081.666928    74.453163   \n",
       "\n",
       "      S_by_tau      S_times_K    S_by_K  K_times_r        K_by_r  K_times_tau  \\\n",
       "0  1264.758401  181282.037286  1.027676    12.6546  13939.595088   143.333333   \n",
       "1  2562.093150  198562.219543  0.918313    14.5359  14875.239923    77.500000   \n",
       "2  1608.897145  177521.369606  1.030753    12.9314  13318.356868   110.337302   \n",
       "3  7114.458665  207787.362588  0.981982    13.6712  15477.792732    29.206349   \n",
       "4  2680.313841  183154.779504  1.089558    12.1442  13841.998650    68.333333   \n",
       "\n",
       "      K_by_tau  tau_times_r   tau_by_r      Ke^-rt        Ke^-Kt  S_minus_K  \n",
       "0  1230.697675     0.010282  11.326580  415.703494  2.367956e-60  11.623898  \n",
       "1  2789.999994     0.005210   5.331627  462.583650  1.022423e-31 -37.984474  \n",
       "2  1560.895522     0.008285   8.532510  411.576092  5.002267e-46  12.762336  \n",
       "3  7245.000056     0.001887   2.136341  459.132806  9.519226e-11  -8.288342  \n",
       "4  2459.999995     0.004937   5.626829  407.980954  8.629670e-28  36.718974  "
      ]
     },
     "execution_count": 246,
     "metadata": {},
     "output_type": "execute_result"
    }
   ],
   "source": [
    "new.head()"
   ]
  },
  {
   "cell_type": "code",
   "execution_count": null,
   "metadata": {
    "ExecuteTime": {
     "end_time": "2021-04-11T22:18:10.968036Z",
     "start_time": "2021-04-11T22:18:10.964859Z"
    }
   },
   "outputs": [],
   "source": []
  },
  {
   "cell_type": "code",
   "execution_count": 207,
   "metadata": {
    "ExecuteTime": {
     "end_time": "2021-04-30T15:43:47.947741Z",
     "start_time": "2021-04-30T15:43:47.945477Z"
    }
   },
   "outputs": [],
   "source": [
    "# end = len(v.columns)\n",
    "# for i in range(end):\n",
    "#     for j in range(i+1,end):\n",
    "#         v[i,j] = v.iloc[:,i]*v.iloc[:,j]"
   ]
  },
  {
   "cell_type": "markdown",
   "metadata": {},
   "source": [
    "# Model"
   ]
  },
  {
   "cell_type": "markdown",
   "metadata": {},
   "source": [
    "## Feature Selection"
   ]
  },
  {
   "cell_type": "markdown",
   "metadata": {},
   "source": [
    "### RFE"
   ]
  },
  {
   "cell_type": "code",
   "execution_count": 166,
   "metadata": {
    "ExecuteTime": {
     "end_time": "2021-04-30T15:41:04.971232Z",
     "start_time": "2021-04-30T15:41:04.967752Z"
    }
   },
   "outputs": [],
   "source": [
    "train_final = new.copy()"
   ]
  },
  {
   "cell_type": "code",
   "execution_count": 167,
   "metadata": {
    "ExecuteTime": {
     "end_time": "2021-04-30T15:41:05.220585Z",
     "start_time": "2021-04-30T15:41:05.216793Z"
    }
   },
   "outputs": [],
   "source": [
    "X = train_final\n",
    "y_regression = train['Value']\n",
    "y = train['BS']"
   ]
  },
  {
   "cell_type": "code",
   "execution_count": 168,
   "metadata": {
    "ExecuteTime": {
     "end_time": "2021-04-30T15:41:05.520084Z",
     "start_time": "2021-04-30T15:41:05.497575Z"
    }
   },
   "outputs": [
    {
     "data": {
      "text/plain": [
       "RFE(estimator=LinearRegression(), n_features_to_select=8)"
      ]
     },
     "execution_count": 168,
     "metadata": {},
     "output_type": "execute_result"
    }
   ],
   "source": [
    "from sklearn.feature_selection import RFE\n",
    "from sklearn.linear_model import LinearRegression\n",
    "model = LinearRegression()\n",
    "rfe = RFE(model, n_features_to_select=8)\n",
    "rfe.fit(X,y_regression)"
   ]
  },
  {
   "cell_type": "code",
   "execution_count": 169,
   "metadata": {
    "ExecuteTime": {
     "end_time": "2021-04-30T15:41:06.233470Z",
     "start_time": "2021-04-30T15:41:06.226013Z"
    }
   },
   "outputs": [
    {
     "name": "stdout",
     "output_type": "stream",
     "text": [
      "    ranking     variable\n",
      "0         1    K_times_r\n",
      "1         1       S_by_K\n",
      "2         1    S_minus_K\n",
      "3         1    S_times_r\n",
      "4         1            r\n",
      "5         1          tau\n",
      "6         1     tau_by_r\n",
      "7         1  tau_times_r\n",
      "8         2       Ke^-rt\n",
      "9         3            S\n",
      "10        4            K\n",
      "11        5  K_times_tau\n",
      "12        6       K_by_r\n",
      "13        7       S_by_r\n",
      "14        8  S_times_tau\n",
      "15        9       Ke^-Kt\n",
      "16       10    S_times_K\n",
      "17       11     K_by_tau\n",
      "18       12     S_by_tau\n"
     ]
    }
   ],
   "source": [
    "var_selected = pd.DataFrame(sorted(zip(map(lambda x: round(x), rfe.ranking_), X.columns)),\n",
    "                           columns = ['ranking','variable'])\n",
    "print(var_selected)"
   ]
  },
  {
   "cell_type": "code",
   "execution_count": 170,
   "metadata": {
    "ExecuteTime": {
     "end_time": "2021-04-30T15:41:06.801299Z",
     "start_time": "2021-04-30T15:41:06.795783Z"
    }
   },
   "outputs": [],
   "source": [
    "rfe_selected = train_final[var_selected.head(6)['variable'].values]"
   ]
  },
  {
   "cell_type": "code",
   "execution_count": 171,
   "metadata": {
    "ExecuteTime": {
     "end_time": "2021-04-30T15:41:07.283136Z",
     "start_time": "2021-04-30T15:41:07.267352Z"
    }
   },
   "outputs": [
    {
     "data": {
      "text/html": [
       "<div>\n",
       "<style scoped>\n",
       "    .dataframe tbody tr th:only-of-type {\n",
       "        vertical-align: middle;\n",
       "    }\n",
       "\n",
       "    .dataframe tbody tr th {\n",
       "        vertical-align: top;\n",
       "    }\n",
       "\n",
       "    .dataframe thead th {\n",
       "        text-align: right;\n",
       "    }\n",
       "</style>\n",
       "<table border=\"1\" class=\"dataframe\">\n",
       "  <thead>\n",
       "    <tr style=\"text-align: right;\">\n",
       "      <th></th>\n",
       "      <th>K_times_r</th>\n",
       "      <th>S_by_K</th>\n",
       "      <th>S_minus_K</th>\n",
       "      <th>S_times_r</th>\n",
       "      <th>r</th>\n",
       "      <th>tau</th>\n",
       "    </tr>\n",
       "  </thead>\n",
       "  <tbody>\n",
       "    <tr>\n",
       "      <th>0</th>\n",
       "      <td>12.65460</td>\n",
       "      <td>1.027676</td>\n",
       "      <td>11.623898</td>\n",
       "      <td>13.004828</td>\n",
       "      <td>0.03013</td>\n",
       "      <td>0.341270</td>\n",
       "    </tr>\n",
       "    <tr>\n",
       "      <th>1</th>\n",
       "      <td>14.53590</td>\n",
       "      <td>0.918313</td>\n",
       "      <td>-37.984474</td>\n",
       "      <td>13.348505</td>\n",
       "      <td>0.03126</td>\n",
       "      <td>0.166667</td>\n",
       "    </tr>\n",
       "    <tr>\n",
       "      <th>2</th>\n",
       "      <td>12.93140</td>\n",
       "      <td>1.030753</td>\n",
       "      <td>12.762336</td>\n",
       "      <td>13.329074</td>\n",
       "      <td>0.03116</td>\n",
       "      <td>0.265873</td>\n",
       "    </tr>\n",
       "    <tr>\n",
       "      <th>3</th>\n",
       "      <td>13.67120</td>\n",
       "      <td>0.981982</td>\n",
       "      <td>-8.288342</td>\n",
       "      <td>13.424870</td>\n",
       "      <td>0.02972</td>\n",
       "      <td>0.063492</td>\n",
       "    </tr>\n",
       "    <tr>\n",
       "      <th>4</th>\n",
       "      <td>12.14420</td>\n",
       "      <td>1.089558</td>\n",
       "      <td>36.718974</td>\n",
       "      <td>13.231816</td>\n",
       "      <td>0.02962</td>\n",
       "      <td>0.166667</td>\n",
       "    </tr>\n",
       "    <tr>\n",
       "      <th>...</th>\n",
       "      <td>...</td>\n",
       "      <td>...</td>\n",
       "      <td>...</td>\n",
       "      <td>...</td>\n",
       "      <td>...</td>\n",
       "      <td>...</td>\n",
       "    </tr>\n",
       "    <tr>\n",
       "      <th>1675</th>\n",
       "      <td>14.41150</td>\n",
       "      <td>0.935573</td>\n",
       "      <td>-30.602837</td>\n",
       "      <td>13.483010</td>\n",
       "      <td>0.03034</td>\n",
       "      <td>0.273810</td>\n",
       "    </tr>\n",
       "    <tr>\n",
       "      <th>1676</th>\n",
       "      <td>12.18520</td>\n",
       "      <td>1.069400</td>\n",
       "      <td>28.453825</td>\n",
       "      <td>13.030848</td>\n",
       "      <td>0.02972</td>\n",
       "      <td>0.301587</td>\n",
       "    </tr>\n",
       "    <tr>\n",
       "      <th>1677</th>\n",
       "      <td>12.43320</td>\n",
       "      <td>1.097544</td>\n",
       "      <td>38.042219</td>\n",
       "      <td>13.645986</td>\n",
       "      <td>0.03188</td>\n",
       "      <td>0.170635</td>\n",
       "    </tr>\n",
       "    <tr>\n",
       "      <th>1678</th>\n",
       "      <td>14.21760</td>\n",
       "      <td>0.914753</td>\n",
       "      <td>-40.918797</td>\n",
       "      <td>13.005585</td>\n",
       "      <td>0.02962</td>\n",
       "      <td>0.293651</td>\n",
       "    </tr>\n",
       "    <tr>\n",
       "      <th>1679</th>\n",
       "      <td>13.91745</td>\n",
       "      <td>0.929393</td>\n",
       "      <td>-32.832308</td>\n",
       "      <td>12.934779</td>\n",
       "      <td>0.02993</td>\n",
       "      <td>0.218254</td>\n",
       "    </tr>\n",
       "  </tbody>\n",
       "</table>\n",
       "<p>1680 rows × 6 columns</p>\n",
       "</div>"
      ],
      "text/plain": [
       "      K_times_r    S_by_K  S_minus_K  S_times_r        r       tau\n",
       "0      12.65460  1.027676  11.623898  13.004828  0.03013  0.341270\n",
       "1      14.53590  0.918313 -37.984474  13.348505  0.03126  0.166667\n",
       "2      12.93140  1.030753  12.762336  13.329074  0.03116  0.265873\n",
       "3      13.67120  0.981982  -8.288342  13.424870  0.02972  0.063492\n",
       "4      12.14420  1.089558  36.718974  13.231816  0.02962  0.166667\n",
       "...         ...       ...        ...        ...      ...       ...\n",
       "1675   14.41150  0.935573 -30.602837  13.483010  0.03034  0.273810\n",
       "1676   12.18520  1.069400  28.453825  13.030848  0.02972  0.301587\n",
       "1677   12.43320  1.097544  38.042219  13.645986  0.03188  0.170635\n",
       "1678   14.21760  0.914753 -40.918797  13.005585  0.02962  0.293651\n",
       "1679   13.91745  0.929393 -32.832308  12.934779  0.02993  0.218254\n",
       "\n",
       "[1680 rows x 6 columns]"
      ]
     },
     "execution_count": 171,
     "metadata": {},
     "output_type": "execute_result"
    }
   ],
   "source": [
    "rfe_selected"
   ]
  },
  {
   "cell_type": "code",
   "execution_count": null,
   "metadata": {},
   "outputs": [],
   "source": [
    "# from sklearn.model_selection import train_test_split\n",
    "# X_train, X_val, y_train, y_val = train_test_split(rfe_selected,y_regression,test_size=0.20,random_state = 1)"
   ]
  },
  {
   "cell_type": "markdown",
   "metadata": {
    "heading_collapsed": true
   },
   "source": [
    "### Forward Selection"
   ]
  },
  {
   "cell_type": "code",
   "execution_count": 25,
   "metadata": {
    "ExecuteTime": {
     "end_time": "2021-04-16T23:47:36.250570Z",
     "start_time": "2021-04-16T23:47:36.247703Z"
    },
    "hidden": true
   },
   "outputs": [],
   "source": [
    "#works terribly?"
   ]
  },
  {
   "cell_type": "code",
   "execution_count": 95,
   "metadata": {
    "ExecuteTime": {
     "end_time": "2021-04-30T15:21:48.468131Z",
     "start_time": "2021-04-30T15:21:48.462761Z"
    },
    "hidden": true
   },
   "outputs": [],
   "source": [
    "#importing the necessary libraries\n",
    "from mlxtend.feature_selection import SequentialFeatureSelector as SFS\n",
    "from sklearn.linear_model import LogisticRegression\n",
    "# Sequential Forward Selection(sfs)\n",
    "sfs = SFS(LogisticRegression(max_iter=1700),\n",
    "          k_features=18,\n",
    "          forward=True,\n",
    "          floating=True,\n",
    "          scoring = 'accuracy',\n",
    "          cv = 10)"
   ]
  },
  {
   "cell_type": "code",
   "execution_count": 96,
   "metadata": {
    "ExecuteTime": {
     "end_time": "2021-04-30T15:22:58.586322Z",
     "start_time": "2021-04-30T15:21:48.793373Z"
    },
    "hidden": true
   },
   "outputs": [
    {
     "name": "stderr",
     "output_type": "stream",
     "text": [
      "\n",
      "STOPPING EARLY DUE TO KEYBOARD INTERRUPT..."
     ]
    }
   ],
   "source": [
    "sfs.fit(X, y)\n",
    "sfs_fwd = list(sfs.k_feature_names_)"
   ]
  },
  {
   "cell_type": "code",
   "execution_count": 94,
   "metadata": {
    "ExecuteTime": {
     "end_time": "2021-04-30T15:20:02.415915Z",
     "start_time": "2021-04-30T15:20:02.411148Z"
    },
    "hidden": true
   },
   "outputs": [
    {
     "data": {
      "text/plain": [
       "['S',\n",
       " 'r',\n",
       " 'S_times_r',\n",
       " 'S_times_tau',\n",
       " 'S_by_tau',\n",
       " 'K_times_r',\n",
       " 'K_times_tau',\n",
       " 'tau_by_r',\n",
       " 'Ke^-Kt',\n",
       " 'S_minus_K']"
      ]
     },
     "execution_count": 94,
     "metadata": {},
     "output_type": "execute_result"
    }
   ],
   "source": [
    "sfs_fwd"
   ]
  },
  {
   "cell_type": "code",
   "execution_count": 29,
   "metadata": {
    "ExecuteTime": {
     "end_time": "2021-04-16T23:47:58.891072Z",
     "start_time": "2021-04-16T23:47:58.877807Z"
    },
    "hidden": true
   },
   "outputs": [
    {
     "data": {
      "text/html": [
       "<div>\n",
       "<style scoped>\n",
       "    .dataframe tbody tr th:only-of-type {\n",
       "        vertical-align: middle;\n",
       "    }\n",
       "\n",
       "    .dataframe tbody tr th {\n",
       "        vertical-align: top;\n",
       "    }\n",
       "\n",
       "    .dataframe thead th {\n",
       "        text-align: right;\n",
       "    }\n",
       "</style>\n",
       "<table border=\"1\" class=\"dataframe\">\n",
       "  <thead>\n",
       "    <tr style=\"text-align: right;\">\n",
       "      <th></th>\n",
       "      <th>S</th>\n",
       "      <th>r</th>\n",
       "      <th>S_times_r</th>\n",
       "      <th>S_times_tau</th>\n",
       "      <th>S_by_tau</th>\n",
       "      <th>K_times_r</th>\n",
       "      <th>tau_by_r</th>\n",
       "      <th>S_minus_K</th>\n",
       "    </tr>\n",
       "  </thead>\n",
       "  <tbody>\n",
       "    <tr>\n",
       "      <th>0</th>\n",
       "      <td>431.623898</td>\n",
       "      <td>0.03013</td>\n",
       "      <td>13.004828</td>\n",
       "      <td>147.300219</td>\n",
       "      <td>1264.758401</td>\n",
       "      <td>12.65460</td>\n",
       "      <td>11.326580</td>\n",
       "      <td>11.623898</td>\n",
       "    </tr>\n",
       "    <tr>\n",
       "      <th>1</th>\n",
       "      <td>427.015526</td>\n",
       "      <td>0.03126</td>\n",
       "      <td>13.348505</td>\n",
       "      <td>71.169254</td>\n",
       "      <td>2562.093150</td>\n",
       "      <td>14.53590</td>\n",
       "      <td>5.331627</td>\n",
       "      <td>-37.984474</td>\n",
       "    </tr>\n",
       "    <tr>\n",
       "      <th>2</th>\n",
       "      <td>427.762336</td>\n",
       "      <td>0.03116</td>\n",
       "      <td>13.329074</td>\n",
       "      <td>113.730463</td>\n",
       "      <td>1608.897145</td>\n",
       "      <td>12.93140</td>\n",
       "      <td>8.532510</td>\n",
       "      <td>12.762336</td>\n",
       "    </tr>\n",
       "    <tr>\n",
       "      <th>3</th>\n",
       "      <td>451.711658</td>\n",
       "      <td>0.02972</td>\n",
       "      <td>13.424870</td>\n",
       "      <td>28.680105</td>\n",
       "      <td>7114.458665</td>\n",
       "      <td>13.67120</td>\n",
       "      <td>2.136341</td>\n",
       "      <td>-8.288342</td>\n",
       "    </tr>\n",
       "    <tr>\n",
       "      <th>4</th>\n",
       "      <td>446.718974</td>\n",
       "      <td>0.02962</td>\n",
       "      <td>13.231816</td>\n",
       "      <td>74.453163</td>\n",
       "      <td>2680.313841</td>\n",
       "      <td>12.14420</td>\n",
       "      <td>5.626829</td>\n",
       "      <td>36.718974</td>\n",
       "    </tr>\n",
       "    <tr>\n",
       "      <th>...</th>\n",
       "      <td>...</td>\n",
       "      <td>...</td>\n",
       "      <td>...</td>\n",
       "      <td>...</td>\n",
       "      <td>...</td>\n",
       "      <td>...</td>\n",
       "      <td>...</td>\n",
       "      <td>...</td>\n",
       "    </tr>\n",
       "    <tr>\n",
       "      <th>1675</th>\n",
       "      <td>444.397163</td>\n",
       "      <td>0.03034</td>\n",
       "      <td>13.483010</td>\n",
       "      <td>121.680176</td>\n",
       "      <td>1623.015726</td>\n",
       "      <td>14.41150</td>\n",
       "      <td>9.024704</td>\n",
       "      <td>-30.602837</td>\n",
       "    </tr>\n",
       "    <tr>\n",
       "      <th>1676</th>\n",
       "      <td>438.453825</td>\n",
       "      <td>0.02972</td>\n",
       "      <td>13.030848</td>\n",
       "      <td>132.232106</td>\n",
       "      <td>1453.820576</td>\n",
       "      <td>12.18520</td>\n",
       "      <td>10.147621</td>\n",
       "      <td>28.453825</td>\n",
       "    </tr>\n",
       "    <tr>\n",
       "      <th>1677</th>\n",
       "      <td>428.042219</td>\n",
       "      <td>0.03188</td>\n",
       "      <td>13.645986</td>\n",
       "      <td>73.038950</td>\n",
       "      <td>2508.526487</td>\n",
       "      <td>12.43320</td>\n",
       "      <td>5.352413</td>\n",
       "      <td>38.042219</td>\n",
       "    </tr>\n",
       "    <tr>\n",
       "      <th>1678</th>\n",
       "      <td>439.081203</td>\n",
       "      <td>0.02962</td>\n",
       "      <td>13.005585</td>\n",
       "      <td>128.936544</td>\n",
       "      <td>1495.249499</td>\n",
       "      <td>14.21760</td>\n",
       "      <td>9.913936</td>\n",
       "      <td>-40.918797</td>\n",
       "    </tr>\n",
       "    <tr>\n",
       "      <th>1679</th>\n",
       "      <td>432.167692</td>\n",
       "      <td>0.02993</td>\n",
       "      <td>12.934779</td>\n",
       "      <td>94.322314</td>\n",
       "      <td>1980.113793</td>\n",
       "      <td>13.91745</td>\n",
       "      <td>7.292147</td>\n",
       "      <td>-32.832308</td>\n",
       "    </tr>\n",
       "  </tbody>\n",
       "</table>\n",
       "<p>1680 rows × 8 columns</p>\n",
       "</div>"
      ],
      "text/plain": [
       "               S        r  S_times_r  S_times_tau     S_by_tau  K_times_r  \\\n",
       "0     431.623898  0.03013  13.004828   147.300219  1264.758401   12.65460   \n",
       "1     427.015526  0.03126  13.348505    71.169254  2562.093150   14.53590   \n",
       "2     427.762336  0.03116  13.329074   113.730463  1608.897145   12.93140   \n",
       "3     451.711658  0.02972  13.424870    28.680105  7114.458665   13.67120   \n",
       "4     446.718974  0.02962  13.231816    74.453163  2680.313841   12.14420   \n",
       "...          ...      ...        ...          ...          ...        ...   \n",
       "1675  444.397163  0.03034  13.483010   121.680176  1623.015726   14.41150   \n",
       "1676  438.453825  0.02972  13.030848   132.232106  1453.820576   12.18520   \n",
       "1677  428.042219  0.03188  13.645986    73.038950  2508.526487   12.43320   \n",
       "1678  439.081203  0.02962  13.005585   128.936544  1495.249499   14.21760   \n",
       "1679  432.167692  0.02993  12.934779    94.322314  1980.113793   13.91745   \n",
       "\n",
       "       tau_by_r  S_minus_K  \n",
       "0     11.326580  11.623898  \n",
       "1      5.331627 -37.984474  \n",
       "2      8.532510  12.762336  \n",
       "3      2.136341  -8.288342  \n",
       "4      5.626829  36.718974  \n",
       "...         ...        ...  \n",
       "1675   9.024704 -30.602837  \n",
       "1676  10.147621  28.453825  \n",
       "1677   5.352413  38.042219  \n",
       "1678   9.913936 -40.918797  \n",
       "1679   7.292147 -32.832308  \n",
       "\n",
       "[1680 rows x 8 columns]"
      ]
     },
     "execution_count": 29,
     "metadata": {},
     "output_type": "execute_result"
    }
   ],
   "source": [
    "fwd_selected = train_final[sfs_fwd]\n",
    "fwd_selected"
   ]
  },
  {
   "cell_type": "code",
   "execution_count": 30,
   "metadata": {
    "ExecuteTime": {
     "end_time": "2021-04-16T23:47:59.020602Z",
     "start_time": "2021-04-16T23:47:59.006353Z"
    },
    "hidden": true
   },
   "outputs": [
    {
     "data": {
      "text/html": [
       "<div>\n",
       "<style scoped>\n",
       "    .dataframe tbody tr th:only-of-type {\n",
       "        vertical-align: middle;\n",
       "    }\n",
       "\n",
       "    .dataframe tbody tr th {\n",
       "        vertical-align: top;\n",
       "    }\n",
       "\n",
       "    .dataframe thead th {\n",
       "        text-align: right;\n",
       "    }\n",
       "</style>\n",
       "<table border=\"1\" class=\"dataframe\">\n",
       "  <thead>\n",
       "    <tr style=\"text-align: right;\">\n",
       "      <th></th>\n",
       "      <th>S</th>\n",
       "      <th>K</th>\n",
       "      <th>tau</th>\n",
       "      <th>r</th>\n",
       "      <th>S_times_r</th>\n",
       "      <th>S_by_r</th>\n",
       "      <th>S_times_tau</th>\n",
       "      <th>S_by_tau</th>\n",
       "      <th>S_times_K</th>\n",
       "      <th>S_by_K</th>\n",
       "      <th>K_times_r</th>\n",
       "      <th>K_by_r</th>\n",
       "      <th>K_times_tau</th>\n",
       "      <th>K_by_tau</th>\n",
       "      <th>tau_times_r</th>\n",
       "      <th>tau_by_r</th>\n",
       "      <th>Ke^-rt</th>\n",
       "      <th>Ke^-Kt</th>\n",
       "      <th>S_minus_K</th>\n",
       "    </tr>\n",
       "  </thead>\n",
       "  <tbody>\n",
       "    <tr>\n",
       "      <th>0</th>\n",
       "      <td>431.623898</td>\n",
       "      <td>420</td>\n",
       "      <td>0.341270</td>\n",
       "      <td>0.03013</td>\n",
       "      <td>13.004828</td>\n",
       "      <td>14325.386601</td>\n",
       "      <td>147.300219</td>\n",
       "      <td>1264.758401</td>\n",
       "      <td>181282.037286</td>\n",
       "      <td>1.027676</td>\n",
       "      <td>12.6546</td>\n",
       "      <td>13939.595088</td>\n",
       "      <td>143.333333</td>\n",
       "      <td>1230.697675</td>\n",
       "      <td>0.010282</td>\n",
       "      <td>11.326580</td>\n",
       "      <td>415.703494</td>\n",
       "      <td>2.367956e-60</td>\n",
       "      <td>11.623898</td>\n",
       "    </tr>\n",
       "    <tr>\n",
       "      <th>1</th>\n",
       "      <td>427.015526</td>\n",
       "      <td>465</td>\n",
       "      <td>0.166667</td>\n",
       "      <td>0.03126</td>\n",
       "      <td>13.348505</td>\n",
       "      <td>13660.125589</td>\n",
       "      <td>71.169254</td>\n",
       "      <td>2562.093150</td>\n",
       "      <td>198562.219543</td>\n",
       "      <td>0.918313</td>\n",
       "      <td>14.5359</td>\n",
       "      <td>14875.239923</td>\n",
       "      <td>77.500000</td>\n",
       "      <td>2789.999994</td>\n",
       "      <td>0.005210</td>\n",
       "      <td>5.331627</td>\n",
       "      <td>462.583650</td>\n",
       "      <td>1.022423e-31</td>\n",
       "      <td>-37.984474</td>\n",
       "    </tr>\n",
       "    <tr>\n",
       "      <th>2</th>\n",
       "      <td>427.762336</td>\n",
       "      <td>415</td>\n",
       "      <td>0.265873</td>\n",
       "      <td>0.03116</td>\n",
       "      <td>13.329074</td>\n",
       "      <td>13727.931207</td>\n",
       "      <td>113.730463</td>\n",
       "      <td>1608.897145</td>\n",
       "      <td>177521.369606</td>\n",
       "      <td>1.030753</td>\n",
       "      <td>12.9314</td>\n",
       "      <td>13318.356868</td>\n",
       "      <td>110.337302</td>\n",
       "      <td>1560.895522</td>\n",
       "      <td>0.008285</td>\n",
       "      <td>8.532510</td>\n",
       "      <td>411.576092</td>\n",
       "      <td>5.002267e-46</td>\n",
       "      <td>12.762336</td>\n",
       "    </tr>\n",
       "    <tr>\n",
       "      <th>3</th>\n",
       "      <td>451.711658</td>\n",
       "      <td>460</td>\n",
       "      <td>0.063492</td>\n",
       "      <td>0.02972</td>\n",
       "      <td>13.424870</td>\n",
       "      <td>15198.911770</td>\n",
       "      <td>28.680105</td>\n",
       "      <td>7114.458665</td>\n",
       "      <td>207787.362588</td>\n",
       "      <td>0.981982</td>\n",
       "      <td>13.6712</td>\n",
       "      <td>15477.792732</td>\n",
       "      <td>29.206349</td>\n",
       "      <td>7245.000056</td>\n",
       "      <td>0.001887</td>\n",
       "      <td>2.136341</td>\n",
       "      <td>459.132806</td>\n",
       "      <td>9.519226e-11</td>\n",
       "      <td>-8.288342</td>\n",
       "    </tr>\n",
       "    <tr>\n",
       "      <th>4</th>\n",
       "      <td>446.718974</td>\n",
       "      <td>410</td>\n",
       "      <td>0.166667</td>\n",
       "      <td>0.02962</td>\n",
       "      <td>13.231816</td>\n",
       "      <td>15081.666928</td>\n",
       "      <td>74.453163</td>\n",
       "      <td>2680.313841</td>\n",
       "      <td>183154.779504</td>\n",
       "      <td>1.089558</td>\n",
       "      <td>12.1442</td>\n",
       "      <td>13841.998650</td>\n",
       "      <td>68.333333</td>\n",
       "      <td>2459.999995</td>\n",
       "      <td>0.004937</td>\n",
       "      <td>5.626829</td>\n",
       "      <td>407.980954</td>\n",
       "      <td>8.629670e-28</td>\n",
       "      <td>36.718974</td>\n",
       "    </tr>\n",
       "  </tbody>\n",
       "</table>\n",
       "</div>"
      ],
      "text/plain": [
       "            S    K       tau        r  S_times_r        S_by_r  S_times_tau  \\\n",
       "0  431.623898  420  0.341270  0.03013  13.004828  14325.386601   147.300219   \n",
       "1  427.015526  465  0.166667  0.03126  13.348505  13660.125589    71.169254   \n",
       "2  427.762336  415  0.265873  0.03116  13.329074  13727.931207   113.730463   \n",
       "3  451.711658  460  0.063492  0.02972  13.424870  15198.911770    28.680105   \n",
       "4  446.718974  410  0.166667  0.02962  13.231816  15081.666928    74.453163   \n",
       "\n",
       "      S_by_tau      S_times_K    S_by_K  K_times_r        K_by_r  K_times_tau  \\\n",
       "0  1264.758401  181282.037286  1.027676    12.6546  13939.595088   143.333333   \n",
       "1  2562.093150  198562.219543  0.918313    14.5359  14875.239923    77.500000   \n",
       "2  1608.897145  177521.369606  1.030753    12.9314  13318.356868   110.337302   \n",
       "3  7114.458665  207787.362588  0.981982    13.6712  15477.792732    29.206349   \n",
       "4  2680.313841  183154.779504  1.089558    12.1442  13841.998650    68.333333   \n",
       "\n",
       "      K_by_tau  tau_times_r   tau_by_r      Ke^-rt        Ke^-Kt  S_minus_K  \n",
       "0  1230.697675     0.010282  11.326580  415.703494  2.367956e-60  11.623898  \n",
       "1  2789.999994     0.005210   5.331627  462.583650  1.022423e-31 -37.984474  \n",
       "2  1560.895522     0.008285   8.532510  411.576092  5.002267e-46  12.762336  \n",
       "3  7245.000056     0.001887   2.136341  459.132806  9.519226e-11  -8.288342  \n",
       "4  2459.999995     0.004937   5.626829  407.980954  8.629670e-28  36.718974  "
      ]
     },
     "execution_count": 30,
     "metadata": {},
     "output_type": "execute_result"
    }
   ],
   "source": [
    "train_final.head()"
   ]
  },
  {
   "cell_type": "markdown",
   "metadata": {
    "hidden": true
   },
   "source": [
    "#### My Selection"
   ]
  },
  {
   "cell_type": "code",
   "execution_count": 39,
   "metadata": {
    "ExecuteTime": {
     "end_time": "2021-04-16T23:52:17.557997Z",
     "start_time": "2021-04-16T23:52:17.552951Z"
    },
    "hidden": true
   },
   "outputs": [],
   "source": [
    "nush= train_final[['r','S_times_tau', 'K_times_r', 'tau_times_r', 'S_minus_K','Ke^-Kt']]"
   ]
  },
  {
   "cell_type": "code",
   "execution_count": null,
   "metadata": {
    "hidden": true
   },
   "outputs": [],
   "source": [
    "nush2 = train_final[['S', 'K', 'tau', 'r', 'S_times_r', 'S_times_tau', 'S_times_K',\n",
    "       'K_times_r', 'K_times_tau', 'tau_times_r', 'S_minus_K']]"
   ]
  },
  {
   "cell_type": "code",
   "execution_count": 33,
   "metadata": {
    "ExecuteTime": {
     "end_time": "2021-04-16T23:49:22.607005Z",
     "start_time": "2021-04-16T23:49:22.594436Z"
    },
    "hidden": true
   },
   "outputs": [
    {
     "data": {
      "text/html": [
       "<div>\n",
       "<style scoped>\n",
       "    .dataframe tbody tr th:only-of-type {\n",
       "        vertical-align: middle;\n",
       "    }\n",
       "\n",
       "    .dataframe tbody tr th {\n",
       "        vertical-align: top;\n",
       "    }\n",
       "\n",
       "    .dataframe thead th {\n",
       "        text-align: right;\n",
       "    }\n",
       "</style>\n",
       "<table border=\"1\" class=\"dataframe\">\n",
       "  <thead>\n",
       "    <tr style=\"text-align: right;\">\n",
       "      <th></th>\n",
       "      <th>S</th>\n",
       "      <th>K</th>\n",
       "      <th>r</th>\n",
       "      <th>S_times_tau</th>\n",
       "      <th>K_times_r</th>\n",
       "      <th>tau_times_r</th>\n",
       "      <th>S_minus_K</th>\n",
       "      <th>Ke^-Kt</th>\n",
       "    </tr>\n",
       "  </thead>\n",
       "  <tbody>\n",
       "    <tr>\n",
       "      <th>0</th>\n",
       "      <td>431.623898</td>\n",
       "      <td>420</td>\n",
       "      <td>0.03013</td>\n",
       "      <td>147.300219</td>\n",
       "      <td>12.6546</td>\n",
       "      <td>0.010282</td>\n",
       "      <td>11.623898</td>\n",
       "      <td>2.367956e-60</td>\n",
       "    </tr>\n",
       "    <tr>\n",
       "      <th>1</th>\n",
       "      <td>427.015526</td>\n",
       "      <td>465</td>\n",
       "      <td>0.03126</td>\n",
       "      <td>71.169254</td>\n",
       "      <td>14.5359</td>\n",
       "      <td>0.005210</td>\n",
       "      <td>-37.984474</td>\n",
       "      <td>1.022423e-31</td>\n",
       "    </tr>\n",
       "    <tr>\n",
       "      <th>2</th>\n",
       "      <td>427.762336</td>\n",
       "      <td>415</td>\n",
       "      <td>0.03116</td>\n",
       "      <td>113.730463</td>\n",
       "      <td>12.9314</td>\n",
       "      <td>0.008285</td>\n",
       "      <td>12.762336</td>\n",
       "      <td>5.002267e-46</td>\n",
       "    </tr>\n",
       "    <tr>\n",
       "      <th>3</th>\n",
       "      <td>451.711658</td>\n",
       "      <td>460</td>\n",
       "      <td>0.02972</td>\n",
       "      <td>28.680105</td>\n",
       "      <td>13.6712</td>\n",
       "      <td>0.001887</td>\n",
       "      <td>-8.288342</td>\n",
       "      <td>9.519226e-11</td>\n",
       "    </tr>\n",
       "    <tr>\n",
       "      <th>4</th>\n",
       "      <td>446.718974</td>\n",
       "      <td>410</td>\n",
       "      <td>0.02962</td>\n",
       "      <td>74.453163</td>\n",
       "      <td>12.1442</td>\n",
       "      <td>0.004937</td>\n",
       "      <td>36.718974</td>\n",
       "      <td>8.629670e-28</td>\n",
       "    </tr>\n",
       "  </tbody>\n",
       "</table>\n",
       "</div>"
      ],
      "text/plain": [
       "            S    K        r  S_times_tau  K_times_r  tau_times_r  S_minus_K  \\\n",
       "0  431.623898  420  0.03013   147.300219    12.6546     0.010282  11.623898   \n",
       "1  427.015526  465  0.03126    71.169254    14.5359     0.005210 -37.984474   \n",
       "2  427.762336  415  0.03116   113.730463    12.9314     0.008285  12.762336   \n",
       "3  451.711658  460  0.02972    28.680105    13.6712     0.001887  -8.288342   \n",
       "4  446.718974  410  0.02962    74.453163    12.1442     0.004937  36.718974   \n",
       "\n",
       "         Ke^-Kt  \n",
       "0  2.367956e-60  \n",
       "1  1.022423e-31  \n",
       "2  5.002267e-46  \n",
       "3  9.519226e-11  \n",
       "4  8.629670e-28  "
      ]
     },
     "execution_count": 33,
     "metadata": {},
     "output_type": "execute_result"
    }
   ],
   "source": [
    "nush.head()"
   ]
  },
  {
   "cell_type": "markdown",
   "metadata": {
    "heading_collapsed": true
   },
   "source": [
    "## Cross Validation"
   ]
  },
  {
   "cell_type": "code",
   "execution_count": 34,
   "metadata": {
    "ExecuteTime": {
     "end_time": "2021-04-16T23:49:28.934298Z",
     "start_time": "2021-04-16T23:49:28.929943Z"
    },
    "hidden": true
   },
   "outputs": [],
   "source": [
    "from sklearn.model_selection import KFold \n",
    "\n",
    "kfolds_r = KFold(n_splits = 10, random_state = 1, shuffle = True)"
   ]
  },
  {
   "cell_type": "code",
   "execution_count": 35,
   "metadata": {
    "ExecuteTime": {
     "end_time": "2021-04-16T23:49:31.574735Z",
     "start_time": "2021-04-16T23:49:31.410720Z"
    },
    "hidden": true
   },
   "outputs": [
    {
     "name": "stdout",
     "output_type": "stream",
     "text": [
      "Linear Regression: \n",
      "\n",
      "r squared of 10-folds: [0.99446749 0.99429339 0.99383955 0.99143158 0.99456862 0.99123637\n",
      " 0.99304574 0.99130611 0.99241621 0.99337315] (mean r squared: 0.9929978200970432 )\n",
      "r squared of 10-folds: [0.989246   0.98704128 0.98582434 0.9824359  0.98848399 0.98514196\n",
      " 0.98591701 0.98258043 0.98420896 0.98654811] (mean r squared: 0.9857427986459124 )\n",
      "r squared of 10-folds: [0.91367832 0.91277457 0.90477328 0.89694054 0.91811225 0.93012067\n",
      " 0.91646694 0.91738917 0.89869166 0.89936832] (mean r squared: 0.9108315719028915 )\n"
     ]
    }
   ],
   "source": [
    "from sklearn.linear_model import LinearRegression\n",
    "from sklearn.model_selection import cross_val_score\n",
    "\n",
    "kfolds_regresssion = KFold(n_splits = 10, random_state = 1, shuffle = True)\n",
    "regresssion_model = LinearRegression()\n",
    "r2_model_1_cv = cross_val_score(regresssion_model,X,y_regression, cv=kfolds_regresssion)\n",
    "r2_model_2_cv = cross_val_score(regresssion_model,rfe_selected,y_regression, cv=kfolds_regresssion)\n",
    "#r2_model_3_cv = cross_val_score(regresssion_model,fwd_selected,y_regression, cv=kfolds_regresssion)\n",
    "r2_model_4_cv = cross_val_score(regresssion_model,nush,y_regression, cv=kfolds_regresssion)\n",
    "\n",
    "print(\"Linear Regression: \\n\")\n",
    "print(\"r squared of 10-folds:\",r2_model_1_cv,\"(mean r squared:\",np.mean(r2_model_1_cv),\")\")\n",
    "print(\"r squared of 10-folds:\",r2_model_2_cv,\"(mean r squared:\",np.mean(r2_model_2_cv),\")\")\n",
    "#print(\"r squared of 10-folds:\",r2_model_3_cv,\"(mean r squared:\",np.mean(r2_model_3_cv),\")\")\n",
    "print(\"r squared of 10-folds:\",r2_model_4_cv,\"(mean r squared:\",np.mean(r2_model_4_cv),\")\")"
   ]
  },
  {
   "cell_type": "code",
   "execution_count": 36,
   "metadata": {
    "ExecuteTime": {
     "end_time": "2021-04-16T23:49:39.047586Z",
     "start_time": "2021-04-16T23:49:39.042352Z"
    },
    "hidden": true
   },
   "outputs": [
    {
     "data": {
      "text/plain": [
       "Index(['S', 'K', 'tau', 'r', 'S_times_r', 'S_by_r', 'S_times_tau', 'S_by_tau',\n",
       "       'S_times_K', 'S_by_K', 'K_times_r', 'K_by_r', 'K_times_tau', 'K_by_tau',\n",
       "       'tau_times_r', 'tau_by_r', 'Ke^-rt', 'Ke^-Kt', 'S_minus_K'],\n",
       "      dtype='object')"
      ]
     },
     "execution_count": 36,
     "metadata": {},
     "output_type": "execute_result"
    }
   ],
   "source": [
    "X.columns"
   ]
  },
  {
   "cell_type": "code",
   "execution_count": 108,
   "metadata": {
    "ExecuteTime": {
     "end_time": "2021-04-30T15:27:25.211828Z",
     "start_time": "2021-04-30T15:25:54.775713Z"
    },
    "hidden": true
   },
   "outputs": [
    {
     "name": "stdout",
     "output_type": "stream",
     "text": [
      "Linear Regression: \n",
      "\n",
      "r squared of 10-folds: [0.99880357 0.99863458 0.99846737 0.99827792 0.99800598 0.99874631\n",
      " 0.99860729 0.99856049 0.99862265 0.99837572] (mean r squared: 0.9985101865388424 )\n",
      "r squared of 10-folds: [0.99874549 0.99857111 0.99845697 0.99823982 0.99831692 0.99887917\n",
      " 0.99869668 0.99863973 0.99869381 0.99837538] (mean r squared: 0.9985615060094043 )\n",
      "r squared of 10-folds: [0.99884765 0.99864423 0.99863032 0.9984904  0.9985891  0.99901584\n",
      " 0.99878527 0.99856014 0.9987749  0.99866926] (mean r squared: 0.9987007126719594 )\n"
     ]
    }
   ],
   "source": [
    "#BEST\n",
    "\n",
    "from sklearn.ensemble import RandomForestRegressor\n",
    "\n",
    "kfolds_regresssion = KFold(n_splits = 10, random_state = 1, shuffle = True)\n",
    "regresssion_model = RandomForestRegressor(n_estimators=450, random_state=1)\n",
    "r2_model_1_cv = cross_val_score(regresssion_model,X,y_regression, cv=kfolds_regresssion)\n",
    "r2_model_2_cv = cross_val_score(regresssion_model,rfe_selected,y_regression, cv=kfolds_regresssion)\n",
    "#r2_model_3_cv = cross_val_score(regresssion_model,fwd_selected,y_regression, cv=kfolds_regresssion)\n",
    "r2_model_4_cv = cross_val_score(regresssion_model,nush,y_regression, cv=kfolds_regresssion)\n",
    "\n",
    "print(\"Linear Regression: \\n\")\n",
    "print(\"r squared of 10-folds:\",r2_model_1_cv,\"(mean r squared:\",np.mean(r2_model_1_cv),\")\")\n",
    "print(\"r squared of 10-folds:\",r2_model_2_cv,\"(mean r squared:\",np.mean(r2_model_2_cv),\")\") #use this!\n",
    "#print(\"r squared of 10-folds:\",r2_model_3_cv,\"(mean r squared:\",np.mean(r2_model_3_cv),\")\")\n",
    "print(\"r squared of 10-folds:\",r2_model_4_cv,\"(mean r squared:\",np.mean(r2_model_4_cv),\")\")"
   ]
  },
  {
   "cell_type": "code",
   "execution_count": 36,
   "metadata": {
    "ExecuteTime": {
     "end_time": "2021-04-16T20:55:35.067596Z",
     "start_time": "2021-04-16T20:52:55.982281Z"
    },
    "hidden": true
   },
   "outputs": [
    {
     "name": "stdout",
     "output_type": "stream",
     "text": [
      "Linear Regression: \n",
      "\n",
      "r squared of 10-folds: 100 (mean r squared: 0.9985344460391399 )\n",
      "Linear Regression: \n",
      "\n",
      "r squared of 10-folds: 150 (mean r squared: 0.9985513030864424 )\n",
      "Linear Regression: \n",
      "\n",
      "r squared of 10-folds: 200 (mean r squared: 0.9985502893204078 )\n",
      "Linear Regression: \n",
      "\n",
      "r squared of 10-folds: 250 (mean r squared: 0.9985600927973856 )\n",
      "Linear Regression: \n",
      "\n",
      "r squared of 10-folds: 300 (mean r squared: 0.9985527348657339 )\n",
      "Linear Regression: \n",
      "\n",
      "r squared of 10-folds: 350 (mean r squared: 0.9985540429686492 )\n",
      "Linear Regression: \n",
      "\n",
      "r squared of 10-folds: 400 (mean r squared: 0.9985561043439024 )\n",
      "Linear Regression: \n",
      "\n",
      "r squared of 10-folds: 450 (mean r squared: 0.9985572787260123 )\n",
      "Linear Regression: \n",
      "\n",
      "r squared of 10-folds: 500 (mean r squared: 0.9985512576967427 )\n",
      "Linear Regression: \n",
      "\n",
      "r squared of 10-folds: 550 (mean r squared: 0.9985524941064312 )\n"
     ]
    }
   ],
   "source": [
    "#iteration to find best\n",
    "from sklearn.ensemble import RandomForestRegressor\n",
    "kfolds_regresssion = KFold(n_splits = 10, random_state = 1, shuffle = True)\n",
    "\n",
    "for i in range(100,600, 50):\n",
    "\n",
    "    regresssion_model = RandomForestRegressor(n_estimators=i, random_state=1)\n",
    "\n",
    "\n",
    "#r2_model_1_cv = cross_val_score(regresssion_model,X,y_regression, cv=kfolds_regresssion)\n",
    "#r2_model_2_cv = cross_val_score(regresssion_model,rfe_selected,y_regression, cv=kfolds_regresssion)\n",
    "#r2_model_3_cv = cross_val_score(regresssion_model,fwd_selected,y_regression, cv=kfolds_regresssion)\n",
    "    r2_model_4_cv = cross_val_score(regresssion_model,nush,y_regression, cv=kfolds_regresssion)\n",
    "\n",
    "    print(\"Linear Regression: \\n\")\n",
    "#     print(\"r squared of 10-folds:\",r2_model_1_cv,\"(mean r squared:\",np.mean(r2_model_1_cv),\")\")\n",
    "#     print(\"r squared of 10-folds:\",r2_model_2_cv,\"(mean r squared:\",np.mean(r2_model_2_cv),\")\")\n",
    "#     print(\"r squared of 10-folds:\",r2_model_3_cv,\"(mean r squared:\",np.mean(r2_model_3_cv),\")\")\n",
    "    print(\"r squared of 10-folds:\",i,\"(mean r squared:\",np.mean(r2_model_4_cv),\")\")"
   ]
  },
  {
   "cell_type": "code",
   "execution_count": 40,
   "metadata": {
    "ExecuteTime": {
     "end_time": "2021-04-16T23:52:33.670271Z",
     "start_time": "2021-04-16T23:52:23.792362Z"
    },
    "hidden": true
   },
   "outputs": [
    {
     "name": "stdout",
     "output_type": "stream",
     "text": [
      "Linear Regression: \n",
      "\n",
      "r squared of 10-folds: [0.99854814 0.99838929 0.99859098 0.99838915 0.99855652 0.99828308\n",
      " 0.99848237 0.99859385 0.99863336 0.99846397] (mean r squared: 0.9984930702690141 )\n",
      "r squared of 10-folds: [0.99838797 0.99866534 0.99855444 0.99829983 0.99830522 0.99842601\n",
      " 0.99843011 0.99846757 0.99851847 0.99852038] (mean r squared: 0.9984575342294697 )\n",
      "r squared of 10-folds: [0.99879015 0.99869045 0.99866785 0.99817326 0.99871774 0.99839309\n",
      " 0.99848539 0.99853167 0.99844878 0.99862663] (mean r squared: 0.9985525023282376 )\n"
     ]
    }
   ],
   "source": [
    "from sklearn.ensemble import GradientBoostingRegressor\n",
    "\n",
    "kfolds_regresssion = KFold(n_splits = 10, random_state = 1, shuffle = True)\n",
    "regresssion_model = GradientBoostingRegressor()\n",
    "r2_model_1_cv = cross_val_score(regresssion_model,X,y_regression, cv=kfolds_regresssion)\n",
    "r2_model_2_cv = cross_val_score(regresssion_model,rfe_selected,y_regression, cv=kfolds_regresssion)\n",
    "#r2_model_3_cv = cross_val_score(regresssion_model,fwd_selected,y_regression, cv=kfolds_regresssion)\n",
    "r2_model_4_cv = cross_val_score(regresssion_model,nush,y_regression, cv=kfolds_regresssion)\n",
    "\n",
    "print(\"Linear Regression: \\n\")\n",
    "print(\"r squared of 10-folds:\",r2_model_1_cv,\"(mean r squared:\",np.mean(r2_model_1_cv),\")\")\n",
    "print(\"r squared of 10-folds:\",r2_model_2_cv,\"(mean r squared:\",np.mean(r2_model_2_cv),\")\")\n",
    "#print(\"r squared of 10-folds:\",r2_model_3_cv,\"(mean r squared:\",np.mean(r2_model_3_cv),\")\")\n",
    "print(\"r squared of 10-folds:\",r2_model_4_cv,\"(mean r squared:\",np.mean(r2_model_4_cv),\")\")"
   ]
  },
  {
   "cell_type": "code",
   "execution_count": 126,
   "metadata": {
    "ExecuteTime": {
     "end_time": "2021-04-15T03:00:24.141245Z",
     "start_time": "2021-04-15T02:57:44.536865Z"
    },
    "hidden": true
   },
   "outputs": [
    {
     "name": "stdout",
     "output_type": "stream",
     "text": [
      "r squared of 10-folds: 1000 (mean r squared: 0.9965135385986373 )\n",
      "r squared of 10-folds: 1500 (mean r squared: 0.996577256221253 )\n",
      "r squared of 10-folds: 2000 (mean r squared: 0.9965690693570173 )\n",
      "r squared of 10-folds: 2500 (mean r squared: 0.9965618203615444 )\n",
      "r squared of 10-folds: 3000 (mean r squared: 0.9965403608787913 )\n",
      "r squared of 10-folds: 3500 (mean r squared: 0.9965194451115551 )\n",
      "r squared of 10-folds: 4000 (mean r squared: 0.9965040889860773 )\n",
      "r squared of 10-folds: 4500 (mean r squared: 0.9964721031632067 )\n"
     ]
    },
    {
     "ename": "KeyboardInterrupt",
     "evalue": "",
     "output_type": "error",
     "traceback": [
      "\u001b[0;31m---------------------------------------------------------------------------\u001b[0m",
      "\u001b[0;31mKeyboardInterrupt\u001b[0m                         Traceback (most recent call last)",
      "\u001b[0;32m<ipython-input-126-c038a736fe83>\u001b[0m in \u001b[0;36m<module>\u001b[0;34m\u001b[0m\n\u001b[1;32m     10\u001b[0m \u001b[0;31m#     r2_model_2_cv = cross_val_score(regresssion_model,rfe_selected,y_regression, cv=kfolds_regresssion)\u001b[0m\u001b[0;34m\u001b[0m\u001b[0;34m\u001b[0m\u001b[0;34m\u001b[0m\u001b[0m\n\u001b[1;32m     11\u001b[0m \u001b[0;31m#     r2_model_3_cv = cross_val_score(regresssion_model,fwd_selected,y_regression, cv=kfolds_regresssion)\u001b[0m\u001b[0;34m\u001b[0m\u001b[0;34m\u001b[0m\u001b[0;34m\u001b[0m\u001b[0m\n\u001b[0;32m---> 12\u001b[0;31m     \u001b[0mr2_model_4_cv\u001b[0m \u001b[0;34m=\u001b[0m \u001b[0mcross_val_score\u001b[0m\u001b[0;34m(\u001b[0m\u001b[0mregresssion_model\u001b[0m\u001b[0;34m,\u001b[0m\u001b[0mnush\u001b[0m\u001b[0;34m,\u001b[0m\u001b[0my_regression\u001b[0m\u001b[0;34m,\u001b[0m \u001b[0mcv\u001b[0m\u001b[0;34m=\u001b[0m\u001b[0mkfolds_regresssion\u001b[0m\u001b[0;34m)\u001b[0m\u001b[0;34m\u001b[0m\u001b[0;34m\u001b[0m\u001b[0m\n\u001b[0m\u001b[1;32m     13\u001b[0m \u001b[0;34m\u001b[0m\u001b[0m\n\u001b[1;32m     14\u001b[0m \u001b[0;31m#     print(\"Linear Regression: \\n\")\u001b[0m\u001b[0;34m\u001b[0m\u001b[0;34m\u001b[0m\u001b[0;34m\u001b[0m\u001b[0m\n",
      "\u001b[0;32m~/opt/anaconda3/lib/python3.8/site-packages/sklearn/utils/validation.py\u001b[0m in \u001b[0;36minner_f\u001b[0;34m(*args, **kwargs)\u001b[0m\n\u001b[1;32m     71\u001b[0m                           FutureWarning)\n\u001b[1;32m     72\u001b[0m         \u001b[0mkwargs\u001b[0m\u001b[0;34m.\u001b[0m\u001b[0mupdate\u001b[0m\u001b[0;34m(\u001b[0m\u001b[0;34m{\u001b[0m\u001b[0mk\u001b[0m\u001b[0;34m:\u001b[0m \u001b[0marg\u001b[0m \u001b[0;32mfor\u001b[0m \u001b[0mk\u001b[0m\u001b[0;34m,\u001b[0m \u001b[0marg\u001b[0m \u001b[0;32min\u001b[0m \u001b[0mzip\u001b[0m\u001b[0;34m(\u001b[0m\u001b[0msig\u001b[0m\u001b[0;34m.\u001b[0m\u001b[0mparameters\u001b[0m\u001b[0;34m,\u001b[0m \u001b[0margs\u001b[0m\u001b[0;34m)\u001b[0m\u001b[0;34m}\u001b[0m\u001b[0;34m)\u001b[0m\u001b[0;34m\u001b[0m\u001b[0;34m\u001b[0m\u001b[0m\n\u001b[0;32m---> 73\u001b[0;31m         \u001b[0;32mreturn\u001b[0m \u001b[0mf\u001b[0m\u001b[0;34m(\u001b[0m\u001b[0;34m**\u001b[0m\u001b[0mkwargs\u001b[0m\u001b[0;34m)\u001b[0m\u001b[0;34m\u001b[0m\u001b[0;34m\u001b[0m\u001b[0m\n\u001b[0m\u001b[1;32m     74\u001b[0m     \u001b[0;32mreturn\u001b[0m \u001b[0minner_f\u001b[0m\u001b[0;34m\u001b[0m\u001b[0;34m\u001b[0m\u001b[0m\n\u001b[1;32m     75\u001b[0m \u001b[0;34m\u001b[0m\u001b[0m\n",
      "\u001b[0;32m~/opt/anaconda3/lib/python3.8/site-packages/sklearn/model_selection/_validation.py\u001b[0m in \u001b[0;36mcross_val_score\u001b[0;34m(estimator, X, y, groups, scoring, cv, n_jobs, verbose, fit_params, pre_dispatch, error_score)\u001b[0m\n\u001b[1;32m    399\u001b[0m     \u001b[0mscorer\u001b[0m \u001b[0;34m=\u001b[0m \u001b[0mcheck_scoring\u001b[0m\u001b[0;34m(\u001b[0m\u001b[0mestimator\u001b[0m\u001b[0;34m,\u001b[0m \u001b[0mscoring\u001b[0m\u001b[0;34m=\u001b[0m\u001b[0mscoring\u001b[0m\u001b[0;34m)\u001b[0m\u001b[0;34m\u001b[0m\u001b[0;34m\u001b[0m\u001b[0m\n\u001b[1;32m    400\u001b[0m \u001b[0;34m\u001b[0m\u001b[0m\n\u001b[0;32m--> 401\u001b[0;31m     cv_results = cross_validate(estimator=estimator, X=X, y=y, groups=groups,\n\u001b[0m\u001b[1;32m    402\u001b[0m                                 \u001b[0mscoring\u001b[0m\u001b[0;34m=\u001b[0m\u001b[0;34m{\u001b[0m\u001b[0;34m'score'\u001b[0m\u001b[0;34m:\u001b[0m \u001b[0mscorer\u001b[0m\u001b[0;34m}\u001b[0m\u001b[0;34m,\u001b[0m \u001b[0mcv\u001b[0m\u001b[0;34m=\u001b[0m\u001b[0mcv\u001b[0m\u001b[0;34m,\u001b[0m\u001b[0;34m\u001b[0m\u001b[0;34m\u001b[0m\u001b[0m\n\u001b[1;32m    403\u001b[0m                                 \u001b[0mn_jobs\u001b[0m\u001b[0;34m=\u001b[0m\u001b[0mn_jobs\u001b[0m\u001b[0;34m,\u001b[0m \u001b[0mverbose\u001b[0m\u001b[0;34m=\u001b[0m\u001b[0mverbose\u001b[0m\u001b[0;34m,\u001b[0m\u001b[0;34m\u001b[0m\u001b[0;34m\u001b[0m\u001b[0m\n",
      "\u001b[0;32m~/opt/anaconda3/lib/python3.8/site-packages/sklearn/utils/validation.py\u001b[0m in \u001b[0;36minner_f\u001b[0;34m(*args, **kwargs)\u001b[0m\n\u001b[1;32m     71\u001b[0m                           FutureWarning)\n\u001b[1;32m     72\u001b[0m         \u001b[0mkwargs\u001b[0m\u001b[0;34m.\u001b[0m\u001b[0mupdate\u001b[0m\u001b[0;34m(\u001b[0m\u001b[0;34m{\u001b[0m\u001b[0mk\u001b[0m\u001b[0;34m:\u001b[0m \u001b[0marg\u001b[0m \u001b[0;32mfor\u001b[0m \u001b[0mk\u001b[0m\u001b[0;34m,\u001b[0m \u001b[0marg\u001b[0m \u001b[0;32min\u001b[0m \u001b[0mzip\u001b[0m\u001b[0;34m(\u001b[0m\u001b[0msig\u001b[0m\u001b[0;34m.\u001b[0m\u001b[0mparameters\u001b[0m\u001b[0;34m,\u001b[0m \u001b[0margs\u001b[0m\u001b[0;34m)\u001b[0m\u001b[0;34m}\u001b[0m\u001b[0;34m)\u001b[0m\u001b[0;34m\u001b[0m\u001b[0;34m\u001b[0m\u001b[0m\n\u001b[0;32m---> 73\u001b[0;31m         \u001b[0;32mreturn\u001b[0m \u001b[0mf\u001b[0m\u001b[0;34m(\u001b[0m\u001b[0;34m**\u001b[0m\u001b[0mkwargs\u001b[0m\u001b[0;34m)\u001b[0m\u001b[0;34m\u001b[0m\u001b[0;34m\u001b[0m\u001b[0m\n\u001b[0m\u001b[1;32m     74\u001b[0m     \u001b[0;32mreturn\u001b[0m \u001b[0minner_f\u001b[0m\u001b[0;34m\u001b[0m\u001b[0;34m\u001b[0m\u001b[0m\n\u001b[1;32m     75\u001b[0m \u001b[0;34m\u001b[0m\u001b[0m\n",
      "\u001b[0;32m~/opt/anaconda3/lib/python3.8/site-packages/sklearn/model_selection/_validation.py\u001b[0m in \u001b[0;36mcross_validate\u001b[0;34m(estimator, X, y, groups, scoring, cv, n_jobs, verbose, fit_params, pre_dispatch, return_train_score, return_estimator, error_score)\u001b[0m\n\u001b[1;32m    240\u001b[0m     parallel = Parallel(n_jobs=n_jobs, verbose=verbose,\n\u001b[1;32m    241\u001b[0m                         pre_dispatch=pre_dispatch)\n\u001b[0;32m--> 242\u001b[0;31m     scores = parallel(\n\u001b[0m\u001b[1;32m    243\u001b[0m         delayed(_fit_and_score)(\n\u001b[1;32m    244\u001b[0m             \u001b[0mclone\u001b[0m\u001b[0;34m(\u001b[0m\u001b[0mestimator\u001b[0m\u001b[0;34m)\u001b[0m\u001b[0;34m,\u001b[0m \u001b[0mX\u001b[0m\u001b[0;34m,\u001b[0m \u001b[0my\u001b[0m\u001b[0;34m,\u001b[0m \u001b[0mscorers\u001b[0m\u001b[0;34m,\u001b[0m \u001b[0mtrain\u001b[0m\u001b[0;34m,\u001b[0m \u001b[0mtest\u001b[0m\u001b[0;34m,\u001b[0m \u001b[0mverbose\u001b[0m\u001b[0;34m,\u001b[0m \u001b[0;32mNone\u001b[0m\u001b[0;34m,\u001b[0m\u001b[0;34m\u001b[0m\u001b[0;34m\u001b[0m\u001b[0m\n",
      "\u001b[0;32m~/opt/anaconda3/lib/python3.8/site-packages/joblib/parallel.py\u001b[0m in \u001b[0;36m__call__\u001b[0;34m(self, iterable)\u001b[0m\n\u001b[1;32m   1030\u001b[0m                 \u001b[0mself\u001b[0m\u001b[0;34m.\u001b[0m\u001b[0m_iterating\u001b[0m \u001b[0;34m=\u001b[0m \u001b[0mself\u001b[0m\u001b[0;34m.\u001b[0m\u001b[0m_original_iterator\u001b[0m \u001b[0;32mis\u001b[0m \u001b[0;32mnot\u001b[0m \u001b[0;32mNone\u001b[0m\u001b[0;34m\u001b[0m\u001b[0;34m\u001b[0m\u001b[0m\n\u001b[1;32m   1031\u001b[0m \u001b[0;34m\u001b[0m\u001b[0m\n\u001b[0;32m-> 1032\u001b[0;31m             \u001b[0;32mwhile\u001b[0m \u001b[0mself\u001b[0m\u001b[0;34m.\u001b[0m\u001b[0mdispatch_one_batch\u001b[0m\u001b[0;34m(\u001b[0m\u001b[0miterator\u001b[0m\u001b[0;34m)\u001b[0m\u001b[0;34m:\u001b[0m\u001b[0;34m\u001b[0m\u001b[0;34m\u001b[0m\u001b[0m\n\u001b[0m\u001b[1;32m   1033\u001b[0m                 \u001b[0;32mpass\u001b[0m\u001b[0;34m\u001b[0m\u001b[0;34m\u001b[0m\u001b[0m\n\u001b[1;32m   1034\u001b[0m \u001b[0;34m\u001b[0m\u001b[0m\n",
      "\u001b[0;32m~/opt/anaconda3/lib/python3.8/site-packages/joblib/parallel.py\u001b[0m in \u001b[0;36mdispatch_one_batch\u001b[0;34m(self, iterator)\u001b[0m\n\u001b[1;32m    845\u001b[0m                 \u001b[0;32mreturn\u001b[0m \u001b[0;32mFalse\u001b[0m\u001b[0;34m\u001b[0m\u001b[0;34m\u001b[0m\u001b[0m\n\u001b[1;32m    846\u001b[0m             \u001b[0;32melse\u001b[0m\u001b[0;34m:\u001b[0m\u001b[0;34m\u001b[0m\u001b[0;34m\u001b[0m\u001b[0m\n\u001b[0;32m--> 847\u001b[0;31m                 \u001b[0mself\u001b[0m\u001b[0;34m.\u001b[0m\u001b[0m_dispatch\u001b[0m\u001b[0;34m(\u001b[0m\u001b[0mtasks\u001b[0m\u001b[0;34m)\u001b[0m\u001b[0;34m\u001b[0m\u001b[0;34m\u001b[0m\u001b[0m\n\u001b[0m\u001b[1;32m    848\u001b[0m                 \u001b[0;32mreturn\u001b[0m \u001b[0;32mTrue\u001b[0m\u001b[0;34m\u001b[0m\u001b[0;34m\u001b[0m\u001b[0m\n\u001b[1;32m    849\u001b[0m \u001b[0;34m\u001b[0m\u001b[0m\n",
      "\u001b[0;32m~/opt/anaconda3/lib/python3.8/site-packages/joblib/parallel.py\u001b[0m in \u001b[0;36m_dispatch\u001b[0;34m(self, batch)\u001b[0m\n\u001b[1;32m    763\u001b[0m         \u001b[0;32mwith\u001b[0m \u001b[0mself\u001b[0m\u001b[0;34m.\u001b[0m\u001b[0m_lock\u001b[0m\u001b[0;34m:\u001b[0m\u001b[0;34m\u001b[0m\u001b[0;34m\u001b[0m\u001b[0m\n\u001b[1;32m    764\u001b[0m             \u001b[0mjob_idx\u001b[0m \u001b[0;34m=\u001b[0m \u001b[0mlen\u001b[0m\u001b[0;34m(\u001b[0m\u001b[0mself\u001b[0m\u001b[0;34m.\u001b[0m\u001b[0m_jobs\u001b[0m\u001b[0;34m)\u001b[0m\u001b[0;34m\u001b[0m\u001b[0;34m\u001b[0m\u001b[0m\n\u001b[0;32m--> 765\u001b[0;31m             \u001b[0mjob\u001b[0m \u001b[0;34m=\u001b[0m \u001b[0mself\u001b[0m\u001b[0;34m.\u001b[0m\u001b[0m_backend\u001b[0m\u001b[0;34m.\u001b[0m\u001b[0mapply_async\u001b[0m\u001b[0;34m(\u001b[0m\u001b[0mbatch\u001b[0m\u001b[0;34m,\u001b[0m \u001b[0mcallback\u001b[0m\u001b[0;34m=\u001b[0m\u001b[0mcb\u001b[0m\u001b[0;34m)\u001b[0m\u001b[0;34m\u001b[0m\u001b[0;34m\u001b[0m\u001b[0m\n\u001b[0m\u001b[1;32m    766\u001b[0m             \u001b[0;31m# A job can complete so quickly than its callback is\u001b[0m\u001b[0;34m\u001b[0m\u001b[0;34m\u001b[0m\u001b[0;34m\u001b[0m\u001b[0m\n\u001b[1;32m    767\u001b[0m             \u001b[0;31m# called before we get here, causing self._jobs to\u001b[0m\u001b[0;34m\u001b[0m\u001b[0;34m\u001b[0m\u001b[0;34m\u001b[0m\u001b[0m\n",
      "\u001b[0;32m~/opt/anaconda3/lib/python3.8/site-packages/joblib/_parallel_backends.py\u001b[0m in \u001b[0;36mapply_async\u001b[0;34m(self, func, callback)\u001b[0m\n\u001b[1;32m    206\u001b[0m     \u001b[0;32mdef\u001b[0m \u001b[0mapply_async\u001b[0m\u001b[0;34m(\u001b[0m\u001b[0mself\u001b[0m\u001b[0;34m,\u001b[0m \u001b[0mfunc\u001b[0m\u001b[0;34m,\u001b[0m \u001b[0mcallback\u001b[0m\u001b[0;34m=\u001b[0m\u001b[0;32mNone\u001b[0m\u001b[0;34m)\u001b[0m\u001b[0;34m:\u001b[0m\u001b[0;34m\u001b[0m\u001b[0;34m\u001b[0m\u001b[0m\n\u001b[1;32m    207\u001b[0m         \u001b[0;34m\"\"\"Schedule a func to be run\"\"\"\u001b[0m\u001b[0;34m\u001b[0m\u001b[0;34m\u001b[0m\u001b[0m\n\u001b[0;32m--> 208\u001b[0;31m         \u001b[0mresult\u001b[0m \u001b[0;34m=\u001b[0m \u001b[0mImmediateResult\u001b[0m\u001b[0;34m(\u001b[0m\u001b[0mfunc\u001b[0m\u001b[0;34m)\u001b[0m\u001b[0;34m\u001b[0m\u001b[0;34m\u001b[0m\u001b[0m\n\u001b[0m\u001b[1;32m    209\u001b[0m         \u001b[0;32mif\u001b[0m \u001b[0mcallback\u001b[0m\u001b[0;34m:\u001b[0m\u001b[0;34m\u001b[0m\u001b[0;34m\u001b[0m\u001b[0m\n\u001b[1;32m    210\u001b[0m             \u001b[0mcallback\u001b[0m\u001b[0;34m(\u001b[0m\u001b[0mresult\u001b[0m\u001b[0;34m)\u001b[0m\u001b[0;34m\u001b[0m\u001b[0;34m\u001b[0m\u001b[0m\n",
      "\u001b[0;32m~/opt/anaconda3/lib/python3.8/site-packages/joblib/_parallel_backends.py\u001b[0m in \u001b[0;36m__init__\u001b[0;34m(self, batch)\u001b[0m\n\u001b[1;32m    570\u001b[0m         \u001b[0;31m# Don't delay the application, to avoid keeping the input\u001b[0m\u001b[0;34m\u001b[0m\u001b[0;34m\u001b[0m\u001b[0;34m\u001b[0m\u001b[0m\n\u001b[1;32m    571\u001b[0m         \u001b[0;31m# arguments in memory\u001b[0m\u001b[0;34m\u001b[0m\u001b[0;34m\u001b[0m\u001b[0;34m\u001b[0m\u001b[0m\n\u001b[0;32m--> 572\u001b[0;31m         \u001b[0mself\u001b[0m\u001b[0;34m.\u001b[0m\u001b[0mresults\u001b[0m \u001b[0;34m=\u001b[0m \u001b[0mbatch\u001b[0m\u001b[0;34m(\u001b[0m\u001b[0;34m)\u001b[0m\u001b[0;34m\u001b[0m\u001b[0;34m\u001b[0m\u001b[0m\n\u001b[0m\u001b[1;32m    573\u001b[0m \u001b[0;34m\u001b[0m\u001b[0m\n\u001b[1;32m    574\u001b[0m     \u001b[0;32mdef\u001b[0m \u001b[0mget\u001b[0m\u001b[0;34m(\u001b[0m\u001b[0mself\u001b[0m\u001b[0;34m)\u001b[0m\u001b[0;34m:\u001b[0m\u001b[0;34m\u001b[0m\u001b[0;34m\u001b[0m\u001b[0m\n",
      "\u001b[0;32m~/opt/anaconda3/lib/python3.8/site-packages/joblib/parallel.py\u001b[0m in \u001b[0;36m__call__\u001b[0;34m(self)\u001b[0m\n\u001b[1;32m    250\u001b[0m         \u001b[0;31m# change the default number of processes to -1\u001b[0m\u001b[0;34m\u001b[0m\u001b[0;34m\u001b[0m\u001b[0;34m\u001b[0m\u001b[0m\n\u001b[1;32m    251\u001b[0m         \u001b[0;32mwith\u001b[0m \u001b[0mparallel_backend\u001b[0m\u001b[0;34m(\u001b[0m\u001b[0mself\u001b[0m\u001b[0;34m.\u001b[0m\u001b[0m_backend\u001b[0m\u001b[0;34m,\u001b[0m \u001b[0mn_jobs\u001b[0m\u001b[0;34m=\u001b[0m\u001b[0mself\u001b[0m\u001b[0;34m.\u001b[0m\u001b[0m_n_jobs\u001b[0m\u001b[0;34m)\u001b[0m\u001b[0;34m:\u001b[0m\u001b[0;34m\u001b[0m\u001b[0;34m\u001b[0m\u001b[0m\n\u001b[0;32m--> 252\u001b[0;31m             return [func(*args, **kwargs)\n\u001b[0m\u001b[1;32m    253\u001b[0m                     for func, args, kwargs in self.items]\n\u001b[1;32m    254\u001b[0m \u001b[0;34m\u001b[0m\u001b[0m\n",
      "\u001b[0;32m~/opt/anaconda3/lib/python3.8/site-packages/joblib/parallel.py\u001b[0m in \u001b[0;36m<listcomp>\u001b[0;34m(.0)\u001b[0m\n\u001b[1;32m    250\u001b[0m         \u001b[0;31m# change the default number of processes to -1\u001b[0m\u001b[0;34m\u001b[0m\u001b[0;34m\u001b[0m\u001b[0;34m\u001b[0m\u001b[0m\n\u001b[1;32m    251\u001b[0m         \u001b[0;32mwith\u001b[0m \u001b[0mparallel_backend\u001b[0m\u001b[0;34m(\u001b[0m\u001b[0mself\u001b[0m\u001b[0;34m.\u001b[0m\u001b[0m_backend\u001b[0m\u001b[0;34m,\u001b[0m \u001b[0mn_jobs\u001b[0m\u001b[0;34m=\u001b[0m\u001b[0mself\u001b[0m\u001b[0;34m.\u001b[0m\u001b[0m_n_jobs\u001b[0m\u001b[0;34m)\u001b[0m\u001b[0;34m:\u001b[0m\u001b[0;34m\u001b[0m\u001b[0;34m\u001b[0m\u001b[0m\n\u001b[0;32m--> 252\u001b[0;31m             return [func(*args, **kwargs)\n\u001b[0m\u001b[1;32m    253\u001b[0m                     for func, args, kwargs in self.items]\n\u001b[1;32m    254\u001b[0m \u001b[0;34m\u001b[0m\u001b[0m\n",
      "\u001b[0;32m~/opt/anaconda3/lib/python3.8/site-packages/sklearn/model_selection/_validation.py\u001b[0m in \u001b[0;36m_fit_and_score\u001b[0;34m(estimator, X, y, scorer, train, test, verbose, parameters, fit_params, return_train_score, return_parameters, return_n_test_samples, return_times, return_estimator, error_score)\u001b[0m\n\u001b[1;32m    529\u001b[0m             \u001b[0mestimator\u001b[0m\u001b[0;34m.\u001b[0m\u001b[0mfit\u001b[0m\u001b[0;34m(\u001b[0m\u001b[0mX_train\u001b[0m\u001b[0;34m,\u001b[0m \u001b[0;34m**\u001b[0m\u001b[0mfit_params\u001b[0m\u001b[0;34m)\u001b[0m\u001b[0;34m\u001b[0m\u001b[0;34m\u001b[0m\u001b[0m\n\u001b[1;32m    530\u001b[0m         \u001b[0;32melse\u001b[0m\u001b[0;34m:\u001b[0m\u001b[0;34m\u001b[0m\u001b[0;34m\u001b[0m\u001b[0m\n\u001b[0;32m--> 531\u001b[0;31m             \u001b[0mestimator\u001b[0m\u001b[0;34m.\u001b[0m\u001b[0mfit\u001b[0m\u001b[0;34m(\u001b[0m\u001b[0mX_train\u001b[0m\u001b[0;34m,\u001b[0m \u001b[0my_train\u001b[0m\u001b[0;34m,\u001b[0m \u001b[0;34m**\u001b[0m\u001b[0mfit_params\u001b[0m\u001b[0;34m)\u001b[0m\u001b[0;34m\u001b[0m\u001b[0;34m\u001b[0m\u001b[0m\n\u001b[0m\u001b[1;32m    532\u001b[0m \u001b[0;34m\u001b[0m\u001b[0m\n\u001b[1;32m    533\u001b[0m     \u001b[0;32mexcept\u001b[0m \u001b[0mException\u001b[0m \u001b[0;32mas\u001b[0m \u001b[0me\u001b[0m\u001b[0;34m:\u001b[0m\u001b[0;34m\u001b[0m\u001b[0;34m\u001b[0m\u001b[0m\n",
      "\u001b[0;32m~/opt/anaconda3/lib/python3.8/site-packages/sklearn/ensemble/_gb.py\u001b[0m in \u001b[0;36mfit\u001b[0;34m(self, X, y, sample_weight, monitor)\u001b[0m\n\u001b[1;32m    496\u001b[0m \u001b[0;34m\u001b[0m\u001b[0m\n\u001b[1;32m    497\u001b[0m         \u001b[0;31m# fit the boosting stages\u001b[0m\u001b[0;34m\u001b[0m\u001b[0;34m\u001b[0m\u001b[0;34m\u001b[0m\u001b[0m\n\u001b[0;32m--> 498\u001b[0;31m         n_stages = self._fit_stages(\n\u001b[0m\u001b[1;32m    499\u001b[0m             \u001b[0mX\u001b[0m\u001b[0;34m,\u001b[0m \u001b[0my\u001b[0m\u001b[0;34m,\u001b[0m \u001b[0mraw_predictions\u001b[0m\u001b[0;34m,\u001b[0m \u001b[0msample_weight\u001b[0m\u001b[0;34m,\u001b[0m \u001b[0mself\u001b[0m\u001b[0;34m.\u001b[0m\u001b[0m_rng\u001b[0m\u001b[0;34m,\u001b[0m \u001b[0mX_val\u001b[0m\u001b[0;34m,\u001b[0m \u001b[0my_val\u001b[0m\u001b[0;34m,\u001b[0m\u001b[0;34m\u001b[0m\u001b[0;34m\u001b[0m\u001b[0m\n\u001b[1;32m    500\u001b[0m             sample_weight_val, begin_at_stage, monitor, X_idx_sorted)\n",
      "\u001b[0;32m~/opt/anaconda3/lib/python3.8/site-packages/sklearn/ensemble/_gb.py\u001b[0m in \u001b[0;36m_fit_stages\u001b[0;34m(self, X, y, raw_predictions, sample_weight, random_state, X_val, y_val, sample_weight_val, begin_at_stage, monitor, X_idx_sorted)\u001b[0m\n\u001b[1;32m    553\u001b[0m \u001b[0;34m\u001b[0m\u001b[0m\n\u001b[1;32m    554\u001b[0m             \u001b[0;31m# fit next stage of trees\u001b[0m\u001b[0;34m\u001b[0m\u001b[0;34m\u001b[0m\u001b[0;34m\u001b[0m\u001b[0m\n\u001b[0;32m--> 555\u001b[0;31m             raw_predictions = self._fit_stage(\n\u001b[0m\u001b[1;32m    556\u001b[0m                 \u001b[0mi\u001b[0m\u001b[0;34m,\u001b[0m \u001b[0mX\u001b[0m\u001b[0;34m,\u001b[0m \u001b[0my\u001b[0m\u001b[0;34m,\u001b[0m \u001b[0mraw_predictions\u001b[0m\u001b[0;34m,\u001b[0m \u001b[0msample_weight\u001b[0m\u001b[0;34m,\u001b[0m \u001b[0msample_mask\u001b[0m\u001b[0;34m,\u001b[0m\u001b[0;34m\u001b[0m\u001b[0;34m\u001b[0m\u001b[0m\n\u001b[1;32m    557\u001b[0m                 random_state, X_idx_sorted, X_csc, X_csr)\n",
      "\u001b[0;32m~/opt/anaconda3/lib/python3.8/site-packages/sklearn/ensemble/_gb.py\u001b[0m in \u001b[0;36m_fit_stage\u001b[0;34m(self, i, X, y, raw_predictions, sample_weight, sample_mask, random_state, X_idx_sorted, X_csc, X_csr)\u001b[0m\n\u001b[1;32m    209\u001b[0m \u001b[0;34m\u001b[0m\u001b[0m\n\u001b[1;32m    210\u001b[0m             \u001b[0mX\u001b[0m \u001b[0;34m=\u001b[0m \u001b[0mX_csr\u001b[0m \u001b[0;32mif\u001b[0m \u001b[0mX_csr\u001b[0m \u001b[0;32mis\u001b[0m \u001b[0;32mnot\u001b[0m \u001b[0;32mNone\u001b[0m \u001b[0;32melse\u001b[0m \u001b[0mX\u001b[0m\u001b[0;34m\u001b[0m\u001b[0;34m\u001b[0m\u001b[0m\n\u001b[0;32m--> 211\u001b[0;31m             tree.fit(X, residual, sample_weight=sample_weight,\n\u001b[0m\u001b[1;32m    212\u001b[0m                      check_input=False, X_idx_sorted=X_idx_sorted)\n\u001b[1;32m    213\u001b[0m \u001b[0;34m\u001b[0m\u001b[0m\n",
      "\u001b[0;32m~/opt/anaconda3/lib/python3.8/site-packages/sklearn/tree/_classes.py\u001b[0m in \u001b[0;36mfit\u001b[0;34m(self, X, y, sample_weight, check_input, X_idx_sorted)\u001b[0m\n\u001b[1;32m   1240\u001b[0m         \"\"\"\n\u001b[1;32m   1241\u001b[0m \u001b[0;34m\u001b[0m\u001b[0m\n\u001b[0;32m-> 1242\u001b[0;31m         super().fit(\n\u001b[0m\u001b[1;32m   1243\u001b[0m             \u001b[0mX\u001b[0m\u001b[0;34m,\u001b[0m \u001b[0my\u001b[0m\u001b[0;34m,\u001b[0m\u001b[0;34m\u001b[0m\u001b[0;34m\u001b[0m\u001b[0m\n\u001b[1;32m   1244\u001b[0m             \u001b[0msample_weight\u001b[0m\u001b[0;34m=\u001b[0m\u001b[0msample_weight\u001b[0m\u001b[0;34m,\u001b[0m\u001b[0;34m\u001b[0m\u001b[0;34m\u001b[0m\u001b[0m\n",
      "\u001b[0;32m~/opt/anaconda3/lib/python3.8/site-packages/sklearn/tree/_classes.py\u001b[0m in \u001b[0;36mfit\u001b[0;34m(self, X, y, sample_weight, check_input, X_idx_sorted)\u001b[0m\n\u001b[1;32m    373\u001b[0m                                            min_impurity_split)\n\u001b[1;32m    374\u001b[0m \u001b[0;34m\u001b[0m\u001b[0m\n\u001b[0;32m--> 375\u001b[0;31m         \u001b[0mbuilder\u001b[0m\u001b[0;34m.\u001b[0m\u001b[0mbuild\u001b[0m\u001b[0;34m(\u001b[0m\u001b[0mself\u001b[0m\u001b[0;34m.\u001b[0m\u001b[0mtree_\u001b[0m\u001b[0;34m,\u001b[0m \u001b[0mX\u001b[0m\u001b[0;34m,\u001b[0m \u001b[0my\u001b[0m\u001b[0;34m,\u001b[0m \u001b[0msample_weight\u001b[0m\u001b[0;34m,\u001b[0m \u001b[0mX_idx_sorted\u001b[0m\u001b[0;34m)\u001b[0m\u001b[0;34m\u001b[0m\u001b[0;34m\u001b[0m\u001b[0m\n\u001b[0m\u001b[1;32m    376\u001b[0m \u001b[0;34m\u001b[0m\u001b[0m\n\u001b[1;32m    377\u001b[0m         \u001b[0;32mif\u001b[0m \u001b[0mself\u001b[0m\u001b[0;34m.\u001b[0m\u001b[0mn_outputs_\u001b[0m \u001b[0;34m==\u001b[0m \u001b[0;36m1\u001b[0m \u001b[0;32mand\u001b[0m \u001b[0mis_classifier\u001b[0m\u001b[0;34m(\u001b[0m\u001b[0mself\u001b[0m\u001b[0;34m)\u001b[0m\u001b[0;34m:\u001b[0m\u001b[0;34m\u001b[0m\u001b[0;34m\u001b[0m\u001b[0m\n",
      "\u001b[0;31mKeyboardInterrupt\u001b[0m: "
     ]
    }
   ],
   "source": [
    "#iteration\n",
    "from sklearn.ensemble import GradientBoostingRegressor\n",
    "\n",
    "\n",
    "kfolds_regresssion = KFold(n_splits = 10, random_state = 1, shuffle = True)\n",
    "\n",
    "for i in range(1000,6000, 500):\n",
    "    regresssion_model = GradientBoostingRegressor(n_estimators=i, learning_rate=1,max_depth=1, random_state=1)\n",
    "#     r2_model_1_cv = cross_val_score(regresssion_model,X,y_regression, cv=kfolds_regresssion)\n",
    "#     r2_model_2_cv = cross_val_score(regresssion_model,rfe_selected,y_regression, cv=kfolds_regresssion)\n",
    "#     r2_model_3_cv = cross_val_score(regresssion_model,fwd_selected,y_regression, cv=kfolds_regresssion)\n",
    "    r2_model_4_cv = cross_val_score(regresssion_model,nush,y_regression, cv=kfolds_regresssion)\n",
    "\n",
    "#     print(\"Linear Regression: \\n\")\n",
    "#     print(\"r squared of 10-folds:\",r2_model_1_cv,\"(mean r squared:\",np.mean(r2_model_1_cv),\")\")\n",
    "#     print(\"r squared of 10-folds:\",r2_model_2_cv,\"(mean r squared:\",np.mean(r2_model_2_cv),\")\")\n",
    "#     print(\"r squared of 10-folds:\",r2_model_3_cv,\"(mean r squared:\",np.mean(r2_model_3_cv),\")\")\n",
    "    print(\"r squared of 10-folds:\",i,\"(mean r squared:\",np.mean(r2_model_4_cv),\")\")"
   ]
  },
  {
   "cell_type": "markdown",
   "metadata": {
    "heading_collapsed": true
   },
   "source": [
    "## Modeling"
   ]
  },
  {
   "cell_type": "code",
   "execution_count": 182,
   "metadata": {
    "ExecuteTime": {
     "end_time": "2021-04-10T00:36:43.386341Z",
     "start_time": "2021-04-10T00:36:43.383914Z"
    },
    "hidden": true
   },
   "outputs": [],
   "source": [
    "from sklearn.model_selection import train_test_split\n",
    "from sklearn.preprocessing import MinMaxScaler"
   ]
  },
  {
   "cell_type": "code",
   "execution_count": 233,
   "metadata": {
    "ExecuteTime": {
     "end_time": "2021-04-11T22:00:26.367533Z",
     "start_time": "2021-04-11T22:00:26.364036Z"
    },
    "hidden": true
   },
   "outputs": [],
   "source": [
    "y_regression = train['Value']"
   ]
  },
  {
   "cell_type": "code",
   "execution_count": 183,
   "metadata": {
    "ExecuteTime": {
     "end_time": "2021-04-10T00:36:43.490639Z",
     "start_time": "2021-04-10T00:36:43.488662Z"
    },
    "hidden": true
   },
   "outputs": [],
   "source": [
    "X = fwd_selected"
   ]
  },
  {
   "cell_type": "code",
   "execution_count": 232,
   "metadata": {
    "ExecuteTime": {
     "end_time": "2021-04-11T22:00:24.274402Z",
     "start_time": "2021-04-11T22:00:24.269255Z"
    },
    "hidden": true
   },
   "outputs": [],
   "source": [
    "mms = MinMaxScaler()\n",
    "X = mms.fit_transform(X)"
   ]
  },
  {
   "cell_type": "code",
   "execution_count": 185,
   "metadata": {
    "ExecuteTime": {
     "end_time": "2021-04-10T00:36:43.698627Z",
     "start_time": "2021-04-10T00:36:43.694536Z"
    },
    "hidden": true
   },
   "outputs": [],
   "source": [
    "X_train, X_test, y_train, y_test = train_test_split(X,y,test_size=0.20,random_state = 1)"
   ]
  },
  {
   "cell_type": "code",
   "execution_count": 234,
   "metadata": {
    "ExecuteTime": {
     "end_time": "2021-04-11T22:01:23.537866Z",
     "start_time": "2021-04-11T22:01:23.531337Z"
    },
    "hidden": true
   },
   "outputs": [],
   "source": [
    "X_train_r, X_test_r, y_train_r, y_test_r = train_test_split(X,y_regression,test_size=0.20,random_state = 1)"
   ]
  },
  {
   "cell_type": "code",
   "execution_count": 186,
   "metadata": {
    "ExecuteTime": {
     "end_time": "2021-04-10T00:36:43.794032Z",
     "start_time": "2021-04-10T00:36:43.791494Z"
    },
    "hidden": true
   },
   "outputs": [],
   "source": [
    "X_2 = rfe_selected.values"
   ]
  },
  {
   "cell_type": "code",
   "execution_count": 187,
   "metadata": {
    "ExecuteTime": {
     "end_time": "2021-04-10T00:36:43.893231Z",
     "start_time": "2021-04-10T00:36:43.890339Z"
    },
    "hidden": true
   },
   "outputs": [],
   "source": [
    "mms = MinMaxScaler()\n",
    "X_2 = mms.fit_transform(X_2)"
   ]
  },
  {
   "cell_type": "code",
   "execution_count": 188,
   "metadata": {
    "ExecuteTime": {
     "end_time": "2021-04-10T00:36:43.996981Z",
     "start_time": "2021-04-10T00:36:43.993203Z"
    },
    "hidden": true
   },
   "outputs": [],
   "source": [
    "X_train_2, X_test_2, y_train_2, y_test_2 = train_test_split(X,y,test_size=0.20,random_state = 1)"
   ]
  },
  {
   "cell_type": "markdown",
   "metadata": {
    "heading_collapsed": true
   },
   "source": [
    "# Logistic Regression "
   ]
  },
  {
   "cell_type": "code",
   "execution_count": 189,
   "metadata": {
    "ExecuteTime": {
     "end_time": "2021-04-10T00:36:44.146237Z",
     "start_time": "2021-04-10T00:36:44.090198Z"
    },
    "hidden": true
   },
   "outputs": [],
   "source": [
    "from sklearn.linear_model import LogisticRegression\n",
    "mlr = LogisticRegression(penalty='none', max_iter=1700).fit(X_train, y_train)"
   ]
  },
  {
   "cell_type": "code",
   "execution_count": 190,
   "metadata": {
    "ExecuteTime": {
     "end_time": "2021-04-10T00:36:44.246199Z",
     "start_time": "2021-04-10T00:36:44.240866Z"
    },
    "hidden": true
   },
   "outputs": [
    {
     "name": "stdout",
     "output_type": "stream",
     "text": [
      "Classification Error: 0.0535714285714286\n"
     ]
    }
   ],
   "source": [
    "print(f'Classification Error: {1-mlr.score(X_test, y_test)}')"
   ]
  },
  {
   "cell_type": "code",
   "execution_count": 191,
   "metadata": {
    "ExecuteTime": {
     "end_time": "2021-04-10T00:36:44.411347Z",
     "start_time": "2021-04-10T00:36:44.353719Z"
    },
    "hidden": true
   },
   "outputs": [],
   "source": [
    "from sklearn.linear_model import LogisticRegression\n",
    "mlr = LogisticRegression(penalty='none', max_iter=1700).fit(X_train_2, y_train_2)"
   ]
  },
  {
   "cell_type": "code",
   "execution_count": 192,
   "metadata": {
    "ExecuteTime": {
     "end_time": "2021-04-10T00:36:44.514467Z",
     "start_time": "2021-04-10T00:36:44.509448Z"
    },
    "hidden": true
   },
   "outputs": [
    {
     "name": "stdout",
     "output_type": "stream",
     "text": [
      "Classification Error: 0.0535714285714286\n"
     ]
    }
   ],
   "source": [
    "print(f'Classification Error: {1-mlr.score(X_test_2, y_test_2)}')"
   ]
  },
  {
   "cell_type": "markdown",
   "metadata": {
    "heading_collapsed": true
   },
   "source": [
    "# LDA"
   ]
  },
  {
   "cell_type": "code",
   "execution_count": 193,
   "metadata": {
    "ExecuteTime": {
     "end_time": "2021-04-10T00:36:44.620024Z",
     "start_time": "2021-04-10T00:36:44.613580Z"
    },
    "hidden": true
   },
   "outputs": [
    {
     "data": {
      "text/plain": [
       "LinearDiscriminantAnalysis()"
      ]
     },
     "execution_count": 193,
     "metadata": {},
     "output_type": "execute_result"
    }
   ],
   "source": [
    "from sklearn.discriminant_analysis import LinearDiscriminantAnalysis\n",
    "\n",
    "lda = LinearDiscriminantAnalysis()\n",
    "lda.fit(X_train, y_train)"
   ]
  },
  {
   "cell_type": "code",
   "execution_count": 194,
   "metadata": {
    "ExecuteTime": {
     "end_time": "2021-04-10T00:36:49.474096Z",
     "start_time": "2021-04-10T00:36:49.470787Z"
    },
    "hidden": true
   },
   "outputs": [
    {
     "name": "stdout",
     "output_type": "stream",
     "text": [
      "Classification Error: 0.05654761904761907\n"
     ]
    }
   ],
   "source": [
    "print(f'Classification Error: {1-lda.score(X_test, y_test)}')"
   ]
  },
  {
   "cell_type": "code",
   "execution_count": 195,
   "metadata": {
    "ExecuteTime": {
     "end_time": "2021-04-10T00:36:50.536598Z",
     "start_time": "2021-04-10T00:36:50.528307Z"
    },
    "hidden": true
   },
   "outputs": [
    {
     "data": {
      "text/plain": [
       "LinearDiscriminantAnalysis()"
      ]
     },
     "execution_count": 195,
     "metadata": {},
     "output_type": "execute_result"
    }
   ],
   "source": [
    "from sklearn.discriminant_analysis import LinearDiscriminantAnalysis\n",
    "\n",
    "lda = LinearDiscriminantAnalysis()\n",
    "lda.fit(X_train_2, y_train)"
   ]
  },
  {
   "cell_type": "code",
   "execution_count": 196,
   "metadata": {
    "ExecuteTime": {
     "end_time": "2021-04-10T00:36:50.993769Z",
     "start_time": "2021-04-10T00:36:50.989924Z"
    },
    "hidden": true
   },
   "outputs": [
    {
     "name": "stdout",
     "output_type": "stream",
     "text": [
      "Classification Error: 0.05654761904761907\n"
     ]
    }
   ],
   "source": [
    "print(f'Classification Error: {1-lda.score(X_test_2, y_test)}')"
   ]
  },
  {
   "cell_type": "markdown",
   "metadata": {
    "heading_collapsed": true
   },
   "source": [
    "# KNN"
   ]
  },
  {
   "cell_type": "markdown",
   "metadata": {
    "hidden": true
   },
   "source": [
    "### 5 neighbors"
   ]
  },
  {
   "cell_type": "code",
   "execution_count": 197,
   "metadata": {
    "ExecuteTime": {
     "end_time": "2021-04-10T00:36:52.277628Z",
     "start_time": "2021-04-10T00:36:52.271132Z"
    },
    "hidden": true
   },
   "outputs": [
    {
     "data": {
      "text/plain": [
       "KNeighborsClassifier()"
      ]
     },
     "execution_count": 197,
     "metadata": {},
     "output_type": "execute_result"
    }
   ],
   "source": [
    "from sklearn.neighbors import KNeighborsClassifier\n",
    "\n",
    "knn = KNeighborsClassifier(n_neighbors=5)\n",
    "knn.fit(X_train, y_train)"
   ]
  },
  {
   "cell_type": "code",
   "execution_count": 198,
   "metadata": {
    "ExecuteTime": {
     "end_time": "2021-04-10T00:36:52.588866Z",
     "start_time": "2021-04-10T00:36:52.575053Z"
    },
    "hidden": true
   },
   "outputs": [
    {
     "name": "stdout",
     "output_type": "stream",
     "text": [
      "Classification Error: 0.07738095238095233\n"
     ]
    }
   ],
   "source": [
    "print(f'Classification Error: {1-knn.score(X_test, y_test)}')"
   ]
  },
  {
   "cell_type": "markdown",
   "metadata": {
    "hidden": true
   },
   "source": [
    "### 10 neighbors"
   ]
  },
  {
   "cell_type": "code",
   "execution_count": 199,
   "metadata": {
    "ExecuteTime": {
     "end_time": "2021-04-10T00:36:53.241799Z",
     "start_time": "2021-04-10T00:36:53.235781Z"
    },
    "hidden": true
   },
   "outputs": [
    {
     "data": {
      "text/plain": [
       "KNeighborsClassifier(n_neighbors=10)"
      ]
     },
     "execution_count": 199,
     "metadata": {},
     "output_type": "execute_result"
    }
   ],
   "source": [
    "from sklearn.neighbors import KNeighborsClassifier\n",
    "\n",
    "knn = KNeighborsClassifier(n_neighbors=10)\n",
    "knn.fit(X_train, y_train)"
   ]
  },
  {
   "cell_type": "code",
   "execution_count": 200,
   "metadata": {
    "ExecuteTime": {
     "end_time": "2021-04-10T00:36:53.730132Z",
     "start_time": "2021-04-10T00:36:53.715318Z"
    },
    "hidden": true,
    "scrolled": true
   },
   "outputs": [
    {
     "name": "stdout",
     "output_type": "stream",
     "text": [
      "Classification Error: 0.06547619047619047\n"
     ]
    }
   ],
   "source": [
    "print(f'Classification Error: {1-knn.score(X_test, y_test)}')"
   ]
  },
  {
   "cell_type": "markdown",
   "metadata": {
    "ExecuteTime": {
     "end_time": "2021-03-29T19:36:00.662936Z",
     "start_time": "2021-03-29T19:36:00.659878Z"
    },
    "heading_collapsed": true
   },
   "source": [
    "# Boosted Trees"
   ]
  },
  {
   "cell_type": "code",
   "execution_count": 201,
   "metadata": {
    "ExecuteTime": {
     "end_time": "2021-04-10T00:36:54.806865Z",
     "start_time": "2021-04-10T00:36:54.371219Z"
    },
    "hidden": true
   },
   "outputs": [
    {
     "name": "stdout",
     "output_type": "stream",
     "text": [
      "Classification Error: 0.08333333333333337\n"
     ]
    }
   ],
   "source": [
    "from sklearn.ensemble import GradientBoostingClassifier\n",
    "clf = GradientBoostingClassifier(n_estimators=500, learning_rate=1.0,\n",
    "                                 max_depth=1, random_state=1).fit(X_train, y_train)\n",
    "\n",
    "print(f'Classification Error: {1-clf.score(X_test, y_test)}')"
   ]
  },
  {
   "cell_type": "code",
   "execution_count": 202,
   "metadata": {
    "ExecuteTime": {
     "end_time": "2021-04-10T00:36:55.784911Z",
     "start_time": "2021-04-10T00:36:54.924284Z"
    },
    "hidden": true
   },
   "outputs": [
    {
     "name": "stdout",
     "output_type": "stream",
     "text": [
      "Classification Error: 0.08630952380952384\n"
     ]
    }
   ],
   "source": [
    "from sklearn.ensemble import GradientBoostingClassifier\n",
    "clf = GradientBoostingClassifier(n_estimators=1000, learning_rate=1,\n",
    "                                 max_depth=1, random_state=1).fit(X_train, y_train)\n",
    "\n",
    "print(f'Classification Error: {1-clf.score(X_test, y_test)}')"
   ]
  },
  {
   "cell_type": "markdown",
   "metadata": {
    "heading_collapsed": true
   },
   "source": [
    "# Random Forest"
   ]
  },
  {
   "cell_type": "code",
   "execution_count": 302,
   "metadata": {
    "ExecuteTime": {
     "end_time": "2021-04-14T00:48:56.073308Z",
     "start_time": "2021-04-14T00:48:55.834779Z"
    },
    "hidden": true
   },
   "outputs": [
    {
     "name": "stdout",
     "output_type": "stream",
     "text": [
      "Classification Error: 0.0535714285714286\n"
     ]
    }
   ],
   "source": [
    "from sklearn.ensemble import RandomForestClassifier\n",
    "clf=RandomForestClassifier(n_estimators=100, random_state=1)\n",
    "clf.fit(X_train,y_train)\n",
    "print(f'Classification Error: {1-clf.score(X_test, y_test)}')"
   ]
  },
  {
   "cell_type": "code",
   "execution_count": 205,
   "metadata": {
    "ExecuteTime": {
     "end_time": "2021-04-10T00:37:09.026845Z",
     "start_time": "2021-04-10T00:37:08.613830Z"
    },
    "hidden": true
   },
   "outputs": [
    {
     "name": "stdout",
     "output_type": "stream",
     "text": [
      "Classification Error: 0.05059523809523814\n"
     ]
    }
   ],
   "source": [
    "from sklearn.ensemble import RandomForestClassifier\n",
    "clf=RandomForestClassifier(n_estimators=200, random_state=1)\n",
    "clf.fit(X_train,y_train)\n",
    "print(f'Classification Error: {1-clf.score(X_test, y_test)}')"
   ]
  },
  {
   "cell_type": "markdown",
   "metadata": {
    "heading_collapsed": true
   },
   "source": [
    "# Random Forest Regression"
   ]
  },
  {
   "cell_type": "code",
   "execution_count": 269,
   "metadata": {
    "ExecuteTime": {
     "end_time": "2021-04-14T00:27:47.514944Z",
     "start_time": "2021-04-14T00:27:47.006847Z"
    },
    "hidden": true
   },
   "outputs": [
    {
     "name": "stdout",
     "output_type": "stream",
     "text": [
      "Accuracy: 0.9934577699489253\n"
     ]
    }
   ],
   "source": [
    "from sklearn.ensemble import RandomForestRegressor\n",
    "clf=RandomForestRegressor(n_estimators=100)\n",
    "clf.fit(X_train_r,y_train_r)\n",
    "print(f'Accuracy: {clf.score(X_test_r, y_test_r)}')"
   ]
  },
  {
   "cell_type": "code",
   "execution_count": null,
   "metadata": {
    "hidden": true
   },
   "outputs": [],
   "source": []
  },
  {
   "cell_type": "code",
   "execution_count": null,
   "metadata": {
    "hidden": true
   },
   "outputs": [],
   "source": [
    "kf = KFold(n_splits = 10, shuffle = True)\n",
    "\n",
    "rf_table = pd.DataFrame(columns=['n_estimators', 'max_depth', 'X_set', 'Error'])\n",
    "\n",
    "x_dict = {\n",
    "    'X': X,\n",
    "    'X_copy': X_copy,\n",
    "    'X_origin': X_origin\n",
    "}\n",
    "\n",
    "row_index = 0\n",
    "for i in range(50, 300, 50):\n",
    "    for ii in [10, 15, 20, 30]:\n",
    "        for x in ['X', 'X_copy', 'X_origin']:\n",
    "            rf_table.loc[row_index, 'n_estimators'] = i\n",
    "            rf_table.loc[row_index, 'max_depth'] = ii\n",
    "            rf_table.loc[row_index, 'X_set'] = x\n",
    "\n",
    "            rf = RandomForestClassifier(n_estimators=i,max_depth=ii)\n",
    "            e = round(1-cross_val_score(rf, x_dict[x], y, scoring='accuracy', cv=kf).mean(), 4)\n",
    "            rf_table.loc[row_index, 'Error'] = e\n",
    "            print(f'Row {row_index} calculation finished.')\n",
    "            row_index += 1\n",
    "            \n",
    "\n",
    "rf_table.sort_values(\"Error\", ascending=True)"
   ]
  },
  {
   "cell_type": "markdown",
   "metadata": {},
   "source": [
    "# Final Predictions"
   ]
  },
  {
   "cell_type": "code",
   "execution_count": 267,
   "metadata": {
    "ExecuteTime": {
     "end_time": "2021-04-30T16:13:38.071773Z",
     "start_time": "2021-04-30T16:13:38.056533Z"
    }
   },
   "outputs": [
    {
     "data": {
      "text/html": [
       "<div>\n",
       "<style scoped>\n",
       "    .dataframe tbody tr th:only-of-type {\n",
       "        vertical-align: middle;\n",
       "    }\n",
       "\n",
       "    .dataframe tbody tr th {\n",
       "        vertical-align: top;\n",
       "    }\n",
       "\n",
       "    .dataframe thead th {\n",
       "        text-align: right;\n",
       "    }\n",
       "</style>\n",
       "<table border=\"1\" class=\"dataframe\">\n",
       "  <thead>\n",
       "    <tr style=\"text-align: right;\">\n",
       "      <th></th>\n",
       "      <th>Value</th>\n",
       "      <th>BS</th>\n",
       "    </tr>\n",
       "  </thead>\n",
       "  <tbody>\n",
       "    <tr>\n",
       "      <th>0</th>\n",
       "      <td>1.0</td>\n",
       "      <td>0</td>\n",
       "    </tr>\n",
       "    <tr>\n",
       "      <th>1</th>\n",
       "      <td>2.0</td>\n",
       "      <td>0</td>\n",
       "    </tr>\n",
       "    <tr>\n",
       "      <th>2</th>\n",
       "      <td>1.0</td>\n",
       "      <td>0</td>\n",
       "    </tr>\n",
       "    <tr>\n",
       "      <th>3</th>\n",
       "      <td>1.0</td>\n",
       "      <td>0</td>\n",
       "    </tr>\n",
       "    <tr>\n",
       "      <th>4</th>\n",
       "      <td>3.0</td>\n",
       "      <td>0</td>\n",
       "    </tr>\n",
       "    <tr>\n",
       "      <th>...</th>\n",
       "      <td>...</td>\n",
       "      <td>...</td>\n",
       "    </tr>\n",
       "    <tr>\n",
       "      <th>1115</th>\n",
       "      <td>1.0</td>\n",
       "      <td>1</td>\n",
       "    </tr>\n",
       "    <tr>\n",
       "      <th>1116</th>\n",
       "      <td>1.0</td>\n",
       "      <td>1</td>\n",
       "    </tr>\n",
       "    <tr>\n",
       "      <th>1117</th>\n",
       "      <td>1.0</td>\n",
       "      <td>1</td>\n",
       "    </tr>\n",
       "    <tr>\n",
       "      <th>1118</th>\n",
       "      <td>1.0</td>\n",
       "      <td>1</td>\n",
       "    </tr>\n",
       "    <tr>\n",
       "      <th>1119</th>\n",
       "      <td>1.0</td>\n",
       "      <td>1</td>\n",
       "    </tr>\n",
       "  </tbody>\n",
       "</table>\n",
       "<p>1120 rows × 2 columns</p>\n",
       "</div>"
      ],
      "text/plain": [
       "      Value  BS\n",
       "0       1.0   0\n",
       "1       2.0   0\n",
       "2       1.0   0\n",
       "3       1.0   0\n",
       "4       3.0   0\n",
       "...     ...  ..\n",
       "1115    1.0   1\n",
       "1116    1.0   1\n",
       "1117    1.0   1\n",
       "1118    1.0   1\n",
       "1119    1.0   1\n",
       "\n",
       "[1120 rows x 2 columns]"
      ]
     },
     "execution_count": 267,
     "metadata": {},
     "output_type": "execute_result"
    }
   ],
   "source": [
    "test=test[var_selected.head(6)['variable'].values]\n",
    "y_oot = pd.read_csv('group_0_prediction.csv')"
   ]
  },
  {
   "cell_type": "code",
   "execution_count": 265,
   "metadata": {
    "ExecuteTime": {
     "end_time": "2021-04-30T16:13:10.128801Z",
     "start_time": "2021-04-30T16:13:07.732495Z"
    }
   },
   "outputs": [],
   "source": [
    "from sklearn.ensemble import RandomForestRegressor\n",
    "\n",
    "regresssion_model = RandomForestRegressor(n_estimators=450, random_state=1)\n",
    "regresssion_model.fit(rfe_selected,y_regression)\n",
    "regresssion_model.score(rfe_selected,y_regression)\n",
    "predictions = regresssion_model.predict(test)"
   ]
  },
  {
   "cell_type": "code",
   "execution_count": 271,
   "metadata": {
    "ExecuteTime": {
     "end_time": "2021-04-30T16:14:57.472492Z",
     "start_time": "2021-04-30T16:14:57.467649Z"
    }
   },
   "outputs": [],
   "source": [
    "predictions=pd.DataFrame(predictions).rename(columns={0:'Value'})"
   ]
  },
  {
   "cell_type": "code",
   "execution_count": 273,
   "metadata": {
    "ExecuteTime": {
     "end_time": "2021-04-30T16:15:13.120684Z",
     "start_time": "2021-04-30T16:15:13.098590Z"
    }
   },
   "outputs": [],
   "source": [
    "predictions.to_csv('FinalPredictions.csv')"
   ]
  },
  {
   "cell_type": "code",
   "execution_count": null,
   "metadata": {},
   "outputs": [],
   "source": []
  }
 ],
 "metadata": {
  "kernelspec": {
   "display_name": "Python 3",
   "language": "python",
   "name": "python3"
  },
  "language_info": {
   "codemirror_mode": {
    "name": "ipython",
    "version": 3
   },
   "file_extension": ".py",
   "mimetype": "text/x-python",
   "name": "python",
   "nbconvert_exporter": "python",
   "pygments_lexer": "ipython3",
   "version": "3.8.3"
  },
  "varInspector": {
   "cols": {
    "lenName": 16,
    "lenType": 16,
    "lenVar": 40
   },
   "kernels_config": {
    "python": {
     "delete_cmd_postfix": "",
     "delete_cmd_prefix": "del ",
     "library": "var_list.py",
     "varRefreshCmd": "print(var_dic_list())"
    },
    "r": {
     "delete_cmd_postfix": ") ",
     "delete_cmd_prefix": "rm(",
     "library": "var_list.r",
     "varRefreshCmd": "cat(var_dic_list()) "
    }
   },
   "types_to_exclude": [
    "module",
    "function",
    "builtin_function_or_method",
    "instance",
    "_Feature"
   ],
   "window_display": false
  }
 },
 "nbformat": 4,
 "nbformat_minor": 4
}
