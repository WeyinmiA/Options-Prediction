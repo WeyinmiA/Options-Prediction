{
 "cells": [
  {
   "cell_type": "code",
   "execution_count": 164,
   "id": "ordered-harvest",
   "metadata": {},
   "outputs": [],
   "source": [
    "import pandas as pd\n",
    "import numpy as np\n",
    "import seaborn as sns\n",
    "import matplotlib.pyplot as plt\n",
    "from sklearn.model_selection import train_test_split\n",
    "from sklearn.preprocessing import MinMaxScaler\n",
    "import statsmodels.formula.api as smf"
   ]
  },
  {
   "cell_type": "code",
   "execution_count": 165,
   "id": "sensitive-theme",
   "metadata": {},
   "outputs": [
    {
     "data": {
      "text/html": [
       "<div>\n",
       "<style scoped>\n",
       "    .dataframe tbody tr th:only-of-type {\n",
       "        vertical-align: middle;\n",
       "    }\n",
       "\n",
       "    .dataframe tbody tr th {\n",
       "        vertical-align: top;\n",
       "    }\n",
       "\n",
       "    .dataframe thead th {\n",
       "        text-align: right;\n",
       "    }\n",
       "</style>\n",
       "<table border=\"1\" class=\"dataframe\">\n",
       "  <thead>\n",
       "    <tr style=\"text-align: right;\">\n",
       "      <th></th>\n",
       "      <th>Value</th>\n",
       "      <th>S</th>\n",
       "      <th>K</th>\n",
       "      <th>tau</th>\n",
       "      <th>r</th>\n",
       "      <th>BS</th>\n",
       "    </tr>\n",
       "  </thead>\n",
       "  <tbody>\n",
       "    <tr>\n",
       "      <th>0</th>\n",
       "      <td>21.670404</td>\n",
       "      <td>431.623898</td>\n",
       "      <td>420</td>\n",
       "      <td>0.341270</td>\n",
       "      <td>0.03013</td>\n",
       "      <td>Under</td>\n",
       "    </tr>\n",
       "    <tr>\n",
       "      <th>1</th>\n",
       "      <td>0.125000</td>\n",
       "      <td>427.015526</td>\n",
       "      <td>465</td>\n",
       "      <td>0.166667</td>\n",
       "      <td>0.03126</td>\n",
       "      <td>Over</td>\n",
       "    </tr>\n",
       "    <tr>\n",
       "      <th>2</th>\n",
       "      <td>20.691244</td>\n",
       "      <td>427.762336</td>\n",
       "      <td>415</td>\n",
       "      <td>0.265873</td>\n",
       "      <td>0.03116</td>\n",
       "      <td>Under</td>\n",
       "    </tr>\n",
       "    <tr>\n",
       "      <th>3</th>\n",
       "      <td>1.035002</td>\n",
       "      <td>451.711658</td>\n",
       "      <td>460</td>\n",
       "      <td>0.063492</td>\n",
       "      <td>0.02972</td>\n",
       "      <td>Over</td>\n",
       "    </tr>\n",
       "    <tr>\n",
       "      <th>4</th>\n",
       "      <td>39.553020</td>\n",
       "      <td>446.718974</td>\n",
       "      <td>410</td>\n",
       "      <td>0.166667</td>\n",
       "      <td>0.02962</td>\n",
       "      <td>Under</td>\n",
       "    </tr>\n",
       "  </tbody>\n",
       "</table>\n",
       "</div>"
      ],
      "text/plain": [
       "       Value           S    K       tau        r     BS\n",
       "0  21.670404  431.623898  420  0.341270  0.03013  Under\n",
       "1   0.125000  427.015526  465  0.166667  0.03126   Over\n",
       "2  20.691244  427.762336  415  0.265873  0.03116  Under\n",
       "3   1.035002  451.711658  460  0.063492  0.02972   Over\n",
       "4  39.553020  446.718974  410  0.166667  0.02962  Under"
      ]
     },
     "execution_count": 165,
     "metadata": {},
     "output_type": "execute_result"
    }
   ],
   "source": [
    "train_df = pd.read_csv(\"option_train.csv\")\n",
    "train_df.head()"
   ]
  },
  {
   "cell_type": "markdown",
   "id": "floppy-concord",
   "metadata": {},
   "source": [
    "## Process Data\n",
    "\n",
    "- split into train and validation sets\n",
    "- normalize X-data (data did not appear gaussian)\n",
    "- build standardized pandas DF for statsmodels ols regression summary"
   ]
  },
  {
   "cell_type": "code",
   "execution_count": 166,
   "id": "compound-party",
   "metadata": {},
   "outputs": [],
   "source": [
    "#create training and validation sets from df_train\n",
    "train_nums = train_df.select_dtypes([\"float64\",\"int64\"]) #not sure if allowed to use BS as a feature\n",
    "\n",
    "y=train_nums[\"Value\"].values\n",
    "X=train_nums.drop(\"Value\",axis=1).values\n",
    "\n",
    "X_train, X_val, y_train, y_val = train_test_split(X,y,test_size=0.20,random_state = 1)\n"
   ]
  },
  {
   "cell_type": "code",
   "execution_count": 167,
   "id": "greatest-wedding",
   "metadata": {},
   "outputs": [],
   "source": [
    "mms = MinMaxScaler()\n",
    "X_train_norm = mms.fit_transform(X_train)\n",
    "X_val_norm = mms.transform(X_val)"
   ]
  },
  {
   "cell_type": "code",
   "execution_count": 168,
   "id": "simple-giant",
   "metadata": {},
   "outputs": [],
   "source": [
    "def normed_df(X,y):\n",
    "    df1 = pd.DataFrame(X,columns = train_nums.columns[1:])\n",
    "    df2 = pd.DataFrame(y,columns = [\"Value\"])\n",
    "    df3 = pd.concat([df2,df1],axis=1)\n",
    "    return df3\n",
    "\n",
    "train_df_norm = normed_df(X_train_norm,y_train)\n",
    "val_df_norm = normed_df(X_val_norm,y_val)"
   ]
  },
  {
   "cell_type": "markdown",
   "id": "known-antarctica",
   "metadata": {},
   "source": [
    "### Run regression models"
   ]
  },
  {
   "cell_type": "markdown",
   "id": "introductory-blowing",
   "metadata": {},
   "source": [
    "Started with slr using K since it had the strongest linear relationship of any feature with value."
   ]
  },
  {
   "cell_type": "code",
   "execution_count": 169,
   "id": "green-division",
   "metadata": {},
   "outputs": [
    {
     "data": {
      "text/html": [
       "<table class=\"simpletable\">\n",
       "<caption>OLS Regression Results</caption>\n",
       "<tr>\n",
       "  <th>Dep. Variable:</th>          <td>Value</td>      <th>  R-squared:         </th> <td>   0.783</td>\n",
       "</tr>\n",
       "<tr>\n",
       "  <th>Model:</th>                   <td>OLS</td>       <th>  Adj. R-squared:    </th> <td>   0.783</td>\n",
       "</tr>\n",
       "<tr>\n",
       "  <th>Method:</th>             <td>Least Squares</td>  <th>  F-statistic:       </th> <td>   4849.</td>\n",
       "</tr>\n",
       "<tr>\n",
       "  <th>Date:</th>             <td>Sat, 10 Apr 2021</td> <th>  Prob (F-statistic):</th>  <td>  0.00</td> \n",
       "</tr>\n",
       "<tr>\n",
       "  <th>Time:</th>                 <td>13:08:35</td>     <th>  Log-Likelihood:    </th> <td> -4421.0</td>\n",
       "</tr>\n",
       "<tr>\n",
       "  <th>No. Observations:</th>      <td>  1344</td>      <th>  AIC:               </th> <td>   8846.</td>\n",
       "</tr>\n",
       "<tr>\n",
       "  <th>Df Residuals:</th>          <td>  1342</td>      <th>  BIC:               </th> <td>   8856.</td>\n",
       "</tr>\n",
       "<tr>\n",
       "  <th>Df Model:</th>              <td>     1</td>      <th>                     </th>     <td> </td>   \n",
       "</tr>\n",
       "<tr>\n",
       "  <th>Covariance Type:</th>      <td>nonrobust</td>    <th>                     </th>     <td> </td>   \n",
       "</tr>\n",
       "</table>\n",
       "<table class=\"simpletable\">\n",
       "<tr>\n",
       "      <td></td>         <th>coef</th>     <th>std err</th>      <th>t</th>      <th>P>|t|</th>  <th>[0.025</th>    <th>0.975]</th>  \n",
       "</tr>\n",
       "<tr>\n",
       "  <th>Intercept</th> <td>   48.2368</td> <td>    0.510</td> <td>   94.514</td> <td> 0.000</td> <td>   47.236</td> <td>   49.238</td>\n",
       "</tr>\n",
       "<tr>\n",
       "  <th>K</th>         <td>  -65.6902</td> <td>    0.943</td> <td>  -69.635</td> <td> 0.000</td> <td>  -67.541</td> <td>  -63.840</td>\n",
       "</tr>\n",
       "</table>\n",
       "<table class=\"simpletable\">\n",
       "<tr>\n",
       "  <th>Omnibus:</th>       <td>17.326</td> <th>  Durbin-Watson:     </th> <td>   1.987</td>\n",
       "</tr>\n",
       "<tr>\n",
       "  <th>Prob(Omnibus):</th> <td> 0.000</td> <th>  Jarque-Bera (JB):  </th> <td>  14.705</td>\n",
       "</tr>\n",
       "<tr>\n",
       "  <th>Skew:</th>          <td> 0.189</td> <th>  Prob(JB):          </th> <td>0.000641</td>\n",
       "</tr>\n",
       "<tr>\n",
       "  <th>Kurtosis:</th>      <td> 2.655</td> <th>  Cond. No.          </th> <td>    6.73</td>\n",
       "</tr>\n",
       "</table><br/><br/>Notes:<br/>[1] Standard Errors assume that the covariance matrix of the errors is correctly specified."
      ],
      "text/plain": [
       "<class 'statsmodels.iolib.summary.Summary'>\n",
       "\"\"\"\n",
       "                            OLS Regression Results                            \n",
       "==============================================================================\n",
       "Dep. Variable:                  Value   R-squared:                       0.783\n",
       "Model:                            OLS   Adj. R-squared:                  0.783\n",
       "Method:                 Least Squares   F-statistic:                     4849.\n",
       "Date:                Sat, 10 Apr 2021   Prob (F-statistic):               0.00\n",
       "Time:                        13:08:35   Log-Likelihood:                -4421.0\n",
       "No. Observations:                1344   AIC:                             8846.\n",
       "Df Residuals:                    1342   BIC:                             8856.\n",
       "Df Model:                           1                                         \n",
       "Covariance Type:            nonrobust                                         \n",
       "==============================================================================\n",
       "                 coef    std err          t      P>|t|      [0.025      0.975]\n",
       "------------------------------------------------------------------------------\n",
       "Intercept     48.2368      0.510     94.514      0.000      47.236      49.238\n",
       "K            -65.6902      0.943    -69.635      0.000     -67.541     -63.840\n",
       "==============================================================================\n",
       "Omnibus:                       17.326   Durbin-Watson:                   1.987\n",
       "Prob(Omnibus):                  0.000   Jarque-Bera (JB):               14.705\n",
       "Skew:                           0.189   Prob(JB):                     0.000641\n",
       "Kurtosis:                       2.655   Cond. No.                         6.73\n",
       "==============================================================================\n",
       "\n",
       "Notes:\n",
       "[1] Standard Errors assume that the covariance matrix of the errors is correctly specified.\n",
       "\"\"\""
      ]
     },
     "execution_count": 169,
     "metadata": {},
     "output_type": "execute_result"
    }
   ],
   "source": [
    "result1 = smf.ols('Value ~ K', data=train_df_norm).fit()\n",
    "result1.summary()"
   ]
  },
  {
   "cell_type": "markdown",
   "id": "israeli-aging",
   "metadata": {},
   "source": [
    "**Full Model** <br>\n",
    "Run full model using all features"
   ]
  },
  {
   "cell_type": "code",
   "execution_count": 170,
   "id": "alike-dealer",
   "metadata": {},
   "outputs": [
    {
     "data": {
      "text/html": [
       "<table class=\"simpletable\">\n",
       "<caption>OLS Regression Results</caption>\n",
       "<tr>\n",
       "  <th>Dep. Variable:</th>          <td>Value</td>      <th>  R-squared:         </th> <td>   0.911</td>\n",
       "</tr>\n",
       "<tr>\n",
       "  <th>Model:</th>                   <td>OLS</td>       <th>  Adj. R-squared:    </th> <td>   0.910</td>\n",
       "</tr>\n",
       "<tr>\n",
       "  <th>Method:</th>             <td>Least Squares</td>  <th>  F-statistic:       </th> <td>   3415.</td>\n",
       "</tr>\n",
       "<tr>\n",
       "  <th>Date:</th>             <td>Sat, 10 Apr 2021</td> <th>  Prob (F-statistic):</th>  <td>  0.00</td> \n",
       "</tr>\n",
       "<tr>\n",
       "  <th>Time:</th>                 <td>13:08:35</td>     <th>  Log-Likelihood:    </th> <td> -3824.9</td>\n",
       "</tr>\n",
       "<tr>\n",
       "  <th>No. Observations:</th>      <td>  1344</td>      <th>  AIC:               </th> <td>   7660.</td>\n",
       "</tr>\n",
       "<tr>\n",
       "  <th>Df Residuals:</th>          <td>  1339</td>      <th>  BIC:               </th> <td>   7686.</td>\n",
       "</tr>\n",
       "<tr>\n",
       "  <th>Df Model:</th>              <td>     4</td>      <th>                     </th>     <td> </td>   \n",
       "</tr>\n",
       "<tr>\n",
       "  <th>Covariance Type:</th>      <td>nonrobust</td>    <th>                     </th>     <td> </td>   \n",
       "</tr>\n",
       "</table>\n",
       "<table class=\"simpletable\">\n",
       "<tr>\n",
       "      <td></td>         <th>coef</th>     <th>std err</th>      <th>t</th>      <th>P>|t|</th>  <th>[0.025</th>    <th>0.975]</th>  \n",
       "</tr>\n",
       "<tr>\n",
       "  <th>Intercept</th> <td>   36.0066</td> <td>    0.530</td> <td>   67.902</td> <td> 0.000</td> <td>   34.966</td> <td>   37.047</td>\n",
       "</tr>\n",
       "<tr>\n",
       "  <th>S</th>         <td>   18.8558</td> <td>    0.529</td> <td>   35.641</td> <td> 0.000</td> <td>   17.818</td> <td>   19.894</td>\n",
       "</tr>\n",
       "<tr>\n",
       "  <th>K</th>         <td>  -73.6662</td> <td>    0.637</td> <td> -115.687</td> <td> 0.000</td> <td>  -74.915</td> <td>  -72.417</td>\n",
       "</tr>\n",
       "<tr>\n",
       "  <th>tau</th>       <td>   12.4906</td> <td>    0.456</td> <td>   27.412</td> <td> 0.000</td> <td>   11.597</td> <td>   13.384</td>\n",
       "</tr>\n",
       "<tr>\n",
       "  <th>r</th>         <td>    1.2907</td> <td>    0.545</td> <td>    2.368</td> <td> 0.018</td> <td>    0.221</td> <td>    2.360</td>\n",
       "</tr>\n",
       "</table>\n",
       "<table class=\"simpletable\">\n",
       "<tr>\n",
       "  <th>Omnibus:</th>       <td>123.869</td> <th>  Durbin-Watson:     </th> <td>   1.939</td>\n",
       "</tr>\n",
       "<tr>\n",
       "  <th>Prob(Omnibus):</th> <td> 0.000</td>  <th>  Jarque-Bera (JB):  </th> <td> 159.197</td>\n",
       "</tr>\n",
       "<tr>\n",
       "  <th>Skew:</th>          <td> 0.843</td>  <th>  Prob(JB):          </th> <td>2.70e-35</td>\n",
       "</tr>\n",
       "<tr>\n",
       "  <th>Kurtosis:</th>      <td> 3.005</td>  <th>  Cond. No.          </th> <td>    9.66</td>\n",
       "</tr>\n",
       "</table><br/><br/>Notes:<br/>[1] Standard Errors assume that the covariance matrix of the errors is correctly specified."
      ],
      "text/plain": [
       "<class 'statsmodels.iolib.summary.Summary'>\n",
       "\"\"\"\n",
       "                            OLS Regression Results                            \n",
       "==============================================================================\n",
       "Dep. Variable:                  Value   R-squared:                       0.911\n",
       "Model:                            OLS   Adj. R-squared:                  0.910\n",
       "Method:                 Least Squares   F-statistic:                     3415.\n",
       "Date:                Sat, 10 Apr 2021   Prob (F-statistic):               0.00\n",
       "Time:                        13:08:35   Log-Likelihood:                -3824.9\n",
       "No. Observations:                1344   AIC:                             7660.\n",
       "Df Residuals:                    1339   BIC:                             7686.\n",
       "Df Model:                           4                                         \n",
       "Covariance Type:            nonrobust                                         \n",
       "==============================================================================\n",
       "                 coef    std err          t      P>|t|      [0.025      0.975]\n",
       "------------------------------------------------------------------------------\n",
       "Intercept     36.0066      0.530     67.902      0.000      34.966      37.047\n",
       "S             18.8558      0.529     35.641      0.000      17.818      19.894\n",
       "K            -73.6662      0.637   -115.687      0.000     -74.915     -72.417\n",
       "tau           12.4906      0.456     27.412      0.000      11.597      13.384\n",
       "r              1.2907      0.545      2.368      0.018       0.221       2.360\n",
       "==============================================================================\n",
       "Omnibus:                      123.869   Durbin-Watson:                   1.939\n",
       "Prob(Omnibus):                  0.000   Jarque-Bera (JB):              159.197\n",
       "Skew:                           0.843   Prob(JB):                     2.70e-35\n",
       "Kurtosis:                       3.005   Cond. No.                         9.66\n",
       "==============================================================================\n",
       "\n",
       "Notes:\n",
       "[1] Standard Errors assume that the covariance matrix of the errors is correctly specified.\n",
       "\"\"\""
      ]
     },
     "execution_count": 170,
     "metadata": {},
     "output_type": "execute_result"
    }
   ],
   "source": [
    "feats = ' + '.join(train_df_norm.columns[1:])\n",
    "result2 = smf.ols('Value ~' + feats,data=train_df_norm).fit()       \n",
    "result2.summary()\n",
    "           "
   ]
  },
  {
   "cell_type": "code",
   "execution_count": 171,
   "id": "conventional-domestic",
   "metadata": {},
   "outputs": [
    {
     "data": {
      "text/html": [
       "<table class=\"simpletable\">\n",
       "<caption>OLS Regression Results</caption>\n",
       "<tr>\n",
       "  <th>Dep. Variable:</th>          <td>Value</td>      <th>  R-squared:         </th> <td>   0.911</td>\n",
       "</tr>\n",
       "<tr>\n",
       "  <th>Model:</th>                   <td>OLS</td>       <th>  Adj. R-squared:    </th> <td>   0.910</td>\n",
       "</tr>\n",
       "<tr>\n",
       "  <th>Method:</th>             <td>Least Squares</td>  <th>  F-statistic:       </th> <td>   3415.</td>\n",
       "</tr>\n",
       "<tr>\n",
       "  <th>Date:</th>             <td>Sat, 10 Apr 2021</td> <th>  Prob (F-statistic):</th>  <td>  0.00</td> \n",
       "</tr>\n",
       "<tr>\n",
       "  <th>Time:</th>                 <td>13:08:35</td>     <th>  Log-Likelihood:    </th> <td> -3824.9</td>\n",
       "</tr>\n",
       "<tr>\n",
       "  <th>No. Observations:</th>      <td>  1344</td>      <th>  AIC:               </th> <td>   7660.</td>\n",
       "</tr>\n",
       "<tr>\n",
       "  <th>Df Residuals:</th>          <td>  1339</td>      <th>  BIC:               </th> <td>   7686.</td>\n",
       "</tr>\n",
       "<tr>\n",
       "  <th>Df Model:</th>              <td>     4</td>      <th>                     </th>     <td> </td>   \n",
       "</tr>\n",
       "<tr>\n",
       "  <th>Covariance Type:</th>      <td>nonrobust</td>    <th>                     </th>     <td> </td>   \n",
       "</tr>\n",
       "</table>\n",
       "<table class=\"simpletable\">\n",
       "<tr>\n",
       "      <td></td>         <th>coef</th>     <th>std err</th>      <th>t</th>      <th>P>|t|</th>  <th>[0.025</th>    <th>0.975]</th>  \n",
       "</tr>\n",
       "<tr>\n",
       "  <th>Intercept</th> <td>   36.0066</td> <td>    0.530</td> <td>   67.902</td> <td> 0.000</td> <td>   34.966</td> <td>   37.047</td>\n",
       "</tr>\n",
       "<tr>\n",
       "  <th>S</th>         <td>   18.8558</td> <td>    0.529</td> <td>   35.641</td> <td> 0.000</td> <td>   17.818</td> <td>   19.894</td>\n",
       "</tr>\n",
       "<tr>\n",
       "  <th>K</th>         <td>  -73.6662</td> <td>    0.637</td> <td> -115.687</td> <td> 0.000</td> <td>  -74.915</td> <td>  -72.417</td>\n",
       "</tr>\n",
       "<tr>\n",
       "  <th>tau</th>       <td>   12.4906</td> <td>    0.456</td> <td>   27.412</td> <td> 0.000</td> <td>   11.597</td> <td>   13.384</td>\n",
       "</tr>\n",
       "<tr>\n",
       "  <th>r</th>         <td>    1.2907</td> <td>    0.545</td> <td>    2.368</td> <td> 0.018</td> <td>    0.221</td> <td>    2.360</td>\n",
       "</tr>\n",
       "</table>\n",
       "<table class=\"simpletable\">\n",
       "<tr>\n",
       "  <th>Omnibus:</th>       <td>123.869</td> <th>  Durbin-Watson:     </th> <td>   1.939</td>\n",
       "</tr>\n",
       "<tr>\n",
       "  <th>Prob(Omnibus):</th> <td> 0.000</td>  <th>  Jarque-Bera (JB):  </th> <td> 159.197</td>\n",
       "</tr>\n",
       "<tr>\n",
       "  <th>Skew:</th>          <td> 0.843</td>  <th>  Prob(JB):          </th> <td>2.70e-35</td>\n",
       "</tr>\n",
       "<tr>\n",
       "  <th>Kurtosis:</th>      <td> 3.005</td>  <th>  Cond. No.          </th> <td>    9.66</td>\n",
       "</tr>\n",
       "</table><br/><br/>Notes:<br/>[1] Standard Errors assume that the covariance matrix of the errors is correctly specified."
      ],
      "text/plain": [
       "<class 'statsmodels.iolib.summary.Summary'>\n",
       "\"\"\"\n",
       "                            OLS Regression Results                            \n",
       "==============================================================================\n",
       "Dep. Variable:                  Value   R-squared:                       0.911\n",
       "Model:                            OLS   Adj. R-squared:                  0.910\n",
       "Method:                 Least Squares   F-statistic:                     3415.\n",
       "Date:                Sat, 10 Apr 2021   Prob (F-statistic):               0.00\n",
       "Time:                        13:08:35   Log-Likelihood:                -3824.9\n",
       "No. Observations:                1344   AIC:                             7660.\n",
       "Df Residuals:                    1339   BIC:                             7686.\n",
       "Df Model:                           4                                         \n",
       "Covariance Type:            nonrobust                                         \n",
       "==============================================================================\n",
       "                 coef    std err          t      P>|t|      [0.025      0.975]\n",
       "------------------------------------------------------------------------------\n",
       "Intercept     36.0066      0.530     67.902      0.000      34.966      37.047\n",
       "S             18.8558      0.529     35.641      0.000      17.818      19.894\n",
       "K            -73.6662      0.637   -115.687      0.000     -74.915     -72.417\n",
       "tau           12.4906      0.456     27.412      0.000      11.597      13.384\n",
       "r              1.2907      0.545      2.368      0.018       0.221       2.360\n",
       "==============================================================================\n",
       "Omnibus:                      123.869   Durbin-Watson:                   1.939\n",
       "Prob(Omnibus):                  0.000   Jarque-Bera (JB):              159.197\n",
       "Skew:                           0.843   Prob(JB):                     2.70e-35\n",
       "Kurtosis:                       3.005   Cond. No.                         9.66\n",
       "==============================================================================\n",
       "\n",
       "Notes:\n",
       "[1] Standard Errors assume that the covariance matrix of the errors is correctly specified.\n",
       "\"\"\""
      ]
     },
     "execution_count": 171,
     "metadata": {},
     "output_type": "execute_result"
    }
   ],
   "source": [
    "result3 = smf.ols('Value ~ S + K + tau +r ',data=train_df_norm).fit()       \n",
    "result3.summary()"
   ]
  },
  {
   "cell_type": "markdown",
   "id": "attempted-geneva",
   "metadata": {},
   "source": [
    "### VIF (need to check with prof about this)"
   ]
  },
  {
   "cell_type": "code",
   "execution_count": 172,
   "id": "compatible-tunnel",
   "metadata": {},
   "outputs": [
    {
     "data": {
      "text/plain": [
       "[4.3987363045647845, 7.203322349187848, 4.275181239998071, 2.182580432817126]"
      ]
     },
     "execution_count": 172,
     "metadata": {},
     "output_type": "execute_result"
    }
   ],
   "source": [
    "#VIF\n",
    "from statsmodels.stats.outliers_influence import variance_inflation_factor\n",
    "[variance_inflation_factor(X_train_norm, j) for j in range(4)]"
   ]
  },
  {
   "cell_type": "code",
   "execution_count": null,
   "id": "medical-formula",
   "metadata": {},
   "outputs": [],
   "source": []
  },
  {
   "cell_type": "markdown",
   "id": "fancy-domain",
   "metadata": {},
   "source": [
    "**Interaction Models** <br>\n",
    "\n",
    "Currently the \"best\" model is using K, S and Ktau + Stau"
   ]
  },
  {
   "cell_type": "code",
   "execution_count": 173,
   "id": "tutorial-belgium",
   "metadata": {},
   "outputs": [
    {
     "data": {
      "text/html": [
       "<table class=\"simpletable\">\n",
       "<caption>OLS Regression Results</caption>\n",
       "<tr>\n",
       "  <th>Dep. Variable:</th>          <td>Value</td>      <th>  R-squared:         </th> <td>   0.918</td>\n",
       "</tr>\n",
       "<tr>\n",
       "  <th>Model:</th>                   <td>OLS</td>       <th>  Adj. R-squared:    </th> <td>   0.918</td>\n",
       "</tr>\n",
       "<tr>\n",
       "  <th>Method:</th>             <td>Least Squares</td>  <th>  F-statistic:       </th> <td>   2991.</td>\n",
       "</tr>\n",
       "<tr>\n",
       "  <th>Date:</th>             <td>Sat, 10 Apr 2021</td> <th>  Prob (F-statistic):</th>  <td>  0.00</td> \n",
       "</tr>\n",
       "<tr>\n",
       "  <th>Time:</th>                 <td>13:08:36</td>     <th>  Log-Likelihood:    </th> <td> -3768.8</td>\n",
       "</tr>\n",
       "<tr>\n",
       "  <th>No. Observations:</th>      <td>  1344</td>      <th>  AIC:               </th> <td>   7550.</td>\n",
       "</tr>\n",
       "<tr>\n",
       "  <th>Df Residuals:</th>          <td>  1338</td>      <th>  BIC:               </th> <td>   7581.</td>\n",
       "</tr>\n",
       "<tr>\n",
       "  <th>Df Model:</th>              <td>     5</td>      <th>                     </th>     <td> </td>   \n",
       "</tr>\n",
       "<tr>\n",
       "  <th>Covariance Type:</th>      <td>nonrobust</td>    <th>                     </th>     <td> </td>   \n",
       "</tr>\n",
       "</table>\n",
       "<table class=\"simpletable\">\n",
       "<tr>\n",
       "      <td></td>         <th>coef</th>     <th>std err</th>      <th>t</th>      <th>P>|t|</th>  <th>[0.025</th>    <th>0.975]</th>  \n",
       "</tr>\n",
       "<tr>\n",
       "  <th>Intercept</th> <td>   42.5320</td> <td>    0.874</td> <td>   48.664</td> <td> 0.000</td> <td>   40.817</td> <td>   44.247</td>\n",
       "</tr>\n",
       "<tr>\n",
       "  <th>K</th>         <td>  -89.8860</td> <td>    1.587</td> <td>  -56.641</td> <td> 0.000</td> <td>  -92.999</td> <td>  -86.773</td>\n",
       "</tr>\n",
       "<tr>\n",
       "  <th>S</th>         <td>   21.9344</td> <td>    0.999</td> <td>   21.955</td> <td> 0.000</td> <td>   19.974</td> <td>   23.894</td>\n",
       "</tr>\n",
       "<tr>\n",
       "  <th>tau</th>       <td>    2.4650</td> <td>    1.487</td> <td>    1.658</td> <td> 0.098</td> <td>   -0.452</td> <td>    5.382</td>\n",
       "</tr>\n",
       "<tr>\n",
       "  <th>K:tau</th>     <td>   27.7961</td> <td>    2.531</td> <td>   10.981</td> <td> 0.000</td> <td>   22.831</td> <td>   32.762</td>\n",
       "</tr>\n",
       "<tr>\n",
       "  <th>S:tau</th>     <td>   -6.9999</td> <td>    1.799</td> <td>   -3.891</td> <td> 0.000</td> <td>  -10.530</td> <td>   -3.470</td>\n",
       "</tr>\n",
       "</table>\n",
       "<table class=\"simpletable\">\n",
       "<tr>\n",
       "  <th>Omnibus:</th>       <td>139.009</td> <th>  Durbin-Watson:     </th> <td>   1.944</td>\n",
       "</tr>\n",
       "<tr>\n",
       "  <th>Prob(Omnibus):</th> <td> 0.000</td>  <th>  Jarque-Bera (JB):  </th> <td> 182.425</td>\n",
       "</tr>\n",
       "<tr>\n",
       "  <th>Skew:</th>          <td> 0.893</td>  <th>  Prob(JB):          </th> <td>2.44e-40</td>\n",
       "</tr>\n",
       "<tr>\n",
       "  <th>Kurtosis:</th>      <td> 3.255</td>  <th>  Cond. No.          </th> <td>    41.1</td>\n",
       "</tr>\n",
       "</table><br/><br/>Notes:<br/>[1] Standard Errors assume that the covariance matrix of the errors is correctly specified."
      ],
      "text/plain": [
       "<class 'statsmodels.iolib.summary.Summary'>\n",
       "\"\"\"\n",
       "                            OLS Regression Results                            \n",
       "==============================================================================\n",
       "Dep. Variable:                  Value   R-squared:                       0.918\n",
       "Model:                            OLS   Adj. R-squared:                  0.918\n",
       "Method:                 Least Squares   F-statistic:                     2991.\n",
       "Date:                Sat, 10 Apr 2021   Prob (F-statistic):               0.00\n",
       "Time:                        13:08:36   Log-Likelihood:                -3768.8\n",
       "No. Observations:                1344   AIC:                             7550.\n",
       "Df Residuals:                    1338   BIC:                             7581.\n",
       "Df Model:                           5                                         \n",
       "Covariance Type:            nonrobust                                         \n",
       "==============================================================================\n",
       "                 coef    std err          t      P>|t|      [0.025      0.975]\n",
       "------------------------------------------------------------------------------\n",
       "Intercept     42.5320      0.874     48.664      0.000      40.817      44.247\n",
       "K            -89.8860      1.587    -56.641      0.000     -92.999     -86.773\n",
       "S             21.9344      0.999     21.955      0.000      19.974      23.894\n",
       "tau            2.4650      1.487      1.658      0.098      -0.452       5.382\n",
       "K:tau         27.7961      2.531     10.981      0.000      22.831      32.762\n",
       "S:tau         -6.9999      1.799     -3.891      0.000     -10.530      -3.470\n",
       "==============================================================================\n",
       "Omnibus:                      139.009   Durbin-Watson:                   1.944\n",
       "Prob(Omnibus):                  0.000   Jarque-Bera (JB):              182.425\n",
       "Skew:                           0.893   Prob(JB):                     2.44e-40\n",
       "Kurtosis:                       3.255   Cond. No.                         41.1\n",
       "==============================================================================\n",
       "\n",
       "Notes:\n",
       "[1] Standard Errors assume that the covariance matrix of the errors is correctly specified.\n",
       "\"\"\""
      ]
     },
     "execution_count": 173,
     "metadata": {},
     "output_type": "execute_result"
    }
   ],
   "source": [
    "result4 = smf.ols('Value ~ K + S + K*tau + S*tau ',data=train_df_norm).fit()       \n",
    "result4.summary()"
   ]
  },
  {
   "cell_type": "code",
   "execution_count": 174,
   "id": "hollow-islam",
   "metadata": {},
   "outputs": [
    {
     "data": {
      "text/html": [
       "<table class=\"simpletable\">\n",
       "<caption>OLS Regression Results</caption>\n",
       "<tr>\n",
       "  <th>Dep. Variable:</th>          <td>Value</td>      <th>  R-squared:         </th> <td>   0.921</td>\n",
       "</tr>\n",
       "<tr>\n",
       "  <th>Model:</th>                   <td>OLS</td>       <th>  Adj. R-squared:    </th> <td>   0.920</td>\n",
       "</tr>\n",
       "<tr>\n",
       "  <th>Method:</th>             <td>Least Squares</td>  <th>  F-statistic:       </th> <td>   1942.</td>\n",
       "</tr>\n",
       "<tr>\n",
       "  <th>Date:</th>             <td>Sat, 10 Apr 2021</td> <th>  Prob (F-statistic):</th>  <td>  0.00</td> \n",
       "</tr>\n",
       "<tr>\n",
       "  <th>Time:</th>                 <td>13:08:36</td>     <th>  Log-Likelihood:    </th> <td> -3743.8</td>\n",
       "</tr>\n",
       "<tr>\n",
       "  <th>No. Observations:</th>      <td>  1344</td>      <th>  AIC:               </th> <td>   7506.</td>\n",
       "</tr>\n",
       "<tr>\n",
       "  <th>Df Residuals:</th>          <td>  1335</td>      <th>  BIC:               </th> <td>   7552.</td>\n",
       "</tr>\n",
       "<tr>\n",
       "  <th>Df Model:</th>              <td>     8</td>      <th>                     </th>     <td> </td>   \n",
       "</tr>\n",
       "<tr>\n",
       "  <th>Covariance Type:</th>      <td>nonrobust</td>    <th>                     </th>     <td> </td>   \n",
       "</tr>\n",
       "</table>\n",
       "<table class=\"simpletable\">\n",
       "<tr>\n",
       "      <td></td>         <th>coef</th>     <th>std err</th>      <th>t</th>      <th>P>|t|</th>  <th>[0.025</th>    <th>0.975]</th>  \n",
       "</tr>\n",
       "<tr>\n",
       "  <th>Intercept</th> <td>   35.6150</td> <td>    1.344</td> <td>   26.493</td> <td> 0.000</td> <td>   32.978</td> <td>   38.252</td>\n",
       "</tr>\n",
       "<tr>\n",
       "  <th>K</th>         <td>  -77.1232</td> <td>    2.550</td> <td>  -30.246</td> <td> 0.000</td> <td>  -82.125</td> <td>  -72.121</td>\n",
       "</tr>\n",
       "<tr>\n",
       "  <th>S</th>         <td>   29.3575</td> <td>    1.656</td> <td>   17.727</td> <td> 0.000</td> <td>   26.109</td> <td>   32.606</td>\n",
       "</tr>\n",
       "<tr>\n",
       "  <th>tau</th>       <td>    2.1444</td> <td>    1.464</td> <td>    1.465</td> <td> 0.143</td> <td>   -0.727</td> <td>    5.015</td>\n",
       "</tr>\n",
       "<tr>\n",
       "  <th>S:tau</th>     <td>   -6.1354</td> <td>    1.780</td> <td>   -3.447</td> <td> 0.001</td> <td>   -9.627</td> <td>   -2.644</td>\n",
       "</tr>\n",
       "<tr>\n",
       "  <th>K:tau</th>     <td>   27.4790</td> <td>    2.501</td> <td>   10.988</td> <td> 0.000</td> <td>   22.573</td> <td>   32.385</td>\n",
       "</tr>\n",
       "<tr>\n",
       "  <th>r</th>         <td>    9.5418</td> <td>    1.378</td> <td>    6.926</td> <td> 0.000</td> <td>    6.839</td> <td>   12.244</td>\n",
       "</tr>\n",
       "<tr>\n",
       "  <th>K:r</th>       <td>  -16.9988</td> <td>    2.685</td> <td>   -6.332</td> <td> 0.000</td> <td>  -22.265</td> <td>  -11.732</td>\n",
       "</tr>\n",
       "<tr>\n",
       "  <th>K:S</th>       <td>  -13.8675</td> <td>    2.709</td> <td>   -5.120</td> <td> 0.000</td> <td>  -19.181</td> <td>   -8.554</td>\n",
       "</tr>\n",
       "</table>\n",
       "<table class=\"simpletable\">\n",
       "<tr>\n",
       "  <th>Omnibus:</th>       <td>122.200</td> <th>  Durbin-Watson:     </th> <td>   1.947</td>\n",
       "</tr>\n",
       "<tr>\n",
       "  <th>Prob(Omnibus):</th> <td> 0.000</td>  <th>  Jarque-Bera (JB):  </th> <td> 156.128</td>\n",
       "</tr>\n",
       "<tr>\n",
       "  <th>Skew:</th>          <td> 0.834</td>  <th>  Prob(JB):          </th> <td>1.25e-34</td>\n",
       "</tr>\n",
       "<tr>\n",
       "  <th>Kurtosis:</th>      <td> 3.085</td>  <th>  Cond. No.          </th> <td>    61.4</td>\n",
       "</tr>\n",
       "</table><br/><br/>Notes:<br/>[1] Standard Errors assume that the covariance matrix of the errors is correctly specified."
      ],
      "text/plain": [
       "<class 'statsmodels.iolib.summary.Summary'>\n",
       "\"\"\"\n",
       "                            OLS Regression Results                            \n",
       "==============================================================================\n",
       "Dep. Variable:                  Value   R-squared:                       0.921\n",
       "Model:                            OLS   Adj. R-squared:                  0.920\n",
       "Method:                 Least Squares   F-statistic:                     1942.\n",
       "Date:                Sat, 10 Apr 2021   Prob (F-statistic):               0.00\n",
       "Time:                        13:08:36   Log-Likelihood:                -3743.8\n",
       "No. Observations:                1344   AIC:                             7506.\n",
       "Df Residuals:                    1335   BIC:                             7552.\n",
       "Df Model:                           8                                         \n",
       "Covariance Type:            nonrobust                                         \n",
       "==============================================================================\n",
       "                 coef    std err          t      P>|t|      [0.025      0.975]\n",
       "------------------------------------------------------------------------------\n",
       "Intercept     35.6150      1.344     26.493      0.000      32.978      38.252\n",
       "K            -77.1232      2.550    -30.246      0.000     -82.125     -72.121\n",
       "S             29.3575      1.656     17.727      0.000      26.109      32.606\n",
       "tau            2.1444      1.464      1.465      0.143      -0.727       5.015\n",
       "S:tau         -6.1354      1.780     -3.447      0.001      -9.627      -2.644\n",
       "K:tau         27.4790      2.501     10.988      0.000      22.573      32.385\n",
       "r              9.5418      1.378      6.926      0.000       6.839      12.244\n",
       "K:r          -16.9988      2.685     -6.332      0.000     -22.265     -11.732\n",
       "K:S          -13.8675      2.709     -5.120      0.000     -19.181      -8.554\n",
       "==============================================================================\n",
       "Omnibus:                      122.200   Durbin-Watson:                   1.947\n",
       "Prob(Omnibus):                  0.000   Jarque-Bera (JB):              156.128\n",
       "Skew:                           0.834   Prob(JB):                     1.25e-34\n",
       "Kurtosis:                       3.085   Cond. No.                         61.4\n",
       "==============================================================================\n",
       "\n",
       "Notes:\n",
       "[1] Standard Errors assume that the covariance matrix of the errors is correctly specified.\n",
       "\"\"\""
      ]
     },
     "execution_count": 174,
     "metadata": {},
     "output_type": "execute_result"
    }
   ],
   "source": [
    "result5 = smf.ols('Value ~ K + S*tau + K*tau + K*r + K*S',data = train_df_norm).fit()\n",
    "result5.summary()"
   ]
  },
  {
   "cell_type": "markdown",
   "id": "fixed-launch",
   "metadata": {},
   "source": [
    "**A few models I tried**\n",
    "\n",
    "| Formula     | Adj-R2      |    AIC    |\n",
    "| ----------- | ----------- | --------- |\n",
    "| Value ~ K | .783 | 8846 |\n",
    "| Value ~ S + K + tau | .910 | 7663 |\n",
    "| Value ~ S + K + tau + r | .910 | 7550 | \n",
    "| Value ~ K + S\\*tau + K\\*r + K\\*S | 9.13  | 7620 |\n",
    "| Value ~ K + S + K\\*tau + S\\*tau  | 9.18  | 7550 |\n",
    "| Value ~ K +  K\\*tau + K\\*r + K\\*S | .920 | 7516 |\n",
    "| Value ~ K + S\\*tau + K\\*tau + K\\*r + K\\*S | .920 | 7506|\n"
   ]
  },
  {
   "cell_type": "markdown",
   "id": "successful-institute",
   "metadata": {},
   "source": [
    "## Notes\n",
    "\n",
    "1. K seems to be the best variable so far which makes since from scatter plots in EDA file.\n",
    "2. Can look at transformation (x^2) for K to see if that improves things. \n",
    "3. S, K, tau provide the best adjusted R2\n",
    "4. investigate interaction terms "
   ]
  },
  {
   "cell_type": "markdown",
   "id": "detailed-requirement",
   "metadata": {},
   "source": [
    "### Sklearn and Out-of-Sample R2\n"
   ]
  },
  {
   "cell_type": "code",
   "execution_count": 175,
   "id": "spoken-diabetes",
   "metadata": {},
   "outputs": [],
   "source": [
    "from sklearn.linear_model import LinearRegression\n",
    "from sklearn.preprocessing import PolynomialFeatures\n",
    "\n",
    "lm = LinearRegression()"
   ]
  },
  {
   "cell_type": "code",
   "execution_count": 176,
   "id": "naval-rocket",
   "metadata": {},
   "outputs": [],
   "source": [
    "#generating interaction terms\n",
    "#build interaction dataframe\n",
    "def build_interaction(arr):\n",
    "    poly = PolynomialFeatures(interaction_only=True,include_bias = False)\n",
    "    X_int = poly.fit_transform(arr)\n",
    "    interaction_headers = poly.get_feature_names(train_df_norm.columns[1:])\n",
    "    X_int_df = pd.DataFrame(X_int,columns = interaction_headers) \n",
    "    return X_int_df\n",
    "\n",
    "X_train_df_int = build_interaction(X_train_norm)\n",
    "X_val_df_int = build_interaction(X_val_norm)"
   ]
  },
  {
   "cell_type": "code",
   "execution_count": 177,
   "id": "macro-jewelry",
   "metadata": {},
   "outputs": [
    {
     "data": {
      "text/html": [
       "<div>\n",
       "<style scoped>\n",
       "    .dataframe tbody tr th:only-of-type {\n",
       "        vertical-align: middle;\n",
       "    }\n",
       "\n",
       "    .dataframe tbody tr th {\n",
       "        vertical-align: top;\n",
       "    }\n",
       "\n",
       "    .dataframe thead th {\n",
       "        text-align: right;\n",
       "    }\n",
       "</style>\n",
       "<table border=\"1\" class=\"dataframe\">\n",
       "  <thead>\n",
       "    <tr style=\"text-align: right;\">\n",
       "      <th></th>\n",
       "      <th>S</th>\n",
       "      <th>K</th>\n",
       "      <th>tau</th>\n",
       "      <th>r</th>\n",
       "      <th>S K</th>\n",
       "      <th>S tau</th>\n",
       "      <th>S r</th>\n",
       "      <th>K tau</th>\n",
       "      <th>K r</th>\n",
       "      <th>tau r</th>\n",
       "    </tr>\n",
       "  </thead>\n",
       "  <tbody>\n",
       "    <tr>\n",
       "      <th>0</th>\n",
       "      <td>0.243162</td>\n",
       "      <td>0.80</td>\n",
       "      <td>0.632653</td>\n",
       "      <td>0.219409</td>\n",
       "      <td>0.194529</td>\n",
       "      <td>0.153837</td>\n",
       "      <td>0.053352</td>\n",
       "      <td>0.506122</td>\n",
       "      <td>0.175527</td>\n",
       "      <td>0.138810</td>\n",
       "    </tr>\n",
       "    <tr>\n",
       "      <th>1</th>\n",
       "      <td>0.606384</td>\n",
       "      <td>0.72</td>\n",
       "      <td>0.408163</td>\n",
       "      <td>0.481013</td>\n",
       "      <td>0.436597</td>\n",
       "      <td>0.247504</td>\n",
       "      <td>0.291679</td>\n",
       "      <td>0.293878</td>\n",
       "      <td>0.346329</td>\n",
       "      <td>0.196332</td>\n",
       "    </tr>\n",
       "    <tr>\n",
       "      <th>2</th>\n",
       "      <td>0.621094</td>\n",
       "      <td>0.56</td>\n",
       "      <td>0.877551</td>\n",
       "      <td>0.219409</td>\n",
       "      <td>0.347812</td>\n",
       "      <td>0.545041</td>\n",
       "      <td>0.136274</td>\n",
       "      <td>0.491429</td>\n",
       "      <td>0.122869</td>\n",
       "      <td>0.192543</td>\n",
       "    </tr>\n",
       "    <tr>\n",
       "      <th>3</th>\n",
       "      <td>0.120179</td>\n",
       "      <td>0.48</td>\n",
       "      <td>0.061224</td>\n",
       "      <td>0.738397</td>\n",
       "      <td>0.057686</td>\n",
       "      <td>0.007358</td>\n",
       "      <td>0.088740</td>\n",
       "      <td>0.029388</td>\n",
       "      <td>0.354430</td>\n",
       "      <td>0.045208</td>\n",
       "    </tr>\n",
       "    <tr>\n",
       "      <th>4</th>\n",
       "      <td>0.237539</td>\n",
       "      <td>0.64</td>\n",
       "      <td>0.887755</td>\n",
       "      <td>0.434599</td>\n",
       "      <td>0.152025</td>\n",
       "      <td>0.210876</td>\n",
       "      <td>0.103234</td>\n",
       "      <td>0.568163</td>\n",
       "      <td>0.278143</td>\n",
       "      <td>0.385818</td>\n",
       "    </tr>\n",
       "  </tbody>\n",
       "</table>\n",
       "</div>"
      ],
      "text/plain": [
       "          S     K       tau         r       S K     S tau       S r     K tau  \\\n",
       "0  0.243162  0.80  0.632653  0.219409  0.194529  0.153837  0.053352  0.506122   \n",
       "1  0.606384  0.72  0.408163  0.481013  0.436597  0.247504  0.291679  0.293878   \n",
       "2  0.621094  0.56  0.877551  0.219409  0.347812  0.545041  0.136274  0.491429   \n",
       "3  0.120179  0.48  0.061224  0.738397  0.057686  0.007358  0.088740  0.029388   \n",
       "4  0.237539  0.64  0.887755  0.434599  0.152025  0.210876  0.103234  0.568163   \n",
       "\n",
       "        K r     tau r  \n",
       "0  0.175527  0.138810  \n",
       "1  0.346329  0.196332  \n",
       "2  0.122869  0.192543  \n",
       "3  0.354430  0.045208  \n",
       "4  0.278143  0.385818  "
      ]
     },
     "execution_count": 177,
     "metadata": {},
     "output_type": "execute_result"
    }
   ],
   "source": [
    "#build df\n",
    "X_train_df_int.head()"
   ]
  },
  {
   "cell_type": "code",
   "execution_count": 178,
   "id": "smaller-aurora",
   "metadata": {},
   "outputs": [
    {
     "name": "stdout",
     "output_type": "stream",
     "text": [
      "  feature        VIF\n",
      "0       K  21.328384\n",
      "1   S tau   7.634955\n",
      "2   K tau  11.785075\n",
      "3     K r   3.236771\n",
      "4     S K  11.650779\n"
     ]
    }
   ],
   "source": [
    "#VIF: Value ~ K + S*tau + K*tau + K*r + K*S\n",
    "from statsmodels.stats.outliers_influence import variance_inflation_factor\n",
    "  \n",
    "# the independent variables set\n",
    "X = X_train_df_int[[\"K\",\"S tau\" , \"K tau\",\"K r\",\"S K\"]]\n",
    "\n",
    "  \n",
    "# VIF dataframe\n",
    "vif_data = pd.DataFrame()\n",
    "vif_data[\"feature\"] = X.columns\n",
    "  \n",
    "# calculating VIF for each feature\n",
    "vif_data[\"VIF\"] = [variance_inflation_factor(X.values, i)\n",
    "                          for i in range(len(X.columns))]\n",
    "  \n",
    "print(vif_data)"
   ]
  },
  {
   "cell_type": "code",
   "execution_count": 179,
   "id": "early-entertainment",
   "metadata": {},
   "outputs": [
    {
     "name": "stdout",
     "output_type": "stream",
     "text": [
      "  feature       VIF\n",
      "0   S tau  6.367030\n",
      "1   K tau  6.466587\n",
      "2     K r  2.440039\n",
      "3     S K  4.151849\n"
     ]
    }
   ],
   "source": [
    "#VIF with dropped interaction term\n",
    "# the independent variables set\n",
    "X = X_train_df_int[[\"S tau\" , \"K tau\",\"K r\",\"S K\"]]\n",
    "\n",
    "  \n",
    "# VIF dataframe\n",
    "vif_data = pd.DataFrame()\n",
    "vif_data[\"feature\"] = X.columns\n",
    "  \n",
    "# calculating VIF for each feature\n",
    "vif_data[\"VIF\"] = [variance_inflation_factor(X.values, i)\n",
    "                          for i in range(len(X.columns))]\n",
    "  \n",
    "print(vif_data)"
   ]
  },
  {
   "cell_type": "code",
   "execution_count": 180,
   "id": "inappropriate-politics",
   "metadata": {},
   "outputs": [],
   "source": [
    "#build function to calculate R2 values for multiple models (in and out R2)\n",
    "def run_model(terms,train_df,y_train,val_df,y_val):\n",
    "    X_train = train_df[terms].values\n",
    "    X_val = val_df[terms].values\n",
    "\n",
    "    lm.fit(X_train,y_train)\n",
    "    in_sample_r2 = lm.score(X_train,y_train)\n",
    "    out_of_sample_r2 = lm.score(X_val,y_val)\n",
    "    return in_sample_r2, out_of_sample_r2"
   ]
  },
  {
   "cell_type": "code",
   "execution_count": 181,
   "id": "dying-stocks",
   "metadata": {},
   "outputs": [
    {
     "name": "stdout",
     "output_type": "stream",
     "text": [
      "In-sample-R2: 0.9010737442477936\n",
      "Out-of-Sample-R2: 0.8932470412927223\n"
     ]
    }
   ],
   "source": [
    "#Value ~ K +  K\\*tau + K\\*r + K\\*S\n",
    "in_r2, out_r2 = run_model([\"K\",\"S tau\" , \"K tau\",\"K r\",\"S K\"],X_train_df_int,y_train,X_val_df_int,y_val)\n",
    "print(f'In-sample-R2: {in_r2}\\nOut-of-Sample-R2: {out_r2}')"
   ]
  },
  {
   "cell_type": "code",
   "execution_count": 182,
   "id": "unique-cursor",
   "metadata": {},
   "outputs": [
    {
     "name": "stdout",
     "output_type": "stream",
     "text": [
      "In-sample-R2: 0.9010737442477936\n",
      "Out-of-Sample-R2: 0.8932470412927223\n"
     ]
    }
   ],
   "source": [
    "#Value ~ K + S*tau + K*tau + K*r + K*S\n",
    "in_r2, out_r2 = run_model([\"K\",\"S tau\" , \"K tau\",\"K r\",\"S K\"],X_train_df_int,y_train,X_val_df_int,y_val)\n",
    "print(f'In-sample-R2: {in_r2}\\nOut-of-Sample-R2: {out_r2}')"
   ]
  },
  {
   "cell_type": "markdown",
   "id": "suspended-faith",
   "metadata": {},
   "source": [
    "## Outliers\n",
    "\n",
    "**tasks**\n",
    "- run again but drop three outliers\n",
    "- train model on entire dataset before final predictions"
   ]
  },
  {
   "cell_type": "markdown",
   "id": "prospective-psychology",
   "metadata": {},
   "source": [
    "## KNN Regression\n",
    "\n",
    "**tasks**\n",
    "\n",
    "- run interaction models from above using same data with KNN Regression model \n",
    "- see if more performant\n",
    "- run with outliers then again without outliers"
   ]
  },
  {
   "cell_type": "markdown",
   "id": "drawn-second",
   "metadata": {},
   "source": [
    "## Run subset selection"
   ]
  },
  {
   "cell_type": "code",
   "execution_count": 183,
   "id": "controversial-gentleman",
   "metadata": {},
   "outputs": [],
   "source": [
    "%matplotlib inline\n",
    "import itertools\n",
    "import time\n",
    "import statsmodels.api as sm\n",
    "import matplotlib.pyplot as plt"
   ]
  },
  {
   "cell_type": "code",
   "execution_count": 184,
   "id": "reasonable-unemployment",
   "metadata": {},
   "outputs": [],
   "source": [
    "def processSubset(feature_set):\n",
    "    X1 = sm.add_constant(X_train_df_int[list(feature_set)])\n",
    "    model = sm.OLS(y_train,X1)\n",
    "    regr = model.fit()\n",
    "    RSS = ((regr.predict(X1) - y_train) ** 2).sum()\n",
    "    return {\"model\":regr, \"RSS\":RSS}\n",
    "\n",
    "def getBest(k):\n",
    "    tic = time.time()\n",
    "    results = []\n",
    "    for combo in itertools.combinations(X_train_df_int.columns, k):\n",
    "        results.append(processSubset(combo))\n",
    "            # Wrap everything up in a nice dataframe\n",
    "    models = pd.DataFrame(results)\n",
    "    # Choose the model with the smallest RSS\n",
    "    best_model = models.loc[models['RSS'].idxmin]\n",
    "    # idxmin() function returns index of first occurrence of minimum.\n",
    "    toc = time.time()\n",
    "    print(\"Processed \", models.shape[0], \"models on\", k, \"predictors in\",(toc-tic), \"seconds.\")\n",
    "# Return the best model, along with some other useful information about the model\n",
    "    return best_model\n"
   ]
  },
  {
   "cell_type": "code",
   "execution_count": 185,
   "id": "disabled-gather",
   "metadata": {},
   "outputs": [
    {
     "name": "stdout",
     "output_type": "stream",
     "text": [
      "Processed  1 models on 0 predictors in 0.006980419158935547 seconds.\n",
      "Processed  10 models on 1 predictors in 0.03390955924987793 seconds.\n",
      "Processed  45 models on 2 predictors in 0.15256810188293457 seconds.\n",
      "Processed  120 models on 3 predictors in 0.3614695072174072 seconds.\n",
      "Processed  210 models on 4 predictors in 0.6272330284118652 seconds.\n",
      "Processed  252 models on 5 predictors in 0.8186566829681396 seconds.\n",
      "Processed  210 models on 6 predictors in 0.6330184936523438 seconds.\n",
      "Processed  120 models on 7 predictors in 0.38993167877197266 seconds.\n",
      "Processed  45 models on 8 predictors in 0.1785728931427002 seconds.\n",
      "Processed  10 models on 9 predictors in 0.03419971466064453 seconds.\n",
      "Processed  1 models on 10 predictors in 0.015619516372680664 seconds.\n",
      "Total elapsed time: 3.283188581466675 seconds.\n"
     ]
    }
   ],
   "source": [
    "models = pd.DataFrame(columns=[\"RSS\", \"model\"])\n",
    "tic = time.time()\n",
    "\n",
    "for i in range(0,11):\n",
    "    models.loc[i] = getBest(i)\n",
    "toc = time.time()\n",
    "print(\"Total elapsed time:\", (toc-tic), \"seconds.\")"
   ]
  },
  {
   "cell_type": "code",
   "execution_count": 186,
   "id": "correct-neutral",
   "metadata": {},
   "outputs": [
    {
     "data": {
      "text/plain": [
       "Text(0, 0.5, 'BIC')"
      ]
     },
     "execution_count": 186,
     "metadata": {},
     "output_type": "execute_result"
    },
    {
     "data": {
      "image/png": "[encoded data removed]",
      "text/plain": [
       "<Figure size 1440x720 with 4 Axes>"
      ]
     },
     "metadata": {
      "needs_background": "light"
     },
     "output_type": "display_data"
    }
   ],
   "source": [
    "plt.figure(figsize=(20,10))\n",
    "plt.rcParams.update({'font.size': 18, 'lines.markersize': 10})\n",
    "# Set up a 2x2 grid so we can look at 4 plots at once\n",
    "plt.subplot(2, 2, 1)\n",
    "\n",
    "# We will now plot a curve to show the relationship between the number of predictors and the RSS\n",
    "plt.plot(models[\"RSS\"])\n",
    "plt.xlabel('# Predictors')\n",
    "plt.ylabel('RSS')\n",
    "# We will now plot a red dot to indicate the model with the largest adjusted R^2 statistic.\n",
    "# The idxmax() function can be used to identify the location of the maximum point of a vector\n",
    "rsquared_adj = models.apply(lambda row: row[1].rsquared_adj, axis=1)\n",
    "plt.subplot(2, 2, 2)\n",
    "plt.plot(rsquared_adj)\n",
    "plt.plot(rsquared_adj.idxmax(), rsquared_adj.max(), \"or\")\n",
    "plt.xlabel('# Predictors')\n",
    "plt.ylabel('adjusted rsquared')\n",
    "# We'll do the same for AIC and BIC, this time looking for the models with the SMALLEST statistic\n",
    "aic = models.apply(lambda row: row[1].aic, axis=1)\n",
    "plt.subplot(2, 2, 3)\n",
    "plt.plot(aic)\n",
    "plt.plot(aic.idxmin(), aic.min(), \"or\")\n",
    "plt.xlabel('# Predictors')\n",
    "plt.ylabel('AIC')\n",
    "bic = models.apply(lambda row: row[1].bic, axis=1)\n",
    "plt.subplot(2, 2, 4)\n",
    "plt.plot(bic)\n",
    "plt.plot(bic.idxmin(), bic.min(), \"or\")\n",
    "plt.xlabel('# Predictors')\n",
    "plt.ylabel('BIC')"
   ]
  },
  {
   "cell_type": "code",
   "execution_count": 187,
   "id": "municipal-description",
   "metadata": {},
   "outputs": [
    {
     "name": "stdout",
     "output_type": "stream",
     "text": [
      "Processed  45 models on 8 predictors in 0.1738753318786621 seconds.\n"
     ]
    },
    {
     "data": {
      "text/plain": [
       "model    <statsmodels.regression.linear_model.Regressio...\n",
       "RSS                                           20465.031413\n",
       "Name: 24, dtype: object"
      ]
     },
     "execution_count": 187,
     "metadata": {},
     "output_type": "execute_result"
    }
   ],
   "source": [
    "getBest(8)"
   ]
  },
  {
   "cell_type": "code",
   "execution_count": 188,
   "id": "funded-bathroom",
   "metadata": {},
   "outputs": [
    {
     "name": "stdout",
     "output_type": "stream",
     "text": [
      "Processed  45 models on 8 predictors in 0.1765284538269043 seconds.\n",
      "                            OLS Regression Results                            \n",
      "==============================================================================\n",
      "Dep. Variable:                      y   R-squared:                       0.922\n",
      "Model:                            OLS   Adj. R-squared:                  0.921\n",
      "Method:                 Least Squares   F-statistic:                     1964.\n",
      "Date:                Sat, 10 Apr 2021   Prob (F-statistic):               0.00\n",
      "Time:                        13:08:40   Log-Likelihood:                -3737.0\n",
      "No. Observations:                1344   AIC:                             7492.\n",
      "Df Residuals:                    1335   BIC:                             7539.\n",
      "Df Model:                           8                                         \n",
      "Covariance Type:            nonrobust                                         \n",
      "==============================================================================\n",
      "                 coef    std err          t      P>|t|      [0.025      0.975]\n",
      "------------------------------------------------------------------------------\n",
      "const         36.1659      1.106     32.688      0.000      33.995      38.336\n",
      "S             29.1558      1.594     18.293      0.000      26.029      32.283\n",
      "K            -75.7210      2.453    -30.866      0.000     -80.534     -70.908\n",
      "r              6.8798      1.533      4.489      0.000       3.873       9.887\n",
      "S K          -14.6664      2.703     -5.426      0.000     -19.969      -9.364\n",
      "S tau         -4.6404      1.562     -2.971      0.003      -7.704      -1.577\n",
      "K tau         26.3533      2.013     13.092      0.000      22.404      30.302\n",
      "K r          -17.8369      2.675     -6.668      0.000     -23.084     -12.589\n",
      "tau r          6.4396      1.615      3.987      0.000       3.271       9.608\n",
      "==============================================================================\n",
      "Omnibus:                      117.659   Durbin-Watson:                   1.933\n",
      "Prob(Omnibus):                  0.000   Jarque-Bera (JB):              149.017\n",
      "Skew:                           0.815   Prob(JB):                     4.38e-33\n",
      "Kurtosis:                       3.068   Cond. No.                         56.8\n",
      "==============================================================================\n",
      "\n",
      "Notes:\n",
      "[1] Standard Errors assume that the covariance matrix of the errors is correctly specified.\n"
     ]
    }
   ],
   "source": [
    "print(getBest(8)[\"model\"].summary())\n"
   ]
  },
  {
   "cell_type": "code",
   "execution_count": 189,
   "id": "heard-planet",
   "metadata": {},
   "outputs": [
    {
     "name": "stdout",
     "output_type": "stream",
     "text": [
      "Processed  45 models on 8 predictors in 0.14615511894226074 seconds.\n"
     ]
    }
   ],
   "source": [
    "best_coef = getBest(8)['model'].params.index[1:]"
   ]
  },
  {
   "cell_type": "code",
   "execution_count": null,
   "id": "threatened-posting",
   "metadata": {},
   "outputs": [],
   "source": []
  },
  {
   "cell_type": "code",
   "execution_count": 190,
   "id": "liquid-truth",
   "metadata": {},
   "outputs": [
    {
     "name": "stdout",
     "output_type": "stream",
     "text": [
      "In-sample-R2: 0.9216760716008511\n",
      "Out-of-Sample-R2: 0.9188048945512973\n"
     ]
    }
   ],
   "source": [
    "in_r2, out_r2 = run_model(list(best_coef),X_train_df_int,y_train,X_val_df_int,y_val)\n",
    "print(f'In-sample-R2: {in_r2}\\nOut-of-Sample-R2: {out_r2}')"
   ]
  },
  {
   "cell_type": "code",
   "execution_count": 255,
   "id": "seasonal-repair",
   "metadata": {},
   "outputs": [],
   "source": [
    "# the independent variables set\n",
    "def vif_df(formula,df):\n",
    "    X = df[formula]\n",
    "\n",
    "  \n",
    "    # VIF dataframe\n",
    "    vif_data = pd.DataFrame()\n",
    "    vif_data[\"feature\"] = X.columns\n",
    "\n",
    "    # calculating VIF for each feature\n",
    "    vif_data[\"VIF\"] = [variance_inflation_factor(X.values, i)\n",
    "                              for i in range(len(X.columns))]\n",
    "\n",
    "    return vif_data"
   ]
  },
  {
   "cell_type": "code",
   "execution_count": 256,
   "id": "organizational-killing",
   "metadata": {},
   "outputs": [
    {
     "data": {
      "text/html": [
       "<div>\n",
       "<style scoped>\n",
       "    .dataframe tbody tr th:only-of-type {\n",
       "        vertical-align: middle;\n",
       "    }\n",
       "\n",
       "    .dataframe tbody tr th {\n",
       "        vertical-align: top;\n",
       "    }\n",
       "\n",
       "    .dataframe thead th {\n",
       "        text-align: right;\n",
       "    }\n",
       "</style>\n",
       "<table border=\"1\" class=\"dataframe\">\n",
       "  <thead>\n",
       "    <tr style=\"text-align: right;\">\n",
       "      <th></th>\n",
       "      <th>feature</th>\n",
       "      <th>VIF</th>\n",
       "    </tr>\n",
       "  </thead>\n",
       "  <tbody>\n",
       "    <tr>\n",
       "      <th>0</th>\n",
       "      <td>S</td>\n",
       "      <td>29.293413</td>\n",
       "    </tr>\n",
       "    <tr>\n",
       "      <th>1</th>\n",
       "      <td>K</td>\n",
       "      <td>40.664564</td>\n",
       "    </tr>\n",
       "    <tr>\n",
       "      <th>2</th>\n",
       "      <td>r</td>\n",
       "      <td>17.095626</td>\n",
       "    </tr>\n",
       "    <tr>\n",
       "      <th>3</th>\n",
       "      <td>S K</td>\n",
       "      <td>18.870089</td>\n",
       "    </tr>\n",
       "    <tr>\n",
       "      <th>4</th>\n",
       "      <td>S tau</td>\n",
       "      <td>20.298659</td>\n",
       "    </tr>\n",
       "    <tr>\n",
       "      <th>5</th>\n",
       "      <td>K tau</td>\n",
       "      <td>36.187376</td>\n",
       "    </tr>\n",
       "    <tr>\n",
       "      <th>6</th>\n",
       "      <td>K r</td>\n",
       "      <td>10.671237</td>\n",
       "    </tr>\n",
       "    <tr>\n",
       "      <th>7</th>\n",
       "      <td>tau r</td>\n",
       "      <td>10.693013</td>\n",
       "    </tr>\n",
       "  </tbody>\n",
       "</table>\n",
       "</div>"
      ],
      "text/plain": [
       "  feature        VIF\n",
       "0       S  29.293413\n",
       "1       K  40.664564\n",
       "2       r  17.095626\n",
       "3     S K  18.870089\n",
       "4   S tau  20.298659\n",
       "5   K tau  36.187376\n",
       "6     K r  10.671237\n",
       "7   tau r  10.693013"
      ]
     },
     "execution_count": 256,
     "metadata": {},
     "output_type": "execute_result"
    }
   ],
   "source": [
    "vif_df(list(best_coef),X_train_df_int)"
   ]
  },
  {
   "cell_type": "code",
   "execution_count": 257,
   "id": "combined-formula",
   "metadata": {},
   "outputs": [
    {
     "data": {
      "text/html": [
       "<div>\n",
       "<style scoped>\n",
       "    .dataframe tbody tr th:only-of-type {\n",
       "        vertical-align: middle;\n",
       "    }\n",
       "\n",
       "    .dataframe tbody tr th {\n",
       "        vertical-align: top;\n",
       "    }\n",
       "\n",
       "    .dataframe thead th {\n",
       "        text-align: right;\n",
       "    }\n",
       "</style>\n",
       "<table border=\"1\" class=\"dataframe\">\n",
       "  <thead>\n",
       "    <tr style=\"text-align: right;\">\n",
       "      <th></th>\n",
       "      <th>feature</th>\n",
       "      <th>VIF</th>\n",
       "    </tr>\n",
       "  </thead>\n",
       "  <tbody>\n",
       "    <tr>\n",
       "      <th>0</th>\n",
       "      <td>S K</td>\n",
       "      <td>5.865471</td>\n",
       "    </tr>\n",
       "    <tr>\n",
       "      <th>1</th>\n",
       "      <td>S tau</td>\n",
       "      <td>7.559224</td>\n",
       "    </tr>\n",
       "    <tr>\n",
       "      <th>2</th>\n",
       "      <td>K tau</td>\n",
       "      <td>6.587807</td>\n",
       "    </tr>\n",
       "    <tr>\n",
       "      <th>3</th>\n",
       "      <td>K r</td>\n",
       "      <td>5.642745</td>\n",
       "    </tr>\n",
       "    <tr>\n",
       "      <th>4</th>\n",
       "      <td>tau r</td>\n",
       "      <td>4.835578</td>\n",
       "    </tr>\n",
       "  </tbody>\n",
       "</table>\n",
       "</div>"
      ],
      "text/plain": [
       "  feature       VIF\n",
       "0     S K  5.865471\n",
       "1   S tau  7.559224\n",
       "2   K tau  6.587807\n",
       "3     K r  5.642745\n",
       "4   tau r  4.835578"
      ]
     },
     "execution_count": 257,
     "metadata": {},
     "output_type": "execute_result"
    }
   ],
   "source": [
    "vif_df(['S K','S tau','K tau','K r','tau r'],X_train_df_int)"
   ]
  },
  {
   "cell_type": "markdown",
   "id": "unnecessary-advisory",
   "metadata": {},
   "source": [
    "## Cross Validation for Regression"
   ]
  },
  {
   "cell_type": "code",
   "execution_count": 194,
   "id": "sporting-chest",
   "metadata": {},
   "outputs": [],
   "source": [
    "from sklearn.model_selection import KFold\n",
    "from sklearn.model_selection import cross_val_score\n",
    "\n",
    "kfolds_regression = KFold(n_splits=10,random_state=1,shuffle = True)\n",
    "lm = LinearRegression()\n",
    "\n",
    "r2_model_cv = cross_val_score(lm,X_train_df_int[[\"K\",\"S tau\" , \"K tau\",\"K r\",\"S K\"]],\n",
    "                           train_df_norm['Value'],cv=kfolds_regression)"
   ]
  },
  {
   "cell_type": "code",
   "execution_count": 195,
   "id": "adapted-niger",
   "metadata": {},
   "outputs": [
    {
     "name": "stdout",
     "output_type": "stream",
     "text": [
      "Linear Regression: \n",
      "\n",
      "r squared of 10-folds: [0.9056969  0.90194541 0.87632193 0.91089246 0.89317652 0.89899914\n",
      " 0.91388059 0.88203997 0.88592431 0.9036861 ] (mean r squared: 0.897256334422243 )\n"
     ]
    }
   ],
   "source": [
    "print(\"Linear Regression: \\n\")\n",
    "print(\"r squared of 10-folds:\",r2_model_cv,\"(mean r squared:\",np.mean(r2_model_cv),\")\")\n"
   ]
  },
  {
   "cell_type": "markdown",
   "id": "advance-honolulu",
   "metadata": {},
   "source": [
    "## RidgeCV"
   ]
  },
  {
   "cell_type": "code",
   "execution_count": 196,
   "id": "directed-potential",
   "metadata": {},
   "outputs": [],
   "source": [
    "from sklearn.linear_model import Ridge, RidgeCV\n",
    "from sklearn.metrics import mean_squared_error\n",
    "\n",
    "alphas = 10**np.linspace(10,-2,100)*0.5"
   ]
  },
  {
   "cell_type": "code",
   "execution_count": 197,
   "id": "comfortable-november",
   "metadata": {},
   "outputs": [],
   "source": [
    "X_train = X_train_df_int[list(best_coef)].values\n",
    "y_train = train_df_norm.Value\n",
    "\n",
    "X_test = X_val_df_int[list(best_coef)].values"
   ]
  },
  {
   "cell_type": "code",
   "execution_count": null,
   "id": "designing-roads",
   "metadata": {},
   "outputs": [],
   "source": []
  },
  {
   "cell_type": "code",
   "execution_count": 198,
   "id": "quantitative-prompt",
   "metadata": {},
   "outputs": [
    {
     "data": {
      "text/plain": [
       "(100, 8)"
      ]
     },
     "execution_count": 198,
     "metadata": {},
     "output_type": "execute_result"
    }
   ],
   "source": [
    "ridge = Ridge()\n",
    "coefs = []\n",
    "\n",
    "for a in alphas:\n",
    "    ridge.set_params(alpha=a)\n",
    "    ridge.fit(X_train,y_train)\n",
    "    coefs.append(ridge.coef_)\n",
    "    \n",
    "np.shape(coefs)"
   ]
  },
  {
   "cell_type": "code",
   "execution_count": 199,
   "id": "tested-booth",
   "metadata": {},
   "outputs": [
    {
     "name": "stdout",
     "output_type": "stream",
     "text": [
      "S        19.397250\n",
      "K       -53.664470\n",
      "r         3.801830\n",
      "S K     -16.945082\n",
      "S tau    12.627808\n",
      "K tau    -0.698687\n",
      "K r     -16.552273\n",
      "tau r    11.451318\n",
      "dtype: float64\n",
      "\n",
      "mean_squared_error:  18.619625547797277\n",
      "\n",
      "out-of-sample R squared:  0.9097480486110822\n"
     ]
    }
   ],
   "source": [
    "ridge2 = Ridge(alpha=4)\n",
    "ridge2.fit(X_train, y_train) # Fit a ridge regression on the training data\n",
    "pred2 = ridge2.predict(X_test) # Use trained model to predict on the test␣data\n",
    "print(pd.Series(ridge2.coef_, index=X_train_df_int[list(best_coef)].columns)) # Print coefficients\n",
    "print(\"\\nmean_squared_error: \",mean_squared_error(y_val, pred2)) # Calculate␣the test MSE\n",
    "print(\"\\nout-of-sample R squared: \",ridge2.score(X_test, y_val)) #Calculate out-of-sample R squared"
   ]
  },
  {
   "cell_type": "code",
   "execution_count": 200,
   "id": "hourly-executive",
   "metadata": {},
   "outputs": [
    {
     "data": {
      "text/plain": [
       "0.0466301673441609"
      ]
     },
     "execution_count": 200,
     "metadata": {},
     "output_type": "execute_result"
    }
   ],
   "source": [
    "ridgecv = RidgeCV(alphas=alphas, scoring='r2', cv=10)\n",
    "ridgecv.fit(X_train, y_train)\n",
    "ridgecv.alpha_\n"
   ]
  },
  {
   "cell_type": "code",
   "execution_count": 201,
   "id": "amino-ancient",
   "metadata": {},
   "outputs": [
    {
     "name": "stdout",
     "output_type": "stream",
     "text": [
      "RidgeCV R2: 0.919059967171178 \n"
     ]
    }
   ],
   "source": [
    "ridge5 = Ridge(alpha=ridgecv.alpha_)\n",
    "ridge5.fit(X_train, y_train)\n",
    "ridge_cv_r2=ridge5.score(X_test,y_val)\n",
    "print(f'RidgeCV R2: {ridge_cv_r2} ')"
   ]
  },
  {
   "cell_type": "markdown",
   "id": "robust-section",
   "metadata": {},
   "source": [
    "## Using Anushka's Features"
   ]
  },
  {
   "cell_type": "code",
   "execution_count": 263,
   "id": "incorporate-valley",
   "metadata": {},
   "outputs": [],
   "source": [
    "train_df = pd.read_csv(\"option_train.csv\")\n",
    "train_df.head()\n",
    "\n",
    "train_df['s K'] = train_df.S * train_df.K\n",
    "train_df['K-s'] = train_df.K - train_df.S\n",
    "train_df['S/K'] = train_df.S / train_df.K\n",
    "train_df['S r K'] = train_df.S * train_df.K * train_df.r\n",
    "\n",
    "\n",
    "#create training and validation sets from df_train\n",
    "train_nums = train_df.select_dtypes([\"float64\",\"int64\"]) #not sure if allowed to use BS as a feature\n",
    "\n",
    "y=train_nums[\"Value\"].values\n",
    "X=train_nums.drop(\"Value\",axis=1).values\n",
    "\n",
    "X_train, X_val, y_train, y_val = train_test_split(X,y,test_size=0.20,random_state = 1)\n",
    "\n",
    "mms = MinMaxScaler()\n",
    "X_train_norm = mms.fit_transform(X_train)\n",
    "X_val_norm = mms.transform(X_val)\n",
    "\n",
    "\n",
    "\n",
    "def normed_df(X,y):\n",
    "    df1 = pd.DataFrame(X,columns = train_nums.columns[1:])\n",
    "    df2 = pd.DataFrame(y,columns = [\"Value\"])\n",
    "    df3 = pd.concat([df2,df1],axis=1)\n",
    "    return df3\n",
    "\n",
    "train_df_norm = normed_df(X_train_norm,y_train)\n",
    "val_df_norm = normed_df(X_val_norm,y_val)"
   ]
  },
  {
   "cell_type": "code",
   "execution_count": 261,
   "id": "genuine-extent",
   "metadata": {},
   "outputs": [
    {
     "data": {
      "text/html": [
       "<table class=\"simpletable\">\n",
       "<caption>OLS Regression Results</caption>\n",
       "<tr>\n",
       "  <th>Dep. Variable:</th>          <td>Value</td>      <th>  R-squared:         </th> <td>   0.967</td>\n",
       "</tr>\n",
       "<tr>\n",
       "  <th>Model:</th>                   <td>OLS</td>       <th>  Adj. R-squared:    </th> <td>   0.967</td>\n",
       "</tr>\n",
       "<tr>\n",
       "  <th>Method:</th>             <td>Least Squares</td>  <th>  F-statistic:       </th> <td>   4915.</td>\n",
       "</tr>\n",
       "<tr>\n",
       "  <th>Date:</th>             <td>Sat, 10 Apr 2021</td> <th>  Prob (F-statistic):</th>  <td>  0.00</td> \n",
       "</tr>\n",
       "<tr>\n",
       "  <th>Time:</th>                 <td>13:33:02</td>     <th>  Log-Likelihood:    </th> <td> -3152.8</td>\n",
       "</tr>\n",
       "<tr>\n",
       "  <th>No. Observations:</th>      <td>  1344</td>      <th>  AIC:               </th> <td>   6324.</td>\n",
       "</tr>\n",
       "<tr>\n",
       "  <th>Df Residuals:</th>          <td>  1335</td>      <th>  BIC:               </th> <td>   6370.</td>\n",
       "</tr>\n",
       "<tr>\n",
       "  <th>Df Model:</th>              <td>     8</td>      <th>                     </th>     <td> </td>   \n",
       "</tr>\n",
       "<tr>\n",
       "  <th>Covariance Type:</th>      <td>nonrobust</td>    <th>                     </th>     <td> </td>   \n",
       "</tr>\n",
       "</table>\n",
       "<table class=\"simpletable\">\n",
       "<tr>\n",
       "      <td></td>         <th>coef</th>     <th>std err</th>      <th>t</th>      <th>P>|t|</th>  <th>[0.025</th>    <th>0.975]</th>  \n",
       "</tr>\n",
       "<tr>\n",
       "  <th>Intercept</th> <td> -319.8834</td> <td>    5.550</td> <td>  -57.640</td> <td> 0.000</td> <td> -330.770</td> <td> -308.996</td>\n",
       "</tr>\n",
       "<tr>\n",
       "  <th>K</th>         <td>  170.5181</td> <td>    3.094</td> <td>   55.110</td> <td> 0.000</td> <td>  164.448</td> <td>  176.588</td>\n",
       "</tr>\n",
       "<tr>\n",
       "  <th>S</th>         <td>  -24.5278</td> <td>    1.940</td> <td>  -12.642</td> <td> 0.000</td> <td>  -28.334</td> <td>  -20.722</td>\n",
       "</tr>\n",
       "<tr>\n",
       "  <th>K:S</th>       <td>  -27.4438</td> <td>    3.067</td> <td>   -8.948</td> <td> 0.000</td> <td>  -33.461</td> <td>  -21.427</td>\n",
       "</tr>\n",
       "<tr>\n",
       "  <th>sss</th>       <td>  394.3340</td> <td>    6.128</td> <td>   64.352</td> <td> 0.000</td> <td>  382.313</td> <td>  406.355</td>\n",
       "</tr>\n",
       "<tr>\n",
       "  <th>r</th>         <td>   -2.8577</td> <td>    1.400</td> <td>   -2.042</td> <td> 0.041</td> <td>   -5.603</td> <td>   -0.112</td>\n",
       "</tr>\n",
       "<tr>\n",
       "  <th>S:r</th>       <td>    0.8757</td> <td>    3.750</td> <td>    0.234</td> <td> 0.815</td> <td>   -6.480</td> <td>    8.232</td>\n",
       "</tr>\n",
       "<tr>\n",
       "  <th>r:K</th>       <td>    6.7056</td> <td>    2.833</td> <td>    2.367</td> <td> 0.018</td> <td>    1.148</td> <td>   12.263</td>\n",
       "</tr>\n",
       "<tr>\n",
       "  <th>S:r:K</th>     <td>   -1.5098</td> <td>    6.952</td> <td>   -0.217</td> <td> 0.828</td> <td>  -15.148</td> <td>   12.128</td>\n",
       "</tr>\n",
       "<tr>\n",
       "  <th>Kms</th>       <td>  184.2918</td> <td>    3.342</td> <td>   55.146</td> <td> 0.000</td> <td>  177.736</td> <td>  190.848</td>\n",
       "</tr>\n",
       "</table>\n",
       "<table class=\"simpletable\">\n",
       "<tr>\n",
       "  <th>Omnibus:</th>       <td> 9.447</td> <th>  Durbin-Watson:     </th> <td>   2.048</td>\n",
       "</tr>\n",
       "<tr>\n",
       "  <th>Prob(Omnibus):</th> <td> 0.009</td> <th>  Jarque-Bera (JB):  </th> <td>   9.412</td>\n",
       "</tr>\n",
       "<tr>\n",
       "  <th>Skew:</th>          <td>-0.200</td> <th>  Prob(JB):          </th> <td> 0.00904</td>\n",
       "</tr>\n",
       "<tr>\n",
       "  <th>Kurtosis:</th>      <td> 3.093</td> <th>  Cond. No.          </th> <td>1.08e+16</td>\n",
       "</tr>\n",
       "</table><br/><br/>Notes:<br/>[1] Standard Errors assume that the covariance matrix of the errors is correctly specified.<br/>[2] The smallest eigenvalue is 2.51e-29. This might indicate that there are<br/>strong multicollinearity problems or that the design matrix is singular."
      ],
      "text/plain": [
       "<class 'statsmodels.iolib.summary.Summary'>\n",
       "\"\"\"\n",
       "                            OLS Regression Results                            \n",
       "==============================================================================\n",
       "Dep. Variable:                  Value   R-squared:                       0.967\n",
       "Model:                            OLS   Adj. R-squared:                  0.967\n",
       "Method:                 Least Squares   F-statistic:                     4915.\n",
       "Date:                Sat, 10 Apr 2021   Prob (F-statistic):               0.00\n",
       "Time:                        13:33:02   Log-Likelihood:                -3152.8\n",
       "No. Observations:                1344   AIC:                             6324.\n",
       "Df Residuals:                    1335   BIC:                             6370.\n",
       "Df Model:                           8                                         \n",
       "Covariance Type:            nonrobust                                         \n",
       "==============================================================================\n",
       "                 coef    std err          t      P>|t|      [0.025      0.975]\n",
       "------------------------------------------------------------------------------\n",
       "Intercept   -319.8834      5.550    -57.640      0.000    -330.770    -308.996\n",
       "K            170.5181      3.094     55.110      0.000     164.448     176.588\n",
       "S            -24.5278      1.940    -12.642      0.000     -28.334     -20.722\n",
       "K:S          -27.4438      3.067     -8.948      0.000     -33.461     -21.427\n",
       "sss          394.3340      6.128     64.352      0.000     382.313     406.355\n",
       "r             -2.8577      1.400     -2.042      0.041      -5.603      -0.112\n",
       "S:r            0.8757      3.750      0.234      0.815      -6.480       8.232\n",
       "r:K            6.7056      2.833      2.367      0.018       1.148      12.263\n",
       "S:r:K         -1.5098      6.952     -0.217      0.828     -15.148      12.128\n",
       "Kms          184.2918      3.342     55.146      0.000     177.736     190.848\n",
       "==============================================================================\n",
       "Omnibus:                        9.447   Durbin-Watson:                   2.048\n",
       "Prob(Omnibus):                  0.009   Jarque-Bera (JB):                9.412\n",
       "Skew:                          -0.200   Prob(JB):                      0.00904\n",
       "Kurtosis:                       3.093   Cond. No.                     1.08e+16\n",
       "==============================================================================\n",
       "\n",
       "Notes:\n",
       "[1] Standard Errors assume that the covariance matrix of the errors is correctly specified.\n",
       "[2] The smallest eigenvalue is 2.51e-29. This might indicate that there are\n",
       "strong multicollinearity problems or that the design matrix is singular.\n",
       "\"\"\""
      ]
     },
     "execution_count": 261,
     "metadata": {},
     "output_type": "execute_result"
    }
   ],
   "source": [
    "#S*K\tS/K\tS*r\tS*r*K\tK-S\n",
    "result5 = smf.ols('Value ~ K*S + sss + S*r + S*r*K + Kms',data = train_df_norm).fit()\n",
    "result5.summary()"
   ]
  },
  {
   "cell_type": "code",
   "execution_count": 250,
   "id": "baking-radius",
   "metadata": {},
   "outputs": [
    {
     "data": {
      "text/html": [
       "<div>\n",
       "<style scoped>\n",
       "    .dataframe tbody tr th:only-of-type {\n",
       "        vertical-align: middle;\n",
       "    }\n",
       "\n",
       "    .dataframe tbody tr th {\n",
       "        vertical-align: top;\n",
       "    }\n",
       "\n",
       "    .dataframe thead th {\n",
       "        text-align: right;\n",
       "    }\n",
       "</style>\n",
       "<table border=\"1\" class=\"dataframe\">\n",
       "  <thead>\n",
       "    <tr style=\"text-align: right;\">\n",
       "      <th></th>\n",
       "      <th>Value</th>\n",
       "      <th>S</th>\n",
       "      <th>K</th>\n",
       "      <th>tau</th>\n",
       "      <th>r</th>\n",
       "      <th>s K</th>\n",
       "      <th>K-s</th>\n",
       "      <th>S/K</th>\n",
       "      <th>S r K</th>\n",
       "    </tr>\n",
       "  </thead>\n",
       "  <tbody>\n",
       "    <tr>\n",
       "      <th>0</th>\n",
       "      <td>0.125000</td>\n",
       "      <td>0.243162</td>\n",
       "      <td>0.80</td>\n",
       "      <td>0.632653</td>\n",
       "      <td>0.219409</td>\n",
       "      <td>0.713469</td>\n",
       "      <td>0.891702</td>\n",
       "      <td>0.075366</td>\n",
       "      <td>0.669211</td>\n",
       "    </tr>\n",
       "    <tr>\n",
       "      <th>1</th>\n",
       "      <td>0.845000</td>\n",
       "      <td>0.606384</td>\n",
       "      <td>0.72</td>\n",
       "      <td>0.408163</td>\n",
       "      <td>0.481013</td>\n",
       "      <td>0.725973</td>\n",
       "      <td>0.700514</td>\n",
       "      <td>0.243720</td>\n",
       "      <td>0.752188</td>\n",
       "    </tr>\n",
       "    <tr>\n",
       "      <th>2</th>\n",
       "      <td>13.198430</td>\n",
       "      <td>0.621094</td>\n",
       "      <td>0.56</td>\n",
       "      <td>0.877551</td>\n",
       "      <td>0.219409</td>\n",
       "      <td>0.591531</td>\n",
       "      <td>0.514756</td>\n",
       "      <td>0.414249</td>\n",
       "      <td>0.540350</td>\n",
       "    </tr>\n",
       "    <tr>\n",
       "      <th>3</th>\n",
       "      <td>0.780000</td>\n",
       "      <td>0.120179</td>\n",
       "      <td>0.48</td>\n",
       "      <td>0.061224</td>\n",
       "      <td>0.738397</td>\n",
       "      <td>0.420063</td>\n",
       "      <td>0.562287</td>\n",
       "      <td>0.367411</td>\n",
       "      <td>0.484306</td>\n",
       "    </tr>\n",
       "    <tr>\n",
       "      <th>4</th>\n",
       "      <td>2.505003</td>\n",
       "      <td>0.237539</td>\n",
       "      <td>0.64</td>\n",
       "      <td>0.887755</td>\n",
       "      <td>0.434599</td>\n",
       "      <td>0.578160</td>\n",
       "      <td>0.711561</td>\n",
       "      <td>0.229470</td>\n",
       "      <td>0.580953</td>\n",
       "    </tr>\n",
       "    <tr>\n",
       "      <th>...</th>\n",
       "      <td>...</td>\n",
       "      <td>...</td>\n",
       "      <td>...</td>\n",
       "      <td>...</td>\n",
       "      <td>...</td>\n",
       "      <td>...</td>\n",
       "      <td>...</td>\n",
       "      <td>...</td>\n",
       "      <td>...</td>\n",
       "    </tr>\n",
       "    <tr>\n",
       "      <th>1339</th>\n",
       "      <td>25.722126</td>\n",
       "      <td>0.610555</td>\n",
       "      <td>0.40</td>\n",
       "      <td>0.724490</td>\n",
       "      <td>0.177215</td>\n",
       "      <td>0.451757</td>\n",
       "      <td>0.335973</td>\n",
       "      <td>0.593813</td>\n",
       "      <td>0.382354</td>\n",
       "    </tr>\n",
       "    <tr>\n",
       "      <th>1340</th>\n",
       "      <td>37.975698</td>\n",
       "      <td>0.450747</td>\n",
       "      <td>0.24</td>\n",
       "      <td>0.500000</td>\n",
       "      <td>0.303797</td>\n",
       "      <td>0.283707</td>\n",
       "      <td>0.198425</td>\n",
       "      <td>0.747586</td>\n",
       "      <td>0.234440</td>\n",
       "    </tr>\n",
       "    <tr>\n",
       "      <th>1341</th>\n",
       "      <td>37.553755</td>\n",
       "      <td>0.810642</td>\n",
       "      <td>0.32</td>\n",
       "      <td>0.306122</td>\n",
       "      <td>0.434599</td>\n",
       "      <td>0.422088</td>\n",
       "      <td>0.189851</td>\n",
       "      <td>0.748521</td>\n",
       "      <td>0.413218</td>\n",
       "    </tr>\n",
       "    <tr>\n",
       "      <th>1342</th>\n",
       "      <td>16.055884</td>\n",
       "      <td>0.665745</td>\n",
       "      <td>0.48</td>\n",
       "      <td>0.418367</td>\n",
       "      <td>0.088608</td>\n",
       "      <td>0.531848</td>\n",
       "      <td>0.411574</td>\n",
       "      <td>0.515519</td>\n",
       "      <td>0.444515</td>\n",
       "    </tr>\n",
       "    <tr>\n",
       "      <th>1343</th>\n",
       "      <td>0.190000</td>\n",
       "      <td>0.115891</td>\n",
       "      <td>0.68</td>\n",
       "      <td>0.387755</td>\n",
       "      <td>0.696203</td>\n",
       "      <td>0.585315</td>\n",
       "      <td>0.790590</td>\n",
       "      <td>0.158098</td>\n",
       "      <td>0.655336</td>\n",
       "    </tr>\n",
       "  </tbody>\n",
       "</table>\n",
       "<p>1344 rows × 9 columns</p>\n",
       "</div>"
      ],
      "text/plain": [
       "          Value         S     K       tau         r       s K       K-s  \\\n",
       "0      0.125000  0.243162  0.80  0.632653  0.219409  0.713469  0.891702   \n",
       "1      0.845000  0.606384  0.72  0.408163  0.481013  0.725973  0.700514   \n",
       "2     13.198430  0.621094  0.56  0.877551  0.219409  0.591531  0.514756   \n",
       "3      0.780000  0.120179  0.48  0.061224  0.738397  0.420063  0.562287   \n",
       "4      2.505003  0.237539  0.64  0.887755  0.434599  0.578160  0.711561   \n",
       "...         ...       ...   ...       ...       ...       ...       ...   \n",
       "1339  25.722126  0.610555  0.40  0.724490  0.177215  0.451757  0.335973   \n",
       "1340  37.975698  0.450747  0.24  0.500000  0.303797  0.283707  0.198425   \n",
       "1341  37.553755  0.810642  0.32  0.306122  0.434599  0.422088  0.189851   \n",
       "1342  16.055884  0.665745  0.48  0.418367  0.088608  0.531848  0.411574   \n",
       "1343   0.190000  0.115891  0.68  0.387755  0.696203  0.585315  0.790590   \n",
       "\n",
       "           S/K     S r K  \n",
       "0     0.075366  0.669211  \n",
       "1     0.243720  0.752188  \n",
       "2     0.414249  0.540350  \n",
       "3     0.367411  0.484306  \n",
       "4     0.229470  0.580953  \n",
       "...        ...       ...  \n",
       "1339  0.593813  0.382354  \n",
       "1340  0.747586  0.234440  \n",
       "1341  0.748521  0.413218  \n",
       "1342  0.515519  0.444515  \n",
       "1343  0.158098  0.655336  \n",
       "\n",
       "[1344 rows x 9 columns]"
      ]
     },
     "execution_count": 250,
     "metadata": {},
     "output_type": "execute_result"
    }
   ],
   "source": [
    "train_df_norm"
   ]
  },
  {
   "cell_type": "code",
   "execution_count": 252,
   "id": "aquatic-huntington",
   "metadata": {},
   "outputs": [
    {
     "name": "stdout",
     "output_type": "stream",
     "text": [
      "In-sample-R2: 0.9568083664857159\n",
      "Out-of-Sample-R2: 0.9613385285863528\n"
     ]
    }
   ],
   "source": [
    "in_r2, out_r2 = run_model(['s K','S/K','K-s','S r K'],train_df_norm,y_train,val_df_norm,y_val)\n",
    "print(f'In-sample-R2: {in_r2}\\nOut-of-Sample-R2: {out_r2}')"
   ]
  },
  {
   "cell_type": "code",
   "execution_count": 270,
   "id": "collectible-toolbox",
   "metadata": {},
   "outputs": [
    {
     "data": {
      "text/html": [
       "<div>\n",
       "<style scoped>\n",
       "    .dataframe tbody tr th:only-of-type {\n",
       "        vertical-align: middle;\n",
       "    }\n",
       "\n",
       "    .dataframe tbody tr th {\n",
       "        vertical-align: top;\n",
       "    }\n",
       "\n",
       "    .dataframe thead th {\n",
       "        text-align: right;\n",
       "    }\n",
       "</style>\n",
       "<table border=\"1\" class=\"dataframe\">\n",
       "  <thead>\n",
       "    <tr style=\"text-align: right;\">\n",
       "      <th></th>\n",
       "      <th>feature</th>\n",
       "      <th>VIF</th>\n",
       "    </tr>\n",
       "  </thead>\n",
       "  <tbody>\n",
       "    <tr>\n",
       "      <th>0</th>\n",
       "      <td>s K</td>\n",
       "      <td>107.423813</td>\n",
       "    </tr>\n",
       "    <tr>\n",
       "      <th>1</th>\n",
       "      <td>S/K</td>\n",
       "      <td>2.756545</td>\n",
       "    </tr>\n",
       "    <tr>\n",
       "      <th>2</th>\n",
       "      <td>K-s</td>\n",
       "      <td>25.635272</td>\n",
       "    </tr>\n",
       "    <tr>\n",
       "      <th>3</th>\n",
       "      <td>S r K</td>\n",
       "      <td>104.738408</td>\n",
       "    </tr>\n",
       "  </tbody>\n",
       "</table>\n",
       "</div>"
      ],
      "text/plain": [
       "  feature         VIF\n",
       "0     s K  107.423813\n",
       "1     S/K    2.756545\n",
       "2     K-s   25.635272\n",
       "3   S r K  104.738408"
      ]
     },
     "execution_count": 270,
     "metadata": {},
     "output_type": "execute_result"
    }
   ],
   "source": [
    "vif_df(['s K','S/K','K-s','S r K'],train_df_norm)"
   ]
  },
  {
   "cell_type": "code",
   "execution_count": 224,
   "id": "classified-samoa",
   "metadata": {},
   "outputs": [],
   "source": []
  }
 ],
 "metadata": {
  "kernelspec": {
   "display_name": "Python 3",
   "language": "python",
   "name": "python3"
  },
  "language_info": {
   "codemirror_mode": {
    "name": "ipython",
    "version": 3
   },
   "file_extension": ".py",
   "mimetype": "text/x-python",
   "name": "python",
   "nbconvert_exporter": "python",
   "pygments_lexer": "ipython3",
   "version": "3.7.9"
  }
 },
 "nbformat": 4,
 "nbformat_minor": 5
}
